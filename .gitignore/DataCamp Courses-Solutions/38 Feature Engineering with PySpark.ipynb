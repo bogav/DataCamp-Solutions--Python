{
 "cells": [
  {
   "cell_type": "markdown",
   "metadata": {},
   "source": [
    "# Exploratory Data Analysis"
   ]
  },
  {
   "cell_type": "code",
   "execution_count": 1,
   "metadata": {
    "ExecuteTime": {
     "end_time": "2019-02-16T18:44:12.431789Z",
     "start_time": "2019-02-16T18:44:01.011129Z"
    }
   },
   "outputs": [],
   "source": [
    "import pandas as pd\n",
    "import matplotlib.pyplot as plt\n",
    "import numpy as np\n",
    "import seaborn as sns\n",
    "\n",
    "%matplotlib inline\n",
    "\n",
    "# Import SparkSession from pyspark.sql\n",
    "from pyspark.sql import SparkSession\n",
    "\n",
    "# Create my_spark\n",
    "spark = SparkSession.builder.getOrCreate()"
   ]
  },
  {
   "cell_type": "markdown",
   "metadata": {},
   "source": [
    "## Check Version\n",
    "\n",
    "Checking the version of which Spark and Python installed is important as it changes very quickly and drastically. Reading the wrong documentation can cause lots of lost time and unnecessary frustration!"
   ]
  },
  {
   "cell_type": "code",
   "execution_count": 2,
   "metadata": {
    "ExecuteTime": {
     "end_time": "2019-02-16T18:44:12.457720Z",
     "start_time": "2019-02-16T18:44:12.451736Z"
    }
   },
   "outputs": [
    {
     "name": "stdout",
     "output_type": "stream",
     "text": [
      "2.4.0\n",
      "sys.version_info(major=3, minor=6, micro=7, releaselevel='final', serial=0)\n"
     ]
    }
   ],
   "source": [
    "# Return spark version\n",
    "print(spark.version)\n",
    "\n",
    "# Return python version\n",
    "import sys\n",
    "print(sys.version_info)"
   ]
  },
  {
   "cell_type": "markdown",
   "metadata": {},
   "source": [
    "## Load in the data\n",
    "\n",
    "Reading in data is the first step to using PySpark for data science! Let's leverage the new industry standard of parquet files!"
   ]
  },
  {
   "cell_type": "code",
   "execution_count": 45,
   "metadata": {
    "ExecuteTime": {
     "end_time": "2019-02-16T18:59:16.609945Z",
     "start_time": "2019-02-16T18:59:16.243790Z"
    }
   },
   "outputs": [
    {
     "name": "stdout",
     "output_type": "stream",
     "text": [
      "['NO', 'MLSID', 'STREETNUMBERNUMERIC', 'STREETADDRESS', 'STREETNAME', 'POSTALCODE', 'STATEORPROVINCE', 'CITY', 'SALESCLOSEPRICE', 'LISTDATE', 'LISTPRICE', 'LISTTYPE', 'ORIGINALLISTPRICE', 'PRICEPERTSFT', 'FOUNDATIONSIZE', 'FENCE', 'MAPLETTER', 'LOTSIZEDIMENSIONS', 'SCHOOLDISTRICTNUMBER', 'DAYSONMARKET', 'OFFMARKETDATE', 'FIREPLACES', 'ROOMAREA4', 'ROOMTYPE', 'ROOF', 'ROOMFLOOR4', 'POTENTIALSHORTSALE', 'POOLDESCRIPTION', 'PDOM', 'GARAGEDESCRIPTION', 'SQFTABOVEGROUND', 'TAXES', 'ROOMFLOOR1', 'ROOMAREA1', 'TAXWITHASSESSMENTS', 'TAXYEAR', 'LIVINGAREA', 'UNITNUMBER', 'YEARBUILT', 'ZONING', 'STYLE', 'ACRES', 'COOLINGDESCRIPTION', 'APPLIANCES', 'BACKONMARKETDATE', 'ROOMFAMILYCHAR', 'ROOMAREA3', 'EXTERIOR', 'ROOMFLOOR3', 'ROOMFLOOR2', 'ROOMAREA2', 'DININGROOMDESCRIPTION', 'BASEMENT', 'BATHSFULL', 'BATHSHALF', 'BATHQUARTER', 'BATHSTHREEQUARTER', 'CLASS', 'BATHSTOTAL', 'BATHDESC', 'ROOMAREA5', 'ROOMFLOOR5', 'ROOMAREA6', 'ROOMFLOOR6', 'ROOMAREA7', 'ROOMFLOOR7', 'ROOMAREA8', 'ROOMFLOOR8', 'BEDROOMS', 'SQFTBELOWGROUND', 'ASSUMABLEMORTGAGE', 'ASSOCIATIONFEE', 'ASSESSMENTPENDING', 'ASSESSEDVALUATION']\n",
      "[('NO', 'int'), ('MLSID', 'string'), ('STREETNUMBERNUMERIC', 'int'), ('STREETADDRESS', 'string'), ('STREETNAME', 'string'), ('POSTALCODE', 'int'), ('STATEORPROVINCE', 'string'), ('CITY', 'string'), ('SALESCLOSEPRICE', 'int'), ('LISTDATE', 'string'), ('LISTPRICE', 'int'), ('LISTTYPE', 'string'), ('ORIGINALLISTPRICE', 'int'), ('PRICEPERTSFT', 'double'), ('FOUNDATIONSIZE', 'int'), ('FENCE', 'string'), ('MAPLETTER', 'string'), ('LOTSIZEDIMENSIONS', 'string'), ('SCHOOLDISTRICTNUMBER', 'string'), ('DAYSONMARKET', 'int'), ('OFFMARKETDATE', 'string'), ('FIREPLACES', 'int'), ('ROOMAREA4', 'string'), ('ROOMTYPE', 'string'), ('ROOF', 'string'), ('ROOMFLOOR4', 'string'), ('POTENTIALSHORTSALE', 'string'), ('POOLDESCRIPTION', 'string'), ('PDOM', 'int'), ('GARAGEDESCRIPTION', 'string'), ('SQFTABOVEGROUND', 'int'), ('TAXES', 'int'), ('ROOMFLOOR1', 'string'), ('ROOMAREA1', 'string'), ('TAXWITHASSESSMENTS', 'double'), ('TAXYEAR', 'int'), ('LIVINGAREA', 'int'), ('UNITNUMBER', 'string'), ('YEARBUILT', 'int'), ('ZONING', 'string'), ('STYLE', 'string'), ('ACRES', 'double'), ('COOLINGDESCRIPTION', 'string'), ('APPLIANCES', 'string'), ('BACKONMARKETDATE', 'string'), ('ROOMFAMILYCHAR', 'string'), ('ROOMAREA3', 'string'), ('EXTERIOR', 'string'), ('ROOMFLOOR3', 'string'), ('ROOMFLOOR2', 'string'), ('ROOMAREA2', 'string'), ('DININGROOMDESCRIPTION', 'string'), ('BASEMENT', 'string'), ('BATHSFULL', 'int'), ('BATHSHALF', 'int'), ('BATHQUARTER', 'int'), ('BATHSTHREEQUARTER', 'int'), ('CLASS', 'string'), ('BATHSTOTAL', 'int'), ('BATHDESC', 'string'), ('ROOMAREA5', 'string'), ('ROOMFLOOR5', 'string'), ('ROOMAREA6', 'string'), ('ROOMFLOOR6', 'string'), ('ROOMAREA7', 'string'), ('ROOMFLOOR7', 'string'), ('ROOMAREA8', 'string'), ('ROOMFLOOR8', 'string'), ('BEDROOMS', 'int'), ('SQFTBELOWGROUND', 'int'), ('ASSUMABLEMORTGAGE', 'string'), ('ASSOCIATIONFEE', 'int'), ('ASSESSMENTPENDING', 'string'), ('ASSESSEDVALUATION', 'double')]\n",
      "<class 'pyspark.sql.dataframe.DataFrame'>\n"
     ]
    }
   ],
   "source": [
    "# Read the file into a dataframe\n",
    "# df = spark.read.parquet(\"Real_Estate.parq\")\n",
    "df = spark.read.format(\"csv\").option(\"header\", \"true\").option(\"inferSchema\", \"true\").load('2017_StPaul_MN_Real_Estate.csv')\n",
    "\n",
    "print(df.columns)\n",
    "print(df.dtypes)\n",
    "print(type(df))"
   ]
  },
  {
   "cell_type": "markdown",
   "metadata": {},
   "source": [
    "## What are we predicting?\n",
    "\n",
    "Which of these fields (or columns) is the value we are trying to predict for?\n",
    "\n",
    "    TAXES\n",
    "    SALESCLOSEPRICE\n",
    "    DAYSONMARKET\n",
    "    LISTPRICE\n"
   ]
  },
  {
   "cell_type": "code",
   "execution_count": 6,
   "metadata": {
    "ExecuteTime": {
     "end_time": "2019-02-16T18:46:51.957254Z",
     "start_time": "2019-02-16T18:46:51.455074Z"
    }
   },
   "outputs": [
    {
     "data": {
      "text/plain": [
       "DataFrame[summary: string, SALESCLOSEPRICE: string]"
      ]
     },
     "execution_count": 6,
     "metadata": {},
     "output_type": "execute_result"
    }
   ],
   "source": [
    "# Select our dependent variable\n",
    "Y_df = df.select(['SALESCLOSEPRICE'])\n",
    "\n",
    "# Display summary statistics\n",
    "Y_df.describe()"
   ]
  },
  {
   "cell_type": "markdown",
   "metadata": {},
   "source": [
    "## Verifying Data Load\n",
    "\n",
    "Let's suppose each month you get a new file. You know to expect a certain number of records and columns. In this exercise we will create a function that will validate the file loaded."
   ]
  },
  {
   "cell_type": "code",
   "execution_count": 7,
   "metadata": {
    "ExecuteTime": {
     "end_time": "2019-02-16T18:47:03.019937Z",
     "start_time": "2019-02-16T18:47:02.876322Z"
    }
   },
   "outputs": [
    {
     "name": "stdout",
     "output_type": "stream",
     "text": [
      "Validation Passed\n"
     ]
    }
   ],
   "source": [
    "def check_load(df, num_records, num_columns):\n",
    "  # Takes a dataframe and compares record and column counts to input\n",
    "  # Message to return if the critera below aren't met\n",
    "  message = 'Validation Failed'\n",
    "  # Check number of records\n",
    "  if num_records == df.count():\n",
    "    # Check number of columns\n",
    "    if num_columns == len(df.columns):\n",
    "      # Success message\n",
    "      message = 'Validation Passed'\n",
    "  return message\n",
    "\n",
    "# Print the data validation message\n",
    "print(check_load(df, 5000, 74))"
   ]
  },
  {
   "cell_type": "markdown",
   "metadata": {},
   "source": [
    "## Verifying DataTypes\n",
    "\n",
    "In the age of data we have access to more attributes than we ever had before. To handle all of them we will build a lot of automation but at a minimum requires that their datatypes be correct. In this exercise we will validate a dictionary of attributes and their datatypes to see if they are correct. This dictionary is stored in the variable validation_dict and is available in your workspace."
   ]
  },
  {
   "cell_type": "code",
   "execution_count": 13,
   "metadata": {
    "ExecuteTime": {
     "end_time": "2019-02-16T18:48:39.517226Z",
     "start_time": "2019-02-16T18:48:39.512260Z"
    }
   },
   "outputs": [],
   "source": [
    "validation_dict = {'ASSESSMENTPENDING': 'string',\n",
    " 'ASSESSEDVALUATION': 'double',\n",
    " 'ASSOCIATIONFEE': 'int',\n",
    " 'ASSUMABLEMORTGAGE': 'string',\n",
    " 'SQFTBELOWGROUND': 'int'}"
   ]
  },
  {
   "cell_type": "code",
   "execution_count": 14,
   "metadata": {
    "ExecuteTime": {
     "end_time": "2019-02-16T18:48:39.944564Z",
     "start_time": "2019-02-16T18:48:39.936584Z"
    }
   },
   "outputs": [
    {
     "name": "stdout",
     "output_type": "stream",
     "text": [
      "[('NO', 'int'), ('MLSID', 'string'), ('STREETNUMBERNUMERIC', 'int'), ('STREETADDRESS', 'string'), ('STREETNAME', 'string'), ('POSTALCODE', 'int'), ('STATEORPROVINCE', 'string'), ('CITY', 'string'), ('SALESCLOSEPRICE', 'int'), ('LISTDATE', 'string'), ('LISTPRICE', 'int'), ('LISTTYPE', 'string'), ('ORIGINALLISTPRICE', 'int'), ('PRICEPERTSFT', 'double'), ('FOUNDATIONSIZE', 'int'), ('FENCE', 'string'), ('MAPLETTER', 'string'), ('LOTSIZEDIMENSIONS', 'string'), ('SCHOOLDISTRICTNUMBER', 'string'), ('DAYSONMARKET', 'int'), ('OFFMARKETDATE', 'string'), ('FIREPLACES', 'int'), ('ROOMAREA4', 'string'), ('ROOMTYPE', 'string'), ('ROOF', 'string'), ('ROOMFLOOR4', 'string'), ('POTENTIALSHORTSALE', 'string'), ('POOLDESCRIPTION', 'string'), ('PDOM', 'int'), ('GARAGEDESCRIPTION', 'string'), ('SQFTABOVEGROUND', 'int'), ('TAXES', 'int'), ('ROOMFLOOR1', 'string'), ('ROOMAREA1', 'string'), ('TAXWITHASSESSMENTS', 'double'), ('TAXYEAR', 'int'), ('LIVINGAREA', 'int'), ('UNITNUMBER', 'string'), ('YEARBUILT', 'int'), ('ZONING', 'string'), ('STYLE', 'string'), ('ACRES', 'double'), ('COOLINGDESCRIPTION', 'string'), ('APPLIANCES', 'string'), ('BACKONMARKETDATE', 'string'), ('ROOMFAMILYCHAR', 'string'), ('ROOMAREA3', 'string'), ('EXTERIOR', 'string'), ('ROOMFLOOR3', 'string'), ('ROOMFLOOR2', 'string'), ('ROOMAREA2', 'string'), ('DININGROOMDESCRIPTION', 'string'), ('BASEMENT', 'string'), ('BATHSFULL', 'int'), ('BATHSHALF', 'int'), ('BATHQUARTER', 'int'), ('BATHSTHREEQUARTER', 'int'), ('CLASS', 'string'), ('BATHSTOTAL', 'int'), ('BATHDESC', 'string'), ('ROOMAREA5', 'string'), ('ROOMFLOOR5', 'string'), ('ROOMAREA6', 'string'), ('ROOMFLOOR6', 'string'), ('ROOMAREA7', 'string'), ('ROOMFLOOR7', 'string'), ('ROOMAREA8', 'string'), ('ROOMFLOOR8', 'string'), ('BEDROOMS', 'int'), ('SQFTBELOWGROUND', 'int'), ('ASSUMABLEMORTGAGE', 'string'), ('ASSOCIATIONFEE', 'int'), ('ASSESSMENTPENDING', 'string'), ('ASSESSEDVALUATION', 'double')]\n",
      "SQFTBELOWGROUND has expected dtype.\n",
      "ASSUMABLEMORTGAGE has expected dtype.\n",
      "ASSOCIATIONFEE has expected dtype.\n",
      "ASSESSMENTPENDING has expected dtype.\n",
      "ASSESSEDVALUATION has expected dtype.\n"
     ]
    }
   ],
   "source": [
    "# Create list of actual dtypes to check\n",
    "actual_dtypes_list = df.dtypes\n",
    "print(actual_dtypes_list)\n",
    "\n",
    "# Iterate through the list of actual dtypes tuples\n",
    "for attribute_tuple in actual_dtypes_list:\n",
    "  \n",
    "  # Check if column name is dictionary of expected dtypes\n",
    "  col_name = attribute_tuple[0]\n",
    "  if col_name in validation_dict:\n",
    "\n",
    "    # Compare attribute names and types\n",
    "    col_type = attribute_tuple[1]\n",
    "    if col_type == validation_dict[col_name]:\n",
    "      print(col_name + ' has expected dtype.')"
   ]
  },
  {
   "cell_type": "markdown",
   "metadata": {},
   "source": [
    "## Using Corr()\n",
    "\n",
    "The old adage 'Correlation does not imply Causation' is a cautionary tale. However, correlation does give us a good nudge to know where to start looking promising features to use in our models. Use this exercise to get a feel for searching through your data for the first time, trying to find patterns.\n",
    "\n",
    "A list called columns containing column names has been created for you. In this exercise you will compute the correlation between those columns and 'SALESCLOSEPRICE', and find the maximum."
   ]
  },
  {
   "cell_type": "code",
   "execution_count": 15,
   "metadata": {
    "ExecuteTime": {
     "end_time": "2019-02-16T18:48:44.304821Z",
     "start_time": "2019-02-16T18:48:44.297840Z"
    },
    "code_folding": []
   },
   "outputs": [],
   "source": [
    "columns = ['FOUNDATIONSIZE',\n",
    " 'DAYSONMARKET',\n",
    " 'FIREPLACES',\n",
    " 'PDOM',\n",
    " 'SQFTABOVEGROUND',\n",
    " 'TAXES',\n",
    " 'TAXWITHASSESSMENTS',\n",
    " 'TAXYEAR',\n",
    " 'LIVINGAREA',\n",
    " 'YEARBUILT',\n",
    " 'ACRES',\n",
    " 'BACKONMARKETDATE',\n",
    " 'BATHSFULL',\n",
    " 'BATHSHALF',\n",
    " 'BATHQUARTER',\n",
    " 'BATHSTHREEQUARTER',\n",
    " 'BATHSTOTAL',\n",
    " 'BEDROOMS',\n",
    " 'SQFTBELOWGROUND',\n",
    " 'ASSOCIATIONFEE',\n",
    " 'ASSESSEDVALUATION']"
   ]
  },
  {
   "cell_type": "code",
   "execution_count": 17,
   "metadata": {
    "ExecuteTime": {
     "end_time": "2019-02-16T18:49:19.804476Z",
     "start_time": "2019-02-16T18:49:18.443114Z"
    }
   },
   "outputs": [
    {
     "ename": "IllegalArgumentException",
     "evalue": "'requirement failed: Currently correlation calculation for columns with dataType string not supported.'",
     "output_type": "error",
     "traceback": [
      "\u001b[1;31m---------------------------------------------------------------------------\u001b[0m",
      "\u001b[1;31mPy4JJavaError\u001b[0m                             Traceback (most recent call last)",
      "\u001b[1;32m~\\Anaconda3\\lib\\site-packages\\pyspark\\sql\\utils.py\u001b[0m in \u001b[0;36mdeco\u001b[1;34m(*a, **kw)\u001b[0m\n\u001b[0;32m     62\u001b[0m         \u001b[1;32mtry\u001b[0m\u001b[1;33m:\u001b[0m\u001b[1;33m\u001b[0m\u001b[1;33m\u001b[0m\u001b[0m\n\u001b[1;32m---> 63\u001b[1;33m             \u001b[1;32mreturn\u001b[0m \u001b[0mf\u001b[0m\u001b[1;33m(\u001b[0m\u001b[1;33m*\u001b[0m\u001b[0ma\u001b[0m\u001b[1;33m,\u001b[0m \u001b[1;33m**\u001b[0m\u001b[0mkw\u001b[0m\u001b[1;33m)\u001b[0m\u001b[1;33m\u001b[0m\u001b[1;33m\u001b[0m\u001b[0m\n\u001b[0m\u001b[0;32m     64\u001b[0m         \u001b[1;32mexcept\u001b[0m \u001b[0mpy4j\u001b[0m\u001b[1;33m.\u001b[0m\u001b[0mprotocol\u001b[0m\u001b[1;33m.\u001b[0m\u001b[0mPy4JJavaError\u001b[0m \u001b[1;32mas\u001b[0m \u001b[0me\u001b[0m\u001b[1;33m:\u001b[0m\u001b[1;33m\u001b[0m\u001b[1;33m\u001b[0m\u001b[0m\n",
      "\u001b[1;32m~\\Anaconda3\\lib\\site-packages\\py4j\\protocol.py\u001b[0m in \u001b[0;36mget_return_value\u001b[1;34m(answer, gateway_client, target_id, name)\u001b[0m\n\u001b[0;32m    327\u001b[0m                     \u001b[1;34m\"An error occurred while calling {0}{1}{2}.\\n\"\u001b[0m\u001b[1;33m.\u001b[0m\u001b[1;33m\u001b[0m\u001b[1;33m\u001b[0m\u001b[0m\n\u001b[1;32m--> 328\u001b[1;33m                     format(target_id, \".\", name), value)\n\u001b[0m\u001b[0;32m    329\u001b[0m             \u001b[1;32melse\u001b[0m\u001b[1;33m:\u001b[0m\u001b[1;33m\u001b[0m\u001b[1;33m\u001b[0m\u001b[0m\n",
      "\u001b[1;31mPy4JJavaError\u001b[0m: An error occurred while calling o79.corr.\n: java.lang.IllegalArgumentException: requirement failed: Currently correlation calculation for columns with dataType string not supported.\r\n\tat scala.Predef$.require(Predef.scala:224)\r\n\tat org.apache.spark.sql.execution.stat.StatFunctions$$anonfun$collectStatisticalData$3.apply(StatFunctions.scala:159)\r\n\tat org.apache.spark.sql.execution.stat.StatFunctions$$anonfun$collectStatisticalData$3.apply(StatFunctions.scala:157)\r\n\tat scala.collection.immutable.List.foreach(List.scala:392)\r\n\tat org.apache.spark.sql.execution.stat.StatFunctions$.collectStatisticalData(StatFunctions.scala:157)\r\n\tat org.apache.spark.sql.execution.stat.StatFunctions$.pearsonCorrelation(StatFunctions.scala:109)\r\n\tat org.apache.spark.sql.DataFrameStatFunctions.corr(DataFrameStatFunctions.scala:159)\r\n\tat sun.reflect.NativeMethodAccessorImpl.invoke0(Native Method)\r\n\tat sun.reflect.NativeMethodAccessorImpl.invoke(NativeMethodAccessorImpl.java:62)\r\n\tat sun.reflect.DelegatingMethodAccessorImpl.invoke(DelegatingMethodAccessorImpl.java:43)\r\n\tat java.lang.reflect.Method.invoke(Method.java:498)\r\n\tat py4j.reflection.MethodInvoker.invoke(MethodInvoker.java:244)\r\n\tat py4j.reflection.ReflectionEngine.invoke(ReflectionEngine.java:357)\r\n\tat py4j.Gateway.invoke(Gateway.java:282)\r\n\tat py4j.commands.AbstractCommand.invokeMethod(AbstractCommand.java:132)\r\n\tat py4j.commands.CallCommand.execute(CallCommand.java:79)\r\n\tat py4j.GatewayConnection.run(GatewayConnection.java:238)\r\n\tat java.lang.Thread.run(Thread.java:748)\r\n",
      "\nDuring handling of the above exception, another exception occurred:\n",
      "\u001b[1;31mIllegalArgumentException\u001b[0m                  Traceback (most recent call last)",
      "\u001b[1;32m<ipython-input-17-732563b789f9>\u001b[0m in \u001b[0;36m<module>\u001b[1;34m\u001b[0m\n\u001b[0;32m      6\u001b[0m \u001b[1;32mfor\u001b[0m \u001b[0mcol\u001b[0m \u001b[1;32min\u001b[0m \u001b[0mcolumns\u001b[0m\u001b[1;33m:\u001b[0m\u001b[1;33m\u001b[0m\u001b[1;33m\u001b[0m\u001b[0m\n\u001b[0;32m      7\u001b[0m     \u001b[1;31m# Check the correlation of a pair of columns\u001b[0m\u001b[1;33m\u001b[0m\u001b[1;33m\u001b[0m\u001b[1;33m\u001b[0m\u001b[0m\n\u001b[1;32m----> 8\u001b[1;33m     \u001b[0mcorr_val\u001b[0m \u001b[1;33m=\u001b[0m \u001b[0mdf\u001b[0m\u001b[1;33m.\u001b[0m\u001b[0mcorr\u001b[0m\u001b[1;33m(\u001b[0m\u001b[1;34m'SALESCLOSEPRICE'\u001b[0m\u001b[1;33m,\u001b[0m \u001b[0mcol\u001b[0m\u001b[1;33m)\u001b[0m\u001b[1;33m\u001b[0m\u001b[1;33m\u001b[0m\u001b[0m\n\u001b[0m\u001b[0;32m      9\u001b[0m     \u001b[1;31m# Logic to compare corr_max with current corr_val\u001b[0m\u001b[1;33m\u001b[0m\u001b[1;33m\u001b[0m\u001b[1;33m\u001b[0m\u001b[0m\n\u001b[0;32m     10\u001b[0m     \u001b[1;32mif\u001b[0m \u001b[0mcorr_val\u001b[0m \u001b[1;33m>\u001b[0m \u001b[0mcorr_max\u001b[0m\u001b[1;33m:\u001b[0m\u001b[1;33m\u001b[0m\u001b[1;33m\u001b[0m\u001b[0m\n",
      "\u001b[1;32m~\\Anaconda3\\lib\\site-packages\\pyspark\\sql\\dataframe.py\u001b[0m in \u001b[0;36mcorr\u001b[1;34m(self, col1, col2, method)\u001b[0m\n\u001b[0;32m   1906\u001b[0m             raise ValueError(\"Currently only the calculation of the Pearson Correlation \" +\n\u001b[0;32m   1907\u001b[0m                              \"coefficient is supported.\")\n\u001b[1;32m-> 1908\u001b[1;33m         \u001b[1;32mreturn\u001b[0m \u001b[0mself\u001b[0m\u001b[1;33m.\u001b[0m\u001b[0m_jdf\u001b[0m\u001b[1;33m.\u001b[0m\u001b[0mstat\u001b[0m\u001b[1;33m(\u001b[0m\u001b[1;33m)\u001b[0m\u001b[1;33m.\u001b[0m\u001b[0mcorr\u001b[0m\u001b[1;33m(\u001b[0m\u001b[0mcol1\u001b[0m\u001b[1;33m,\u001b[0m \u001b[0mcol2\u001b[0m\u001b[1;33m,\u001b[0m \u001b[0mmethod\u001b[0m\u001b[1;33m)\u001b[0m\u001b[1;33m\u001b[0m\u001b[1;33m\u001b[0m\u001b[0m\n\u001b[0m\u001b[0;32m   1909\u001b[0m \u001b[1;33m\u001b[0m\u001b[0m\n\u001b[0;32m   1910\u001b[0m     \u001b[1;33m@\u001b[0m\u001b[0msince\u001b[0m\u001b[1;33m(\u001b[0m\u001b[1;36m1.4\u001b[0m\u001b[1;33m)\u001b[0m\u001b[1;33m\u001b[0m\u001b[1;33m\u001b[0m\u001b[0m\n",
      "\u001b[1;32m~\\Anaconda3\\lib\\site-packages\\py4j\\java_gateway.py\u001b[0m in \u001b[0;36m__call__\u001b[1;34m(self, *args)\u001b[0m\n\u001b[0;32m   1255\u001b[0m         \u001b[0manswer\u001b[0m \u001b[1;33m=\u001b[0m \u001b[0mself\u001b[0m\u001b[1;33m.\u001b[0m\u001b[0mgateway_client\u001b[0m\u001b[1;33m.\u001b[0m\u001b[0msend_command\u001b[0m\u001b[1;33m(\u001b[0m\u001b[0mcommand\u001b[0m\u001b[1;33m)\u001b[0m\u001b[1;33m\u001b[0m\u001b[1;33m\u001b[0m\u001b[0m\n\u001b[0;32m   1256\u001b[0m         return_value = get_return_value(\n\u001b[1;32m-> 1257\u001b[1;33m             answer, self.gateway_client, self.target_id, self.name)\n\u001b[0m\u001b[0;32m   1258\u001b[0m \u001b[1;33m\u001b[0m\u001b[0m\n\u001b[0;32m   1259\u001b[0m         \u001b[1;32mfor\u001b[0m \u001b[0mtemp_arg\u001b[0m \u001b[1;32min\u001b[0m \u001b[0mtemp_args\u001b[0m\u001b[1;33m:\u001b[0m\u001b[1;33m\u001b[0m\u001b[1;33m\u001b[0m\u001b[0m\n",
      "\u001b[1;32m~\\Anaconda3\\lib\\site-packages\\pyspark\\sql\\utils.py\u001b[0m in \u001b[0;36mdeco\u001b[1;34m(*a, **kw)\u001b[0m\n\u001b[0;32m     77\u001b[0m                 \u001b[1;32mraise\u001b[0m \u001b[0mQueryExecutionException\u001b[0m\u001b[1;33m(\u001b[0m\u001b[0ms\u001b[0m\u001b[1;33m.\u001b[0m\u001b[0msplit\u001b[0m\u001b[1;33m(\u001b[0m\u001b[1;34m': '\u001b[0m\u001b[1;33m,\u001b[0m \u001b[1;36m1\u001b[0m\u001b[1;33m)\u001b[0m\u001b[1;33m[\u001b[0m\u001b[1;36m1\u001b[0m\u001b[1;33m]\u001b[0m\u001b[1;33m,\u001b[0m \u001b[0mstackTrace\u001b[0m\u001b[1;33m)\u001b[0m\u001b[1;33m\u001b[0m\u001b[1;33m\u001b[0m\u001b[0m\n\u001b[0;32m     78\u001b[0m             \u001b[1;32mif\u001b[0m \u001b[0ms\u001b[0m\u001b[1;33m.\u001b[0m\u001b[0mstartswith\u001b[0m\u001b[1;33m(\u001b[0m\u001b[1;34m'java.lang.IllegalArgumentException: '\u001b[0m\u001b[1;33m)\u001b[0m\u001b[1;33m:\u001b[0m\u001b[1;33m\u001b[0m\u001b[1;33m\u001b[0m\u001b[0m\n\u001b[1;32m---> 79\u001b[1;33m                 \u001b[1;32mraise\u001b[0m \u001b[0mIllegalArgumentException\u001b[0m\u001b[1;33m(\u001b[0m\u001b[0ms\u001b[0m\u001b[1;33m.\u001b[0m\u001b[0msplit\u001b[0m\u001b[1;33m(\u001b[0m\u001b[1;34m': '\u001b[0m\u001b[1;33m,\u001b[0m \u001b[1;36m1\u001b[0m\u001b[1;33m)\u001b[0m\u001b[1;33m[\u001b[0m\u001b[1;36m1\u001b[0m\u001b[1;33m]\u001b[0m\u001b[1;33m,\u001b[0m \u001b[0mstackTrace\u001b[0m\u001b[1;33m)\u001b[0m\u001b[1;33m\u001b[0m\u001b[1;33m\u001b[0m\u001b[0m\n\u001b[0m\u001b[0;32m     80\u001b[0m             \u001b[1;32mraise\u001b[0m\u001b[1;33m\u001b[0m\u001b[1;33m\u001b[0m\u001b[0m\n\u001b[0;32m     81\u001b[0m     \u001b[1;32mreturn\u001b[0m \u001b[0mdeco\u001b[0m\u001b[1;33m\u001b[0m\u001b[1;33m\u001b[0m\u001b[0m\n",
      "\u001b[1;31mIllegalArgumentException\u001b[0m: 'requirement failed: Currently correlation calculation for columns with dataType string not supported.'"
     ]
    }
   ],
   "source": [
    "# Name and value of col with max corr\n",
    "corr_max = 0\n",
    "corr_max_col = columns[0]\n",
    "\n",
    "# Loop to check all columns contained in list\n",
    "for col in columns:\n",
    "    # Check the correlation of a pair of columns\n",
    "    corr_val = df.corr('SALESCLOSEPRICE', col)\n",
    "    # Logic to compare corr_max with current corr_val\n",
    "    if corr_val > corr_max:\n",
    "        # Update the column name and corr value\n",
    "        corr_max = corr_val\n",
    "        corr_max_col = col\n",
    "\n",
    "print(corr_max_col)"
   ]
  },
  {
   "cell_type": "markdown",
   "metadata": {},
   "source": [
    "## Using Visualizations: distplot\n",
    "\n",
    "Understanding the distribution of our dependent variable is very important and can impact the type of model or preprocessing we do. A great way to do this is to plot it, however plotting is not a built in function in PySpark, we will need to take some intermediary steps to make sure it works correctly. In this exercise you will visualize the variable the 'LISTPRICE' variable, and you will gain more insights on its distribution by computing the skewness.\n",
    "\n",
    "The matplotlib.pyplot and seaborn packages have been imported for you with aliases plt and sns."
   ]
  },
  {
   "cell_type": "code",
   "execution_count": 18,
   "metadata": {
    "ExecuteTime": {
     "end_time": "2019-02-16T18:49:49.838862Z",
     "start_time": "2019-02-16T18:49:49.146156Z"
    }
   },
   "outputs": [
    {
     "name": "stderr",
     "output_type": "stream",
     "text": [
      "C:\\Users\\Admin\\Anaconda3\\lib\\site-packages\\scipy\\stats\\stats.py:1713: FutureWarning: Using a non-tuple sequence for multidimensional indexing is deprecated; use `arr[tuple(seq)]` instead of `arr[seq]`. In the future this will be interpreted as an array index, `arr[np.array(seq)]`, which will result either in an error or a different result.\n",
      "  return np.add.reduce(sorted[indexer] * weights, axis=axis) / sumval\n"
     ]
    },
    {
     "data": {
      "image/png": "[encoded data removed]",
      "text/plain": [
       "<Figure size 432x288 with 1 Axes>"
      ]
     },
     "metadata": {
      "needs_background": "light"
     },
     "output_type": "display_data"
    },
    {
     "name": "stdout",
     "output_type": "stream",
     "text": [
      "[Row(skewness(LISTPRICE)=2.790448093916559)]\n"
     ]
    }
   ],
   "source": [
    "# Select a single column and sample and convert to pandas\n",
    "sample_df = df.select(['LISTPRICE']).sample(False, 0.5, 42)\n",
    "pandas_df = sample_df.toPandas().astype(int)\n",
    "\n",
    "# Plot distribution of pandas_df and display plot\n",
    "sns.distplot(pandas_df)\n",
    "plt.show()\n",
    "\n",
    "# Import skewness function\n",
    "from pyspark.sql.functions import skewness\n",
    "\n",
    "# Compute and print skewness of LISTPRICE\n",
    "print(df.agg({'LISTPRICE': 'skewness'}).collect())"
   ]
  },
  {
   "cell_type": "markdown",
   "metadata": {},
   "source": [
    "## Using Visualizations: lmplot\n",
    "\n",
    "Creating linear model plots helps us visualize if variables have relationships with the dependent variable. If they do they are good candidates to include in our analysis. If they don't it doesn't mean that we should throw them out, it means we may have to process or wrangle them before they can be used.\n",
    "\n",
    "seaborn is available in your workspace with the customary alias sns."
   ]
  },
  {
   "cell_type": "code",
   "execution_count": 19,
   "metadata": {
    "ExecuteTime": {
     "end_time": "2019-02-16T18:49:54.067166Z",
     "start_time": "2019-02-16T18:49:53.457254Z"
    }
   },
   "outputs": [
    {
     "data": {
      "image/png": "[encoded data removed]",
      "text/plain": [
       "<Figure size 360x360 with 1 Axes>"
      ]
     },
     "metadata": {
      "needs_background": "light"
     },
     "output_type": "display_data"
    }
   ],
   "source": [
    "# Select a the relevant columns and sample\n",
    "sample_df = df.select(['SALESCLOSEPRICE', 'LIVINGAREA']).sample(False, 0.5, 42)\n",
    "\n",
    "# Convert to pandas dataframe\n",
    "pandas_df = sample_df.toPandas().astype(float)\n",
    "\n",
    "# Linear model plot of pandas_df\n",
    "sns.lmplot(x='LIVINGAREA', y='SALESCLOSEPRICE', data=pandas_df)\n",
    "plt.show()"
   ]
  },
  {
   "cell_type": "markdown",
   "metadata": {},
   "source": [
    "# Wrangling with Spark Functions"
   ]
  },
  {
   "cell_type": "markdown",
   "metadata": {},
   "source": [
    "## Dropping a list of columns\n",
    "\n",
    "Our data set is rich with a lot of features, but not all are valuable. We have many that are going to be hard to wrangle into anything useful. For now, let's remove any columns that aren't immediately useful by dropping them.\n",
    "\n",
    "    'STREETNUMBERNUMERIC': The postal address number on the home\n",
    "    'FIREPLACES': Number of Fireplaces in the home\n",
    "    'LOTSIZEDIMENSIONS': Free text describing the lot shape\n",
    "    'LISTTYPE': Set list of values of sale type\n",
    "    'ACRES': Numeric area of lot size\n"
   ]
  },
  {
   "cell_type": "code",
   "execution_count": 20,
   "metadata": {
    "ExecuteTime": {
     "end_time": "2019-02-16T18:49:57.813902Z",
     "start_time": "2019-02-16T18:49:57.403000Z"
    }
   },
   "outputs": [
    {
     "name": "stdout",
     "output_type": "stream",
     "text": [
      "+---+-----+-------------------+--------------------+----------+----------+---------------+----------------+---------------+---------------+---------+---------------+-----------------+------------+--------------+----------------+---------+--------------------+--------------------+------------+---------------+----------+---------+--------------------+--------------------+----------+------------------+--------------------+----+--------------------+---------------+-----+----------+---------+------------------+-------+----------+----------+---------+--------------------+--------------------+-----+------------------+--------------------+----------------+--------------------+---------+--------------------+----------+----------+---------+---------------------+--------------------+---------+---------+-----------+-----------------+-----+----------+--------------------+---------+----------+---------+----------+---------+----------+---------+----------+--------+---------------+-----------------+--------------+-----------------+-----------------+\n",
      "| NO|MLSID|STREETNUMBERNUMERIC|       STREETADDRESS|STREETNAME|POSTALCODE|STATEORPROVINCE|            CITY|SALESCLOSEPRICE|       LISTDATE|LISTPRICE|       LISTTYPE|ORIGINALLISTPRICE|PRICEPERTSFT|FOUNDATIONSIZE|           FENCE|MAPLETTER|   LOTSIZEDIMENSIONS|SCHOOLDISTRICTNUMBER|DAYSONMARKET|  OFFMARKETDATE|FIREPLACES|ROOMAREA4|            ROOMTYPE|                ROOF|ROOMFLOOR4|POTENTIALSHORTSALE|     POOLDESCRIPTION|PDOM|   GARAGEDESCRIPTION|SQFTABOVEGROUND|TAXES|ROOMFLOOR1|ROOMAREA1|TAXWITHASSESSMENTS|TAXYEAR|LIVINGAREA|UNITNUMBER|YEARBUILT|              ZONING|               STYLE|ACRES|COOLINGDESCRIPTION|          APPLIANCES|BACKONMARKETDATE|      ROOMFAMILYCHAR|ROOMAREA3|            EXTERIOR|ROOMFLOOR3|ROOMFLOOR2|ROOMAREA2|DININGROOMDESCRIPTION|            BASEMENT|BATHSFULL|BATHSHALF|BATHQUARTER|BATHSTHREEQUARTER|CLASS|BATHSTOTAL|            BATHDESC|ROOMAREA5|ROOMFLOOR5|ROOMAREA6|ROOMFLOOR6|ROOMAREA7|ROOMFLOOR7|ROOMAREA8|ROOMFLOOR8|BEDROOMS|SQFTBELOWGROUND|ASSUMABLEMORTGAGE|ASSOCIATIONFEE|ASSESSMENTPENDING|ASSESSEDVALUATION|\n",
      "+---+-----+-------------------+--------------------+----------+----------+---------------+----------------+---------------+---------------+---------+---------------+-----------------+------------+--------------+----------------+---------+--------------------+--------------------+------------+---------------+----------+---------+--------------------+--------------------+----------+------------------+--------------------+----+--------------------+---------------+-----+----------+---------+------------------+-------+----------+----------+---------+--------------------+--------------------+-----+------------------+--------------------+----------------+--------------------+---------+--------------------+----------+----------+---------+---------------------+--------------------+---------+---------+-----------+-----------------+-----+----------+--------------------+---------+----------+---------+----------+---------+----------+---------+----------+--------+---------------+-----------------+--------------+-----------------+-----------------+\n",
      "|  1| RMLS|              11511|11511 Stillwater ...|Stillwater|     55042|             MN|LELM - Lake Elmo|         143000| 7/15/2017 0:00|   139900|Exclusive Right|           139900|    145.9184|           980|           Other|       C4|             279X200|    834 - Stillwater|          10| 7/30/2017 0:00|         0|  12 x  9|Living Room, Dini...|                null|      Main|                No|                null|  10|     Attached Garage|            980| 1858|      Main|  16 x 13|            1858.0|   2017|       980|      null|     1950|  Residential-Single|      (SF) One Story| 1.28|           Central|Range, Dishwasher...|            null|                null|     null|               Vinyl|      null|      Main|   9 x  7|       Eat In Kitchen|                Full|        1|        1|          0|                0|   SF|         2|Main Floor 3/4 Ba...|  13 x 11|      Main|  10 x 10|      Main|     null|      null|     null|      null|       3|              0|             null|             0|          Unknown|              0.0|\n",
      "|  2| RMLS|              11200|     11200 31st St N|      31st|     55042|             MN|LELM - Lake Elmo|         190000| 10/9/2017 0:00|   210000|Exclusive Right|           210000|     85.2783|          1144|            null|       C1|             100x140|    834 - Stillwater|           4|10/13/2017 0:00|         0|    11x11|Living Room, Dini...|Asphalt Shingles,...|      Main|                No|                null|   4|Attached Garage, ...|           1268| 1640|      Main|    22x14|            1640.0|   2017|      2228|      null|     1971|  Residential-Single|(SF) Split Entry ...| 0.32|           Central|Range, Microwave,...|            null|         Lower Level|    22x14|               Vinyl|     Lower|      Main|    11x12| Informal Dining R...|Full, Partial Fin...|        1|        0|          0|                2|   SF|         3|Main Floor Full B...|    15x11|      Main|    14x11|      Main|    10x11|      Main|    11x11|     Lower|       4|            960|             null|             0|          Unknown|              0.0|\n",
      "|  3| RMLS|               8583|8583 Stillwater B...|Stillwater|     55042|             MN|LELM - Lake Elmo|         225000| 6/26/2017 0:00|   225000|Exclusive Right|           225000|    204.1742|          1102|            None|       E1|             120x296|622 - North St Pa...|          28| 7/24/2017 0:00|         0|    14x12|Living Room, Dini...|                null|      Main|                No|                None|  28|     Attached Garage|           1102| 2390|      Main|    20x13|            2390.0|   2016|      1102|      null|     1949|  Residential-Single|      (SF) One Story|0.822|            Window|Range, Microwave,...|            null|                null|     null|        Cement Board|      null|      Main|    18x11| Informal Dining Room|Full, Crawl Space...|        1|        0|          0|                0|   SF|         1|Main Floor Full Bath|    12x12|      Main|    12x12|      Main|     null|      null|     null|      null|       2|              0|    Not Assumable|             0|               No|              0.0|\n",
      "|  4| RMLS|               9350|      9350 31st St N|      31st|     55042|             MN|LELM - Lake Elmo|         265000| 8/25/2017 0:00|   230000|Exclusive Right|           230000|    162.3775|           959|            None|       A1|             208X208|    834 - Stillwater|          19| 9/13/2017 0:00|         1|    12X16|Living Room, Dini...|Asphalt Shingles,...|      Main|                No|                None|  19|Attached Garage, ...|           1284| 2146|      null|     null|            2146.0|   2017|      1632|      null|     1960|  Residential-Single|      (SF) One Story| 0.94|           Central|Range, Washer, Dryer|            null|          Main Level|    25X13|              Stucco|      Main|      Main|    20X11|                 null|Full, Partial Fin...|        1|        1|          0|                0|   SF|         2|Main Floor Full B...|    13X11|      Main|    13X10|      Main|     null|      null|     null|      null|       2|            348|             null|             0|          Unknown|              0.0|\n",
      "|  5| RMLS|               2915|   2915 Inwood Ave N|    Inwood|     55042|             MN|LELM - Lake Elmo|         249900| 9/12/2017 0:00|   239900|Exclusive Right|           239900|    121.7836|          1026|      Chain Link|       E1|             116x200|622 - North St Pa...|          21| 10/3/2017 0:00|         1|    12x10|Living Room, Dini...|Asphalt Shingles,...|      Main|                No|                null|  21|Attached Garage, ...|           1026| 2010|      Main|    22x14|            2010.0|   2017|      2052|      null|     1978|  Residential-Single|(SF) Split Entry ...|  0.0|           Central|Range, Exhaust Fa...|            null|         Lower Level|    22x18|               Vinyl|     Lower|      Main|    12x10| Breakfast Area, K...|Walkout, Full, Fi...|        1|        0|          0|                1|   SF|         2|Main Floor Full B...|    13x11|      Main|    13x12|      Main|    14x13|     Lower|     null|      null|       3|           1026|             null|             0|               No|              0.0|\n",
      "|  6| RMLS|               3604|   3604 Layton Ave N|    Layton|     55042|             MN|LELM - Lake Elmo|         255000| 4/10/2017 0:00|   239900|Exclusive Right|           239900|     182.534|          1152|            null|       C1|              50x150|    834 - Stillwater|          17| 4/27/2017 0:00|         1|  11 x 11|Living Room, Dini...|Asphalt Shingles,...|      Main|                No|                null|  17|Attached Garage, ...|           1397| 1491|      Main|  19 x 13|            1494.0|   2016|      1397|      null|     1965|  Residential-Single|      (SF) One Story|0.172|           Central|Range, Microwave,...|            null|                null|     null|        Metal, Vinyl|      null|      Main|  10 x 13| Separate/Formal D...|Full, Sump Pump, ...|        2|        0|          0|                0|   SF|         2|Main Floor Full B...|25.5 x 11|      Main|  10 x 11|      Main| 9.5 x 10|      Main|     null|      null|       3|              0|    Not Assumable|             0|               No|              3.0|\n",
      "|  7| RMLS|               9957|9957 5th Street Ln N|5th Street|     55042|             MN|LELM - Lake Elmo|         248000|  6/8/2017 0:00|   250000|Exclusive Right|           265000|     137.931|           700|            null|       A4|              common|    834 - Stillwater|          32| 7/10/2017 0:00|         0|     14x9|Living Room, Dini...|Asphalt Shingles,...|      Main|                No|                null|  19|Attached Garage, ...|           1798| 2165|      Main|    13x15|            2168.0|   2017|      1798|      null|     2015|  Residential-Single|    (TH) Side x Side| 0.05|           Central|Range, Microwave,...|            null|                Loft|     null|Shakes, Metal, Vi...|      null|      Main|    11x13| Informal Dining R...|                Slab|        1|        1|          0|                1|   SF|         3|Main Floor 1/2 Ba...|  13x19.6|     Upper|  11x13.6|     Upper|  11x13.6|     Upper|     null|      null|       3|              0|             null|           200|              Yes|              3.0|\n",
      "|  8| RMLS|               9934|9934 5th Street Ln N|5th Street|     55042|             MN|LELM - Lake Elmo|         245000| 11/5/2017 0:00|   254990|Exclusive Right|           273417|    141.3733|          1088|         Partial|       A4|              common|    834 - Stillwater|           5|11/10/2017 0:00|         0|   12 x 8|Living Room, Dini...|    Asphalt Shingles|      Main|                No|                null|   1|     Attached Garage|           1733|    0|      Main|  12 x 13|               0.0|   2017|      1733|      null|     2017|  Residential-Single| (TH) Quad/4 Corners| 0.05|           Central|Range, Microwave,...|            null|Main Level, Famil...|     null|               Vinyl|      null|      Main|  12 x 10| Informal Dining R...|                None|        2|        1|          0|                0|   SF|         3|Main Floor 1/2 Ba...|  12 x 11|     Upper|  11 x 13|     Upper|  11 x 13|     Upper|     null|      null|       3|              0|             null|           200|               No|              0.0|\n",
      "|  9| RMLS|               9926|9926 5th Street Ln N|5th Street|     55042|             MN|LELM - Lake Elmo|         254990|10/12/2017 0:00|   254990|Exclusive Right|           273152|    147.1379|          1088|         Partial|       E1|              common|    834 - Stillwater|          23|11/11/2017 0:00|         0|   12 x 8|Living Room, Dini...|    Asphalt Shingles|      Main|                No|                null|   5|     Attached Garage|           1733|    0|      Main|  12 x 13|               0.0|   2017|      1733|      null|     2017|  Residential-Single| (TH) Quad/4 Corners| 0.05|           Central|Range, Microwave,...|            null|                null|     null|               Vinyl|      null|      Main|  12 x 10| Informal Dining R...|                None|        1|        1|          0|                1|   SF|         3|Main Floor 1/2 Ba...|  12 x 11|     Upper|  11 x 13|     Upper|  11 x 13|     Upper|     null|      null|       3|              0|             null|           200|               No|              0.0|\n",
      "| 10| RMLS|               9928|9928 5th Street Ln N|5th Street|     55042|             MN|LELM - Lake Elmo|         250000|  9/2/2017 0:00|   255990|Exclusive Right|           273482|    144.2585|          1088|Privacy, Partial|       A4|              common|    834 - Stillwater|          73|11/20/2017 0:00|         0|   12 x 8|Living Room, Dini...|    Asphalt Shingles|      Main|                No|                null|  11|     Attached Garage|           1733|    0|      Main|  12 x 13|               0.0|   2017|      1733|      null|     2017|  Residential-Single| (TH) Quad/4 Corners| 0.05|           Central|Range, Microwave,...|            null|Main Level, Famil...|     null|               Vinyl|      null|      Main|  12 x 10| Informal Dining R...|                None|        1|        1|          0|                1|   SF|         3|Main Floor 1/2 Ba...|  12 x 11|     Upper|  11 x 13|     Upper|  11 x 13|     Upper|     null|      null|       3|              0|             null|           200|               No|              0.0|\n",
      "| 11| RMLS|               9902|9902 5th Street Ln N|5th Street|     55042|             MN|LELM - Lake Elmo|         254500| 5/19/2017 0:00|   259990|Exclusive Right|           267117|    146.8552|          1088|         Partial|       A4|              common|    834 - Stillwater|          80|  8/7/2017 0:00|         0|   12 x 8|Living Room, Dini...|    Asphalt Shingles|      Main|                No|                null|   7|     Attached Garage|           1733|    0|      Main|  12 x 13|               0.0|   2017|      1733|      null|     2017|  Residential-Single| (TH) Quad/4 Corners| 0.05|           Central|Range, Microwave,...|            null|Main Level, Famil...|     null|               Vinyl|      null|      Main|  12 x 10| Informal Dining R...|                None|        1|        1|          0|                1|   SF|         3|Main Floor 1/2 Ba...|  12 x 11|     Upper|  11 x 13|     Upper|  11 x 13|     Upper|     null|      null|       3|              0|             null|           200|               No|              0.0|\n",
      "| 12| RMLS|               9904|9904 5th Street Ln N|5th Street|     55042|             MN|LELM - Lake Elmo|         253000| 5/11/2017 0:00|   259990|Exclusive Right|           268487|    145.9896|          1088|         Partial|       A4|              common|    834 - Stillwater|          79| 7/29/2017 0:00|         0|   12 x 8|Living Room, Dini...|    Asphalt Shingles|      Main|                No|                null|  58|     Attached Garage|           1733|    0|      Main|  12 x 13|               0.0|   2017|      1733|      null|     2017|  Residential-Single| (TH) Quad/4 Corners| 0.05|           Central|Range, Microwave,...|            null|                null|     null|               Vinyl|      null|      Main|  12 x 10| Informal Dining R...|                None|        1|        1|          0|                1|   SF|         3|Main Floor 1/2 Ba...|  12 x 11|     Upper|  11 x 13|     Upper|  11 x 13|     Upper|     null|      null|       3|              0|             null|           200|               No|              0.0|\n",
      "| 13| RMLS|               9894|9894 5th Street Ln N|5th Street|     55042|             MN|LELM - Lake Elmo|         257500| 3/12/2017 0:00|   259990|Exclusive Right|           268622|    148.5863|          1088|         Partial|       A4|              common|    834 - Stillwater|          12| 3/24/2017 0:00|         0|   12 x 8|Living Room, Dini...|    Asphalt Shingles|      Main|                No|                null|   8|     Attached Garage|           1733|    0|      Main|  12 x 13|               0.0|   2017|      1733|      null|     2017|  Residential-Single| (TH) Quad/4 Corners| 0.05|           Central|Range, Microwave,...|            null|Main Level, Famil...|     null|               Vinyl|      null|      Main|  12 x 10| Informal Dining R...|                None|        2|        1|          0|                0|   SF|         3|Main Floor 1/2 Ba...|  12 x 11|     Upper|  11 x 13|     Upper|  11 x 13|     Upper|     null|      null|       3|              0|             null|           190|               No|              0.0|\n",
      "| 14| RMLS|               9892|    9892 5th St Ln N|    5th St|     55042|             MN|LELM - Lake Elmo|         272990|  3/6/2017 0:00|   269990|Exclusive Right|           279442|     154.844|          1088|Privacy, Partial|       A4|              COMMON|    834 - Stillwater|           1| 6/11/2017 0:00|         0|     12X8|Living Room, Dini...|Asphalt Shingles,...|      Main|                No|                null|   1|Attached Garage, ...|           1763|    0|      Main|    12X13|               0.0|   2016|      1763|      null|     2016|  Residential-Single| (TH) Quad/4 Corners| 0.05|           Central|Range, Microwave,...|            null|Main Level, Great...|     null|Shakes, Metal, Vi...|      null|      Main|     3X10| Informal Dining R...|                None|        2|        1|          0|                0|   SF|         3|Main Floor 1/2 Ba...|    12X11|     Upper|    11X13|     Upper|    11X13|     Upper|     null|      null|       3|              0|             null|           200|               No|              0.0|\n",
      "| 15| RMLS|               9295|9295 Lake Jane Trl N| Lake Jane|     55042|             MN|LELM - Lake Elmo|         290000| 5/18/2017 0:00|   270000|Exclusive Right|           270000|    157.2668|          1844|            null|       A4|261 x 293 x 287 x...|    834 - Stillwater|          18|  6/5/2017 0:00|         1|    13x12|Living Room, Dini...|    Asphalt Shingles|      Main|                No|                None|  18|Attached Garage, ...|           1844| 2689|      Main|    21x19|            2692.0|   2017|      1844|      null|     1977|  Residential-Single|      (SF) One Story|1.661|           Central|Cooktop, Wall Ove...|            null|                null|     null|  Metal, Brick/Stone|      null|      Main|    12x10| Informal Dining R...|Full, Concrete Bl...|        0|        0|          0|                3|   SF|         3|Main Floor 3/4 Ba...|    14x11|      Main|    12x11|      Main|     null|      null|     null|      null|       2|              0|             null|             0|              Yes|              3.0|\n",
      "| 16| RMLS|               9930|    9930 5th St Ln N|    5th St|     55042|             MN|LELM - Lake Elmo|         274000|10/15/2017 0:00|   274000|Exclusive Right|           274000|    155.4169|          1088|            null|       A4|               36X32|    834 - Stillwater|           2|10/17/2017 0:00|         0|     12X8|Living Room, Dini...|Asphalt Shingles,...|      Main|                No|                null|   2|Attached Garage, ...|           1763|    0|      Main|    12X13|               0.0|   2017|      1763|      null|     2017|  Residential-Single| (TH) Quad/4 Corners| 0.05|           Central|Range, Microwave,...|            null|                Loft|     null|Shakes, Metal, Vi...|      null|      Main|     3X10| Informal Dining R...|                None|        1|        1|          0|                1|   SF|         3|Main Floor 1/2 Ba...|    12X11|     Upper|    11X13|     Upper|    11X13|     Upper|     null|      null|       3|              0|             null|           200|               No|              0.0|\n",
      "| 17| RMLS|               9898|    9898 5th St Ln N|    5th St|     55042|             MN|LELM - Lake Elmo|         274990| 9/10/2017 0:00|   274990|Exclusive Right|           289357|    155.9784|          1088|            null|       A4|               36X32|    834 - Stillwater|          12| 9/22/2017 0:00|         0|     12X8|Living Room, Dini...|Asphalt Shingles,...|      Main|                No|                null|   8|Attached Garage, ...|           1763|    0|      Main|    12X13|               0.0|   2017|      1763|      null|     2017|  Residential-Single| (TH) Quad/4 Corners| 0.05|           Central|Range, Microwave,...|            null|                Loft|     null|Shakes, Metal, Vi...|      null|      Main|     3X10| Informal Dining R...|                None|        1|        1|          0|                1|   SF|         3|Main Floor 1/2 Ba...|    12X11|     Upper|    11X13|     Upper|    11X13|     Upper|     null|      null|       3|              0|             null|           200|               No|              0.0|\n",
      "| 18| RMLS|               9924|    9924 5th St Ln N|    5th St|     55042|             MN|LELM - Lake Elmo|         274000|  9/1/2017 0:00|   284990|Exclusive Right|           288342|    155.4169|          1088|Privacy, Partial|       A4|              COMMON|    834 - Stillwater|          45|10/16/2017 0:00|         0|     12X8|Living Room, Dini...|Asphalt Shingles,...|      Main|                No|                null|  24|Attached Garage, ...|           1763|    0|      Main|    12X13|               0.0|   2017|      1763|      null|     2017|  Residential-Single| (TH) Quad/4 Corners| 0.05|           Central|Range, Microwave,...|            null|Main Level, Great...|     null|Shakes, Metal, Vi...|      null|      Main|     3X10| Informal Dining R...|                None|        2|        1|          0|                0|   SF|         3|Main Floor 1/2 Ba...|    12X11|     Upper|    11X13|     Upper|    11X13|     Upper|     null|      null|       3|              0|             null|           200|               No|              0.0|\n",
      "| 19| RMLS|               9906|    9906 5th St Ln N|    5th St|     55042|             MN|LELM - Lake Elmo|         282000|  5/6/2017 0:00|   287452|Exclusive Right|           287452|    159.9546|          1088|            null|       A4|              COMMON|    834 - Stillwater|          31|  6/6/2017 0:00|         0|     12X8|Living Room, Dini...|Asphalt Shingles,...|      Main|                No|                null|  31|Attached Garage, ...|           1763|    0|      Main|    12X13|               0.0|   2017|      1763|      null|     2017|  Residential-Single| (TH) Quad/4 Corners| 0.05|           Central|Range, Microwave,...|            null|                Loft|     null|Shakes, Metal, Vi...|      null|      Main|     3X10| Informal Dining R...|                None|        1|        1|          0|                1|   SF|         3|Main Floor 1/2 Ba...|    12X11|     Upper|    11X13|     Upper|    11X13|     Upper|     null|      null|       3|              0|             null|           200|               No|              0.0|\n",
      "| 20| RMLS|               9938|    9938 5th St Ln N|    5th St|     55042|             MN|LELM - Lake Elmo|         280617| 8/11/2017 0:00|   288492|Exclusive Right|           288492|    159.1702|          1088|            null|       A4|              COMMON|    834 - Stillwater|          16| 8/27/2017 0:00|         0|     12X8|Living Room, Dini...|Asphalt Shingles,...|      Main|                No|                null|  16|Attached Garage, ...|           1763|    0|      Main|    12X13|               0.0|   2017|      1763|      null|     2017|  Residential-Single| (TH) Quad/4 Corners| 0.05|           Central|Range, Microwave,...|            null|                Loft|     null|Shakes, Metal, Vi...|      null|      Main|     3X10| Informal Dining R...|                None|        1|        1|          0|                1|   SF|         3|Main Floor 1/2 Ba...|    12X11|     Upper|    11X13|     Upper|    11X13|     Upper|     null|      null|       3|              0|             null|           200|               No|              0.0|\n",
      "| 21| RMLS|               9795|9795 N 5th Street Ln|5th Street|     55042|             MN|LELM - Lake Elmo|         289871|  3/3/2017 0:00|   292371|Exclusive Right|           292371|    163.0321|           698|         Privacy|       A4|               32X60|    834 - Stillwater|           3|  3/6/2017 0:00|         1| 9.5X14.5|Living Room, Dini...|Asphalt Shingles,...|      Main|                No|                None|   3|Attached Garage, ...|           1778|    0|      null|     null|               0.0|   2016|      1778|      null|     2016|Residential-Multi...|    (TH) Side x Side| 0.04|           Central|Range, Microwave,...|            null|Main Level, Great...|13.5X14.5|Brick/Stone, Fibe...|      Main|      Main| 7.5X14.5| Informal Dining R...|                None|        2|        1|          0|                0|   SF|         3|Main Floor 1/2 Ba...|  12X14.5|     Upper|11.5X11.5|     Upper|  12.5X11|     Upper|     null|      null|       3|              0|             null|           190|               No|              0.0|\n",
      "| 22| RMLS|               9797|9797 N 5th Street Ln|5th Street|     55042|             MN|LELM - Lake Elmo|         282500|  3/6/2017 0:00|   292925|Exclusive Right|           291925|    158.8864|           698|Privacy, Partial|       A4|               32X60|    834 - Stillwater|          50| 4/25/2017 0:00|         1| 9.5X14.5|Living Room, Dini...|Asphalt Shingles,...|      Main|                No|                None|  18|Attached Garage, ...|           1778|    0|      null|     null|               0.0|   2016|      1778|      null|     2016|Residential-Multi...|    (TH) Side x Side| 0.04|           Central|Range, Microwave,...|            null|    Main Level, Loft|13.5X14.5|Brick/Stone, Fibe...|      Main|      Main| 7.5X14.5| Informal Dining R...|                None|        2|        1|          0|                0|   SF|         3|Main Floor 1/2 Ba...|  12X14.5|     Upper|11.5X11.5|     Upper|  12.5X11|     Upper|     null|      null|       3|              0|             null|           190|               No|              0.0|\n",
      "| 23| RMLS|               8909|      8909 37th St N|      37th|     55042|             MN|LELM - Lake Elmo|         289900| 6/26/2017 0:00|   299900|Exclusive Right|           299900|    119.5957|          1300|            null|       E1|             125x150|    834 - Stillwater|          40| 9/30/2017 0:00|         2|    10x12|Living Room, Dini...|    Asphalt Shingles|     Upper|                No|                null|  40|Attached Garage, ...|           1324| 1974|     Upper|    17x14|            1974.0|   2017|      2424|      null|     1967|  Residential-Single|(SF) Split Entry ...| 0.43|           Central|Range, Microwave,...|            null|Lower Level, Fami...|    17x13|               Metal|     Lower|     Upper|    13x10| Informal Dining Room|Walkout, Finished...|        1|        0|          0|                2|   SF|         3|Upper Level Full ...|    15x11|     Upper|    12x10|     Upper|     11x9|     Upper|    13x12|     Lower|       4|           1100|    Not Assumable|             0|               No|           1974.0|\n",
      "| 24| RMLS|               3597|   3597 Kelvin Ave N|    Kelvin|     55042|             MN|LELM - Lake Elmo|         314500| 5/13/2017 0:00|   299900|Exclusive Right|           299900|     156.002|          1200|            Wood|       B1|             100x250|    834 - Stillwater|           6| 6/12/2017 0:00|         2|     17x8|Living Room, Dini...|Asphalt Shingles,...|      Main|                No|                null|   6|Attached Garage, ...|           1380| 1878|      Main|    19x14|            1878.0|   2016|      2016|      null|     1960|  Residential-Single|      (SF) One Story|0.574|           Central|Cooktop, Wall Ove...|            null|         Lower Level|    42x12| Stucco, Brick/Stone|     Lower|      Main|    13x12| Separate/Formal D...|Walkout, Full, Fi...|        1|        1|          0|                0|   SF|         2|Main Floor Full B...|    15x10|      Main|    12x11|      Main|    12x11|     Lower|     null|      null|       3|            636|             null|             0|              Yes|              0.0|\n",
      "| 25| RMLS|               8656|      8656 27th St N|      27th|     55042|             MN|LELM - Lake Elmo|         280000| 5/12/2017 0:00|   299900|Exclusive Right|           320000|    114.2857|          1148|            null|       E2|     151x158x130x151|622 - North St Pa...|          32| 6/26/2017 0:00|         1|    13x10|Living Room, Dini...|    Asphalt Shingles|      Main|                No|                null|  13|Attached Garage, ...|           1850| 2333|      Main|    17x13|            2336.0|   2016|      2450|      null|     1964|  Residential-Single|    (SF) Two Stories|0.498|              None|Range, Microwave,...|            null|          Main Level|    25x17|               Vinyl|      Main|      Main|    10x12| Separate/Formal D...|                Full|        1|        1|          0|                0|   SF|         2|Main Floor Full B...|    15x10|     Upper|    13x10|     Upper|     10x8|     Upper|     null|      null|       3|            600|    Not Assumable|             0|          Unknown|              3.0|\n",
      "| 26| RMLS|               9775|9775 N 5th Street Ln|5th Street|     55042|             MN|LELM - Lake Elmo|         299990|  7/6/2017 0:00|   299990|Exclusive Right|           322618|    166.0155|          1159|Privacy, Partial|       A4|               36X32|    834 - Stillwater|          19| 7/25/2017 0:00|         1| 8.3X11.5|Living Room, Dini...|Asphalt Shingles,...|      Main|                No|                None|   1|Attached Garage, ...|           1807|    0|      null|     null|               0.0|   2017|      1807|      null|     2017|Residential-Multi...|    (TH) Side x Side| 0.04|           Central|Range, Microwave,...|            null|Main Level, Great...|13.5X14.3|Brick/Stone, Fibe...|      Main|      Main| 7.9X14.6| Informal Dining R...|                None|        1|        1|          0|                1|   SF|         3|Main Floor 1/2 Ba...|12.4X14.7|     Upper|12.1X11.1|     Upper|  12.1X11|     Upper|     null|      null|       3|              0|             null|           225|               No|              0.0|\n",
      "| 27| RMLS|               8687|8687 Lake Jane Trl N| Lake Jane|     55042|             MN|LELM - Lake Elmo|         310000|  5/4/2017 0:00|   300000|Exclusive Right|           350000|    123.0647|          1506|            null|       E4|                   -|    834 - Stillwater|           8| 5/12/2017 0:00|         2|    10x12|Living Room, Dini...|                null|      Main|                No|Below Ground, Out...|   1|     Attached Garage|           1649| 2746|      Main|    15x19|            2746.0|   2017|      2519|      null|     1973|  Residential-Single|      (SF) One Story| 1.03|           Central|Range, Microwave,...|            null|Main Level, Lower...|    18x22|        Cement Board|     Lower|      Main|    13x14| Separate/Formal D...|Full, Finished (L...|        1|        0|          0|                1|   SF|         2|Main Floor Full B...|    13x12|      Main|    10x11|      Main|    10x10|      Main|     9x10|     Lower|       4|            870|             null|             0|          Unknown|              0.0|\n",
      "| 28| RMLS|               8367|      8367 39th St N|      39th|     55042|             MN|LELM - Lake Elmo|         319000| 4/17/2017 0:00|   309000|Exclusive Right|           309000|    155.4581|          1100|            null|       E4|             285x305|    834 - Stillwater|          14|  5/1/2017 0:00|         0|    14x12|Living Room, Dini...| Age 8 Years or Less|      Main|                No|                null|  14|Attached Garage, ...|           1152| 2693|      Main|    19x12|            2696.0|   2016|      2052|      null|     1971|  Residential-Single|      (SF) One Story|1.995|           Central|Range, Dishwasher...|            null|         Lower Level|    24x22|         Fiber Board|     Lower|      Main|    12x11| Informal Dining R...|             Walkout|        1|        0|          0|                1|   SF|         2|Main Floor Full Bath|    13x12|      Main|    12x11|      Main|     11x9|      Main|    15x13|     Lower|       4|            900|    Not Assumable|             0|               No|              3.0|\n",
      "| 29| RMLS|               2866|   2866 Legion Ave N|    Legion|     55042|             MN|LELM - Lake Elmo|         304000| 4/26/2017 0:00|   309900|Exclusive Right|           309900|    156.5396|          1020|            null|       C1|           Irregular|    834 - Stillwater|           2|  5/6/2017 0:00|         0|    10x10|Living Room, Dini...|Asphalt Shingles,...|     Upper|                No|                null|   2|Attached Garage, ...|           1064| 2482|     Upper|    12x14|            2482.0|   2016|      1942|      null|     1969|  Residential-Single|(SF) Split Entry ...| 0.72|           Central|Range, Microwave,...|            null|Main Level, Lower...|    14x18|                Wood|     Lower|     Upper|     9x10| Informal Dining R...|Walkout, Full, Fi...|        1|        0|          0|                1|   SF|         2|Upper Level Full ...|     9x12|     Upper|     9x12|     Upper|    10x11|     Lower|    10x10|     Lower|       4|            878|             null|             0|               No|              0.0|\n",
      "| 30| RMLS|               9793|9793 N 5th Street Ln|5th Street|     55042|             MN|LELM - Lake Elmo|         307500|  3/3/2017 0:00|   314584|Exclusive Right|           314584|    160.9105|           759|         Privacy|       A4|               42x60|    834 - Stillwater|          29|  4/1/2017 0:00|         1|  15x13.5|Living Room, Dini...|Asphalt Shingles,...|      Main|                No|                None|  29|Attached Garage, ...|           1911|    0|      null|     null|               0.0|   2016|      1911|      null|     2016|Residential-Multi...|    (TH) Side x Side| 0.06|           Central|Range, Microwave,...|            null|Main Level, Great...|15.5x13.5|Brick/Stone, Fibe...|      Main|      Main| 12.5x7.5| Informal Dining R...|                None|        2|        1|          0|                0|   SF|         3|Main Floor 1/2 Ba...|  18x12.5|     Upper|    12x10|     Upper|  13.5x10|     Upper|     null|      null|       3|              0|             null|           190|          Unknown|              0.0|\n",
      "+---+-----+-------------------+--------------------+----------+----------+---------------+----------------+---------------+---------------+---------+---------------+-----------------+------------+--------------+----------------+---------+--------------------+--------------------+------------+---------------+----------+---------+--------------------+--------------------+----------+------------------+--------------------+----+--------------------+---------------+-----+----------+---------+------------------+-------+----------+----------+---------+--------------------+--------------------+-----+------------------+--------------------+----------------+--------------------+---------+--------------------+----------+----------+---------+---------------------+--------------------+---------+---------+-----------+-----------------+-----+----------+--------------------+---------+----------+---------+----------+---------+----------+---------+----------+--------+---------------+-----------------+--------------+-----------------+-----------------+\n",
      "only showing top 30 rows\n",
      "\n"
     ]
    }
   ],
   "source": [
    "# Show top 30 records\n",
    "df.show(30)\n",
    "\n",
    "# List of columns to remove from dataset\n",
    "cols_to_drop = ['STREETNUMBERNUMERIC', 'LOTSIZEDIMENSIONS']\n",
    "\n",
    "# Drop columns in list\n",
    "df = df.drop(*cols_to_drop)"
   ]
  },
  {
   "cell_type": "markdown",
   "metadata": {},
   "source": [
    "## Using text filters to remove records\n",
    "\n",
    "It pays to have to ask your clients lots of questions and take time to understand your variables. You find out that Assumable mortgage is an unusual occurrence in the real estate industry and your client suggests you exclude them. In this exercise we will use isin() which is similar to like() but allows us to pass a list of values to use as a filter rather than a single one."
   ]
  },
  {
   "cell_type": "code",
   "execution_count": 21,
   "metadata": {
    "ExecuteTime": {
     "end_time": "2019-02-16T18:50:02.701143Z",
     "start_time": "2019-02-16T18:50:01.660370Z"
    }
   },
   "outputs": [
    {
     "name": "stdout",
     "output_type": "stream",
     "text": [
      "+-------------------+\n",
      "|  ASSUMABLEMORTGAGE|\n",
      "+-------------------+\n",
      "|  Yes w/ Qualifying|\n",
      "| Information Coming|\n",
      "|               null|\n",
      "|Yes w/No Qualifying|\n",
      "|      Not Assumable|\n",
      "+-------------------+\n",
      "\n",
      "4976\n"
     ]
    }
   ],
   "source": [
    "# Inspect unique values in the column 'ASSUMABLEMORTGAGE'\n",
    "df.select(['ASSUMABLEMORTGAGE']).distinct().show()\n",
    "\n",
    "# List of possible values containing 'yes'\n",
    "yes_values = ['Yes w/ Qualifying', 'Yes w/No Qualifying']\n",
    "\n",
    "# Filter the text values out of df but keep null values\n",
    "text_filter = ~df['ASSUMABLEMORTGAGE'].isin(yes_values) | df['ASSUMABLEMORTGAGE'].isNull()\n",
    "df = df.where(text_filter)\n",
    "\n",
    "# print count of remaining records\n",
    "print(df.count())"
   ]
  },
  {
   "cell_type": "markdown",
   "metadata": {},
   "source": [
    "## Filtering numeric fields conditionally\n",
    "\n",
    "Again, understanding the context of your data is extremely important. We want to understand what a normal range of houses sell for. Let's make sure we exclude any outlier homes that have sold for significantly more or less than the average. Here we will calculate the mean and standard deviation and use them to filer the near normal field log_SalesClosePrice."
   ]
  },
  {
   "cell_type": "code",
   "execution_count": 22,
   "metadata": {
    "ExecuteTime": {
     "end_time": "2019-02-16T18:50:07.284432Z",
     "start_time": "2019-02-16T18:50:07.222596Z"
    }
   },
   "outputs": [
    {
     "ename": "AnalysisException",
     "evalue": "'Cannot resolve column name \"log_SalesClosePrice\" among (NO, MLSID, STREETADDRESS, STREETNAME, POSTALCODE, STATEORPROVINCE, CITY, SALESCLOSEPRICE, LISTDATE, LISTPRICE, LISTTYPE, ORIGINALLISTPRICE, PRICEPERTSFT, FOUNDATIONSIZE, FENCE, MAPLETTER, SCHOOLDISTRICTNUMBER, DAYSONMARKET, OFFMARKETDATE, FIREPLACES, ROOMAREA4, ROOMTYPE, ROOF, ROOMFLOOR4, POTENTIALSHORTSALE, POOLDESCRIPTION, PDOM, GARAGEDESCRIPTION, SQFTABOVEGROUND, TAXES, ROOMFLOOR1, ROOMAREA1, TAXWITHASSESSMENTS, TAXYEAR, LIVINGAREA, UNITNUMBER, YEARBUILT, ZONING, STYLE, ACRES, COOLINGDESCRIPTION, APPLIANCES, BACKONMARKETDATE, ROOMFAMILYCHAR, ROOMAREA3, EXTERIOR, ROOMFLOOR3, ROOMFLOOR2, ROOMAREA2, DININGROOMDESCRIPTION, BASEMENT, BATHSFULL, BATHSHALF, BATHQUARTER, BATHSTHREEQUARTER, CLASS, BATHSTOTAL, BATHDESC, ROOMAREA5, ROOMFLOOR5, ROOMAREA6, ROOMFLOOR6, ROOMAREA7, ROOMFLOOR7, ROOMAREA8, ROOMFLOOR8, BEDROOMS, SQFTBELOWGROUND, ASSUMABLEMORTGAGE, ASSOCIATIONFEE, ASSESSMENTPENDING, ASSESSEDVALUATION);'",
     "output_type": "error",
     "traceback": [
      "\u001b[1;31m---------------------------------------------------------------------------\u001b[0m",
      "\u001b[1;31mPy4JJavaError\u001b[0m                             Traceback (most recent call last)",
      "\u001b[1;32m~\\Anaconda3\\lib\\site-packages\\pyspark\\sql\\utils.py\u001b[0m in \u001b[0;36mdeco\u001b[1;34m(*a, **kw)\u001b[0m\n\u001b[0;32m     62\u001b[0m         \u001b[1;32mtry\u001b[0m\u001b[1;33m:\u001b[0m\u001b[1;33m\u001b[0m\u001b[1;33m\u001b[0m\u001b[0m\n\u001b[1;32m---> 63\u001b[1;33m             \u001b[1;32mreturn\u001b[0m \u001b[0mf\u001b[0m\u001b[1;33m(\u001b[0m\u001b[1;33m*\u001b[0m\u001b[0ma\u001b[0m\u001b[1;33m,\u001b[0m \u001b[1;33m**\u001b[0m\u001b[0mkw\u001b[0m\u001b[1;33m)\u001b[0m\u001b[1;33m\u001b[0m\u001b[1;33m\u001b[0m\u001b[0m\n\u001b[0m\u001b[0;32m     64\u001b[0m         \u001b[1;32mexcept\u001b[0m \u001b[0mpy4j\u001b[0m\u001b[1;33m.\u001b[0m\u001b[0mprotocol\u001b[0m\u001b[1;33m.\u001b[0m\u001b[0mPy4JJavaError\u001b[0m \u001b[1;32mas\u001b[0m \u001b[0me\u001b[0m\u001b[1;33m:\u001b[0m\u001b[1;33m\u001b[0m\u001b[1;33m\u001b[0m\u001b[0m\n",
      "\u001b[1;32m~\\Anaconda3\\lib\\site-packages\\py4j\\protocol.py\u001b[0m in \u001b[0;36mget_return_value\u001b[1;34m(answer, gateway_client, target_id, name)\u001b[0m\n\u001b[0;32m    327\u001b[0m                     \u001b[1;34m\"An error occurred while calling {0}{1}{2}.\\n\"\u001b[0m\u001b[1;33m.\u001b[0m\u001b[1;33m\u001b[0m\u001b[1;33m\u001b[0m\u001b[0m\n\u001b[1;32m--> 328\u001b[1;33m                     format(target_id, \".\", name), value)\n\u001b[0m\u001b[0;32m    329\u001b[0m             \u001b[1;32melse\u001b[0m\u001b[1;33m:\u001b[0m\u001b[1;33m\u001b[0m\u001b[1;33m\u001b[0m\u001b[0m\n",
      "\u001b[1;31mPy4JJavaError\u001b[0m: An error occurred while calling o154.agg.\n: org.apache.spark.sql.AnalysisException: Cannot resolve column name \"log_SalesClosePrice\" among (NO, MLSID, STREETADDRESS, STREETNAME, POSTALCODE, STATEORPROVINCE, CITY, SALESCLOSEPRICE, LISTDATE, LISTPRICE, LISTTYPE, ORIGINALLISTPRICE, PRICEPERTSFT, FOUNDATIONSIZE, FENCE, MAPLETTER, SCHOOLDISTRICTNUMBER, DAYSONMARKET, OFFMARKETDATE, FIREPLACES, ROOMAREA4, ROOMTYPE, ROOF, ROOMFLOOR4, POTENTIALSHORTSALE, POOLDESCRIPTION, PDOM, GARAGEDESCRIPTION, SQFTABOVEGROUND, TAXES, ROOMFLOOR1, ROOMAREA1, TAXWITHASSESSMENTS, TAXYEAR, LIVINGAREA, UNITNUMBER, YEARBUILT, ZONING, STYLE, ACRES, COOLINGDESCRIPTION, APPLIANCES, BACKONMARKETDATE, ROOMFAMILYCHAR, ROOMAREA3, EXTERIOR, ROOMFLOOR3, ROOMFLOOR2, ROOMAREA2, DININGROOMDESCRIPTION, BASEMENT, BATHSFULL, BATHSHALF, BATHQUARTER, BATHSTHREEQUARTER, CLASS, BATHSTOTAL, BATHDESC, ROOMAREA5, ROOMFLOOR5, ROOMAREA6, ROOMFLOOR6, ROOMAREA7, ROOMFLOOR7, ROOMAREA8, ROOMFLOOR8, BEDROOMS, SQFTBELOWGROUND, ASSUMABLEMORTGAGE, ASSOCIATIONFEE, ASSESSMENTPENDING, ASSESSEDVALUATION);\r\n\tat org.apache.spark.sql.Dataset$$anonfun$resolve$1.apply(Dataset.scala:224)\r\n\tat org.apache.spark.sql.Dataset$$anonfun$resolve$1.apply(Dataset.scala:224)\r\n\tat scala.Option.getOrElse(Option.scala:121)\r\n\tat org.apache.spark.sql.Dataset.resolve(Dataset.scala:223)\r\n\tat org.apache.spark.sql.Dataset.col(Dataset.scala:1269)\r\n\tat org.apache.spark.sql.Dataset.apply(Dataset.scala:1236)\r\n\tat org.apache.spark.sql.RelationalGroupedDataset$$anonfun$agg$2.apply(RelationalGroupedDataset.scala:170)\r\n\tat org.apache.spark.sql.RelationalGroupedDataset$$anonfun$agg$2.apply(RelationalGroupedDataset.scala:169)\r\n\tat scala.collection.TraversableLike$$anonfun$map$1.apply(TraversableLike.scala:234)\r\n\tat scala.collection.TraversableLike$$anonfun$map$1.apply(TraversableLike.scala:234)\r\n\tat scala.collection.immutable.Map$Map1.foreach(Map.scala:116)\r\n\tat scala.collection.TraversableLike$class.map(TraversableLike.scala:234)\r\n\tat scala.collection.AbstractTraversable.map(Traversable.scala:104)\r\n\tat org.apache.spark.sql.RelationalGroupedDataset.agg(RelationalGroupedDataset.scala:169)\r\n\tat org.apache.spark.sql.RelationalGroupedDataset.agg(RelationalGroupedDataset.scala:188)\r\n\tat sun.reflect.NativeMethodAccessorImpl.invoke0(Native Method)\r\n\tat sun.reflect.NativeMethodAccessorImpl.invoke(NativeMethodAccessorImpl.java:62)\r\n\tat sun.reflect.DelegatingMethodAccessorImpl.invoke(DelegatingMethodAccessorImpl.java:43)\r\n\tat java.lang.reflect.Method.invoke(Method.java:498)\r\n\tat py4j.reflection.MethodInvoker.invoke(MethodInvoker.java:244)\r\n\tat py4j.reflection.ReflectionEngine.invoke(ReflectionEngine.java:357)\r\n\tat py4j.Gateway.invoke(Gateway.java:282)\r\n\tat py4j.commands.AbstractCommand.invokeMethod(AbstractCommand.java:132)\r\n\tat py4j.commands.CallCommand.execute(CallCommand.java:79)\r\n\tat py4j.GatewayConnection.run(GatewayConnection.java:238)\r\n\tat java.lang.Thread.run(Thread.java:748)\r\n",
      "\nDuring handling of the above exception, another exception occurred:\n",
      "\u001b[1;31mAnalysisException\u001b[0m                         Traceback (most recent call last)",
      "\u001b[1;32m<ipython-input-22-e6b1c5ef4a7c>\u001b[0m in \u001b[0;36m<module>\u001b[1;34m\u001b[0m\n\u001b[0;32m      2\u001b[0m \u001b[1;33m\u001b[0m\u001b[0m\n\u001b[0;32m      3\u001b[0m \u001b[1;31m# Calculate values used for outlier filtering\u001b[0m\u001b[1;33m\u001b[0m\u001b[1;33m\u001b[0m\u001b[1;33m\u001b[0m\u001b[0m\n\u001b[1;32m----> 4\u001b[1;33m \u001b[0mmean_val\u001b[0m \u001b[1;33m=\u001b[0m \u001b[0mdf\u001b[0m\u001b[1;33m.\u001b[0m\u001b[0magg\u001b[0m\u001b[1;33m(\u001b[0m\u001b[1;33m{\u001b[0m\u001b[1;34m'log_SalesClosePrice'\u001b[0m\u001b[1;33m:\u001b[0m \u001b[1;34m'mean'\u001b[0m\u001b[1;33m}\u001b[0m\u001b[1;33m)\u001b[0m\u001b[1;33m.\u001b[0m\u001b[0mcollect\u001b[0m\u001b[1;33m(\u001b[0m\u001b[1;33m)\u001b[0m\u001b[1;33m[\u001b[0m\u001b[1;36m0\u001b[0m\u001b[1;33m]\u001b[0m\u001b[1;33m[\u001b[0m\u001b[1;36m0\u001b[0m\u001b[1;33m]\u001b[0m\u001b[1;33m\u001b[0m\u001b[1;33m\u001b[0m\u001b[0m\n\u001b[0m\u001b[0;32m      5\u001b[0m \u001b[0mstddev_val\u001b[0m \u001b[1;33m=\u001b[0m \u001b[0mdf\u001b[0m\u001b[1;33m.\u001b[0m\u001b[0magg\u001b[0m\u001b[1;33m(\u001b[0m\u001b[1;33m{\u001b[0m\u001b[1;34m'log_SalesClosePrice'\u001b[0m\u001b[1;33m:\u001b[0m \u001b[1;34m'stddev'\u001b[0m\u001b[1;33m}\u001b[0m\u001b[1;33m)\u001b[0m\u001b[1;33m.\u001b[0m\u001b[0mcollect\u001b[0m\u001b[1;33m(\u001b[0m\u001b[1;33m)\u001b[0m\u001b[1;33m[\u001b[0m\u001b[1;36m0\u001b[0m\u001b[1;33m]\u001b[0m\u001b[1;33m[\u001b[0m\u001b[1;36m0\u001b[0m\u001b[1;33m]\u001b[0m\u001b[1;33m\u001b[0m\u001b[1;33m\u001b[0m\u001b[0m\n\u001b[0;32m      6\u001b[0m \u001b[1;33m\u001b[0m\u001b[0m\n",
      "\u001b[1;32m~\\Anaconda3\\lib\\site-packages\\pyspark\\sql\\dataframe.py\u001b[0m in \u001b[0;36magg\u001b[1;34m(self, *exprs)\u001b[0m\n\u001b[0;32m   1443\u001b[0m         \u001b[1;33m[\u001b[0m\u001b[0mRow\u001b[0m\u001b[1;33m(\u001b[0m\u001b[0mmin\u001b[0m\u001b[1;33m(\u001b[0m\u001b[0mage\u001b[0m\u001b[1;33m)\u001b[0m\u001b[1;33m=\u001b[0m\u001b[1;36m2\u001b[0m\u001b[1;33m)\u001b[0m\u001b[1;33m]\u001b[0m\u001b[1;33m\u001b[0m\u001b[1;33m\u001b[0m\u001b[0m\n\u001b[0;32m   1444\u001b[0m         \"\"\"\n\u001b[1;32m-> 1445\u001b[1;33m         \u001b[1;32mreturn\u001b[0m \u001b[0mself\u001b[0m\u001b[1;33m.\u001b[0m\u001b[0mgroupBy\u001b[0m\u001b[1;33m(\u001b[0m\u001b[1;33m)\u001b[0m\u001b[1;33m.\u001b[0m\u001b[0magg\u001b[0m\u001b[1;33m(\u001b[0m\u001b[1;33m*\u001b[0m\u001b[0mexprs\u001b[0m\u001b[1;33m)\u001b[0m\u001b[1;33m\u001b[0m\u001b[1;33m\u001b[0m\u001b[0m\n\u001b[0m\u001b[0;32m   1446\u001b[0m \u001b[1;33m\u001b[0m\u001b[0m\n\u001b[0;32m   1447\u001b[0m     \u001b[1;33m@\u001b[0m\u001b[0msince\u001b[0m\u001b[1;33m(\u001b[0m\u001b[1;36m2.0\u001b[0m\u001b[1;33m)\u001b[0m\u001b[1;33m\u001b[0m\u001b[1;33m\u001b[0m\u001b[0m\n",
      "\u001b[1;32m~\\Anaconda3\\lib\\site-packages\\pyspark\\sql\\group.py\u001b[0m in \u001b[0;36magg\u001b[1;34m(self, *exprs)\u001b[0m\n\u001b[0;32m    108\u001b[0m         \u001b[1;32massert\u001b[0m \u001b[0mexprs\u001b[0m\u001b[1;33m,\u001b[0m \u001b[1;34m\"exprs should not be empty\"\u001b[0m\u001b[1;33m\u001b[0m\u001b[1;33m\u001b[0m\u001b[0m\n\u001b[0;32m    109\u001b[0m         \u001b[1;32mif\u001b[0m \u001b[0mlen\u001b[0m\u001b[1;33m(\u001b[0m\u001b[0mexprs\u001b[0m\u001b[1;33m)\u001b[0m \u001b[1;33m==\u001b[0m \u001b[1;36m1\u001b[0m \u001b[1;32mand\u001b[0m \u001b[0misinstance\u001b[0m\u001b[1;33m(\u001b[0m\u001b[0mexprs\u001b[0m\u001b[1;33m[\u001b[0m\u001b[1;36m0\u001b[0m\u001b[1;33m]\u001b[0m\u001b[1;33m,\u001b[0m \u001b[0mdict\u001b[0m\u001b[1;33m)\u001b[0m\u001b[1;33m:\u001b[0m\u001b[1;33m\u001b[0m\u001b[1;33m\u001b[0m\u001b[0m\n\u001b[1;32m--> 110\u001b[1;33m             \u001b[0mjdf\u001b[0m \u001b[1;33m=\u001b[0m \u001b[0mself\u001b[0m\u001b[1;33m.\u001b[0m\u001b[0m_jgd\u001b[0m\u001b[1;33m.\u001b[0m\u001b[0magg\u001b[0m\u001b[1;33m(\u001b[0m\u001b[0mexprs\u001b[0m\u001b[1;33m[\u001b[0m\u001b[1;36m0\u001b[0m\u001b[1;33m]\u001b[0m\u001b[1;33m)\u001b[0m\u001b[1;33m\u001b[0m\u001b[1;33m\u001b[0m\u001b[0m\n\u001b[0m\u001b[0;32m    111\u001b[0m         \u001b[1;32melse\u001b[0m\u001b[1;33m:\u001b[0m\u001b[1;33m\u001b[0m\u001b[1;33m\u001b[0m\u001b[0m\n\u001b[0;32m    112\u001b[0m             \u001b[1;31m# Columns\u001b[0m\u001b[1;33m\u001b[0m\u001b[1;33m\u001b[0m\u001b[1;33m\u001b[0m\u001b[0m\n",
      "\u001b[1;32m~\\Anaconda3\\lib\\site-packages\\py4j\\java_gateway.py\u001b[0m in \u001b[0;36m__call__\u001b[1;34m(self, *args)\u001b[0m\n\u001b[0;32m   1255\u001b[0m         \u001b[0manswer\u001b[0m \u001b[1;33m=\u001b[0m \u001b[0mself\u001b[0m\u001b[1;33m.\u001b[0m\u001b[0mgateway_client\u001b[0m\u001b[1;33m.\u001b[0m\u001b[0msend_command\u001b[0m\u001b[1;33m(\u001b[0m\u001b[0mcommand\u001b[0m\u001b[1;33m)\u001b[0m\u001b[1;33m\u001b[0m\u001b[1;33m\u001b[0m\u001b[0m\n\u001b[0;32m   1256\u001b[0m         return_value = get_return_value(\n\u001b[1;32m-> 1257\u001b[1;33m             answer, self.gateway_client, self.target_id, self.name)\n\u001b[0m\u001b[0;32m   1258\u001b[0m \u001b[1;33m\u001b[0m\u001b[0m\n\u001b[0;32m   1259\u001b[0m         \u001b[1;32mfor\u001b[0m \u001b[0mtemp_arg\u001b[0m \u001b[1;32min\u001b[0m \u001b[0mtemp_args\u001b[0m\u001b[1;33m:\u001b[0m\u001b[1;33m\u001b[0m\u001b[1;33m\u001b[0m\u001b[0m\n",
      "\u001b[1;32m~\\Anaconda3\\lib\\site-packages\\pyspark\\sql\\utils.py\u001b[0m in \u001b[0;36mdeco\u001b[1;34m(*a, **kw)\u001b[0m\n\u001b[0;32m     67\u001b[0m                                              e.java_exception.getStackTrace()))\n\u001b[0;32m     68\u001b[0m             \u001b[1;32mif\u001b[0m \u001b[0ms\u001b[0m\u001b[1;33m.\u001b[0m\u001b[0mstartswith\u001b[0m\u001b[1;33m(\u001b[0m\u001b[1;34m'org.apache.spark.sql.AnalysisException: '\u001b[0m\u001b[1;33m)\u001b[0m\u001b[1;33m:\u001b[0m\u001b[1;33m\u001b[0m\u001b[1;33m\u001b[0m\u001b[0m\n\u001b[1;32m---> 69\u001b[1;33m                 \u001b[1;32mraise\u001b[0m \u001b[0mAnalysisException\u001b[0m\u001b[1;33m(\u001b[0m\u001b[0ms\u001b[0m\u001b[1;33m.\u001b[0m\u001b[0msplit\u001b[0m\u001b[1;33m(\u001b[0m\u001b[1;34m': '\u001b[0m\u001b[1;33m,\u001b[0m \u001b[1;36m1\u001b[0m\u001b[1;33m)\u001b[0m\u001b[1;33m[\u001b[0m\u001b[1;36m1\u001b[0m\u001b[1;33m]\u001b[0m\u001b[1;33m,\u001b[0m \u001b[0mstackTrace\u001b[0m\u001b[1;33m)\u001b[0m\u001b[1;33m\u001b[0m\u001b[1;33m\u001b[0m\u001b[0m\n\u001b[0m\u001b[0;32m     70\u001b[0m             \u001b[1;32mif\u001b[0m \u001b[0ms\u001b[0m\u001b[1;33m.\u001b[0m\u001b[0mstartswith\u001b[0m\u001b[1;33m(\u001b[0m\u001b[1;34m'org.apache.spark.sql.catalyst.analysis'\u001b[0m\u001b[1;33m)\u001b[0m\u001b[1;33m:\u001b[0m\u001b[1;33m\u001b[0m\u001b[1;33m\u001b[0m\u001b[0m\n\u001b[0;32m     71\u001b[0m                 \u001b[1;32mraise\u001b[0m \u001b[0mAnalysisException\u001b[0m\u001b[1;33m(\u001b[0m\u001b[0ms\u001b[0m\u001b[1;33m.\u001b[0m\u001b[0msplit\u001b[0m\u001b[1;33m(\u001b[0m\u001b[1;34m': '\u001b[0m\u001b[1;33m,\u001b[0m \u001b[1;36m1\u001b[0m\u001b[1;33m)\u001b[0m\u001b[1;33m[\u001b[0m\u001b[1;36m1\u001b[0m\u001b[1;33m]\u001b[0m\u001b[1;33m,\u001b[0m \u001b[0mstackTrace\u001b[0m\u001b[1;33m)\u001b[0m\u001b[1;33m\u001b[0m\u001b[1;33m\u001b[0m\u001b[0m\n",
      "\u001b[1;31mAnalysisException\u001b[0m: 'Cannot resolve column name \"log_SalesClosePrice\" among (NO, MLSID, STREETADDRESS, STREETNAME, POSTALCODE, STATEORPROVINCE, CITY, SALESCLOSEPRICE, LISTDATE, LISTPRICE, LISTTYPE, ORIGINALLISTPRICE, PRICEPERTSFT, FOUNDATIONSIZE, FENCE, MAPLETTER, SCHOOLDISTRICTNUMBER, DAYSONMARKET, OFFMARKETDATE, FIREPLACES, ROOMAREA4, ROOMTYPE, ROOF, ROOMFLOOR4, POTENTIALSHORTSALE, POOLDESCRIPTION, PDOM, GARAGEDESCRIPTION, SQFTABOVEGROUND, TAXES, ROOMFLOOR1, ROOMAREA1, TAXWITHASSESSMENTS, TAXYEAR, LIVINGAREA, UNITNUMBER, YEARBUILT, ZONING, STYLE, ACRES, COOLINGDESCRIPTION, APPLIANCES, BACKONMARKETDATE, ROOMFAMILYCHAR, ROOMAREA3, EXTERIOR, ROOMFLOOR3, ROOMFLOOR2, ROOMAREA2, DININGROOMDESCRIPTION, BASEMENT, BATHSFULL, BATHSHALF, BATHQUARTER, BATHSTHREEQUARTER, CLASS, BATHSTOTAL, BATHDESC, ROOMAREA5, ROOMFLOOR5, ROOMAREA6, ROOMFLOOR6, ROOMAREA7, ROOMFLOOR7, ROOMAREA8, ROOMFLOOR8, BEDROOMS, SQFTBELOWGROUND, ASSUMABLEMORTGAGE, ASSOCIATIONFEE, ASSESSMENTPENDING, ASSESSEDVALUATION);'"
     ]
    }
   ],
   "source": [
    "from pyspark.sql.functions import mean, stddev\n",
    "\n",
    "# Calculate values used for outlier filtering\n",
    "mean_val = df.agg({'log_SalesClosePrice': 'mean'}).collect()[0][0]\n",
    "stddev_val = df.agg({'log_SalesClosePrice': 'stddev'}).collect()[0][0]\n",
    "\n",
    "# Create three standard deviation (μ ± 3σ) lower and upper bounds for data\n",
    "low_bound = mean_val - (3 * stddev_val)\n",
    "hi_bound = mean_val + (3 * stddev_val)\n",
    "\n",
    "# Filter the data to fit between the lower and upper bounds\n",
    "df = df.where((df['log_SalesClosePrice'] < hi_bound) & (df['log_SalesClosePrice'] > low_bound))"
   ]
  },
  {
   "cell_type": "markdown",
   "metadata": {},
   "source": [
    "## Custom Percentage Scaling\n",
    "\n",
    "In the slides we showed how to scale the data between 0 and 1. Sometimes you may wish to scale things differently for modeling or display purposes."
   ]
  },
  {
   "cell_type": "code",
   "execution_count": 25,
   "metadata": {
    "ExecuteTime": {
     "end_time": "2019-02-16T18:52:34.101636Z",
     "start_time": "2019-02-16T18:52:33.314044Z"
    }
   },
   "outputs": [
    {
     "name": "stdout",
     "output_type": "stream",
     "text": [
      "[Row(max(percentage_scaled_days)=100.0)]\n",
      "[Row(min(percentage_scaled_days)=0.0)]\n"
     ]
    }
   ],
   "source": [
    "# Define max and min values and collect them\n",
    "max_days = df.agg({'DAYSONMARKET': 'max'}).collect()[0][0]\n",
    "min_days = df.agg({'DAYSONMARKET': 'min'}).collect()[0][0]\n",
    "\n",
    "# Create a new column based off the scaled data\n",
    "df = df.withColumn('percentage_scaled_days', \n",
    "                  ((df['DAYSONMARKET'] - min_days) / (max_days - min_days)) * 100)\n",
    "\n",
    "# Calc max and min for new column\n",
    "print(df.agg({'percentage_scaled_days': 'max'}).collect())\n",
    "print(df.agg({'percentage_scaled_days': 'min'}).collect())"
   ]
  },
  {
   "cell_type": "markdown",
   "metadata": {},
   "source": [
    "## Scaling your scalers\n",
    "\n",
    "In the previous exercise, we minmax scaled a single variable. Suppose you have a LOT of variables to scale, you don't want hundreds of lines to code for each. Let's expand on the previous exercise and make it a function."
   ]
  },
  {
   "cell_type": "code",
   "execution_count": 27,
   "metadata": {
    "ExecuteTime": {
     "end_time": "2019-02-16T18:54:30.170942Z",
     "start_time": "2019-02-16T18:54:30.167958Z"
    }
   },
   "outputs": [],
   "source": [
    "cols_to_scale = ['FOUNDATIONSIZE', 'DAYSONMARKET', 'FIREPLACES']"
   ]
  },
  {
   "cell_type": "code",
   "execution_count": 28,
   "metadata": {
    "ExecuteTime": {
     "end_time": "2019-02-16T18:54:31.768035Z",
     "start_time": "2019-02-16T18:54:30.618967Z"
    }
   },
   "outputs": [
    {
     "name": "stdout",
     "output_type": "stream",
     "text": [
      "+------------+--------------------+\n",
      "|DAYSONMARKET| scaled_DAYSONMARKET|\n",
      "+------------+--------------------+\n",
      "|          10|0.044444444444444446|\n",
      "|           4|0.017777777777777778|\n",
      "|          28| 0.12444444444444444|\n",
      "|          19| 0.08444444444444445|\n",
      "|          21| 0.09333333333333334|\n",
      "|          17| 0.07555555555555556|\n",
      "|          32| 0.14222222222222222|\n",
      "|           5|0.022222222222222223|\n",
      "|          23| 0.10222222222222223|\n",
      "|          73|  0.3244444444444444|\n",
      "|          80| 0.35555555555555557|\n",
      "|          79|  0.3511111111111111|\n",
      "|          12| 0.05333333333333334|\n",
      "|           1|0.004444444444444...|\n",
      "|          18|                0.08|\n",
      "|           2|0.008888888888888889|\n",
      "|          12| 0.05333333333333334|\n",
      "|          45|                 0.2|\n",
      "|          31| 0.13777777777777778|\n",
      "|          16| 0.07111111111111111|\n",
      "+------------+--------------------+\n",
      "only showing top 20 rows\n",
      "\n"
     ]
    }
   ],
   "source": [
    "def min_max_scaler(df, cols_to_scale):\n",
    "  # Takes a dataframe and list of columns to minmax scale. Returns a dataframe.\n",
    "  for col in cols_to_scale:\n",
    "    # Define min and max values and collect them\n",
    "    max_days = df.agg({col: 'max'}).collect()[0][0]\n",
    "    min_days = df.agg({col: 'min'}).collect()[0][0]\n",
    "    new_column_name = 'scaled_' + col\n",
    "    # Create a new column based off the scaled data\n",
    "    df = df.withColumn(new_column_name, \n",
    "                      (df[col] - min_days) / (max_days - min_days))\n",
    "  return df\n",
    "  \n",
    "df = min_max_scaler(df, cols_to_scale)\n",
    "# Show that our data is now between 0 and 1\n",
    "df[['DAYSONMARKET', 'scaled_DAYSONMARKET']].show()"
   ]
  },
  {
   "cell_type": "markdown",
   "metadata": {},
   "source": [
    "## Correcting Right Skew Data\n",
    "\n",
    "In the slides we showed how you might use log transforms to fix positively skewed data (data whose distribution is mostly to the left). To correct negative skew (data mostly to the right) you need to take an extra step called \"reflecting\" before you can apply the inverse of log\n",
    ", written as (1/log) to make the data look more like normal a normal distribution. Reflecting data uses the following formula to reflect each value: (xmax+1)–x."
   ]
  },
  {
   "cell_type": "code",
   "execution_count": 29,
   "metadata": {
    "ExecuteTime": {
     "end_time": "2019-02-16T18:54:36.202127Z",
     "start_time": "2019-02-16T18:54:35.792138Z"
    }
   },
   "outputs": [
    {
     "name": "stdout",
     "output_type": "stream",
     "text": [
      "[Row(skewness(YEARBUILT)=-0.25060307835912676)]\n"
     ]
    }
   ],
   "source": [
    "from pyspark.sql.functions import log\n",
    "\n",
    "# Compute the skewness\n",
    "print(df.agg({'YEARBUILT': 'skewness'}).collect())\n",
    "\n",
    "# Calculate the max year\n",
    "max_year = df.agg({'YEARBUILT': 'max'}).collect()[0][0]\n",
    "\n",
    "# Create a new column of reflected data\n",
    "df = df.withColumn('Reflect_YearBuilt', (max_year + 1) - df['YEARBUILT'])\n",
    "\n",
    "# Create a new column based reflected data\n",
    "df = df.withColumn('adj_yearbuilt', 1 / log(df['Reflect_YearBuilt']))"
   ]
  },
  {
   "cell_type": "markdown",
   "metadata": {},
   "source": [
    "## Visualizing Missing Data\n",
    "\n",
    "Being able to plot missing values is a great way to quickly understand how much of your data is missing. It can also help highlight when variables are missing in a pattern something that will need to be handled with care lest your model be biased.\n",
    "\n",
    "Which variable has the most missing values? Run all lines of code except the last one to determine the answer. Once you're confident, and fill out the value and hit \"Submit Answer\"."
   ]
  },
  {
   "cell_type": "code",
   "execution_count": 30,
   "metadata": {
    "ExecuteTime": {
     "end_time": "2019-02-16T18:54:39.558450Z",
     "start_time": "2019-02-16T18:54:38.895150Z"
    }
   },
   "outputs": [
    {
     "data": {
      "image/png": "[encoded data removed]",
      "text/plain": [
       "<Figure size 432x288 with 2 Axes>"
      ]
     },
     "metadata": {
      "needs_background": "light"
     },
     "output_type": "display_data"
    }
   ],
   "source": [
    "# Sample the dataframe and convert to Pandas\n",
    "sample_df = df.select(columns).sample(False, 0.5, 42)\n",
    "pandas_df = sample_df.toPandas()\n",
    "\n",
    "# Convert all values to T/F\n",
    "tf_df = pandas_df.isnull()\n",
    "\n",
    "# Plot it\n",
    "sns.heatmap(data=tf_df)\n",
    "plt.xticks(rotation=30, fontsize=10)\n",
    "plt.yticks(rotation=0, fontsize=10)\n",
    "plt.show()\n",
    "\n",
    "# Set the answer to the column with the most missing data\n",
    "answer = 'BACKONMARKETDATE'"
   ]
  },
  {
   "cell_type": "markdown",
   "metadata": {},
   "source": [
    "## Imputing Missing Data\n",
    "\n",
    "Missing data happens. If we make the assumption that our data is missing completely at random, we are making the assumption that what data we do have, is a good representation of the population. If we have a few values we could remove them or we could use the mean or median as a replacement. In this exercise, we will look at 'PDOM': Days on Market at Current Price."
   ]
  },
  {
   "cell_type": "code",
   "execution_count": 31,
   "metadata": {
    "ExecuteTime": {
     "end_time": "2019-02-16T18:54:42.025693Z",
     "start_time": "2019-02-16T18:54:41.612248Z"
    }
   },
   "outputs": [
    {
     "data": {
      "text/plain": [
       "DataFrame[NO: int, MLSID: string, STREETADDRESS: string, STREETNAME: string, POSTALCODE: int, STATEORPROVINCE: string, CITY: string, SALESCLOSEPRICE: int, LISTDATE: string, LISTPRICE: int, LISTTYPE: string, ORIGINALLISTPRICE: int, PRICEPERTSFT: double, FOUNDATIONSIZE: int, FENCE: string, MAPLETTER: string, SCHOOLDISTRICTNUMBER: string, DAYSONMARKET: int, OFFMARKETDATE: string, FIREPLACES: int, ROOMAREA4: string, ROOMTYPE: string, ROOF: string, ROOMFLOOR4: string, POTENTIALSHORTSALE: string, POOLDESCRIPTION: string, PDOM: int, GARAGEDESCRIPTION: string, SQFTABOVEGROUND: int, TAXES: int, ROOMFLOOR1: string, ROOMAREA1: string, TAXWITHASSESSMENTS: double, TAXYEAR: int, LIVINGAREA: int, UNITNUMBER: string, YEARBUILT: int, ZONING: string, STYLE: string, ACRES: double, COOLINGDESCRIPTION: string, APPLIANCES: string, BACKONMARKETDATE: string, ROOMFAMILYCHAR: string, ROOMAREA3: string, EXTERIOR: string, ROOMFLOOR3: string, ROOMFLOOR2: string, ROOMAREA2: string, DININGROOMDESCRIPTION: string, BASEMENT: string, BATHSFULL: int, BATHSHALF: int, BATHQUARTER: int, BATHSTHREEQUARTER: int, CLASS: string, BATHSTOTAL: int, BATHDESC: string, ROOMAREA5: string, ROOMFLOOR5: string, ROOMAREA6: string, ROOMFLOOR6: string, ROOMAREA7: string, ROOMFLOOR7: string, ROOMAREA8: string, ROOMFLOOR8: string, BEDROOMS: int, SQFTBELOWGROUND: int, ASSUMABLEMORTGAGE: string, ASSOCIATIONFEE: int, ASSESSMENTPENDING: string, ASSESSEDVALUATION: double, percentage_scaled_days: double, scaled_FOUNDATIONSIZE: double, scaled_DAYSONMARKET: double, scaled_FIREPLACES: double, Reflect_YearBuilt: int, adj_yearbuilt: double]"
      ]
     },
     "execution_count": 31,
     "metadata": {},
     "output_type": "execute_result"
    }
   ],
   "source": [
    "# Count missing rows\n",
    "missing = df.where(df['PDOM'].isNull()).count()\n",
    "\n",
    "# Calculate the mean value\n",
    "col_mean = df.agg({'PDOM': 'mean'}).collect()[0][0]\n",
    "\n",
    "# Replacing with the mean value for that column\n",
    "df.fillna(col_mean, subset=['PDOM'])"
   ]
  },
  {
   "cell_type": "markdown",
   "metadata": {},
   "source": [
    "## Calculate Missing Percents\n",
    "\n",
    "Automation is the future of data science. Learning to automate some of your data preparation pays dividends. In this exercise, we will automate dropping columns if they are missing data beyond a specific threshold."
   ]
  },
  {
   "cell_type": "code",
   "execution_count": 32,
   "metadata": {
    "ExecuteTime": {
     "end_time": "2019-02-16T18:54:56.888424Z",
     "start_time": "2019-02-16T18:54:45.670811Z"
    }
   },
   "outputs": [],
   "source": [
    "def column_dropper(df, threshold):\n",
    "  # Takes a dataframe and threshold for missing values. Returns a dataframe.\n",
    "  total_records = df.count()\n",
    "  for col in df.columns:\n",
    "    # Calculate the percentage of missing values\n",
    "    missing = df.where(df[col].isNull()).count()\n",
    "    missing_percent = missing / total_records\n",
    "    # Drop column if percent of missing is more than threshold\n",
    "    if missing_percent > threshold:\n",
    "      df = df.drop(col)\n",
    "  return df\n",
    "\n",
    "# Drop columns that are more than 60% missing\n",
    "df = column_dropper(df, .6)"
   ]
  },
  {
   "cell_type": "markdown",
   "metadata": {},
   "source": [
    "## A Dangerous Join\n",
    "\n",
    "In this exercise, we will be joining on Latitude and Longitude to bring in another dataset that measures how walk-friendly a neighborhood is. We'll need to be careful to make sure our joining columns are the same data type and ensure we are joining on the same precision (number of digits after the decimal) or our join won't work!\n",
    "\n",
    "Below you will find that df['latitude'] and df['longitude'] are at a higher precision than walk_df['longitude'] and walk_df['latitude'] we'll need to round them to the same precision so the join will work correctly."
   ]
  },
  {
   "cell_type": "code",
   "execution_count": 40,
   "metadata": {
    "ExecuteTime": {
     "end_time": "2019-02-16T18:57:53.814233Z",
     "start_time": "2019-02-16T18:57:53.809235Z"
    }
   },
   "outputs": [
    {
     "name": "stdout",
     "output_type": "stream",
     "text": [
      "<class 'str'>\n"
     ]
    }
   ],
   "source": [
    "print(type('sfsdsf'))"
   ]
  },
  {
   "cell_type": "code",
   "execution_count": 44,
   "metadata": {
    "ExecuteTime": {
     "end_time": "2019-02-16T18:58:47.422797Z",
     "start_time": "2019-02-16T18:58:47.408812Z"
    }
   },
   "outputs": [
    {
     "ename": "AttributeError",
     "evalue": "'SparkSession' object has no attribute 'DataFrame'",
     "output_type": "error",
     "traceback": [
      "\u001b[1;31m---------------------------------------------------------------------------\u001b[0m",
      "\u001b[1;31mAttributeError\u001b[0m                            Traceback (most recent call last)",
      "\u001b[1;32m<ipython-input-44-c92a2e7ba9a2>\u001b[0m in \u001b[0;36m<module>\u001b[1;34m\u001b[0m\n\u001b[1;32m----> 1\u001b[1;33m \u001b[0mwalk_df\u001b[0m \u001b[1;33m=\u001b[0m \u001b[0mspark\u001b[0m\u001b[1;33m.\u001b[0m\u001b[0mDataFrame\u001b[0m\u001b[1;33m[\u001b[0m\u001b[1;34m'latitude'\u001b[0m\u001b[1;33m:\u001b[0m \u001b[0mfloat\u001b[0m\u001b[1;33m,\u001b[0m \u001b[1;34m'longitude'\u001b[0m\u001b[1;33m:\u001b[0m \u001b[0mfloat\u001b[0m\u001b[1;33m,\u001b[0m \u001b[1;34m'walkscore'\u001b[0m\u001b[1;33m:\u001b[0m \u001b[0mint\u001b[0m\u001b[1;33m,\u001b[0m \u001b[1;34m'bikescore'\u001b[0m\u001b[1;33m:\u001b[0m \u001b[0mint\u001b[0m\u001b[1;33m,\u001b[0m \u001b[1;34m'transitscore'\u001b[0m\u001b[1;33m:\u001b[0m \u001b[0mstr\u001b[0m\u001b[1;33m]\u001b[0m\u001b[1;33m\u001b[0m\u001b[1;33m\u001b[0m\u001b[0m\n\u001b[0m",
      "\u001b[1;31mAttributeError\u001b[0m: 'SparkSession' object has no attribute 'DataFrame'"
     ]
    }
   ],
   "source": [
    "walk_df = spark.DataFrame['latitude': float, 'longitude': float, 'walkscore': int, 'bikescore': int, 'transitscore': str]"
   ]
  },
  {
   "cell_type": "code",
   "execution_count": 33,
   "metadata": {
    "ExecuteTime": {
     "end_time": "2019-02-16T18:55:00.390564Z",
     "start_time": "2019-02-16T18:55:00.374608Z"
    }
   },
   "outputs": [
    {
     "ename": "NameError",
     "evalue": "name 'walk_df' is not defined",
     "output_type": "error",
     "traceback": [
      "\u001b[1;31m---------------------------------------------------------------------------\u001b[0m",
      "\u001b[1;31mNameError\u001b[0m                                 Traceback (most recent call last)",
      "\u001b[1;32m<ipython-input-33-9362a28a4bb8>\u001b[0m in \u001b[0;36m<module>\u001b[1;34m\u001b[0m\n\u001b[0;32m      1\u001b[0m \u001b[1;31m# Cast data types\u001b[0m\u001b[1;33m\u001b[0m\u001b[1;33m\u001b[0m\u001b[1;33m\u001b[0m\u001b[0m\n\u001b[1;32m----> 2\u001b[1;33m \u001b[0mwalk_df\u001b[0m \u001b[1;33m=\u001b[0m \u001b[0mwalk_df\u001b[0m\u001b[1;33m.\u001b[0m\u001b[0mwithColumn\u001b[0m\u001b[1;33m(\u001b[0m\u001b[1;34m'longitude'\u001b[0m\u001b[1;33m,\u001b[0m \u001b[0mwalk_df\u001b[0m\u001b[1;33m[\u001b[0m\u001b[1;34m'longitude'\u001b[0m\u001b[1;33m]\u001b[0m\u001b[1;33m.\u001b[0m\u001b[0mcast\u001b[0m\u001b[1;33m(\u001b[0m\u001b[1;34m'double'\u001b[0m\u001b[1;33m)\u001b[0m\u001b[1;33m)\u001b[0m\u001b[1;33m\u001b[0m\u001b[1;33m\u001b[0m\u001b[0m\n\u001b[0m\u001b[0;32m      3\u001b[0m \u001b[0mwalk_df\u001b[0m \u001b[1;33m=\u001b[0m \u001b[0mwalk_df\u001b[0m\u001b[1;33m.\u001b[0m\u001b[0mwithColumn\u001b[0m\u001b[1;33m(\u001b[0m\u001b[1;34m'latitude'\u001b[0m\u001b[1;33m,\u001b[0m \u001b[0mwalk_df\u001b[0m\u001b[1;33m[\u001b[0m\u001b[1;34m'latitude'\u001b[0m\u001b[1;33m]\u001b[0m\u001b[1;33m.\u001b[0m\u001b[0mcast\u001b[0m\u001b[1;33m(\u001b[0m\u001b[1;34m'double'\u001b[0m\u001b[1;33m)\u001b[0m\u001b[1;33m)\u001b[0m\u001b[1;33m\u001b[0m\u001b[1;33m\u001b[0m\u001b[0m\n\u001b[0;32m      4\u001b[0m \u001b[1;33m\u001b[0m\u001b[0m\n\u001b[0;32m      5\u001b[0m \u001b[1;31m# Round percision\u001b[0m\u001b[1;33m\u001b[0m\u001b[1;33m\u001b[0m\u001b[1;33m\u001b[0m\u001b[0m\n",
      "\u001b[1;31mNameError\u001b[0m: name 'walk_df' is not defined"
     ]
    }
   ],
   "source": [
    "# Cast data types\n",
    "walk_df = walk_df.withColumn('longitude', walk_df['longitude'].cast('double'))\n",
    "walk_df = walk_df.withColumn('latitude', walk_df['latitude'].cast('double'))\n",
    "\n",
    "# Round percision\n",
    "df = df.withColumn('longitude', round(df['longitude'], 5))\n",
    "df = df.withColumn('latitude', round(df['latitude'], 5))\n",
    "\n",
    "# Create join condition\n",
    "condition = [(df['longitude'] == walk_df['longitude']), (df['latitude'] == walk_df['latitude'])]\n",
    "\n",
    "# Join the dataframes together\n",
    "join_df = df.join(walk_df, on=condition, how='left')\n",
    "# Count non-null records from new field\n",
    "print(join_df.where(~join_df['walkscore'].isNull()).count())"
   ]
  },
  {
   "cell_type": "markdown",
   "metadata": {},
   "source": [
    "## Spark SQL Join\n",
    "\n",
    "Sometimes it is much easier to write complex joins in SQL. In this exercise, we will start with the join keys already in the same format and precision but will use SparkSQL to do the joining."
   ]
  },
  {
   "cell_type": "code",
   "execution_count": 47,
   "metadata": {
    "ExecuteTime": {
     "end_time": "2019-02-16T19:29:25.122161Z",
     "start_time": "2019-02-16T19:29:24.927681Z"
    }
   },
   "outputs": [
    {
     "ename": "NameError",
     "evalue": "name 'walk_df' is not defined",
     "output_type": "error",
     "traceback": [
      "\u001b[1;31m---------------------------------------------------------------------------\u001b[0m",
      "\u001b[1;31mNameError\u001b[0m                                 Traceback (most recent call last)",
      "\u001b[1;32m<ipython-input-47-c9d4ddb3aeff>\u001b[0m in \u001b[0;36m<module>\u001b[1;34m\u001b[0m\n\u001b[0;32m      1\u001b[0m \u001b[1;31m# Register dataframes as tables\u001b[0m\u001b[1;33m\u001b[0m\u001b[1;33m\u001b[0m\u001b[1;33m\u001b[0m\u001b[0m\n\u001b[0;32m      2\u001b[0m \u001b[0mdf\u001b[0m\u001b[1;33m.\u001b[0m\u001b[0mcreateOrReplaceTempView\u001b[0m\u001b[1;33m(\u001b[0m\u001b[1;34m\"df\"\u001b[0m\u001b[1;33m)\u001b[0m\u001b[1;33m\u001b[0m\u001b[1;33m\u001b[0m\u001b[0m\n\u001b[1;32m----> 3\u001b[1;33m \u001b[0mwalk_df\u001b[0m\u001b[1;33m.\u001b[0m\u001b[0mcreateOrReplaceTempView\u001b[0m\u001b[1;33m(\u001b[0m\u001b[1;34m\"walk_df\"\u001b[0m\u001b[1;33m)\u001b[0m\u001b[1;33m\u001b[0m\u001b[1;33m\u001b[0m\u001b[0m\n\u001b[0m\u001b[0;32m      4\u001b[0m \u001b[1;33m\u001b[0m\u001b[0m\n\u001b[0;32m      5\u001b[0m \u001b[1;31m# SQL to join dataframes\u001b[0m\u001b[1;33m\u001b[0m\u001b[1;33m\u001b[0m\u001b[1;33m\u001b[0m\u001b[0m\n",
      "\u001b[1;31mNameError\u001b[0m: name 'walk_df' is not defined"
     ]
    }
   ],
   "source": [
    "# Register dataframes as tables\n",
    "df.createOrReplaceTempView(\"df\")\n",
    "walk_df.createOrReplaceTempView(\"walk_df\")\n",
    "\n",
    "# SQL to join dataframes\n",
    "join_sql = \t\"\"\"\n",
    "\t\t\tSELECT \n",
    "\t\t\t\t*\n",
    "\t\t\tFROM df\n",
    "\t\t\tLEFT JOIN walk_df\n",
    "\t\t\tON df.longitude = walk_df.longitude\n",
    "\t\t\tAND df.latitude = walk_df.latitude\n",
    "\t\t\t\"\"\"\n",
    "# Perform sql join\n",
    "joined_df = spark.sql(join_sql)"
   ]
  },
  {
   "cell_type": "markdown",
   "metadata": {},
   "source": [
    "## Checking for Bad Joins\n",
    "\n",
    "Joins can go bad silently if we are careful, meaning they will not error out but instead return mangled data with more or less data than you'd intended. Let's take a look at a couple ways that joining incorrectly can change your data set for the worse.\n",
    "\n",
    "In this example we will look at what happens if you join two dataframes together when the join keys are not the same precision and compare the record counts between the correct join and the incorrect one."
   ]
  },
  {
   "cell_type": "code",
   "execution_count": 48,
   "metadata": {
    "ExecuteTime": {
     "end_time": "2019-02-16T19:29:33.373571Z",
     "start_time": "2019-02-16T19:29:33.358634Z"
    }
   },
   "outputs": [
    {
     "ename": "NameError",
     "evalue": "name 'df_orig' is not defined",
     "output_type": "error",
     "traceback": [
      "\u001b[1;31m---------------------------------------------------------------------------\u001b[0m",
      "\u001b[1;31mNameError\u001b[0m                                 Traceback (most recent call last)",
      "\u001b[1;32m<ipython-input-48-ebd00e8693c4>\u001b[0m in \u001b[0;36m<module>\u001b[1;34m\u001b[0m\n\u001b[0;32m      1\u001b[0m \u001b[1;31m# Join on mismatched keys precision\u001b[0m\u001b[1;33m\u001b[0m\u001b[1;33m\u001b[0m\u001b[1;33m\u001b[0m\u001b[0m\n\u001b[1;32m----> 2\u001b[1;33m \u001b[0mwrong_prec_cond\u001b[0m \u001b[1;33m=\u001b[0m \u001b[1;33m[\u001b[0m\u001b[0mdf_orig\u001b[0m\u001b[1;33m[\u001b[0m\u001b[1;34m'longitude'\u001b[0m\u001b[1;33m]\u001b[0m \u001b[1;33m==\u001b[0m \u001b[0mwalk_df\u001b[0m\u001b[1;33m[\u001b[0m\u001b[1;34m'longitude'\u001b[0m\u001b[1;33m]\u001b[0m\u001b[1;33m,\u001b[0m \u001b[0mdf_orig\u001b[0m\u001b[1;33m[\u001b[0m\u001b[1;34m'latitude'\u001b[0m\u001b[1;33m]\u001b[0m \u001b[1;33m==\u001b[0m \u001b[0mwalk_df\u001b[0m\u001b[1;33m[\u001b[0m\u001b[1;34m'latitude'\u001b[0m\u001b[1;33m]\u001b[0m\u001b[1;33m]\u001b[0m\u001b[1;33m\u001b[0m\u001b[1;33m\u001b[0m\u001b[0m\n\u001b[0m\u001b[0;32m      3\u001b[0m \u001b[0mwrong_prec_df\u001b[0m \u001b[1;33m=\u001b[0m \u001b[0mdf_orig\u001b[0m\u001b[1;33m.\u001b[0m\u001b[0mjoin\u001b[0m\u001b[1;33m(\u001b[0m\u001b[0mwalk_df\u001b[0m\u001b[1;33m,\u001b[0m \u001b[0mon\u001b[0m\u001b[1;33m=\u001b[0m\u001b[0mwrong_prec_cond\u001b[0m\u001b[1;33m,\u001b[0m \u001b[0mhow\u001b[0m\u001b[1;33m=\u001b[0m\u001b[1;34m'left'\u001b[0m\u001b[1;33m)\u001b[0m\u001b[1;33m\u001b[0m\u001b[1;33m\u001b[0m\u001b[0m\n\u001b[0;32m      4\u001b[0m \u001b[1;33m\u001b[0m\u001b[0m\n\u001b[0;32m      5\u001b[0m \u001b[1;31m# Compare bad join to the correct one\u001b[0m\u001b[1;33m\u001b[0m\u001b[1;33m\u001b[0m\u001b[1;33m\u001b[0m\u001b[0m\n",
      "\u001b[1;31mNameError\u001b[0m: name 'df_orig' is not defined"
     ]
    }
   ],
   "source": [
    "# Join on mismatched keys precision \n",
    "wrong_prec_cond = [df_orig['longitude'] == walk_df['longitude'], df_orig['latitude'] == walk_df['latitude']]\n",
    "wrong_prec_df = df_orig.join(walk_df, on=wrong_prec_cond, how='left')\n",
    "\n",
    "# Compare bad join to the correct one\n",
    "print(wrong_prec_df.where(wrong_prec_df['walkscore'].isNull()).count())\n",
    "print(correct_join_df.where(correct_join_df['walkscore'].isNull()).count())\n",
    "\n",
    "# Create a join on too few keys\n",
    "few_keys_cond = [df['longitude'] == walk_df['longitude']]\n",
    "few_keys_df = df.join(walk_df, on=few_keys_cond, how='left')\n",
    "\n",
    "# Compare bad join to the correct one\n",
    "print(\"Record Count of the Too Few Keys Join Example: \" + str(few_keys_df.count()))\n",
    "print(\"Record Count of the Correct Join Example: \" + str(correct_join_df.count()))"
   ]
  },
  {
   "cell_type": "markdown",
   "metadata": {},
   "source": [
    "# Feature Engineering"
   ]
  },
  {
   "cell_type": "markdown",
   "metadata": {},
   "source": [
    "## Differences\n",
    "\n",
    "Let's explore generating features using existing ones. In the midwest of the U.S. many single family homes have extra land around them for green space. In this example you will create a new feature called 'YARD_SIZE', and then see if the new feature is correlated with our outcome variable."
   ]
  },
  {
   "cell_type": "code",
   "execution_count": 49,
   "metadata": {
    "ExecuteTime": {
     "end_time": "2019-02-16T19:29:47.245894Z",
     "start_time": "2019-02-16T19:29:46.865946Z"
    }
   },
   "outputs": [
    {
     "name": "stdout",
     "output_type": "stream",
     "text": [
      "Corr of ACRES vs SALESCLOSEPRICE: 0.22060612588935327\n",
      "Corr of FOUNDATIONSIZE vs SALESCLOSEPRICE: 0.6152231695664401\n",
      "Corr of YARD_SIZE vs SALESCLOSEPRICE: 0.20714585430854263\n"
     ]
    }
   ],
   "source": [
    "# Lot size in square feet\n",
    "acres_to_sqfeet = 43560\n",
    "df = df.withColumn('LOT_SIZE_SQFT', df['ACRES'] * acres_to_sqfeet)\n",
    "\n",
    "# Create new column YARD_SIZE\n",
    "df = df.withColumn('YARD_SIZE', df['LOT_SIZE_SQFT'] - df['FOUNDATIONSIZE'])\n",
    "\n",
    "# Corr of ACRES vs SALESCLOSEPRICE\n",
    "print(\"Corr of ACRES vs SALESCLOSEPRICE: \" + str(df.corr('ACRES', 'SALESCLOSEPRICE')))\n",
    "# Corr of FOUNDATIONSIZE vs SALESCLOSEPRICE\n",
    "print(\"Corr of FOUNDATIONSIZE vs SALESCLOSEPRICE: \" + str(df.corr('FOUNDATIONSIZE', 'SALESCLOSEPRICE')))\n",
    "# Corr of YARD_SIZE vs SALESCLOSEPRICE\n",
    "print(\"Corr of YARD_SIZE vs SALESCLOSEPRICE: \" + str(df.corr('YARD_SIZE', 'SALESCLOSEPRICE')))"
   ]
  },
  {
   "cell_type": "markdown",
   "metadata": {},
   "source": [
    "## Ratios\n",
    "\n",
    "Ratios are all around us. Whether it's miles per gallon or click through rate, they are everywhere. In this exercise, we'll create some ratios by dividing out pairs of columns."
   ]
  },
  {
   "cell_type": "code",
   "execution_count": 50,
   "metadata": {
    "ExecuteTime": {
     "end_time": "2019-02-16T19:29:49.169827Z",
     "start_time": "2019-02-16T19:29:48.845696Z"
    }
   },
   "outputs": [
    {
     "name": "stdout",
     "output_type": "stream",
     "text": [
      "+----------------+-----------------+---------+\n",
      "|ASSESSED_TO_LIST|ASSESSEDVALUATION|LISTPRICE|\n",
      "+----------------+-----------------+---------+\n",
      "|             0.0|              0.0|   139900|\n",
      "|             0.0|              0.0|   210000|\n",
      "|             0.0|              0.0|   225000|\n",
      "|             0.0|              0.0|   230000|\n",
      "|             0.0|              0.0|   239900|\n",
      "+----------------+-----------------+---------+\n",
      "only showing top 5 rows\n",
      "\n",
      "+--------------------+-----+---------+\n",
      "|         TAX_TO_LIST|TAXES|LISTPRICE|\n",
      "+--------------------+-----+---------+\n",
      "|0.013280914939242315| 1858|   139900|\n",
      "| 0.00780952380952381| 1640|   210000|\n",
      "|0.010622222222222222| 2390|   225000|\n",
      "|0.009330434782608695| 2146|   230000|\n",
      "|0.008378491037932471| 2010|   239900|\n",
      "+--------------------+-----+---------+\n",
      "only showing top 5 rows\n",
      "\n",
      "+------------------+--------+----------+\n",
      "|      BED_TO_BATHS|BEDROOMS|BATHSTOTAL|\n",
      "+------------------+--------+----------+\n",
      "|               1.5|       3|         2|\n",
      "|1.3333333333333333|       4|         3|\n",
      "|               2.0|       2|         1|\n",
      "|               1.0|       2|         2|\n",
      "|               1.5|       3|         2|\n",
      "+------------------+--------+----------+\n",
      "only showing top 5 rows\n",
      "\n"
     ]
    }
   ],
   "source": [
    "# ASSESSED_TO_LIST\n",
    "df = df.withColumn('ASSESSED_TO_LIST', df['ASSESSEDVALUATION'] / df['LISTPRICE'])\n",
    "df[['ASSESSED_TO_LIST', 'ASSESSEDVALUATION', 'LISTPRICE']].show(5)\n",
    "# TAX_TO_LIST\n",
    "df = df.withColumn('TAX_TO_LIST', df['TAXES'] / df['LISTPRICE'])\n",
    "df[['TAX_TO_LIST', 'TAXES', 'LISTPRICE']].show(5)\n",
    "# BED_TO_BATHS\n",
    "df = df.withColumn('BED_TO_BATHS', df['BEDROOMS'] / df['BATHSTOTAL'])\n",
    "df[['BED_TO_BATHS', 'BEDROOMS', 'BATHSTOTAL']].show(5)"
   ]
  },
  {
   "cell_type": "markdown",
   "metadata": {
    "ExecuteTime": {
     "end_time": "2019-02-16T18:20:40.756119Z",
     "start_time": "2019-02-16T18:20:40.749135Z"
    }
   },
   "source": [
    "## Deeper Features\n",
    "\n",
    "In previous exercises we showed how combining two features together can create good additional features for a predictive model. In this exercise, you will generate 'deeper' features by combining the effects of three variables into one. Then you will check to see if deeper and more complicated features always make for better predictors."
   ]
  },
  {
   "cell_type": "code",
   "execution_count": 53,
   "metadata": {
    "ExecuteTime": {
     "end_time": "2019-02-16T19:33:40.857335Z",
     "start_time": "2019-02-16T19:33:40.852350Z"
    }
   },
   "outputs": [],
   "source": [
    "from scipy import stats\n",
    "def r2(x, y):\n",
    "    return stats.pearsonr(x, y)[0] ** 2"
   ]
  },
  {
   "cell_type": "code",
   "execution_count": 55,
   "metadata": {
    "ExecuteTime": {
     "end_time": "2019-02-16T19:34:02.157218Z",
     "start_time": "2019-02-16T19:34:00.203443Z"
    }
   },
   "outputs": [
    {
     "name": "stdout",
     "output_type": "stream",
     "text": [
      "+-------+-------------------+\n",
      "|summary| BATHS_PER_1000SQFT|\n",
      "+-------+-------------------+\n",
      "|  count|               5000|\n",
      "|   mean| 1.4302617483739894|\n",
      "| stddev|  14.12890410245937|\n",
      "|    min|0.39123630672926446|\n",
      "|    max|             1000.0|\n",
      "+-------+-------------------+\n",
      "\n"
     ]
    },
    {
     "name": "stderr",
     "output_type": "stream",
     "text": [
      "C:\\Users\\Admin\\Anaconda3\\lib\\site-packages\\seaborn\\axisgrid.py:1847: UserWarning: JointGrid annotation is deprecated and will be removed in a future release.\n",
      "  warnings.warn(UserWarning(msg))\n"
     ]
    },
    {
     "data": {
      "image/png": "[encoded data removed]",
      "text/plain": [
       "<Figure size 432x432 with 3 Axes>"
      ]
     },
     "metadata": {
      "needs_background": "light"
     },
     "output_type": "display_data"
    },
    {
     "name": "stderr",
     "output_type": "stream",
     "text": [
      "C:\\Users\\Admin\\Anaconda3\\lib\\site-packages\\seaborn\\axisgrid.py:1847: UserWarning: JointGrid annotation is deprecated and will be removed in a future release.\n",
      "  warnings.warn(UserWarning(msg))\n"
     ]
    },
    {
     "data": {
      "image/png": "[encoded data removed]",
      "text/plain": [
       "<Figure size 432x432 with 3 Axes>"
      ]
     },
     "metadata": {
      "needs_background": "light"
     },
     "output_type": "display_data"
    }
   ],
   "source": [
    "# Create new feature by adding two features together\n",
    "df = df.withColumn('TOTAL_SQFT', df['SQFTBELOWGROUND'] + df['SQFTABOVEGROUND'])\n",
    "\n",
    "# Create additional new feature using previously created feature\n",
    "df = df.withColumn('BATHS_PER_1000SQFT', df['BATHSTOTAL'] / (df['TOTAL_SQFT'] / 1000))\n",
    "df[['BATHS_PER_1000SQFT']].describe().show()\n",
    "\n",
    "# Pandas dataframe\n",
    "pandas_df = df.sample(False, 0.5, 0).toPandas()\n",
    "\n",
    "# Linear model plots\n",
    "sns.jointplot(x='TOTAL_SQFT', y='SALESCLOSEPRICE', data=pandas_df, kind=\"reg\", stat_func=r2)\n",
    "plt.show()\n",
    "sns.jointplot(x='BATHS_PER_1000SQFT', y='SALESCLOSEPRICE', data=pandas_df, kind=\"reg\", stat_func=r2)\n",
    "plt.show()"
   ]
  },
  {
   "cell_type": "markdown",
   "metadata": {},
   "source": [
    "## Time Components\n",
    "\n",
    "Being able to work with time components for building features is important but you can also use them to explore and understand your data further. In this exercise, you'll be looking to see if there is a pattern to which day of the week a house lists on. Please keep in mind that PySpark's week starts on Sunday, with a value of 1 and ends on Saturday, a value of 7."
   ]
  },
  {
   "cell_type": "code",
   "execution_count": 57,
   "metadata": {
    "ExecuteTime": {
     "end_time": "2019-02-16T19:35:19.422974Z",
     "start_time": "2019-02-16T19:35:18.959194Z"
    }
   },
   "outputs": [
    {
     "ename": "ValueError",
     "evalue": "min() arg is an empty sequence",
     "output_type": "error",
     "traceback": [
      "\u001b[1;31m---------------------------------------------------------------------------\u001b[0m",
      "\u001b[1;31mValueError\u001b[0m                                Traceback (most recent call last)",
      "\u001b[1;32m<ipython-input-57-d90cc4f75f4f>\u001b[0m in \u001b[0;36m<module>\u001b[1;34m\u001b[0m\n\u001b[0;32m     12\u001b[0m \u001b[1;33m\u001b[0m\u001b[0m\n\u001b[0;32m     13\u001b[0m \u001b[1;31m# Plot count plot of of day of week\u001b[0m\u001b[1;33m\u001b[0m\u001b[1;33m\u001b[0m\u001b[1;33m\u001b[0m\u001b[0m\n\u001b[1;32m---> 14\u001b[1;33m \u001b[0max\u001b[0m \u001b[1;33m=\u001b[0m \u001b[0msns\u001b[0m\u001b[1;33m.\u001b[0m\u001b[0mcountplot\u001b[0m\u001b[1;33m(\u001b[0m\u001b[0mx\u001b[0m\u001b[1;33m=\u001b[0m\u001b[1;34m\"List_Day_of_Week\"\u001b[0m\u001b[1;33m,\u001b[0m \u001b[0mdata\u001b[0m\u001b[1;33m=\u001b[0m\u001b[0msample_df\u001b[0m\u001b[1;33m)\u001b[0m\u001b[1;33m\u001b[0m\u001b[1;33m\u001b[0m\u001b[0m\n\u001b[0m\u001b[0;32m     15\u001b[0m \u001b[0mplt\u001b[0m\u001b[1;33m.\u001b[0m\u001b[0mshow\u001b[0m\u001b[1;33m(\u001b[0m\u001b[1;33m)\u001b[0m\u001b[1;33m\u001b[0m\u001b[1;33m\u001b[0m\u001b[0m\n",
      "\u001b[1;32m~\\Anaconda3\\lib\\site-packages\\seaborn\\categorical.py\u001b[0m in \u001b[0;36mcountplot\u001b[1;34m(x, y, hue, data, order, hue_order, orient, color, palette, saturation, dodge, ax, **kwargs)\u001b[0m\n\u001b[0;32m   3551\u001b[0m                           \u001b[0mestimator\u001b[0m\u001b[1;33m,\u001b[0m \u001b[0mci\u001b[0m\u001b[1;33m,\u001b[0m \u001b[0mn_boot\u001b[0m\u001b[1;33m,\u001b[0m \u001b[0munits\u001b[0m\u001b[1;33m,\u001b[0m\u001b[1;33m\u001b[0m\u001b[1;33m\u001b[0m\u001b[0m\n\u001b[0;32m   3552\u001b[0m                           \u001b[0morient\u001b[0m\u001b[1;33m,\u001b[0m \u001b[0mcolor\u001b[0m\u001b[1;33m,\u001b[0m \u001b[0mpalette\u001b[0m\u001b[1;33m,\u001b[0m \u001b[0msaturation\u001b[0m\u001b[1;33m,\u001b[0m\u001b[1;33m\u001b[0m\u001b[1;33m\u001b[0m\u001b[0m\n\u001b[1;32m-> 3553\u001b[1;33m                           errcolor, errwidth, capsize, dodge)\n\u001b[0m\u001b[0;32m   3554\u001b[0m \u001b[1;33m\u001b[0m\u001b[0m\n\u001b[0;32m   3555\u001b[0m     \u001b[0mplotter\u001b[0m\u001b[1;33m.\u001b[0m\u001b[0mvalue_label\u001b[0m \u001b[1;33m=\u001b[0m \u001b[1;34m\"count\"\u001b[0m\u001b[1;33m\u001b[0m\u001b[1;33m\u001b[0m\u001b[0m\n",
      "\u001b[1;32m~\\Anaconda3\\lib\\site-packages\\seaborn\\categorical.py\u001b[0m in \u001b[0;36m__init__\u001b[1;34m(self, x, y, hue, data, order, hue_order, estimator, ci, n_boot, units, orient, color, palette, saturation, errcolor, errwidth, capsize, dodge)\u001b[0m\n\u001b[0;32m   1606\u001b[0m         self.establish_variables(x, y, hue, data, orient,\n\u001b[0;32m   1607\u001b[0m                                  order, hue_order, units)\n\u001b[1;32m-> 1608\u001b[1;33m         \u001b[0mself\u001b[0m\u001b[1;33m.\u001b[0m\u001b[0mestablish_colors\u001b[0m\u001b[1;33m(\u001b[0m\u001b[0mcolor\u001b[0m\u001b[1;33m,\u001b[0m \u001b[0mpalette\u001b[0m\u001b[1;33m,\u001b[0m \u001b[0msaturation\u001b[0m\u001b[1;33m)\u001b[0m\u001b[1;33m\u001b[0m\u001b[1;33m\u001b[0m\u001b[0m\n\u001b[0m\u001b[0;32m   1609\u001b[0m         \u001b[0mself\u001b[0m\u001b[1;33m.\u001b[0m\u001b[0mestimate_statistic\u001b[0m\u001b[1;33m(\u001b[0m\u001b[0mestimator\u001b[0m\u001b[1;33m,\u001b[0m \u001b[0mci\u001b[0m\u001b[1;33m,\u001b[0m \u001b[0mn_boot\u001b[0m\u001b[1;33m)\u001b[0m\u001b[1;33m\u001b[0m\u001b[1;33m\u001b[0m\u001b[0m\n\u001b[0;32m   1610\u001b[0m \u001b[1;33m\u001b[0m\u001b[0m\n",
      "\u001b[1;32m~\\Anaconda3\\lib\\site-packages\\seaborn\\categorical.py\u001b[0m in \u001b[0;36mestablish_colors\u001b[1;34m(self, color, palette, saturation)\u001b[0m\n\u001b[0;32m    313\u001b[0m         \u001b[1;31m# Determine the gray color to use for the lines framing the plot\u001b[0m\u001b[1;33m\u001b[0m\u001b[1;33m\u001b[0m\u001b[1;33m\u001b[0m\u001b[0m\n\u001b[0;32m    314\u001b[0m         \u001b[0mlight_vals\u001b[0m \u001b[1;33m=\u001b[0m \u001b[1;33m[\u001b[0m\u001b[0mcolorsys\u001b[0m\u001b[1;33m.\u001b[0m\u001b[0mrgb_to_hls\u001b[0m\u001b[1;33m(\u001b[0m\u001b[1;33m*\u001b[0m\u001b[0mc\u001b[0m\u001b[1;33m)\u001b[0m\u001b[1;33m[\u001b[0m\u001b[1;36m1\u001b[0m\u001b[1;33m]\u001b[0m \u001b[1;32mfor\u001b[0m \u001b[0mc\u001b[0m \u001b[1;32min\u001b[0m \u001b[0mrgb_colors\u001b[0m\u001b[1;33m]\u001b[0m\u001b[1;33m\u001b[0m\u001b[1;33m\u001b[0m\u001b[0m\n\u001b[1;32m--> 315\u001b[1;33m         \u001b[0mlum\u001b[0m \u001b[1;33m=\u001b[0m \u001b[0mmin\u001b[0m\u001b[1;33m(\u001b[0m\u001b[0mlight_vals\u001b[0m\u001b[1;33m)\u001b[0m \u001b[1;33m*\u001b[0m \u001b[1;36m.6\u001b[0m\u001b[1;33m\u001b[0m\u001b[1;33m\u001b[0m\u001b[0m\n\u001b[0m\u001b[0;32m    316\u001b[0m         \u001b[0mgray\u001b[0m \u001b[1;33m=\u001b[0m \u001b[0mmpl\u001b[0m\u001b[1;33m.\u001b[0m\u001b[0mcolors\u001b[0m\u001b[1;33m.\u001b[0m\u001b[0mrgb2hex\u001b[0m\u001b[1;33m(\u001b[0m\u001b[1;33m(\u001b[0m\u001b[0mlum\u001b[0m\u001b[1;33m,\u001b[0m \u001b[0mlum\u001b[0m\u001b[1;33m,\u001b[0m \u001b[0mlum\u001b[0m\u001b[1;33m)\u001b[0m\u001b[1;33m)\u001b[0m\u001b[1;33m\u001b[0m\u001b[1;33m\u001b[0m\u001b[0m\n\u001b[0;32m    317\u001b[0m \u001b[1;33m\u001b[0m\u001b[0m\n",
      "\u001b[1;31mValueError\u001b[0m: min() arg is an empty sequence"
     ]
    }
   ],
   "source": [
    "# Import needed functions\n",
    "from pyspark.sql.functions import to_date, dayofweek\n",
    "\n",
    "# Convert to date type\n",
    "df = df.withColumn('LISTDATE', to_date('LISTDATE'))\n",
    "\n",
    "# Get the day of the week\n",
    "df = df.withColumn('List_Day_of_Week', dayofweek('LISTDATE'))\n",
    "\n",
    "# Sample and convert to pandas dataframe\n",
    "sample_df = df.sample(False, 0.5, 42).toPandas()\n",
    "\n",
    "# Plot count plot of of day of week\n",
    "ax = sns.countplot(x=\"List_Day_of_Week\", data=sample_df)\n",
    "plt.show()"
   ]
  },
  {
   "cell_type": "markdown",
   "metadata": {},
   "source": [
    "## Joining On Time Components\n",
    "\n",
    "Often times you will use date components to join in other sets of information. However, in this example, we need to use data that would have been available to those considering buying a house. This means we will need to use the previous year's reporting data for our analysis."
   ]
  },
  {
   "cell_type": "code",
   "execution_count": 59,
   "metadata": {
    "ExecuteTime": {
     "end_time": "2019-02-16T19:37:17.326740Z",
     "start_time": "2019-02-16T19:37:17.290832Z"
    }
   },
   "outputs": [
    {
     "ename": "NameError",
     "evalue": "name 'price_df' is not defined",
     "output_type": "error",
     "traceback": [
      "\u001b[1;31m---------------------------------------------------------------------------\u001b[0m",
      "\u001b[1;31mNameError\u001b[0m                                 Traceback (most recent call last)",
      "\u001b[1;32m<ipython-input-59-6de520546427>\u001b[0m in \u001b[0;36m<module>\u001b[1;34m\u001b[0m\n\u001b[0;32m      8\u001b[0m \u001b[1;33m\u001b[0m\u001b[0m\n\u001b[0;32m      9\u001b[0m \u001b[1;31m# Create join condition\u001b[0m\u001b[1;33m\u001b[0m\u001b[1;33m\u001b[0m\u001b[1;33m\u001b[0m\u001b[0m\n\u001b[1;32m---> 10\u001b[1;33m \u001b[0mcondition\u001b[0m \u001b[1;33m=\u001b[0m \u001b[1;33m[\u001b[0m\u001b[0mdf\u001b[0m\u001b[1;33m[\u001b[0m\u001b[1;34m'CITY'\u001b[0m\u001b[1;33m]\u001b[0m \u001b[1;33m==\u001b[0m \u001b[0mprice_df\u001b[0m\u001b[1;33m[\u001b[0m\u001b[1;34m'City'\u001b[0m\u001b[1;33m]\u001b[0m\u001b[1;33m,\u001b[0m \u001b[0mdf\u001b[0m\u001b[1;33m[\u001b[0m\u001b[1;34m'report_year'\u001b[0m\u001b[1;33m]\u001b[0m \u001b[1;33m==\u001b[0m \u001b[0mprice_df\u001b[0m\u001b[1;33m[\u001b[0m\u001b[1;34m'Year'\u001b[0m\u001b[1;33m]\u001b[0m\u001b[1;33m]\u001b[0m\u001b[1;33m\u001b[0m\u001b[1;33m\u001b[0m\u001b[0m\n\u001b[0m\u001b[0;32m     11\u001b[0m \u001b[1;33m\u001b[0m\u001b[0m\n\u001b[0;32m     12\u001b[0m \u001b[1;31m# Join the dataframes together\u001b[0m\u001b[1;33m\u001b[0m\u001b[1;33m\u001b[0m\u001b[1;33m\u001b[0m\u001b[0m\n",
      "\u001b[1;31mNameError\u001b[0m: name 'price_df' is not defined"
     ]
    }
   ],
   "source": [
    "from pyspark.sql.functions import year\n",
    "\n",
    "# Create year column\n",
    "df = df.withColumn('list_year', year('LISTDATE'))\n",
    "\n",
    "# Adjust year to match\n",
    "df = df.withColumn('report_year', (df['list_year'] - 1))\n",
    "\n",
    "# Create join condition\n",
    "condition = [df['CITY'] == price_df['City'], df['report_year'] == price_df['Year']]\n",
    "\n",
    "# Join the dataframes together\n",
    "df = df.join(price_df, on=condition, how='left')\n",
    "# Inspect that new columns are available\n",
    "df[['MedianHomeValue']].show()"
   ]
  },
  {
   "cell_type": "markdown",
   "metadata": {},
   "source": [
    "## Date Math\n",
    "\n",
    "In this example, we'll look at verifying the frequency of our data. The Mortgage dataset is supposed to have weekly data but let's make sure by lagging the report date and then taking the difference of the dates.\n",
    "\n",
    "Recall that to create a lagged feature we will need to create a window(). window() allows you to return a value for each record based off some calculation against a group of records, in this case, the previous period's mortgage rate."
   ]
  },
  {
   "cell_type": "code",
   "execution_count": 60,
   "metadata": {
    "ExecuteTime": {
     "end_time": "2019-02-16T19:37:18.921130Z",
     "start_time": "2019-02-16T19:37:18.904196Z"
    }
   },
   "outputs": [
    {
     "ename": "NameError",
     "evalue": "name 'mort_df' is not defined",
     "output_type": "error",
     "traceback": [
      "\u001b[1;31m---------------------------------------------------------------------------\u001b[0m",
      "\u001b[1;31mNameError\u001b[0m                                 Traceback (most recent call last)",
      "\u001b[1;32m<ipython-input-60-fec90e347ad5>\u001b[0m in \u001b[0;36m<module>\u001b[1;34m\u001b[0m\n\u001b[0;32m      3\u001b[0m \u001b[1;33m\u001b[0m\u001b[0m\n\u001b[0;32m      4\u001b[0m \u001b[1;31m# Cast data type\u001b[0m\u001b[1;33m\u001b[0m\u001b[1;33m\u001b[0m\u001b[1;33m\u001b[0m\u001b[0m\n\u001b[1;32m----> 5\u001b[1;33m \u001b[0mmort_df\u001b[0m \u001b[1;33m=\u001b[0m \u001b[0mmort_df\u001b[0m\u001b[1;33m.\u001b[0m\u001b[0mwithColumn\u001b[0m\u001b[1;33m(\u001b[0m\u001b[1;34m'DATE'\u001b[0m\u001b[1;33m,\u001b[0m \u001b[0mto_date\u001b[0m\u001b[1;33m(\u001b[0m\u001b[1;34m'DATE'\u001b[0m\u001b[1;33m)\u001b[0m\u001b[1;33m)\u001b[0m\u001b[1;33m\u001b[0m\u001b[1;33m\u001b[0m\u001b[0m\n\u001b[0m\u001b[0;32m      6\u001b[0m \u001b[1;33m\u001b[0m\u001b[0m\n\u001b[0;32m      7\u001b[0m \u001b[1;31m# Create window\u001b[0m\u001b[1;33m\u001b[0m\u001b[1;33m\u001b[0m\u001b[1;33m\u001b[0m\u001b[0m\n",
      "\u001b[1;31mNameError\u001b[0m: name 'mort_df' is not defined"
     ]
    }
   ],
   "source": [
    "from pyspark.sql.functions import lag, datediff, to_date\n",
    "from pyspark.sql.window import Window\n",
    "\n",
    "# Cast data type\n",
    "mort_df = mort_df.withColumn('DATE', to_date('DATE'))\n",
    "\n",
    "# Create window\n",
    "w = Window().orderBy(mort_df['DATE'])\n",
    "# Create lag column\n",
    "mort_df = mort_df.withColumn('DATE-1', lag('DATE', count=1).over(w))\n",
    "\n",
    "# Calculate difference between date columns\n",
    "mort_df = mort_df.withColumn('Days_Between_Report', datediff('DATE', 'DATE-1'))\n",
    "# Print results\n",
    "mort_df.select('Days_Between_Report').distinct().show()"
   ]
  },
  {
   "cell_type": "markdown",
   "metadata": {},
   "source": [
    "## Extracting Text to New Features\n",
    "\n",
    "Garages are an important consideration for houses in Minnesota where most people own a car and the snow is annoying to clear off a car parked outside. The type of garage is also important, can you get to your car without braving the cold or not? Let's look at creating a feature has_attached_garage that captures whether the garage is attached to the house or not."
   ]
  },
  {
   "cell_type": "code",
   "execution_count": 61,
   "metadata": {
    "ExecuteTime": {
     "end_time": "2019-02-16T19:37:24.665907Z",
     "start_time": "2019-02-16T19:37:24.454459Z"
    }
   },
   "outputs": [
    {
     "name": "stdout",
     "output_type": "stream",
     "text": [
      "+------------------------------------------------------------------+-------------------+\n",
      "|                                                 GARAGEDESCRIPTION|has_attached_garage|\n",
      "+------------------------------------------------------------------+-------------------+\n",
      "|                                                   Attached Garage|                  1|\n",
      "|           Attached Garage, Driveway - Asphalt, Garage Door Opener|                  1|\n",
      "|                                                   Attached Garage|                  1|\n",
      "|    Attached Garage, Detached Garage, Tuckunder, Driveway - Gravel|                  1|\n",
      "|           Attached Garage, Driveway - Asphalt, Garage Door Opener|                  1|\n",
      "|                               Attached Garage, Driveway - Asphalt|                  1|\n",
      "|           Attached Garage, Driveway - Asphalt, Garage Door Opener|                  1|\n",
      "|                                                   Attached Garage|                  1|\n",
      "|                                                   Attached Garage|                  1|\n",
      "|                                                   Attached Garage|                  1|\n",
      "|                                                   Attached Garage|                  1|\n",
      "|                                                   Attached Garage|                  1|\n",
      "|                                                   Attached Garage|                  1|\n",
      "|           Attached Garage, Driveway - Asphalt, Garage Door Opener|                  1|\n",
      "|Attached Garage, Tuckunder, Driveway - Asphalt, Garage Door Opener|                  1|\n",
      "|           Attached Garage, Driveway - Asphalt, Garage Door Opener|                  1|\n",
      "|           Attached Garage, Driveway - Asphalt, Garage Door Opener|                  1|\n",
      "|           Attached Garage, Driveway - Asphalt, Garage Door Opener|                  1|\n",
      "|           Attached Garage, Driveway - Asphalt, Garage Door Opener|                  1|\n",
      "|           Attached Garage, Driveway - Asphalt, Garage Door Opener|                  1|\n",
      "+------------------------------------------------------------------+-------------------+\n",
      "only showing top 20 rows\n",
      "\n"
     ]
    }
   ],
   "source": [
    "# Import needed functions\n",
    "from pyspark.sql.functions import when\n",
    "\n",
    "# Create boolean conditions for string matches\n",
    "has_attached_garage = df['GARAGEDESCRIPTION'].like('%Attached Garage%')\n",
    "has_detached_garage = df['GARAGEDESCRIPTION'].like('%Detached Garage%')\n",
    "\n",
    "# Conditional value assignment \n",
    "df = df.withColumn('has_attached_garage', (when(has_attached_garage, 1)\n",
    "                                          .when(has_detached_garage, 0)\n",
    "                                          .otherwise(None)))\n",
    "\n",
    "# Inspect results\n",
    "df[['GARAGEDESCRIPTION', 'has_attached_garage']].show(truncate=100)"
   ]
  },
  {
   "cell_type": "markdown",
   "metadata": {},
   "source": [
    "## Splitting & Exploding\n",
    "\n",
    "Being able to take a compound field like GARAGEDESCRIPTION and massaging it into something useful is an involved process. It's helpful to understand early what value you might gain out of expanding it. In this example, we will convert our string to a list-like array, explode it and then inspect the unique values."
   ]
  },
  {
   "cell_type": "code",
   "execution_count": 62,
   "metadata": {
    "ExecuteTime": {
     "end_time": "2019-02-16T19:37:29.187732Z",
     "start_time": "2019-02-16T19:37:28.488603Z"
    }
   },
   "outputs": [
    {
     "name": "stdout",
     "output_type": "stream",
     "text": [
      "+----------------------------+\n",
      "|              ex_garage_list|\n",
      "+----------------------------+\n",
      "|             Attached Garage|\n",
      "|      On-Street Parking Only|\n",
      "|                        None|\n",
      "| More Parking Onsite for Fee|\n",
      "|          Garage Door Opener|\n",
      "|   No Int Access to Dwelling|\n",
      "|           Driveway - Gravel|\n",
      "|       Valet Parking for Fee|\n",
      "|              Uncovered/Open|\n",
      "|               Heated Garage|\n",
      "|          Underground Garage|\n",
      "|                       Other|\n",
      "|                  Unassigned|\n",
      "|More Parking Offsite for Fee|\n",
      "|    Driveway - Other Surface|\n",
      "|       Contract Pkg Required|\n",
      "|                     Carport|\n",
      "|                     Secured|\n",
      "|             Detached Garage|\n",
      "|          Driveway - Asphalt|\n",
      "|                  Units Vary|\n",
      "|                    Assigned|\n",
      "|                   Tuckunder|\n",
      "|                     Covered|\n",
      "|            Insulated Garage|\n",
      "|         Driveway - Concrete|\n",
      "|                      Tandem|\n",
      "|           Driveway - Shared|\n",
      "+----------------------------+\n",
      "\n"
     ]
    }
   ],
   "source": [
    "# Import needed functions\n",
    "from pyspark.sql.functions import split, explode\n",
    "\n",
    "# Convert string to list-like array\n",
    "df = df.withColumn('garage_list', split(df['GARAGEDESCRIPTION'], ', '))\n",
    "\n",
    "# Explode the values into new records\n",
    "ex_df = df.withColumn('ex_garage_list', explode(df['garage_list']))\n",
    "\n",
    "# Inspect the values\n",
    "ex_df[['ex_garage_list']].distinct().show(100, truncate=50)"
   ]
  },
  {
   "cell_type": "markdown",
   "metadata": {},
   "source": [
    "## Pivot & Join\n",
    "\n",
    "Being able to explode and pivot a compound field is great, but you are left with a dataframe of only those pivoted values. To really be valuable you'll need to rejoin it to the original dataset! After joining the datasets we will have a lot of NULL values for the newly created columns since we know the context of how they were created we can safely fill them in with zero as either the new has an attribute or it doesn't."
   ]
  },
  {
   "cell_type": "code",
   "execution_count": 63,
   "metadata": {
    "ExecuteTime": {
     "end_time": "2019-02-16T19:37:33.293559Z",
     "start_time": "2019-02-16T19:37:32.291239Z"
    }
   },
   "outputs": [
    {
     "ename": "AnalysisException",
     "evalue": "\"cannot resolve '`constant_val`' given input columns: [LISTPRICE, BATHS_PER_1000SQFT, LOT_SIZE_SQFT, MAPLETTER, POTENTIALSHORTSALE, BATHSTOTAL, ROOMFAMILYCHAR, ROOMFLOOR5, ROOMFLOOR2, BED_TO_BATHS, UNITNUMBER, ex_garage_list, YEARBUILT, ASSESSEDVALUATION, ASSESSED_TO_LIST, ACRES, CLASS, OFFMARKETDATE, ROOMFLOOR8, PDOM, ROOMAREA7, PRICEPERTSFT, SALESCLOSEPRICE, LOTSIZEDIMENSIONS, DAYSONMARKET, TAX_TO_LIST, CITY, BATHDESC, LISTDATE, FIREPLACES, TOTAL_SQFT, SQFTABOVEGROUND, ASSESSMENTPENDING, ROOMFLOOR6, ROOMTYPE, TAXES, ROOMAREA3, ROOMAREA5, ROOMAREA8, POOLDESCRIPTION, BATHSHALF, ROOMAREA4, BATHQUARTER, POSTALCODE, DININGROOMDESCRIPTION, BASEMENT, report_year, list_year, ROOMFLOOR4, ORIGINALLISTPRICE, BACKONMARKETDATE, STREETNAME, COOLINGDESCRIPTION, SQFTBELOWGROUND, APPLIANCES, SCHOOLDISTRICTNUMBER, ROOMFLOOR1, ROOMFLOOR7, ZONING, garage_list, ROOMFLOOR3, NO, TAXWITHASSESSMENTS, BEDROOMS, YARD_SIZE, TAXYEAR, STREETNUMBERNUMERIC, FOUNDATIONSIZE, LISTTYPE, ASSOCIATIONFEE, MLSID, GARAGEDESCRIPTION, ROOMAREA6, BATHSTHREEQUARTER, FENCE, STYLE, ROOF, ROOMAREA2, EXTERIOR, STREETADDRESS, List_Day_of_Week, has_attached_garage, ROOMAREA1, STATEORPROVINCE, LIVINGAREA, BATHSFULL, ASSUMABLEMORTGAGE];;\\n'Pivot ArrayBuffer(NO#11224), ex_garage_list#14375: string, [Assigned, Attached Garage, Carport, Contract Pkg Required, Covered, Detached Garage, Driveway - Asphalt, Driveway - Concrete, Driveway - Gravel, Driveway - Other Surface, Driveway - Shared, Garage Door Opener, Heated Garage, Insulated Garage, More Parking Offsite for Fee, More Parking Onsite for Fee, No Int Access to Dwelling, None, On-Street Parking Only, Other, Secured, Tandem, Tuckunder, Unassigned, ... 4 more fields], [coalesce(first('constant_val, false))]\\n+- Project [NO#11224, MLSID#11225, STREETNUMBERNUMERIC#11226, STREETADDRESS#11227, STREETNAME#11228, POSTALCODE#11229, STATEORPROVINCE#11230, CITY#11231, SALESCLOSEPRICE#11232, LISTDATE#13607, LISTPRICE#11234, LISTTYPE#11235, ORIGINALLISTPRICE#11236, PRICEPERTSFT#11237, FOUNDATIONSIZE#11238, FENCE#11239, MAPLETTER#11240, LOTSIZEDIMENSIONS#11241, SCHOOLDISTRICTNUMBER#11242, DAYSONMARKET#11243, OFFMARKETDATE#11244, FIREPLACES#11245, ROOMAREA4#11246, ROOMTYPE#11247, ... 63 more fields]\\n   +- Generate explode(garage_list#14287), false, [ex_garage_list#14375]\\n      +- Project [NO#11224, MLSID#11225, STREETNUMBERNUMERIC#11226, STREETADDRESS#11227, STREETNAME#11228, POSTALCODE#11229, STATEORPROVINCE#11230, CITY#11231, SALESCLOSEPRICE#11232, LISTDATE#13607, LISTPRICE#11234, LISTTYPE#11235, ORIGINALLISTPRICE#11236, PRICEPERTSFT#11237, FOUNDATIONSIZE#11238, FENCE#11239, MAPLETTER#11240, LOTSIZEDIMENSIONS#11241, SCHOOLDISTRICTNUMBER#11242, DAYSONMARKET#11243, OFFMARKETDATE#11244, FIREPLACES#11245, ROOMAREA4#11246, ROOMTYPE#11247, ... 62 more fields]\\n         +- Project [NO#11224, MLSID#11225, STREETNUMBERNUMERIC#11226, STREETADDRESS#11227, STREETNAME#11228, POSTALCODE#11229, STATEORPROVINCE#11230, CITY#11231, SALESCLOSEPRICE#11232, LISTDATE#13607, LISTPRICE#11234, LISTTYPE#11235, ORIGINALLISTPRICE#11236, PRICEPERTSFT#11237, FOUNDATIONSIZE#11238, FENCE#11239, MAPLETTER#11240, LOTSIZEDIMENSIONS#11241, SCHOOLDISTRICTNUMBER#11242, DAYSONMARKET#11243, OFFMARKETDATE#11244, FIREPLACES#11245, ROOMAREA4#11246, ROOMTYPE#11247, ... 61 more fields]\\n            +- Project [NO#11224, MLSID#11225, STREETNUMBERNUMERIC#11226, STREETADDRESS#11227, STREETNAME#11228, POSTALCODE#11229, STATEORPROVINCE#11230, CITY#11231, SALESCLOSEPRICE#11232, LISTDATE#13607, LISTPRICE#11234, LISTTYPE#11235, ORIGINALLISTPRICE#11236, PRICEPERTSFT#11237, FOUNDATIONSIZE#11238, FENCE#11239, MAPLETTER#11240, LOTSIZEDIMENSIONS#11241, SCHOOLDISTRICTNUMBER#11242, DAYSONMARKET#11243, OFFMARKETDATE#11244, FIREPLACES#11245, ROOMAREA4#11246, ROOMTYPE#11247, ... 60 more fields]\\n               +- Project [NO#11224, MLSID#11225, STREETNUMBERNUMERIC#11226, STREETADDRESS#11227, STREETNAME#11228, POSTALCODE#11229, STATEORPROVINCE#11230, CITY#11231, SALESCLOSEPRICE#11232, LISTDATE#13607, LISTPRICE#11234, LISTTYPE#11235, ORIGINALLISTPRICE#11236, PRICEPERTSFT#11237, FOUNDATIONSIZE#11238, FENCE#11239, MAPLETTER#11240, LOTSIZEDIMENSIONS#11241, SCHOOLDISTRICTNUMBER#11242, DAYSONMARKET#11243, OFFMARKETDATE#11244, FIREPLACES#11245, ROOMAREA4#11246, ROOMTYPE#11247, ... 60 more fields]\\n                  +- Project [NO#11224, MLSID#11225, STREETNUMBERNUMERIC#11226, STREETADDRESS#11227, STREETNAME#11228, POSTALCODE#11229, STATEORPROVINCE#11230, CITY#11231, SALESCLOSEPRICE#11232, LISTDATE#13607, LISTPRICE#11234, LISTTYPE#11235, ORIGINALLISTPRICE#11236, PRICEPERTSFT#11237, FOUNDATIONSIZE#11238, FENCE#11239, MAPLETTER#11240, LOTSIZEDIMENSIONS#11241, SCHOOLDISTRICTNUMBER#11242, DAYSONMARKET#11243, OFFMARKETDATE#11244, FIREPLACES#11245, ROOMAREA4#11246, ROOMTYPE#11247, ... 60 more fields]\\n                     +- Project [NO#11224, MLSID#11225, STREETNUMBERNUMERIC#11226, STREETADDRESS#11227, STREETNAME#11228, POSTALCODE#11229, STATEORPROVINCE#11230, CITY#11231, SALESCLOSEPRICE#11232, LISTDATE#13607, LISTPRICE#11234, LISTTYPE#11235, ORIGINALLISTPRICE#11236, PRICEPERTSFT#11237, FOUNDATIONSIZE#11238, FENCE#11239, MAPLETTER#11240, LOTSIZEDIMENSIONS#11241, SCHOOLDISTRICTNUMBER#11242, DAYSONMARKET#11243, OFFMARKETDATE#11244, FIREPLACES#11245, ROOMAREA4#11246, ROOMTYPE#11247, ... 60 more fields]\\n                        +- Project [NO#11224, MLSID#11225, STREETNUMBERNUMERIC#11226, STREETADDRESS#11227, STREETNAME#11228, POSTALCODE#11229, STATEORPROVINCE#11230, CITY#11231, SALESCLOSEPRICE#11232, LISTDATE#13607, LISTPRICE#11234, LISTTYPE#11235, ORIGINALLISTPRICE#11236, PRICEPERTSFT#11237, FOUNDATIONSIZE#11238, FENCE#11239, MAPLETTER#11240, LOTSIZEDIMENSIONS#11241, SCHOOLDISTRICTNUMBER#11242, DAYSONMARKET#11243, OFFMARKETDATE#11244, FIREPLACES#11245, ROOMAREA4#11246, ROOMTYPE#11247, ... 60 more fields]\\n                           +- Project [NO#11224, MLSID#11225, STREETNUMBERNUMERIC#11226, STREETADDRESS#11227, STREETNAME#11228, POSTALCODE#11229, STATEORPROVINCE#11230, CITY#11231, SALESCLOSEPRICE#11232, to_date('LISTDATE, None) AS LISTDATE#13607, LISTPRICE#11234, LISTTYPE#11235, ORIGINALLISTPRICE#11236, PRICEPERTSFT#11237, FOUNDATIONSIZE#11238, FENCE#11239, MAPLETTER#11240, LOTSIZEDIMENSIONS#11241, SCHOOLDISTRICTNUMBER#11242, DAYSONMARKET#11243, OFFMARKETDATE#11244, FIREPLACES#11245, ROOMAREA4#11246, ROOMTYPE#11247, ... 60 more fields]\\n                              +- Project [NO#11224, MLSID#11225, STREETNUMBERNUMERIC#11226, STREETADDRESS#11227, STREETNAME#11228, POSTALCODE#11229, STATEORPROVINCE#11230, CITY#11231, SALESCLOSEPRICE#11232, LISTDATE#13363, LISTPRICE#11234, LISTTYPE#11235, ORIGINALLISTPRICE#11236, PRICEPERTSFT#11237, FOUNDATIONSIZE#11238, FENCE#11239, MAPLETTER#11240, LOTSIZEDIMENSIONS#11241, SCHOOLDISTRICTNUMBER#11242, DAYSONMARKET#11243, OFFMARKETDATE#11244, FIREPLACES#11245, ROOMAREA4#11246, ROOMTYPE#11247, ... 60 more fields]\\n                                 +- Project [NO#11224, MLSID#11225, STREETNUMBERNUMERIC#11226, STREETADDRESS#11227, STREETNAME#11228, POSTALCODE#11229, STATEORPROVINCE#11230, CITY#11231, SALESCLOSEPRICE#11232, to_date('LISTDATE, None) AS LISTDATE#13363, LISTPRICE#11234, LISTTYPE#11235, ORIGINALLISTPRICE#11236, PRICEPERTSFT#11237, FOUNDATIONSIZE#11238, FENCE#11239, MAPLETTER#11240, LOTSIZEDIMENSIONS#11241, SCHOOLDISTRICTNUMBER#11242, DAYSONMARKET#11243, OFFMARKETDATE#11244, FIREPLACES#11245, ROOMAREA4#11246, ROOMTYPE#11247, ... 60 more fields]\\n                                    +- Project [NO#11224, MLSID#11225, STREETNUMBERNUMERIC#11226, STREETADDRESS#11227, STREETNAME#11228, POSTALCODE#11229, STATEORPROVINCE#11230, CITY#11231, SALESCLOSEPRICE#11232, LISTDATE#12520, LISTPRICE#11234, LISTTYPE#11235, ORIGINALLISTPRICE#11236, PRICEPERTSFT#11237, FOUNDATIONSIZE#11238, FENCE#11239, MAPLETTER#11240, LOTSIZEDIMENSIONS#11241, SCHOOLDISTRICTNUMBER#11242, DAYSONMARKET#11243, OFFMARKETDATE#11244, FIREPLACES#11245, ROOMAREA4#11246, ROOMTYPE#11247, ... 60 more fields]\\n                                       +- Project [NO#11224, MLSID#11225, STREETNUMBERNUMERIC#11226, STREETADDRESS#11227, STREETNAME#11228, POSTALCODE#11229, STATEORPROVINCE#11230, CITY#11231, SALESCLOSEPRICE#11232, LISTDATE#12520, LISTPRICE#11234, LISTTYPE#11235, ORIGINALLISTPRICE#11236, PRICEPERTSFT#11237, FOUNDATIONSIZE#11238, FENCE#11239, MAPLETTER#11240, LOTSIZEDIMENSIONS#11241, SCHOOLDISTRICTNUMBER#11242, DAYSONMARKET#11243, OFFMARKETDATE#11244, FIREPLACES#11245, ROOMAREA4#11246, ROOMTYPE#11247, ... 60 more fields]\\n                                          +- Project [NO#11224, MLSID#11225, STREETNUMBERNUMERIC#11226, STREETADDRESS#11227, STREETNAME#11228, POSTALCODE#11229, STATEORPROVINCE#11230, CITY#11231, SALESCLOSEPRICE#11232, LISTDATE#12520, LISTPRICE#11234, LISTTYPE#11235, ORIGINALLISTPRICE#11236, PRICEPERTSFT#11237, FOUNDATIONSIZE#11238, FENCE#11239, MAPLETTER#11240, LOTSIZEDIMENSIONS#11241, SCHOOLDISTRICTNUMBER#11242, DAYSONMARKET#11243, OFFMARKETDATE#11244, FIREPLACES#11245, ROOMAREA4#11246, ROOMTYPE#11247, ... 60 more fields]\\n                                             +- Project [NO#11224, MLSID#11225, STREETNUMBERNUMERIC#11226, STREETADDRESS#11227, STREETNAME#11228, POSTALCODE#11229, STATEORPROVINCE#11230, CITY#11231, SALESCLOSEPRICE#11232, LISTDATE#12520, LISTPRICE#11234, LISTTYPE#11235, ORIGINALLISTPRICE#11236, PRICEPERTSFT#11237, FOUNDATIONSIZE#11238, FENCE#11239, MAPLETTER#11240, LOTSIZEDIMENSIONS#11241, SCHOOLDISTRICTNUMBER#11242, DAYSONMARKET#11243, OFFMARKETDATE#11244, FIREPLACES#11245, ROOMAREA4#11246, ROOMTYPE#11247, ... 60 more fields]\\n                                                +- Project [NO#11224, MLSID#11225, STREETNUMBERNUMERIC#11226, STREETADDRESS#11227, STREETNAME#11228, POSTALCODE#11229, STATEORPROVINCE#11230, CITY#11231, SALESCLOSEPRICE#11232, LISTDATE#12520, LISTPRICE#11234, LISTTYPE#11235, ORIGINALLISTPRICE#11236, PRICEPERTSFT#11237, FOUNDATIONSIZE#11238, FENCE#11239, MAPLETTER#11240, LOTSIZEDIMENSIONS#11241, SCHOOLDISTRICTNUMBER#11242, DAYSONMARKET#11243, OFFMARKETDATE#11244, FIREPLACES#11245, ROOMAREA4#11246, ROOMTYPE#11247, ... 60 more fields]\\n                                                   +- Project [NO#11224, MLSID#11225, STREETNUMBERNUMERIC#11226, STREETADDRESS#11227, STREETNAME#11228, POSTALCODE#11229, STATEORPROVINCE#11230, CITY#11231, SALESCLOSEPRICE#11232, to_date('LISTDATE, None) AS LISTDATE#12520, LISTPRICE#11234, LISTTYPE#11235, ORIGINALLISTPRICE#11236, PRICEPERTSFT#11237, FOUNDATIONSIZE#11238, FENCE#11239, MAPLETTER#11240, LOTSIZEDIMENSIONS#11241, SCHOOLDISTRICTNUMBER#11242, DAYSONMARKET#11243, OFFMARKETDATE#11244, FIREPLACES#11245, ROOMAREA4#11246, ROOMTYPE#11247, ... 59 more fields]\\n                                                      +- Project [NO#11224, MLSID#11225, STREETNUMBERNUMERIC#11226, STREETADDRESS#11227, STREETNAME#11228, POSTALCODE#11229, STATEORPROVINCE#11230, CITY#11231, SALESCLOSEPRICE#11232, LISTDATE#11233, LISTPRICE#11234, LISTTYPE#11235, ORIGINALLISTPRICE#11236, PRICEPERTSFT#11237, FOUNDATIONSIZE#11238, FENCE#11239, MAPLETTER#11240, LOTSIZEDIMENSIONS#11241, SCHOOLDISTRICTNUMBER#11242, DAYSONMARKET#11243, OFFMARKETDATE#11244, FIREPLACES#11245, ROOMAREA4#11246, ROOMTYPE#11247, ... 59 more fields]\\n                                                         +- Project [NO#11224, MLSID#11225, STREETNUMBERNUMERIC#11226, STREETADDRESS#11227, STREETNAME#11228, POSTALCODE#11229, STATEORPROVINCE#11230, CITY#11231, SALESCLOSEPRICE#11232, LISTDATE#11233, LISTPRICE#11234, LISTTYPE#11235, ORIGINALLISTPRICE#11236, PRICEPERTSFT#11237, FOUNDATIONSIZE#11238, FENCE#11239, MAPLETTER#11240, LOTSIZEDIMENSIONS#11241, SCHOOLDISTRICTNUMBER#11242, DAYSONMARKET#11243, OFFMARKETDATE#11244, FIREPLACES#11245, ROOMAREA4#11246, ROOMTYPE#11247, ... 58 more fields]\\n                                                            +- Project [NO#11224, MLSID#11225, STREETNUMBERNUMERIC#11226, STREETADDRESS#11227, STREETNAME#11228, POSTALCODE#11229, STATEORPROVINCE#11230, CITY#11231, SALESCLOSEPRICE#11232, LISTDATE#11233, LISTPRICE#11234, LISTTYPE#11235, ORIGINALLISTPRICE#11236, PRICEPERTSFT#11237, FOUNDATIONSIZE#11238, FENCE#11239, MAPLETTER#11240, LOTSIZEDIMENSIONS#11241, SCHOOLDISTRICTNUMBER#11242, DAYSONMARKET#11243, OFFMARKETDATE#11244, FIREPLACES#11245, ROOMAREA4#11246, ROOMTYPE#11247, ... 57 more fields]\\n                                                               +- Project [NO#11224, MLSID#11225, STREETNUMBERNUMERIC#11226, STREETADDRESS#11227, STREETNAME#11228, POSTALCODE#11229, STATEORPROVINCE#11230, CITY#11231, SALESCLOSEPRICE#11232, LISTDATE#11233, LISTPRICE#11234, LISTTYPE#11235, ORIGINALLISTPRICE#11236, PRICEPERTSFT#11237, FOUNDATIONSIZE#11238, FENCE#11239, MAPLETTER#11240, LOTSIZEDIMENSIONS#11241, SCHOOLDISTRICTNUMBER#11242, DAYSONMARKET#11243, OFFMARKETDATE#11244, FIREPLACES#11245, ROOMAREA4#11246, ROOMTYPE#11247, ... 56 more fields]\\n                                                                  +- Project [NO#11224, MLSID#11225, STREETNUMBERNUMERIC#11226, STREETADDRESS#11227, STREETNAME#11228, POSTALCODE#11229, STATEORPROVINCE#11230, CITY#11231, SALESCLOSEPRICE#11232, LISTDATE#11233, LISTPRICE#11234, LISTTYPE#11235, ORIGINALLISTPRICE#11236, PRICEPERTSFT#11237, FOUNDATIONSIZE#11238, FENCE#11239, MAPLETTER#11240, LOTSIZEDIMENSIONS#11241, SCHOOLDISTRICTNUMBER#11242, DAYSONMARKET#11243, OFFMARKETDATE#11244, FIREPLACES#11245, ROOMAREA4#11246, ROOMTYPE#11247, ... 55 more fields]\\n                                                                     +- Project [NO#11224, MLSID#11225, STREETNUMBERNUMERIC#11226, STREETADDRESS#11227, STREETNAME#11228, POSTALCODE#11229, STATEORPROVINCE#11230, CITY#11231, SALESCLOSEPRICE#11232, LISTDATE#11233, LISTPRICE#11234, LISTTYPE#11235, ORIGINALLISTPRICE#11236, PRICEPERTSFT#11237, FOUNDATIONSIZE#11238, FENCE#11239, MAPLETTER#11240, LOTSIZEDIMENSIONS#11241, SCHOOLDISTRICTNUMBER#11242, DAYSONMARKET#11243, OFFMARKETDATE#11244, FIREPLACES#11245, ROOMAREA4#11246, ROOMTYPE#11247, ... 54 more fields]\\n                                                                        +- Project [NO#11224, MLSID#11225, STREETNUMBERNUMERIC#11226, STREETADDRESS#11227, STREETNAME#11228, POSTALCODE#11229, STATEORPROVINCE#11230, CITY#11231, SALESCLOSEPRICE#11232, LISTDATE#11233, LISTPRICE#11234, LISTTYPE#11235, ORIGINALLISTPRICE#11236, PRICEPERTSFT#11237, FOUNDATIONSIZE#11238, FENCE#11239, MAPLETTER#11240, LOTSIZEDIMENSIONS#11241, SCHOOLDISTRICTNUMBER#11242, DAYSONMARKET#11243, OFFMARKETDATE#11244, FIREPLACES#11245, ROOMAREA4#11246, ROOMTYPE#11247, ... 53 more fields]\\n                                                                           +- Project [NO#11224, MLSID#11225, STREETNUMBERNUMERIC#11226, STREETADDRESS#11227, STREETNAME#11228, POSTALCODE#11229, STATEORPROVINCE#11230, CITY#11231, SALESCLOSEPRICE#11232, LISTDATE#11233, LISTPRICE#11234, LISTTYPE#11235, ORIGINALLISTPRICE#11236, PRICEPERTSFT#11237, FOUNDATIONSIZE#11238, FENCE#11239, MAPLETTER#11240, LOTSIZEDIMENSIONS#11241, SCHOOLDISTRICTNUMBER#11242, DAYSONMARKET#11243, OFFMARKETDATE#11244, FIREPLACES#11245, ROOMAREA4#11246, ROOMTYPE#11247, ... 52 more fields]\\n                                                                              +- Project [NO#11224, MLSID#11225, STREETNUMBERNUMERIC#11226, STREETADDRESS#11227, STREETNAME#11228, POSTALCODE#11229, STATEORPROVINCE#11230, CITY#11231, SALESCLOSEPRICE#11232, LISTDATE#11233, LISTPRICE#11234, LISTTYPE#11235, ORIGINALLISTPRICE#11236, PRICEPERTSFT#11237, FOUNDATIONSIZE#11238, FENCE#11239, MAPLETTER#11240, LOTSIZEDIMENSIONS#11241, SCHOOLDISTRICTNUMBER#11242, DAYSONMARKET#11243, OFFMARKETDATE#11244, FIREPLACES#11245, ROOMAREA4#11246, ROOMTYPE#11247, ... 51 more fields]\\n                                                                                 +- Relation[NO#11224,MLSID#11225,STREETNUMBERNUMERIC#11226,STREETADDRESS#11227,STREETNAME#11228,POSTALCODE#11229,STATEORPROVINCE#11230,CITY#11231,SALESCLOSEPRICE#11232,LISTDATE#11233,LISTPRICE#11234,LISTTYPE#11235,ORIGINALLISTPRICE#11236,PRICEPERTSFT#11237,FOUNDATIONSIZE#11238,FENCE#11239,MAPLETTER#11240,LOTSIZEDIMENSIONS#11241,SCHOOLDISTRICTNUMBER#11242,DAYSONMARKET#11243,OFFMARKETDATE#11244,FIREPLACES#11245,ROOMAREA4#11246,ROOMTYPE#11247,... 50 more fields] csv\\n\"",
     "output_type": "error",
     "traceback": [
      "\u001b[1;31m---------------------------------------------------------------------------\u001b[0m",
      "\u001b[1;31mPy4JJavaError\u001b[0m                             Traceback (most recent call last)",
      "\u001b[1;32m~\\Anaconda3\\lib\\site-packages\\pyspark\\sql\\utils.py\u001b[0m in \u001b[0;36mdeco\u001b[1;34m(*a, **kw)\u001b[0m\n\u001b[0;32m     62\u001b[0m         \u001b[1;32mtry\u001b[0m\u001b[1;33m:\u001b[0m\u001b[1;33m\u001b[0m\u001b[1;33m\u001b[0m\u001b[0m\n\u001b[1;32m---> 63\u001b[1;33m             \u001b[1;32mreturn\u001b[0m \u001b[0mf\u001b[0m\u001b[1;33m(\u001b[0m\u001b[1;33m*\u001b[0m\u001b[0ma\u001b[0m\u001b[1;33m,\u001b[0m \u001b[1;33m**\u001b[0m\u001b[0mkw\u001b[0m\u001b[1;33m)\u001b[0m\u001b[1;33m\u001b[0m\u001b[1;33m\u001b[0m\u001b[0m\n\u001b[0m\u001b[0;32m     64\u001b[0m         \u001b[1;32mexcept\u001b[0m \u001b[0mpy4j\u001b[0m\u001b[1;33m.\u001b[0m\u001b[0mprotocol\u001b[0m\u001b[1;33m.\u001b[0m\u001b[0mPy4JJavaError\u001b[0m \u001b[1;32mas\u001b[0m \u001b[0me\u001b[0m\u001b[1;33m:\u001b[0m\u001b[1;33m\u001b[0m\u001b[1;33m\u001b[0m\u001b[0m\n",
      "\u001b[1;32m~\\Anaconda3\\lib\\site-packages\\py4j\\protocol.py\u001b[0m in \u001b[0;36mget_return_value\u001b[1;34m(answer, gateway_client, target_id, name)\u001b[0m\n\u001b[0;32m    327\u001b[0m                     \u001b[1;34m\"An error occurred while calling {0}{1}{2}.\\n\"\u001b[0m\u001b[1;33m.\u001b[0m\u001b[1;33m\u001b[0m\u001b[1;33m\u001b[0m\u001b[0m\n\u001b[1;32m--> 328\u001b[1;33m                     format(target_id, \".\", name), value)\n\u001b[0m\u001b[0;32m    329\u001b[0m             \u001b[1;32melse\u001b[0m\u001b[1;33m:\u001b[0m\u001b[1;33m\u001b[0m\u001b[1;33m\u001b[0m\u001b[0m\n",
      "\u001b[1;31mPy4JJavaError\u001b[0m: An error occurred while calling o809.agg.\n: org.apache.spark.sql.AnalysisException: cannot resolve '`constant_val`' given input columns: [LISTPRICE, BATHS_PER_1000SQFT, LOT_SIZE_SQFT, MAPLETTER, POTENTIALSHORTSALE, BATHSTOTAL, ROOMFAMILYCHAR, ROOMFLOOR5, ROOMFLOOR2, BED_TO_BATHS, UNITNUMBER, ex_garage_list, YEARBUILT, ASSESSEDVALUATION, ASSESSED_TO_LIST, ACRES, CLASS, OFFMARKETDATE, ROOMFLOOR8, PDOM, ROOMAREA7, PRICEPERTSFT, SALESCLOSEPRICE, LOTSIZEDIMENSIONS, DAYSONMARKET, TAX_TO_LIST, CITY, BATHDESC, LISTDATE, FIREPLACES, TOTAL_SQFT, SQFTABOVEGROUND, ASSESSMENTPENDING, ROOMFLOOR6, ROOMTYPE, TAXES, ROOMAREA3, ROOMAREA5, ROOMAREA8, POOLDESCRIPTION, BATHSHALF, ROOMAREA4, BATHQUARTER, POSTALCODE, DININGROOMDESCRIPTION, BASEMENT, report_year, list_year, ROOMFLOOR4, ORIGINALLISTPRICE, BACKONMARKETDATE, STREETNAME, COOLINGDESCRIPTION, SQFTBELOWGROUND, APPLIANCES, SCHOOLDISTRICTNUMBER, ROOMFLOOR1, ROOMFLOOR7, ZONING, garage_list, ROOMFLOOR3, NO, TAXWITHASSESSMENTS, BEDROOMS, YARD_SIZE, TAXYEAR, STREETNUMBERNUMERIC, FOUNDATIONSIZE, LISTTYPE, ASSOCIATIONFEE, MLSID, GARAGEDESCRIPTION, ROOMAREA6, BATHSTHREEQUARTER, FENCE, STYLE, ROOF, ROOMAREA2, EXTERIOR, STREETADDRESS, List_Day_of_Week, has_attached_garage, ROOMAREA1, STATEORPROVINCE, LIVINGAREA, BATHSFULL, ASSUMABLEMORTGAGE];;\n'Pivot ArrayBuffer(NO#11224), ex_garage_list#14375: string, [Assigned, Attached Garage, Carport, Contract Pkg Required, Covered, Detached Garage, Driveway - Asphalt, Driveway - Concrete, Driveway - Gravel, Driveway - Other Surface, Driveway - Shared, Garage Door Opener, Heated Garage, Insulated Garage, More Parking Offsite for Fee, More Parking Onsite for Fee, No Int Access to Dwelling, None, On-Street Parking Only, Other, Secured, Tandem, Tuckunder, Unassigned, ... 4 more fields], [coalesce(first('constant_val, false))]\n+- Project [NO#11224, MLSID#11225, STREETNUMBERNUMERIC#11226, STREETADDRESS#11227, STREETNAME#11228, POSTALCODE#11229, STATEORPROVINCE#11230, CITY#11231, SALESCLOSEPRICE#11232, LISTDATE#13607, LISTPRICE#11234, LISTTYPE#11235, ORIGINALLISTPRICE#11236, PRICEPERTSFT#11237, FOUNDATIONSIZE#11238, FENCE#11239, MAPLETTER#11240, LOTSIZEDIMENSIONS#11241, SCHOOLDISTRICTNUMBER#11242, DAYSONMARKET#11243, OFFMARKETDATE#11244, FIREPLACES#11245, ROOMAREA4#11246, ROOMTYPE#11247, ... 63 more fields]\n   +- Generate explode(garage_list#14287), false, [ex_garage_list#14375]\n      +- Project [NO#11224, MLSID#11225, STREETNUMBERNUMERIC#11226, STREETADDRESS#11227, STREETNAME#11228, POSTALCODE#11229, STATEORPROVINCE#11230, CITY#11231, SALESCLOSEPRICE#11232, LISTDATE#13607, LISTPRICE#11234, LISTTYPE#11235, ORIGINALLISTPRICE#11236, PRICEPERTSFT#11237, FOUNDATIONSIZE#11238, FENCE#11239, MAPLETTER#11240, LOTSIZEDIMENSIONS#11241, SCHOOLDISTRICTNUMBER#11242, DAYSONMARKET#11243, OFFMARKETDATE#11244, FIREPLACES#11245, ROOMAREA4#11246, ROOMTYPE#11247, ... 62 more fields]\n         +- Project [NO#11224, MLSID#11225, STREETNUMBERNUMERIC#11226, STREETADDRESS#11227, STREETNAME#11228, POSTALCODE#11229, STATEORPROVINCE#11230, CITY#11231, SALESCLOSEPRICE#11232, LISTDATE#13607, LISTPRICE#11234, LISTTYPE#11235, ORIGINALLISTPRICE#11236, PRICEPERTSFT#11237, FOUNDATIONSIZE#11238, FENCE#11239, MAPLETTER#11240, LOTSIZEDIMENSIONS#11241, SCHOOLDISTRICTNUMBER#11242, DAYSONMARKET#11243, OFFMARKETDATE#11244, FIREPLACES#11245, ROOMAREA4#11246, ROOMTYPE#11247, ... 61 more fields]\n            +- Project [NO#11224, MLSID#11225, STREETNUMBERNUMERIC#11226, STREETADDRESS#11227, STREETNAME#11228, POSTALCODE#11229, STATEORPROVINCE#11230, CITY#11231, SALESCLOSEPRICE#11232, LISTDATE#13607, LISTPRICE#11234, LISTTYPE#11235, ORIGINALLISTPRICE#11236, PRICEPERTSFT#11237, FOUNDATIONSIZE#11238, FENCE#11239, MAPLETTER#11240, LOTSIZEDIMENSIONS#11241, SCHOOLDISTRICTNUMBER#11242, DAYSONMARKET#11243, OFFMARKETDATE#11244, FIREPLACES#11245, ROOMAREA4#11246, ROOMTYPE#11247, ... 60 more fields]\n               +- Project [NO#11224, MLSID#11225, STREETNUMBERNUMERIC#11226, STREETADDRESS#11227, STREETNAME#11228, POSTALCODE#11229, STATEORPROVINCE#11230, CITY#11231, SALESCLOSEPRICE#11232, LISTDATE#13607, LISTPRICE#11234, LISTTYPE#11235, ORIGINALLISTPRICE#11236, PRICEPERTSFT#11237, FOUNDATIONSIZE#11238, FENCE#11239, MAPLETTER#11240, LOTSIZEDIMENSIONS#11241, SCHOOLDISTRICTNUMBER#11242, DAYSONMARKET#11243, OFFMARKETDATE#11244, FIREPLACES#11245, ROOMAREA4#11246, ROOMTYPE#11247, ... 60 more fields]\n                  +- Project [NO#11224, MLSID#11225, STREETNUMBERNUMERIC#11226, STREETADDRESS#11227, STREETNAME#11228, POSTALCODE#11229, STATEORPROVINCE#11230, CITY#11231, SALESCLOSEPRICE#11232, LISTDATE#13607, LISTPRICE#11234, LISTTYPE#11235, ORIGINALLISTPRICE#11236, PRICEPERTSFT#11237, FOUNDATIONSIZE#11238, FENCE#11239, MAPLETTER#11240, LOTSIZEDIMENSIONS#11241, SCHOOLDISTRICTNUMBER#11242, DAYSONMARKET#11243, OFFMARKETDATE#11244, FIREPLACES#11245, ROOMAREA4#11246, ROOMTYPE#11247, ... 60 more fields]\n                     +- Project [NO#11224, MLSID#11225, STREETNUMBERNUMERIC#11226, STREETADDRESS#11227, STREETNAME#11228, POSTALCODE#11229, STATEORPROVINCE#11230, CITY#11231, SALESCLOSEPRICE#11232, LISTDATE#13607, LISTPRICE#11234, LISTTYPE#11235, ORIGINALLISTPRICE#11236, PRICEPERTSFT#11237, FOUNDATIONSIZE#11238, FENCE#11239, MAPLETTER#11240, LOTSIZEDIMENSIONS#11241, SCHOOLDISTRICTNUMBER#11242, DAYSONMARKET#11243, OFFMARKETDATE#11244, FIREPLACES#11245, ROOMAREA4#11246, ROOMTYPE#11247, ... 60 more fields]\n                        +- Project [NO#11224, MLSID#11225, STREETNUMBERNUMERIC#11226, STREETADDRESS#11227, STREETNAME#11228, POSTALCODE#11229, STATEORPROVINCE#11230, CITY#11231, SALESCLOSEPRICE#11232, LISTDATE#13607, LISTPRICE#11234, LISTTYPE#11235, ORIGINALLISTPRICE#11236, PRICEPERTSFT#11237, FOUNDATIONSIZE#11238, FENCE#11239, MAPLETTER#11240, LOTSIZEDIMENSIONS#11241, SCHOOLDISTRICTNUMBER#11242, DAYSONMARKET#11243, OFFMARKETDATE#11244, FIREPLACES#11245, ROOMAREA4#11246, ROOMTYPE#11247, ... 60 more fields]\n                           +- Project [NO#11224, MLSID#11225, STREETNUMBERNUMERIC#11226, STREETADDRESS#11227, STREETNAME#11228, POSTALCODE#11229, STATEORPROVINCE#11230, CITY#11231, SALESCLOSEPRICE#11232, to_date('LISTDATE, None) AS LISTDATE#13607, LISTPRICE#11234, LISTTYPE#11235, ORIGINALLISTPRICE#11236, PRICEPERTSFT#11237, FOUNDATIONSIZE#11238, FENCE#11239, MAPLETTER#11240, LOTSIZEDIMENSIONS#11241, SCHOOLDISTRICTNUMBER#11242, DAYSONMARKET#11243, OFFMARKETDATE#11244, FIREPLACES#11245, ROOMAREA4#11246, ROOMTYPE#11247, ... 60 more fields]\n                              +- Project [NO#11224, MLSID#11225, STREETNUMBERNUMERIC#11226, STREETADDRESS#11227, STREETNAME#11228, POSTALCODE#11229, STATEORPROVINCE#11230, CITY#11231, SALESCLOSEPRICE#11232, LISTDATE#13363, LISTPRICE#11234, LISTTYPE#11235, ORIGINALLISTPRICE#11236, PRICEPERTSFT#11237, FOUNDATIONSIZE#11238, FENCE#11239, MAPLETTER#11240, LOTSIZEDIMENSIONS#11241, SCHOOLDISTRICTNUMBER#11242, DAYSONMARKET#11243, OFFMARKETDATE#11244, FIREPLACES#11245, ROOMAREA4#11246, ROOMTYPE#11247, ... 60 more fields]\n                                 +- Project [NO#11224, MLSID#11225, STREETNUMBERNUMERIC#11226, STREETADDRESS#11227, STREETNAME#11228, POSTALCODE#11229, STATEORPROVINCE#11230, CITY#11231, SALESCLOSEPRICE#11232, to_date('LISTDATE, None) AS LISTDATE#13363, LISTPRICE#11234, LISTTYPE#11235, ORIGINALLISTPRICE#11236, PRICEPERTSFT#11237, FOUNDATIONSIZE#11238, FENCE#11239, MAPLETTER#11240, LOTSIZEDIMENSIONS#11241, SCHOOLDISTRICTNUMBER#11242, DAYSONMARKET#11243, OFFMARKETDATE#11244, FIREPLACES#11245, ROOMAREA4#11246, ROOMTYPE#11247, ... 60 more fields]\n                                    +- Project [NO#11224, MLSID#11225, STREETNUMBERNUMERIC#11226, STREETADDRESS#11227, STREETNAME#11228, POSTALCODE#11229, STATEORPROVINCE#11230, CITY#11231, SALESCLOSEPRICE#11232, LISTDATE#12520, LISTPRICE#11234, LISTTYPE#11235, ORIGINALLISTPRICE#11236, PRICEPERTSFT#11237, FOUNDATIONSIZE#11238, FENCE#11239, MAPLETTER#11240, LOTSIZEDIMENSIONS#11241, SCHOOLDISTRICTNUMBER#11242, DAYSONMARKET#11243, OFFMARKETDATE#11244, FIREPLACES#11245, ROOMAREA4#11246, ROOMTYPE#11247, ... 60 more fields]\n                                       +- Project [NO#11224, MLSID#11225, STREETNUMBERNUMERIC#11226, STREETADDRESS#11227, STREETNAME#11228, POSTALCODE#11229, STATEORPROVINCE#11230, CITY#11231, SALESCLOSEPRICE#11232, LISTDATE#12520, LISTPRICE#11234, LISTTYPE#11235, ORIGINALLISTPRICE#11236, PRICEPERTSFT#11237, FOUNDATIONSIZE#11238, FENCE#11239, MAPLETTER#11240, LOTSIZEDIMENSIONS#11241, SCHOOLDISTRICTNUMBER#11242, DAYSONMARKET#11243, OFFMARKETDATE#11244, FIREPLACES#11245, ROOMAREA4#11246, ROOMTYPE#11247, ... 60 more fields]\n                                          +- Project [NO#11224, MLSID#11225, STREETNUMBERNUMERIC#11226, STREETADDRESS#11227, STREETNAME#11228, POSTALCODE#11229, STATEORPROVINCE#11230, CITY#11231, SALESCLOSEPRICE#11232, LISTDATE#12520, LISTPRICE#11234, LISTTYPE#11235, ORIGINALLISTPRICE#11236, PRICEPERTSFT#11237, FOUNDATIONSIZE#11238, FENCE#11239, MAPLETTER#11240, LOTSIZEDIMENSIONS#11241, SCHOOLDISTRICTNUMBER#11242, DAYSONMARKET#11243, OFFMARKETDATE#11244, FIREPLACES#11245, ROOMAREA4#11246, ROOMTYPE#11247, ... 60 more fields]\n                                             +- Project [NO#11224, MLSID#11225, STREETNUMBERNUMERIC#11226, STREETADDRESS#11227, STREETNAME#11228, POSTALCODE#11229, STATEORPROVINCE#11230, CITY#11231, SALESCLOSEPRICE#11232, LISTDATE#12520, LISTPRICE#11234, LISTTYPE#11235, ORIGINALLISTPRICE#11236, PRICEPERTSFT#11237, FOUNDATIONSIZE#11238, FENCE#11239, MAPLETTER#11240, LOTSIZEDIMENSIONS#11241, SCHOOLDISTRICTNUMBER#11242, DAYSONMARKET#11243, OFFMARKETDATE#11244, FIREPLACES#11245, ROOMAREA4#11246, ROOMTYPE#11247, ... 60 more fields]\n                                                +- Project [NO#11224, MLSID#11225, STREETNUMBERNUMERIC#11226, STREETADDRESS#11227, STREETNAME#11228, POSTALCODE#11229, STATEORPROVINCE#11230, CITY#11231, SALESCLOSEPRICE#11232, LISTDATE#12520, LISTPRICE#11234, LISTTYPE#11235, ORIGINALLISTPRICE#11236, PRICEPERTSFT#11237, FOUNDATIONSIZE#11238, FENCE#11239, MAPLETTER#11240, LOTSIZEDIMENSIONS#11241, SCHOOLDISTRICTNUMBER#11242, DAYSONMARKET#11243, OFFMARKETDATE#11244, FIREPLACES#11245, ROOMAREA4#11246, ROOMTYPE#11247, ... 60 more fields]\n                                                   +- Project [NO#11224, MLSID#11225, STREETNUMBERNUMERIC#11226, STREETADDRESS#11227, STREETNAME#11228, POSTALCODE#11229, STATEORPROVINCE#11230, CITY#11231, SALESCLOSEPRICE#11232, to_date('LISTDATE, None) AS LISTDATE#12520, LISTPRICE#11234, LISTTYPE#11235, ORIGINALLISTPRICE#11236, PRICEPERTSFT#11237, FOUNDATIONSIZE#11238, FENCE#11239, MAPLETTER#11240, LOTSIZEDIMENSIONS#11241, SCHOOLDISTRICTNUMBER#11242, DAYSONMARKET#11243, OFFMARKETDATE#11244, FIREPLACES#11245, ROOMAREA4#11246, ROOMTYPE#11247, ... 59 more fields]\n                                                      +- Project [NO#11224, MLSID#11225, STREETNUMBERNUMERIC#11226, STREETADDRESS#11227, STREETNAME#11228, POSTALCODE#11229, STATEORPROVINCE#11230, CITY#11231, SALESCLOSEPRICE#11232, LISTDATE#11233, LISTPRICE#11234, LISTTYPE#11235, ORIGINALLISTPRICE#11236, PRICEPERTSFT#11237, FOUNDATIONSIZE#11238, FENCE#11239, MAPLETTER#11240, LOTSIZEDIMENSIONS#11241, SCHOOLDISTRICTNUMBER#11242, DAYSONMARKET#11243, OFFMARKETDATE#11244, FIREPLACES#11245, ROOMAREA4#11246, ROOMTYPE#11247, ... 59 more fields]\n                                                         +- Project [NO#11224, MLSID#11225, STREETNUMBERNUMERIC#11226, STREETADDRESS#11227, STREETNAME#11228, POSTALCODE#11229, STATEORPROVINCE#11230, CITY#11231, SALESCLOSEPRICE#11232, LISTDATE#11233, LISTPRICE#11234, LISTTYPE#11235, ORIGINALLISTPRICE#11236, PRICEPERTSFT#11237, FOUNDATIONSIZE#11238, FENCE#11239, MAPLETTER#11240, LOTSIZEDIMENSIONS#11241, SCHOOLDISTRICTNUMBER#11242, DAYSONMARKET#11243, OFFMARKETDATE#11244, FIREPLACES#11245, ROOMAREA4#11246, ROOMTYPE#11247, ... 58 more fields]\n                                                            +- Project [NO#11224, MLSID#11225, STREETNUMBERNUMERIC#11226, STREETADDRESS#11227, STREETNAME#11228, POSTALCODE#11229, STATEORPROVINCE#11230, CITY#11231, SALESCLOSEPRICE#11232, LISTDATE#11233, LISTPRICE#11234, LISTTYPE#11235, ORIGINALLISTPRICE#11236, PRICEPERTSFT#11237, FOUNDATIONSIZE#11238, FENCE#11239, MAPLETTER#11240, LOTSIZEDIMENSIONS#11241, SCHOOLDISTRICTNUMBER#11242, DAYSONMARKET#11243, OFFMARKETDATE#11244, FIREPLACES#11245, ROOMAREA4#11246, ROOMTYPE#11247, ... 57 more fields]\n                                                               +- Project [NO#11224, MLSID#11225, STREETNUMBERNUMERIC#11226, STREETADDRESS#11227, STREETNAME#11228, POSTALCODE#11229, STATEORPROVINCE#11230, CITY#11231, SALESCLOSEPRICE#11232, LISTDATE#11233, LISTPRICE#11234, LISTTYPE#11235, ORIGINALLISTPRICE#11236, PRICEPERTSFT#11237, FOUNDATIONSIZE#11238, FENCE#11239, MAPLETTER#11240, LOTSIZEDIMENSIONS#11241, SCHOOLDISTRICTNUMBER#11242, DAYSONMARKET#11243, OFFMARKETDATE#11244, FIREPLACES#11245, ROOMAREA4#11246, ROOMTYPE#11247, ... 56 more fields]\n                                                                  +- Project [NO#11224, MLSID#11225, STREETNUMBERNUMERIC#11226, STREETADDRESS#11227, STREETNAME#11228, POSTALCODE#11229, STATEORPROVINCE#11230, CITY#11231, SALESCLOSEPRICE#11232, LISTDATE#11233, LISTPRICE#11234, LISTTYPE#11235, ORIGINALLISTPRICE#11236, PRICEPERTSFT#11237, FOUNDATIONSIZE#11238, FENCE#11239, MAPLETTER#11240, LOTSIZEDIMENSIONS#11241, SCHOOLDISTRICTNUMBER#11242, DAYSONMARKET#11243, OFFMARKETDATE#11244, FIREPLACES#11245, ROOMAREA4#11246, ROOMTYPE#11247, ... 55 more fields]\n                                                                     +- Project [NO#11224, MLSID#11225, STREETNUMBERNUMERIC#11226, STREETADDRESS#11227, STREETNAME#11228, POSTALCODE#11229, STATEORPROVINCE#11230, CITY#11231, SALESCLOSEPRICE#11232, LISTDATE#11233, LISTPRICE#11234, LISTTYPE#11235, ORIGINALLISTPRICE#11236, PRICEPERTSFT#11237, FOUNDATIONSIZE#11238, FENCE#11239, MAPLETTER#11240, LOTSIZEDIMENSIONS#11241, SCHOOLDISTRICTNUMBER#11242, DAYSONMARKET#11243, OFFMARKETDATE#11244, FIREPLACES#11245, ROOMAREA4#11246, ROOMTYPE#11247, ... 54 more fields]\n                                                                        +- Project [NO#11224, MLSID#11225, STREETNUMBERNUMERIC#11226, STREETADDRESS#11227, STREETNAME#11228, POSTALCODE#11229, STATEORPROVINCE#11230, CITY#11231, SALESCLOSEPRICE#11232, LISTDATE#11233, LISTPRICE#11234, LISTTYPE#11235, ORIGINALLISTPRICE#11236, PRICEPERTSFT#11237, FOUNDATIONSIZE#11238, FENCE#11239, MAPLETTER#11240, LOTSIZEDIMENSIONS#11241, SCHOOLDISTRICTNUMBER#11242, DAYSONMARKET#11243, OFFMARKETDATE#11244, FIREPLACES#11245, ROOMAREA4#11246, ROOMTYPE#11247, ... 53 more fields]\n                                                                           +- Project [NO#11224, MLSID#11225, STREETNUMBERNUMERIC#11226, STREETADDRESS#11227, STREETNAME#11228, POSTALCODE#11229, STATEORPROVINCE#11230, CITY#11231, SALESCLOSEPRICE#11232, LISTDATE#11233, LISTPRICE#11234, LISTTYPE#11235, ORIGINALLISTPRICE#11236, PRICEPERTSFT#11237, FOUNDATIONSIZE#11238, FENCE#11239, MAPLETTER#11240, LOTSIZEDIMENSIONS#11241, SCHOOLDISTRICTNUMBER#11242, DAYSONMARKET#11243, OFFMARKETDATE#11244, FIREPLACES#11245, ROOMAREA4#11246, ROOMTYPE#11247, ... 52 more fields]\n                                                                              +- Project [NO#11224, MLSID#11225, STREETNUMBERNUMERIC#11226, STREETADDRESS#11227, STREETNAME#11228, POSTALCODE#11229, STATEORPROVINCE#11230, CITY#11231, SALESCLOSEPRICE#11232, LISTDATE#11233, LISTPRICE#11234, LISTTYPE#11235, ORIGINALLISTPRICE#11236, PRICEPERTSFT#11237, FOUNDATIONSIZE#11238, FENCE#11239, MAPLETTER#11240, LOTSIZEDIMENSIONS#11241, SCHOOLDISTRICTNUMBER#11242, DAYSONMARKET#11243, OFFMARKETDATE#11244, FIREPLACES#11245, ROOMAREA4#11246, ROOMTYPE#11247, ... 51 more fields]\n                                                                                 +- Relation[NO#11224,MLSID#11225,STREETNUMBERNUMERIC#11226,STREETADDRESS#11227,STREETNAME#11228,POSTALCODE#11229,STATEORPROVINCE#11230,CITY#11231,SALESCLOSEPRICE#11232,LISTDATE#11233,LISTPRICE#11234,LISTTYPE#11235,ORIGINALLISTPRICE#11236,PRICEPERTSFT#11237,FOUNDATIONSIZE#11238,FENCE#11239,MAPLETTER#11240,LOTSIZEDIMENSIONS#11241,SCHOOLDISTRICTNUMBER#11242,DAYSONMARKET#11243,OFFMARKETDATE#11244,FIREPLACES#11245,ROOMAREA4#11246,ROOMTYPE#11247,... 50 more fields] csv\n\r\n\tat org.apache.spark.sql.catalyst.analysis.package$AnalysisErrorAt.failAnalysis(package.scala:42)\r\n\tat org.apache.spark.sql.catalyst.analysis.CheckAnalysis$$anonfun$checkAnalysis$1$$anonfun$apply$3.applyOrElse(CheckAnalysis.scala:110)\r\n\tat org.apache.spark.sql.catalyst.analysis.CheckAnalysis$$anonfun$checkAnalysis$1$$anonfun$apply$3.applyOrElse(CheckAnalysis.scala:107)\r\n\tat org.apache.spark.sql.catalyst.trees.TreeNode$$anonfun$transformUp$1.apply(TreeNode.scala:278)\r\n\tat org.apache.spark.sql.catalyst.trees.TreeNode$$anonfun$transformUp$1.apply(TreeNode.scala:278)\r\n\tat org.apache.spark.sql.catalyst.trees.CurrentOrigin$.withOrigin(TreeNode.scala:70)\r\n\tat org.apache.spark.sql.catalyst.trees.TreeNode.transformUp(TreeNode.scala:277)\r\n\tat org.apache.spark.sql.catalyst.trees.TreeNode$$anonfun$3.apply(TreeNode.scala:275)\r\n\tat org.apache.spark.sql.catalyst.trees.TreeNode$$anonfun$3.apply(TreeNode.scala:275)\r\n\tat org.apache.spark.sql.catalyst.trees.TreeNode$$anonfun$4.apply(TreeNode.scala:326)\r\n\tat org.apache.spark.sql.catalyst.trees.TreeNode.mapProductIterator(TreeNode.scala:187)\r\n\tat org.apache.spark.sql.catalyst.trees.TreeNode.mapChildren(TreeNode.scala:324)\r\n\tat org.apache.spark.sql.catalyst.trees.TreeNode.transformUp(TreeNode.scala:275)\r\n\tat org.apache.spark.sql.catalyst.trees.TreeNode$$anonfun$3.apply(TreeNode.scala:275)\r\n\tat org.apache.spark.sql.catalyst.trees.TreeNode$$anonfun$3.apply(TreeNode.scala:275)\r\n\tat org.apache.spark.sql.catalyst.trees.TreeNode$$anonfun$4.apply(TreeNode.scala:326)\r\n\tat org.apache.spark.sql.catalyst.trees.TreeNode.mapProductIterator(TreeNode.scala:187)\r\n\tat org.apache.spark.sql.catalyst.trees.TreeNode.mapChildren(TreeNode.scala:324)\r\n\tat org.apache.spark.sql.catalyst.trees.TreeNode.transformUp(TreeNode.scala:275)\r\n\tat org.apache.spark.sql.catalyst.trees.TreeNode$$anonfun$3.apply(TreeNode.scala:275)\r\n\tat org.apache.spark.sql.catalyst.trees.TreeNode$$anonfun$3.apply(TreeNode.scala:275)\r\n\tat org.apache.spark.sql.catalyst.trees.TreeNode.org$apache$spark$sql$catalyst$trees$TreeNode$$mapChild$2(TreeNode.scala:295)\r\n\tat org.apache.spark.sql.catalyst.trees.TreeNode$$anonfun$4$$anonfun$apply$13.apply(TreeNode.scala:354)\r\n\tat scala.collection.TraversableLike$$anonfun$map$1.apply(TraversableLike.scala:234)\r\n\tat scala.collection.TraversableLike$$anonfun$map$1.apply(TraversableLike.scala:234)\r\n\tat scala.collection.mutable.ResizableArray$class.foreach(ResizableArray.scala:59)\r\n\tat scala.collection.mutable.ArrayBuffer.foreach(ArrayBuffer.scala:48)\r\n\tat scala.collection.TraversableLike$class.map(TraversableLike.scala:234)\r\n\tat scala.collection.AbstractTraversable.map(Traversable.scala:104)\r\n\tat org.apache.spark.sql.catalyst.trees.TreeNode$$anonfun$4.apply(TreeNode.scala:354)\r\n\tat org.apache.spark.sql.catalyst.trees.TreeNode.mapProductIterator(TreeNode.scala:187)\r\n\tat org.apache.spark.sql.catalyst.trees.TreeNode.mapChildren(TreeNode.scala:324)\r\n\tat org.apache.spark.sql.catalyst.trees.TreeNode.transformUp(TreeNode.scala:275)\r\n\tat org.apache.spark.sql.catalyst.plans.QueryPlan$$anonfun$transformExpressionsUp$1.apply(QueryPlan.scala:93)\r\n\tat org.apache.spark.sql.catalyst.plans.QueryPlan$$anonfun$transformExpressionsUp$1.apply(QueryPlan.scala:93)\r\n\tat org.apache.spark.sql.catalyst.plans.QueryPlan$$anonfun$1.apply(QueryPlan.scala:105)\r\n\tat org.apache.spark.sql.catalyst.plans.QueryPlan$$anonfun$1.apply(QueryPlan.scala:105)\r\n\tat org.apache.spark.sql.catalyst.trees.CurrentOrigin$.withOrigin(TreeNode.scala:70)\r\n\tat org.apache.spark.sql.catalyst.plans.QueryPlan.transformExpression$1(QueryPlan.scala:104)\r\n\tat org.apache.spark.sql.catalyst.plans.QueryPlan.org$apache$spark$sql$catalyst$plans$QueryPlan$$recursiveTransform$1(QueryPlan.scala:116)\r\n\tat org.apache.spark.sql.catalyst.plans.QueryPlan$$anonfun$org$apache$spark$sql$catalyst$plans$QueryPlan$$recursiveTransform$1$2.apply(QueryPlan.scala:121)\r\n\tat scala.collection.TraversableLike$$anonfun$map$1.apply(TraversableLike.scala:234)\r\n\tat scala.collection.TraversableLike$$anonfun$map$1.apply(TraversableLike.scala:234)\r\n\tat scala.collection.mutable.ResizableArray$class.foreach(ResizableArray.scala:59)\r\n\tat scala.collection.mutable.ArrayBuffer.foreach(ArrayBuffer.scala:48)\r\n\tat scala.collection.TraversableLike$class.map(TraversableLike.scala:234)\r\n\tat scala.collection.AbstractTraversable.map(Traversable.scala:104)\r\n\tat org.apache.spark.sql.catalyst.plans.QueryPlan.org$apache$spark$sql$catalyst$plans$QueryPlan$$recursiveTransform$1(QueryPlan.scala:121)\r\n\tat org.apache.spark.sql.catalyst.plans.QueryPlan$$anonfun$2.apply(QueryPlan.scala:126)\r\n\tat org.apache.spark.sql.catalyst.trees.TreeNode.mapProductIterator(TreeNode.scala:187)\r\n\tat org.apache.spark.sql.catalyst.plans.QueryPlan.mapExpressions(QueryPlan.scala:126)\r\n\tat org.apache.spark.sql.catalyst.plans.QueryPlan.transformExpressionsUp(QueryPlan.scala:93)\r\n\tat org.apache.spark.sql.catalyst.analysis.CheckAnalysis$$anonfun$checkAnalysis$1.apply(CheckAnalysis.scala:107)\r\n\tat org.apache.spark.sql.catalyst.analysis.CheckAnalysis$$anonfun$checkAnalysis$1.apply(CheckAnalysis.scala:85)\r\n\tat org.apache.spark.sql.catalyst.trees.TreeNode.foreachUp(TreeNode.scala:127)\r\n\tat org.apache.spark.sql.catalyst.analysis.CheckAnalysis$class.checkAnalysis(CheckAnalysis.scala:85)\r\n\tat org.apache.spark.sql.catalyst.analysis.Analyzer.checkAnalysis(Analyzer.scala:95)\r\n\tat org.apache.spark.sql.catalyst.analysis.Analyzer$$anonfun$executeAndCheck$1.apply(Analyzer.scala:108)\r\n\tat org.apache.spark.sql.catalyst.analysis.Analyzer$$anonfun$executeAndCheck$1.apply(Analyzer.scala:105)\r\n\tat org.apache.spark.sql.catalyst.plans.logical.AnalysisHelper$.markInAnalyzer(AnalysisHelper.scala:201)\r\n\tat org.apache.spark.sql.catalyst.analysis.Analyzer.executeAndCheck(Analyzer.scala:105)\r\n\tat org.apache.spark.sql.execution.QueryExecution.analyzed$lzycompute(QueryExecution.scala:57)\r\n\tat org.apache.spark.sql.execution.QueryExecution.analyzed(QueryExecution.scala:55)\r\n\tat org.apache.spark.sql.execution.QueryExecution.assertAnalyzed(QueryExecution.scala:47)\r\n\tat org.apache.spark.sql.Dataset$.ofRows(Dataset.scala:79)\r\n\tat org.apache.spark.sql.RelationalGroupedDataset.toDF(RelationalGroupedDataset.scala:74)\r\n\tat org.apache.spark.sql.RelationalGroupedDataset.agg(RelationalGroupedDataset.scala:224)\r\n\tat sun.reflect.NativeMethodAccessorImpl.invoke0(Native Method)\r\n\tat sun.reflect.NativeMethodAccessorImpl.invoke(NativeMethodAccessorImpl.java:62)\r\n\tat sun.reflect.DelegatingMethodAccessorImpl.invoke(DelegatingMethodAccessorImpl.java:43)\r\n\tat java.lang.reflect.Method.invoke(Method.java:498)\r\n\tat py4j.reflection.MethodInvoker.invoke(MethodInvoker.java:244)\r\n\tat py4j.reflection.ReflectionEngine.invoke(ReflectionEngine.java:357)\r\n\tat py4j.Gateway.invoke(Gateway.java:282)\r\n\tat py4j.commands.AbstractCommand.invokeMethod(AbstractCommand.java:132)\r\n\tat py4j.commands.CallCommand.execute(CallCommand.java:79)\r\n\tat py4j.GatewayConnection.run(GatewayConnection.java:238)\r\n\tat java.lang.Thread.run(Thread.java:748)\r\n",
      "\nDuring handling of the above exception, another exception occurred:\n",
      "\u001b[1;31mAnalysisException\u001b[0m                         Traceback (most recent call last)",
      "\u001b[1;32m<ipython-input-63-0d5b5bf32391>\u001b[0m in \u001b[0;36m<module>\u001b[1;34m\u001b[0m\n\u001b[0;32m      2\u001b[0m \u001b[1;33m\u001b[0m\u001b[0m\n\u001b[0;32m      3\u001b[0m \u001b[1;31m# Pivot\u001b[0m\u001b[1;33m\u001b[0m\u001b[1;33m\u001b[0m\u001b[1;33m\u001b[0m\u001b[0m\n\u001b[1;32m----> 4\u001b[1;33m \u001b[0mpiv_df\u001b[0m \u001b[1;33m=\u001b[0m \u001b[0mex_df\u001b[0m\u001b[1;33m.\u001b[0m\u001b[0mgroupBy\u001b[0m\u001b[1;33m(\u001b[0m\u001b[1;34m'NO'\u001b[0m\u001b[1;33m)\u001b[0m\u001b[1;33m.\u001b[0m\u001b[0mpivot\u001b[0m\u001b[1;33m(\u001b[0m\u001b[1;34m'ex_garage_list'\u001b[0m\u001b[1;33m)\u001b[0m\u001b[1;33m.\u001b[0m\u001b[0magg\u001b[0m\u001b[1;33m(\u001b[0m\u001b[0mcoalesce\u001b[0m\u001b[1;33m(\u001b[0m\u001b[0mfirst\u001b[0m\u001b[1;33m(\u001b[0m\u001b[1;34m'constant_val'\u001b[0m\u001b[1;33m)\u001b[0m\u001b[1;33m)\u001b[0m\u001b[1;33m)\u001b[0m\u001b[1;33m\u001b[0m\u001b[1;33m\u001b[0m\u001b[0m\n\u001b[0m\u001b[0;32m      5\u001b[0m \u001b[1;33m\u001b[0m\u001b[0m\n\u001b[0;32m      6\u001b[0m \u001b[1;31m# Join the dataframes together and fill null\u001b[0m\u001b[1;33m\u001b[0m\u001b[1;33m\u001b[0m\u001b[1;33m\u001b[0m\u001b[0m\n",
      "\u001b[1;32m~\\Anaconda3\\lib\\site-packages\\pyspark\\sql\\group.py\u001b[0m in \u001b[0;36magg\u001b[1;34m(self, *exprs)\u001b[0m\n\u001b[0;32m    113\u001b[0m             \u001b[1;32massert\u001b[0m \u001b[0mall\u001b[0m\u001b[1;33m(\u001b[0m\u001b[0misinstance\u001b[0m\u001b[1;33m(\u001b[0m\u001b[0mc\u001b[0m\u001b[1;33m,\u001b[0m \u001b[0mColumn\u001b[0m\u001b[1;33m)\u001b[0m \u001b[1;32mfor\u001b[0m \u001b[0mc\u001b[0m \u001b[1;32min\u001b[0m \u001b[0mexprs\u001b[0m\u001b[1;33m)\u001b[0m\u001b[1;33m,\u001b[0m \u001b[1;34m\"all exprs should be Column\"\u001b[0m\u001b[1;33m\u001b[0m\u001b[1;33m\u001b[0m\u001b[0m\n\u001b[0;32m    114\u001b[0m             jdf = self._jgd.agg(exprs[0]._jc,\n\u001b[1;32m--> 115\u001b[1;33m                                 _to_seq(self.sql_ctx._sc, [c._jc for c in exprs[1:]]))\n\u001b[0m\u001b[0;32m    116\u001b[0m         \u001b[1;32mreturn\u001b[0m \u001b[0mDataFrame\u001b[0m\u001b[1;33m(\u001b[0m\u001b[0mjdf\u001b[0m\u001b[1;33m,\u001b[0m \u001b[0mself\u001b[0m\u001b[1;33m.\u001b[0m\u001b[0msql_ctx\u001b[0m\u001b[1;33m)\u001b[0m\u001b[1;33m\u001b[0m\u001b[1;33m\u001b[0m\u001b[0m\n\u001b[0;32m    117\u001b[0m \u001b[1;33m\u001b[0m\u001b[0m\n",
      "\u001b[1;32m~\\Anaconda3\\lib\\site-packages\\py4j\\java_gateway.py\u001b[0m in \u001b[0;36m__call__\u001b[1;34m(self, *args)\u001b[0m\n\u001b[0;32m   1255\u001b[0m         \u001b[0manswer\u001b[0m \u001b[1;33m=\u001b[0m \u001b[0mself\u001b[0m\u001b[1;33m.\u001b[0m\u001b[0mgateway_client\u001b[0m\u001b[1;33m.\u001b[0m\u001b[0msend_command\u001b[0m\u001b[1;33m(\u001b[0m\u001b[0mcommand\u001b[0m\u001b[1;33m)\u001b[0m\u001b[1;33m\u001b[0m\u001b[1;33m\u001b[0m\u001b[0m\n\u001b[0;32m   1256\u001b[0m         return_value = get_return_value(\n\u001b[1;32m-> 1257\u001b[1;33m             answer, self.gateway_client, self.target_id, self.name)\n\u001b[0m\u001b[0;32m   1258\u001b[0m \u001b[1;33m\u001b[0m\u001b[0m\n\u001b[0;32m   1259\u001b[0m         \u001b[1;32mfor\u001b[0m \u001b[0mtemp_arg\u001b[0m \u001b[1;32min\u001b[0m \u001b[0mtemp_args\u001b[0m\u001b[1;33m:\u001b[0m\u001b[1;33m\u001b[0m\u001b[1;33m\u001b[0m\u001b[0m\n",
      "\u001b[1;32m~\\Anaconda3\\lib\\site-packages\\pyspark\\sql\\utils.py\u001b[0m in \u001b[0;36mdeco\u001b[1;34m(*a, **kw)\u001b[0m\n\u001b[0;32m     67\u001b[0m                                              e.java_exception.getStackTrace()))\n\u001b[0;32m     68\u001b[0m             \u001b[1;32mif\u001b[0m \u001b[0ms\u001b[0m\u001b[1;33m.\u001b[0m\u001b[0mstartswith\u001b[0m\u001b[1;33m(\u001b[0m\u001b[1;34m'org.apache.spark.sql.AnalysisException: '\u001b[0m\u001b[1;33m)\u001b[0m\u001b[1;33m:\u001b[0m\u001b[1;33m\u001b[0m\u001b[1;33m\u001b[0m\u001b[0m\n\u001b[1;32m---> 69\u001b[1;33m                 \u001b[1;32mraise\u001b[0m \u001b[0mAnalysisException\u001b[0m\u001b[1;33m(\u001b[0m\u001b[0ms\u001b[0m\u001b[1;33m.\u001b[0m\u001b[0msplit\u001b[0m\u001b[1;33m(\u001b[0m\u001b[1;34m': '\u001b[0m\u001b[1;33m,\u001b[0m \u001b[1;36m1\u001b[0m\u001b[1;33m)\u001b[0m\u001b[1;33m[\u001b[0m\u001b[1;36m1\u001b[0m\u001b[1;33m]\u001b[0m\u001b[1;33m,\u001b[0m \u001b[0mstackTrace\u001b[0m\u001b[1;33m)\u001b[0m\u001b[1;33m\u001b[0m\u001b[1;33m\u001b[0m\u001b[0m\n\u001b[0m\u001b[0;32m     70\u001b[0m             \u001b[1;32mif\u001b[0m \u001b[0ms\u001b[0m\u001b[1;33m.\u001b[0m\u001b[0mstartswith\u001b[0m\u001b[1;33m(\u001b[0m\u001b[1;34m'org.apache.spark.sql.catalyst.analysis'\u001b[0m\u001b[1;33m)\u001b[0m\u001b[1;33m:\u001b[0m\u001b[1;33m\u001b[0m\u001b[1;33m\u001b[0m\u001b[0m\n\u001b[0;32m     71\u001b[0m                 \u001b[1;32mraise\u001b[0m \u001b[0mAnalysisException\u001b[0m\u001b[1;33m(\u001b[0m\u001b[0ms\u001b[0m\u001b[1;33m.\u001b[0m\u001b[0msplit\u001b[0m\u001b[1;33m(\u001b[0m\u001b[1;34m': '\u001b[0m\u001b[1;33m,\u001b[0m \u001b[1;36m1\u001b[0m\u001b[1;33m)\u001b[0m\u001b[1;33m[\u001b[0m\u001b[1;36m1\u001b[0m\u001b[1;33m]\u001b[0m\u001b[1;33m,\u001b[0m \u001b[0mstackTrace\u001b[0m\u001b[1;33m)\u001b[0m\u001b[1;33m\u001b[0m\u001b[1;33m\u001b[0m\u001b[0m\n",
      "\u001b[1;31mAnalysisException\u001b[0m: \"cannot resolve '`constant_val`' given input columns: [LISTPRICE, BATHS_PER_1000SQFT, LOT_SIZE_SQFT, MAPLETTER, POTENTIALSHORTSALE, BATHSTOTAL, ROOMFAMILYCHAR, ROOMFLOOR5, ROOMFLOOR2, BED_TO_BATHS, UNITNUMBER, ex_garage_list, YEARBUILT, ASSESSEDVALUATION, ASSESSED_TO_LIST, ACRES, CLASS, OFFMARKETDATE, ROOMFLOOR8, PDOM, ROOMAREA7, PRICEPERTSFT, SALESCLOSEPRICE, LOTSIZEDIMENSIONS, DAYSONMARKET, TAX_TO_LIST, CITY, BATHDESC, LISTDATE, FIREPLACES, TOTAL_SQFT, SQFTABOVEGROUND, ASSESSMENTPENDING, ROOMFLOOR6, ROOMTYPE, TAXES, ROOMAREA3, ROOMAREA5, ROOMAREA8, POOLDESCRIPTION, BATHSHALF, ROOMAREA4, BATHQUARTER, POSTALCODE, DININGROOMDESCRIPTION, BASEMENT, report_year, list_year, ROOMFLOOR4, ORIGINALLISTPRICE, BACKONMARKETDATE, STREETNAME, COOLINGDESCRIPTION, SQFTBELOWGROUND, APPLIANCES, SCHOOLDISTRICTNUMBER, ROOMFLOOR1, ROOMFLOOR7, ZONING, garage_list, ROOMFLOOR3, NO, TAXWITHASSESSMENTS, BEDROOMS, YARD_SIZE, TAXYEAR, STREETNUMBERNUMERIC, FOUNDATIONSIZE, LISTTYPE, ASSOCIATIONFEE, MLSID, GARAGEDESCRIPTION, ROOMAREA6, BATHSTHREEQUARTER, FENCE, STYLE, ROOF, ROOMAREA2, EXTERIOR, STREETADDRESS, List_Day_of_Week, has_attached_garage, ROOMAREA1, STATEORPROVINCE, LIVINGAREA, BATHSFULL, ASSUMABLEMORTGAGE];;\\n'Pivot ArrayBuffer(NO#11224), ex_garage_list#14375: string, [Assigned, Attached Garage, Carport, Contract Pkg Required, Covered, Detached Garage, Driveway - Asphalt, Driveway - Concrete, Driveway - Gravel, Driveway - Other Surface, Driveway - Shared, Garage Door Opener, Heated Garage, Insulated Garage, More Parking Offsite for Fee, More Parking Onsite for Fee, No Int Access to Dwelling, None, On-Street Parking Only, Other, Secured, Tandem, Tuckunder, Unassigned, ... 4 more fields], [coalesce(first('constant_val, false))]\\n+- Project [NO#11224, MLSID#11225, STREETNUMBERNUMERIC#11226, STREETADDRESS#11227, STREETNAME#11228, POSTALCODE#11229, STATEORPROVINCE#11230, CITY#11231, SALESCLOSEPRICE#11232, LISTDATE#13607, LISTPRICE#11234, LISTTYPE#11235, ORIGINALLISTPRICE#11236, PRICEPERTSFT#11237, FOUNDATIONSIZE#11238, FENCE#11239, MAPLETTER#11240, LOTSIZEDIMENSIONS#11241, SCHOOLDISTRICTNUMBER#11242, DAYSONMARKET#11243, OFFMARKETDATE#11244, FIREPLACES#11245, ROOMAREA4#11246, ROOMTYPE#11247, ... 63 more fields]\\n   +- Generate explode(garage_list#14287), false, [ex_garage_list#14375]\\n      +- Project [NO#11224, MLSID#11225, STREETNUMBERNUMERIC#11226, STREETADDRESS#11227, STREETNAME#11228, POSTALCODE#11229, STATEORPROVINCE#11230, CITY#11231, SALESCLOSEPRICE#11232, LISTDATE#13607, LISTPRICE#11234, LISTTYPE#11235, ORIGINALLISTPRICE#11236, PRICEPERTSFT#11237, FOUNDATIONSIZE#11238, FENCE#11239, MAPLETTER#11240, LOTSIZEDIMENSIONS#11241, SCHOOLDISTRICTNUMBER#11242, DAYSONMARKET#11243, OFFMARKETDATE#11244, FIREPLACES#11245, ROOMAREA4#11246, ROOMTYPE#11247, ... 62 more fields]\\n         +- Project [NO#11224, MLSID#11225, STREETNUMBERNUMERIC#11226, STREETADDRESS#11227, STREETNAME#11228, POSTALCODE#11229, STATEORPROVINCE#11230, CITY#11231, SALESCLOSEPRICE#11232, LISTDATE#13607, LISTPRICE#11234, LISTTYPE#11235, ORIGINALLISTPRICE#11236, PRICEPERTSFT#11237, FOUNDATIONSIZE#11238, FENCE#11239, MAPLETTER#11240, LOTSIZEDIMENSIONS#11241, SCHOOLDISTRICTNUMBER#11242, DAYSONMARKET#11243, OFFMARKETDATE#11244, FIREPLACES#11245, ROOMAREA4#11246, ROOMTYPE#11247, ... 61 more fields]\\n            +- Project [NO#11224, MLSID#11225, STREETNUMBERNUMERIC#11226, STREETADDRESS#11227, STREETNAME#11228, POSTALCODE#11229, STATEORPROVINCE#11230, CITY#11231, SALESCLOSEPRICE#11232, LISTDATE#13607, LISTPRICE#11234, LISTTYPE#11235, ORIGINALLISTPRICE#11236, PRICEPERTSFT#11237, FOUNDATIONSIZE#11238, FENCE#11239, MAPLETTER#11240, LOTSIZEDIMENSIONS#11241, SCHOOLDISTRICTNUMBER#11242, DAYSONMARKET#11243, OFFMARKETDATE#11244, FIREPLACES#11245, ROOMAREA4#11246, ROOMTYPE#11247, ... 60 more fields]\\n               +- Project [NO#11224, MLSID#11225, STREETNUMBERNUMERIC#11226, STREETADDRESS#11227, STREETNAME#11228, POSTALCODE#11229, STATEORPROVINCE#11230, CITY#11231, SALESCLOSEPRICE#11232, LISTDATE#13607, LISTPRICE#11234, LISTTYPE#11235, ORIGINALLISTPRICE#11236, PRICEPERTSFT#11237, FOUNDATIONSIZE#11238, FENCE#11239, MAPLETTER#11240, LOTSIZEDIMENSIONS#11241, SCHOOLDISTRICTNUMBER#11242, DAYSONMARKET#11243, OFFMARKETDATE#11244, FIREPLACES#11245, ROOMAREA4#11246, ROOMTYPE#11247, ... 60 more fields]\\n                  +- Project [NO#11224, MLSID#11225, STREETNUMBERNUMERIC#11226, STREETADDRESS#11227, STREETNAME#11228, POSTALCODE#11229, STATEORPROVINCE#11230, CITY#11231, SALESCLOSEPRICE#11232, LISTDATE#13607, LISTPRICE#11234, LISTTYPE#11235, ORIGINALLISTPRICE#11236, PRICEPERTSFT#11237, FOUNDATIONSIZE#11238, FENCE#11239, MAPLETTER#11240, LOTSIZEDIMENSIONS#11241, SCHOOLDISTRICTNUMBER#11242, DAYSONMARKET#11243, OFFMARKETDATE#11244, FIREPLACES#11245, ROOMAREA4#11246, ROOMTYPE#11247, ... 60 more fields]\\n                     +- Project [NO#11224, MLSID#11225, STREETNUMBERNUMERIC#11226, STREETADDRESS#11227, STREETNAME#11228, POSTALCODE#11229, STATEORPROVINCE#11230, CITY#11231, SALESCLOSEPRICE#11232, LISTDATE#13607, LISTPRICE#11234, LISTTYPE#11235, ORIGINALLISTPRICE#11236, PRICEPERTSFT#11237, FOUNDATIONSIZE#11238, FENCE#11239, MAPLETTER#11240, LOTSIZEDIMENSIONS#11241, SCHOOLDISTRICTNUMBER#11242, DAYSONMARKET#11243, OFFMARKETDATE#11244, FIREPLACES#11245, ROOMAREA4#11246, ROOMTYPE#11247, ... 60 more fields]\\n                        +- Project [NO#11224, MLSID#11225, STREETNUMBERNUMERIC#11226, STREETADDRESS#11227, STREETNAME#11228, POSTALCODE#11229, STATEORPROVINCE#11230, CITY#11231, SALESCLOSEPRICE#11232, LISTDATE#13607, LISTPRICE#11234, LISTTYPE#11235, ORIGINALLISTPRICE#11236, PRICEPERTSFT#11237, FOUNDATIONSIZE#11238, FENCE#11239, MAPLETTER#11240, LOTSIZEDIMENSIONS#11241, SCHOOLDISTRICTNUMBER#11242, DAYSONMARKET#11243, OFFMARKETDATE#11244, FIREPLACES#11245, ROOMAREA4#11246, ROOMTYPE#11247, ... 60 more fields]\\n                           +- Project [NO#11224, MLSID#11225, STREETNUMBERNUMERIC#11226, STREETADDRESS#11227, STREETNAME#11228, POSTALCODE#11229, STATEORPROVINCE#11230, CITY#11231, SALESCLOSEPRICE#11232, to_date('LISTDATE, None) AS LISTDATE#13607, LISTPRICE#11234, LISTTYPE#11235, ORIGINALLISTPRICE#11236, PRICEPERTSFT#11237, FOUNDATIONSIZE#11238, FENCE#11239, MAPLETTER#11240, LOTSIZEDIMENSIONS#11241, SCHOOLDISTRICTNUMBER#11242, DAYSONMARKET#11243, OFFMARKETDATE#11244, FIREPLACES#11245, ROOMAREA4#11246, ROOMTYPE#11247, ... 60 more fields]\\n                              +- Project [NO#11224, MLSID#11225, STREETNUMBERNUMERIC#11226, STREETADDRESS#11227, STREETNAME#11228, POSTALCODE#11229, STATEORPROVINCE#11230, CITY#11231, SALESCLOSEPRICE#11232, LISTDATE#13363, LISTPRICE#11234, LISTTYPE#11235, ORIGINALLISTPRICE#11236, PRICEPERTSFT#11237, FOUNDATIONSIZE#11238, FENCE#11239, MAPLETTER#11240, LOTSIZEDIMENSIONS#11241, SCHOOLDISTRICTNUMBER#11242, DAYSONMARKET#11243, OFFMARKETDATE#11244, FIREPLACES#11245, ROOMAREA4#11246, ROOMTYPE#11247, ... 60 more fields]\\n                                 +- Project [NO#11224, MLSID#11225, STREETNUMBERNUMERIC#11226, STREETADDRESS#11227, STREETNAME#11228, POSTALCODE#11229, STATEORPROVINCE#11230, CITY#11231, SALESCLOSEPRICE#11232, to_date('LISTDATE, None) AS LISTDATE#13363, LISTPRICE#11234, LISTTYPE#11235, ORIGINALLISTPRICE#11236, PRICEPERTSFT#11237, FOUNDATIONSIZE#11238, FENCE#11239, MAPLETTER#11240, LOTSIZEDIMENSIONS#11241, SCHOOLDISTRICTNUMBER#11242, DAYSONMARKET#11243, OFFMARKETDATE#11244, FIREPLACES#11245, ROOMAREA4#11246, ROOMTYPE#11247, ... 60 more fields]\\n                                    +- Project [NO#11224, MLSID#11225, STREETNUMBERNUMERIC#11226, STREETADDRESS#11227, STREETNAME#11228, POSTALCODE#11229, STATEORPROVINCE#11230, CITY#11231, SALESCLOSEPRICE#11232, LISTDATE#12520, LISTPRICE#11234, LISTTYPE#11235, ORIGINALLISTPRICE#11236, PRICEPERTSFT#11237, FOUNDATIONSIZE#11238, FENCE#11239, MAPLETTER#11240, LOTSIZEDIMENSIONS#11241, SCHOOLDISTRICTNUMBER#11242, DAYSONMARKET#11243, OFFMARKETDATE#11244, FIREPLACES#11245, ROOMAREA4#11246, ROOMTYPE#11247, ... 60 more fields]\\n                                       +- Project [NO#11224, MLSID#11225, STREETNUMBERNUMERIC#11226, STREETADDRESS#11227, STREETNAME#11228, POSTALCODE#11229, STATEORPROVINCE#11230, CITY#11231, SALESCLOSEPRICE#11232, LISTDATE#12520, LISTPRICE#11234, LISTTYPE#11235, ORIGINALLISTPRICE#11236, PRICEPERTSFT#11237, FOUNDATIONSIZE#11238, FENCE#11239, MAPLETTER#11240, LOTSIZEDIMENSIONS#11241, SCHOOLDISTRICTNUMBER#11242, DAYSONMARKET#11243, OFFMARKETDATE#11244, FIREPLACES#11245, ROOMAREA4#11246, ROOMTYPE#11247, ... 60 more fields]\\n                                          +- Project [NO#11224, MLSID#11225, STREETNUMBERNUMERIC#11226, STREETADDRESS#11227, STREETNAME#11228, POSTALCODE#11229, STATEORPROVINCE#11230, CITY#11231, SALESCLOSEPRICE#11232, LISTDATE#12520, LISTPRICE#11234, LISTTYPE#11235, ORIGINALLISTPRICE#11236, PRICEPERTSFT#11237, FOUNDATIONSIZE#11238, FENCE#11239, MAPLETTER#11240, LOTSIZEDIMENSIONS#11241, SCHOOLDISTRICTNUMBER#11242, DAYSONMARKET#11243, OFFMARKETDATE#11244, FIREPLACES#11245, ROOMAREA4#11246, ROOMTYPE#11247, ... 60 more fields]\\n                                             +- Project [NO#11224, MLSID#11225, STREETNUMBERNUMERIC#11226, STREETADDRESS#11227, STREETNAME#11228, POSTALCODE#11229, STATEORPROVINCE#11230, CITY#11231, SALESCLOSEPRICE#11232, LISTDATE#12520, LISTPRICE#11234, LISTTYPE#11235, ORIGINALLISTPRICE#11236, PRICEPERTSFT#11237, FOUNDATIONSIZE#11238, FENCE#11239, MAPLETTER#11240, LOTSIZEDIMENSIONS#11241, SCHOOLDISTRICTNUMBER#11242, DAYSONMARKET#11243, OFFMARKETDATE#11244, FIREPLACES#11245, ROOMAREA4#11246, ROOMTYPE#11247, ... 60 more fields]\\n                                                +- Project [NO#11224, MLSID#11225, STREETNUMBERNUMERIC#11226, STREETADDRESS#11227, STREETNAME#11228, POSTALCODE#11229, STATEORPROVINCE#11230, CITY#11231, SALESCLOSEPRICE#11232, LISTDATE#12520, LISTPRICE#11234, LISTTYPE#11235, ORIGINALLISTPRICE#11236, PRICEPERTSFT#11237, FOUNDATIONSIZE#11238, FENCE#11239, MAPLETTER#11240, LOTSIZEDIMENSIONS#11241, SCHOOLDISTRICTNUMBER#11242, DAYSONMARKET#11243, OFFMARKETDATE#11244, FIREPLACES#11245, ROOMAREA4#11246, ROOMTYPE#11247, ... 60 more fields]\\n                                                   +- Project [NO#11224, MLSID#11225, STREETNUMBERNUMERIC#11226, STREETADDRESS#11227, STREETNAME#11228, POSTALCODE#11229, STATEORPROVINCE#11230, CITY#11231, SALESCLOSEPRICE#11232, to_date('LISTDATE, None) AS LISTDATE#12520, LISTPRICE#11234, LISTTYPE#11235, ORIGINALLISTPRICE#11236, PRICEPERTSFT#11237, FOUNDATIONSIZE#11238, FENCE#11239, MAPLETTER#11240, LOTSIZEDIMENSIONS#11241, SCHOOLDISTRICTNUMBER#11242, DAYSONMARKET#11243, OFFMARKETDATE#11244, FIREPLACES#11245, ROOMAREA4#11246, ROOMTYPE#11247, ... 59 more fields]\\n                                                      +- Project [NO#11224, MLSID#11225, STREETNUMBERNUMERIC#11226, STREETADDRESS#11227, STREETNAME#11228, POSTALCODE#11229, STATEORPROVINCE#11230, CITY#11231, SALESCLOSEPRICE#11232, LISTDATE#11233, LISTPRICE#11234, LISTTYPE#11235, ORIGINALLISTPRICE#11236, PRICEPERTSFT#11237, FOUNDATIONSIZE#11238, FENCE#11239, MAPLETTER#11240, LOTSIZEDIMENSIONS#11241, SCHOOLDISTRICTNUMBER#11242, DAYSONMARKET#11243, OFFMARKETDATE#11244, FIREPLACES#11245, ROOMAREA4#11246, ROOMTYPE#11247, ... 59 more fields]\\n                                                         +- Project [NO#11224, MLSID#11225, STREETNUMBERNUMERIC#11226, STREETADDRESS#11227, STREETNAME#11228, POSTALCODE#11229, STATEORPROVINCE#11230, CITY#11231, SALESCLOSEPRICE#11232, LISTDATE#11233, LISTPRICE#11234, LISTTYPE#11235, ORIGINALLISTPRICE#11236, PRICEPERTSFT#11237, FOUNDATIONSIZE#11238, FENCE#11239, MAPLETTER#11240, LOTSIZEDIMENSIONS#11241, SCHOOLDISTRICTNUMBER#11242, DAYSONMARKET#11243, OFFMARKETDATE#11244, FIREPLACES#11245, ROOMAREA4#11246, ROOMTYPE#11247, ... 58 more fields]\\n                                                            +- Project [NO#11224, MLSID#11225, STREETNUMBERNUMERIC#11226, STREETADDRESS#11227, STREETNAME#11228, POSTALCODE#11229, STATEORPROVINCE#11230, CITY#11231, SALESCLOSEPRICE#11232, LISTDATE#11233, LISTPRICE#11234, LISTTYPE#11235, ORIGINALLISTPRICE#11236, PRICEPERTSFT#11237, FOUNDATIONSIZE#11238, FENCE#11239, MAPLETTER#11240, LOTSIZEDIMENSIONS#11241, SCHOOLDISTRICTNUMBER#11242, DAYSONMARKET#11243, OFFMARKETDATE#11244, FIREPLACES#11245, ROOMAREA4#11246, ROOMTYPE#11247, ... 57 more fields]\\n                                                               +- Project [NO#11224, MLSID#11225, STREETNUMBERNUMERIC#11226, STREETADDRESS#11227, STREETNAME#11228, POSTALCODE#11229, STATEORPROVINCE#11230, CITY#11231, SALESCLOSEPRICE#11232, LISTDATE#11233, LISTPRICE#11234, LISTTYPE#11235, ORIGINALLISTPRICE#11236, PRICEPERTSFT#11237, FOUNDATIONSIZE#11238, FENCE#11239, MAPLETTER#11240, LOTSIZEDIMENSIONS#11241, SCHOOLDISTRICTNUMBER#11242, DAYSONMARKET#11243, OFFMARKETDATE#11244, FIREPLACES#11245, ROOMAREA4#11246, ROOMTYPE#11247, ... 56 more fields]\\n                                                                  +- Project [NO#11224, MLSID#11225, STREETNUMBERNUMERIC#11226, STREETADDRESS#11227, STREETNAME#11228, POSTALCODE#11229, STATEORPROVINCE#11230, CITY#11231, SALESCLOSEPRICE#11232, LISTDATE#11233, LISTPRICE#11234, LISTTYPE#11235, ORIGINALLISTPRICE#11236, PRICEPERTSFT#11237, FOUNDATIONSIZE#11238, FENCE#11239, MAPLETTER#11240, LOTSIZEDIMENSIONS#11241, SCHOOLDISTRICTNUMBER#11242, DAYSONMARKET#11243, OFFMARKETDATE#11244, FIREPLACES#11245, ROOMAREA4#11246, ROOMTYPE#11247, ... 55 more fields]\\n                                                                     +- Project [NO#11224, MLSID#11225, STREETNUMBERNUMERIC#11226, STREETADDRESS#11227, STREETNAME#11228, POSTALCODE#11229, STATEORPROVINCE#11230, CITY#11231, SALESCLOSEPRICE#11232, LISTDATE#11233, LISTPRICE#11234, LISTTYPE#11235, ORIGINALLISTPRICE#11236, PRICEPERTSFT#11237, FOUNDATIONSIZE#11238, FENCE#11239, MAPLETTER#11240, LOTSIZEDIMENSIONS#11241, SCHOOLDISTRICTNUMBER#11242, DAYSONMARKET#11243, OFFMARKETDATE#11244, FIREPLACES#11245, ROOMAREA4#11246, ROOMTYPE#11247, ... 54 more fields]\\n                                                                        +- Project [NO#11224, MLSID#11225, STREETNUMBERNUMERIC#11226, STREETADDRESS#11227, STREETNAME#11228, POSTALCODE#11229, STATEORPROVINCE#11230, CITY#11231, SALESCLOSEPRICE#11232, LISTDATE#11233, LISTPRICE#11234, LISTTYPE#11235, ORIGINALLISTPRICE#11236, PRICEPERTSFT#11237, FOUNDATIONSIZE#11238, FENCE#11239, MAPLETTER#11240, LOTSIZEDIMENSIONS#11241, SCHOOLDISTRICTNUMBER#11242, DAYSONMARKET#11243, OFFMARKETDATE#11244, FIREPLACES#11245, ROOMAREA4#11246, ROOMTYPE#11247, ... 53 more fields]\\n                                                                           +- Project [NO#11224, MLSID#11225, STREETNUMBERNUMERIC#11226, STREETADDRESS#11227, STREETNAME#11228, POSTALCODE#11229, STATEORPROVINCE#11230, CITY#11231, SALESCLOSEPRICE#11232, LISTDATE#11233, LISTPRICE#11234, LISTTYPE#11235, ORIGINALLISTPRICE#11236, PRICEPERTSFT#11237, FOUNDATIONSIZE#11238, FENCE#11239, MAPLETTER#11240, LOTSIZEDIMENSIONS#11241, SCHOOLDISTRICTNUMBER#11242, DAYSONMARKET#11243, OFFMARKETDATE#11244, FIREPLACES#11245, ROOMAREA4#11246, ROOMTYPE#11247, ... 52 more fields]\\n                                                                              +- Project [NO#11224, MLSID#11225, STREETNUMBERNUMERIC#11226, STREETADDRESS#11227, STREETNAME#11228, POSTALCODE#11229, STATEORPROVINCE#11230, CITY#11231, SALESCLOSEPRICE#11232, LISTDATE#11233, LISTPRICE#11234, LISTTYPE#11235, ORIGINALLISTPRICE#11236, PRICEPERTSFT#11237, FOUNDATIONSIZE#11238, FENCE#11239, MAPLETTER#11240, LOTSIZEDIMENSIONS#11241, SCHOOLDISTRICTNUMBER#11242, DAYSONMARKET#11243, OFFMARKETDATE#11244, FIREPLACES#11245, ROOMAREA4#11246, ROOMTYPE#11247, ... 51 more fields]\\n                                                                                 +- Relation[NO#11224,MLSID#11225,STREETNUMBERNUMERIC#11226,STREETADDRESS#11227,STREETNAME#11228,POSTALCODE#11229,STATEORPROVINCE#11230,CITY#11231,SALESCLOSEPRICE#11232,LISTDATE#11233,LISTPRICE#11234,LISTTYPE#11235,ORIGINALLISTPRICE#11236,PRICEPERTSFT#11237,FOUNDATIONSIZE#11238,FENCE#11239,MAPLETTER#11240,LOTSIZEDIMENSIONS#11241,SCHOOLDISTRICTNUMBER#11242,DAYSONMARKET#11243,OFFMARKETDATE#11244,FIREPLACES#11245,ROOMAREA4#11246,ROOMTYPE#11247,... 50 more fields] csv\\n\""
     ]
    }
   ],
   "source": [
    "from pyspark.sql.functions import coalesce, first\n",
    "\n",
    "# Pivot \n",
    "piv_df = ex_df.groupBy('NO').pivot('ex_garage_list').agg(coalesce(first('constant_val')))\n",
    "\n",
    "# Join the dataframes together and fill null\n",
    "joined_df = df.join(piv_df, on='NO', how='left')\n",
    "\n",
    "# Columns to zero fill\n",
    "zfill_cols = piv_df.columns\n",
    "\n",
    "# Zero fill the pivoted values\n",
    "zfilled_df = joined_df.fillna(0, subset=zfill_cols)"
   ]
  },
  {
   "cell_type": "markdown",
   "metadata": {},
   "source": [
    "## Binarizing Day of Week\n",
    "\n",
    "In a previous video, we saw that it was very unlikely for a home to list on the weekend. Let's create a new field that says if the house is listed for sale on a weekday or not. In this example there is a field called List_Day_of_Week that has Monday is labeled 1.0 and Sunday is 7.0. Let's convert this to a binary field with weekday being 0 and weekend being 1. We can use the pyspark feature transformer Binarizer to do this."
   ]
  },
  {
   "cell_type": "code",
   "execution_count": 64,
   "metadata": {
    "ExecuteTime": {
     "end_time": "2019-02-16T19:37:54.063017Z",
     "start_time": "2019-02-16T19:37:53.955306Z"
    }
   },
   "outputs": [
    {
     "ename": "IllegalArgumentException",
     "evalue": "'Data type IntegerType is not supported.'",
     "output_type": "error",
     "traceback": [
      "\u001b[1;31m---------------------------------------------------------------------------\u001b[0m",
      "\u001b[1;31mPy4JJavaError\u001b[0m                             Traceback (most recent call last)",
      "\u001b[1;32m~\\Anaconda3\\lib\\site-packages\\pyspark\\sql\\utils.py\u001b[0m in \u001b[0;36mdeco\u001b[1;34m(*a, **kw)\u001b[0m\n\u001b[0;32m     62\u001b[0m         \u001b[1;32mtry\u001b[0m\u001b[1;33m:\u001b[0m\u001b[1;33m\u001b[0m\u001b[1;33m\u001b[0m\u001b[0m\n\u001b[1;32m---> 63\u001b[1;33m             \u001b[1;32mreturn\u001b[0m \u001b[0mf\u001b[0m\u001b[1;33m(\u001b[0m\u001b[1;33m*\u001b[0m\u001b[0ma\u001b[0m\u001b[1;33m,\u001b[0m \u001b[1;33m**\u001b[0m\u001b[0mkw\u001b[0m\u001b[1;33m)\u001b[0m\u001b[1;33m\u001b[0m\u001b[1;33m\u001b[0m\u001b[0m\n\u001b[0m\u001b[0;32m     64\u001b[0m         \u001b[1;32mexcept\u001b[0m \u001b[0mpy4j\u001b[0m\u001b[1;33m.\u001b[0m\u001b[0mprotocol\u001b[0m\u001b[1;33m.\u001b[0m\u001b[0mPy4JJavaError\u001b[0m \u001b[1;32mas\u001b[0m \u001b[0me\u001b[0m\u001b[1;33m:\u001b[0m\u001b[1;33m\u001b[0m\u001b[1;33m\u001b[0m\u001b[0m\n",
      "\u001b[1;32m~\\Anaconda3\\lib\\site-packages\\py4j\\protocol.py\u001b[0m in \u001b[0;36mget_return_value\u001b[1;34m(answer, gateway_client, target_id, name)\u001b[0m\n\u001b[0;32m    327\u001b[0m                     \u001b[1;34m\"An error occurred while calling {0}{1}{2}.\\n\"\u001b[0m\u001b[1;33m.\u001b[0m\u001b[1;33m\u001b[0m\u001b[1;33m\u001b[0m\u001b[0m\n\u001b[1;32m--> 328\u001b[1;33m                     format(target_id, \".\", name), value)\n\u001b[0m\u001b[0;32m    329\u001b[0m             \u001b[1;32melse\u001b[0m\u001b[1;33m:\u001b[0m\u001b[1;33m\u001b[0m\u001b[1;33m\u001b[0m\u001b[0m\n",
      "\u001b[1;31mPy4JJavaError\u001b[0m: An error occurred while calling o897.transform.\n: java.lang.IllegalArgumentException: Data type IntegerType is not supported.\r\n\tat org.apache.spark.ml.feature.Binarizer.transformSchema(Binarizer.scala:115)\r\n\tat org.apache.spark.ml.PipelineStage.transformSchema(Pipeline.scala:74)\r\n\tat org.apache.spark.ml.feature.Binarizer.transform(Binarizer.scala:74)\r\n\tat sun.reflect.NativeMethodAccessorImpl.invoke0(Native Method)\r\n\tat sun.reflect.NativeMethodAccessorImpl.invoke(NativeMethodAccessorImpl.java:62)\r\n\tat sun.reflect.DelegatingMethodAccessorImpl.invoke(DelegatingMethodAccessorImpl.java:43)\r\n\tat java.lang.reflect.Method.invoke(Method.java:498)\r\n\tat py4j.reflection.MethodInvoker.invoke(MethodInvoker.java:244)\r\n\tat py4j.reflection.ReflectionEngine.invoke(ReflectionEngine.java:357)\r\n\tat py4j.Gateway.invoke(Gateway.java:282)\r\n\tat py4j.commands.AbstractCommand.invokeMethod(AbstractCommand.java:132)\r\n\tat py4j.commands.CallCommand.execute(CallCommand.java:79)\r\n\tat py4j.GatewayConnection.run(GatewayConnection.java:238)\r\n\tat java.lang.Thread.run(Thread.java:748)\r\n",
      "\nDuring handling of the above exception, another exception occurred:\n",
      "\u001b[1;31mIllegalArgumentException\u001b[0m                  Traceback (most recent call last)",
      "\u001b[1;32m<ipython-input-64-a3a511b6508d>\u001b[0m in \u001b[0;36m<module>\u001b[1;34m\u001b[0m\n\u001b[0;32m      6\u001b[0m \u001b[1;33m\u001b[0m\u001b[0m\n\u001b[0;32m      7\u001b[0m \u001b[1;31m# Apply the transformation to df\u001b[0m\u001b[1;33m\u001b[0m\u001b[1;33m\u001b[0m\u001b[1;33m\u001b[0m\u001b[0m\n\u001b[1;32m----> 8\u001b[1;33m \u001b[0mdf\u001b[0m \u001b[1;33m=\u001b[0m \u001b[0mbinarizer\u001b[0m\u001b[1;33m.\u001b[0m\u001b[0mtransform\u001b[0m\u001b[1;33m(\u001b[0m\u001b[0mdf\u001b[0m\u001b[1;33m)\u001b[0m\u001b[1;33m\u001b[0m\u001b[1;33m\u001b[0m\u001b[0m\n\u001b[0m\u001b[0;32m      9\u001b[0m \u001b[1;33m\u001b[0m\u001b[0m\n\u001b[0;32m     10\u001b[0m \u001b[1;31m# Verify transformation\u001b[0m\u001b[1;33m\u001b[0m\u001b[1;33m\u001b[0m\u001b[1;33m\u001b[0m\u001b[0m\n",
      "\u001b[1;32m~\\Anaconda3\\lib\\site-packages\\pyspark\\ml\\base.py\u001b[0m in \u001b[0;36mtransform\u001b[1;34m(self, dataset, params)\u001b[0m\n\u001b[0;32m    171\u001b[0m                 \u001b[1;32mreturn\u001b[0m \u001b[0mself\u001b[0m\u001b[1;33m.\u001b[0m\u001b[0mcopy\u001b[0m\u001b[1;33m(\u001b[0m\u001b[0mparams\u001b[0m\u001b[1;33m)\u001b[0m\u001b[1;33m.\u001b[0m\u001b[0m_transform\u001b[0m\u001b[1;33m(\u001b[0m\u001b[0mdataset\u001b[0m\u001b[1;33m)\u001b[0m\u001b[1;33m\u001b[0m\u001b[1;33m\u001b[0m\u001b[0m\n\u001b[0;32m    172\u001b[0m             \u001b[1;32melse\u001b[0m\u001b[1;33m:\u001b[0m\u001b[1;33m\u001b[0m\u001b[1;33m\u001b[0m\u001b[0m\n\u001b[1;32m--> 173\u001b[1;33m                 \u001b[1;32mreturn\u001b[0m \u001b[0mself\u001b[0m\u001b[1;33m.\u001b[0m\u001b[0m_transform\u001b[0m\u001b[1;33m(\u001b[0m\u001b[0mdataset\u001b[0m\u001b[1;33m)\u001b[0m\u001b[1;33m\u001b[0m\u001b[1;33m\u001b[0m\u001b[0m\n\u001b[0m\u001b[0;32m    174\u001b[0m         \u001b[1;32melse\u001b[0m\u001b[1;33m:\u001b[0m\u001b[1;33m\u001b[0m\u001b[1;33m\u001b[0m\u001b[0m\n\u001b[0;32m    175\u001b[0m             \u001b[1;32mraise\u001b[0m \u001b[0mValueError\u001b[0m\u001b[1;33m(\u001b[0m\u001b[1;34m\"Params must be a param map but got %s.\"\u001b[0m \u001b[1;33m%\u001b[0m \u001b[0mtype\u001b[0m\u001b[1;33m(\u001b[0m\u001b[0mparams\u001b[0m\u001b[1;33m)\u001b[0m\u001b[1;33m)\u001b[0m\u001b[1;33m\u001b[0m\u001b[1;33m\u001b[0m\u001b[0m\n",
      "\u001b[1;32m~\\Anaconda3\\lib\\site-packages\\pyspark\\ml\\wrapper.py\u001b[0m in \u001b[0;36m_transform\u001b[1;34m(self, dataset)\u001b[0m\n\u001b[0;32m    310\u001b[0m     \u001b[1;32mdef\u001b[0m \u001b[0m_transform\u001b[0m\u001b[1;33m(\u001b[0m\u001b[0mself\u001b[0m\u001b[1;33m,\u001b[0m \u001b[0mdataset\u001b[0m\u001b[1;33m)\u001b[0m\u001b[1;33m:\u001b[0m\u001b[1;33m\u001b[0m\u001b[1;33m\u001b[0m\u001b[0m\n\u001b[0;32m    311\u001b[0m         \u001b[0mself\u001b[0m\u001b[1;33m.\u001b[0m\u001b[0m_transfer_params_to_java\u001b[0m\u001b[1;33m(\u001b[0m\u001b[1;33m)\u001b[0m\u001b[1;33m\u001b[0m\u001b[1;33m\u001b[0m\u001b[0m\n\u001b[1;32m--> 312\u001b[1;33m         \u001b[1;32mreturn\u001b[0m \u001b[0mDataFrame\u001b[0m\u001b[1;33m(\u001b[0m\u001b[0mself\u001b[0m\u001b[1;33m.\u001b[0m\u001b[0m_java_obj\u001b[0m\u001b[1;33m.\u001b[0m\u001b[0mtransform\u001b[0m\u001b[1;33m(\u001b[0m\u001b[0mdataset\u001b[0m\u001b[1;33m.\u001b[0m\u001b[0m_jdf\u001b[0m\u001b[1;33m)\u001b[0m\u001b[1;33m,\u001b[0m \u001b[0mdataset\u001b[0m\u001b[1;33m.\u001b[0m\u001b[0msql_ctx\u001b[0m\u001b[1;33m)\u001b[0m\u001b[1;33m\u001b[0m\u001b[1;33m\u001b[0m\u001b[0m\n\u001b[0m\u001b[0;32m    313\u001b[0m \u001b[1;33m\u001b[0m\u001b[0m\n\u001b[0;32m    314\u001b[0m \u001b[1;33m\u001b[0m\u001b[0m\n",
      "\u001b[1;32m~\\Anaconda3\\lib\\site-packages\\py4j\\java_gateway.py\u001b[0m in \u001b[0;36m__call__\u001b[1;34m(self, *args)\u001b[0m\n\u001b[0;32m   1255\u001b[0m         \u001b[0manswer\u001b[0m \u001b[1;33m=\u001b[0m \u001b[0mself\u001b[0m\u001b[1;33m.\u001b[0m\u001b[0mgateway_client\u001b[0m\u001b[1;33m.\u001b[0m\u001b[0msend_command\u001b[0m\u001b[1;33m(\u001b[0m\u001b[0mcommand\u001b[0m\u001b[1;33m)\u001b[0m\u001b[1;33m\u001b[0m\u001b[1;33m\u001b[0m\u001b[0m\n\u001b[0;32m   1256\u001b[0m         return_value = get_return_value(\n\u001b[1;32m-> 1257\u001b[1;33m             answer, self.gateway_client, self.target_id, self.name)\n\u001b[0m\u001b[0;32m   1258\u001b[0m \u001b[1;33m\u001b[0m\u001b[0m\n\u001b[0;32m   1259\u001b[0m         \u001b[1;32mfor\u001b[0m \u001b[0mtemp_arg\u001b[0m \u001b[1;32min\u001b[0m \u001b[0mtemp_args\u001b[0m\u001b[1;33m:\u001b[0m\u001b[1;33m\u001b[0m\u001b[1;33m\u001b[0m\u001b[0m\n",
      "\u001b[1;32m~\\Anaconda3\\lib\\site-packages\\pyspark\\sql\\utils.py\u001b[0m in \u001b[0;36mdeco\u001b[1;34m(*a, **kw)\u001b[0m\n\u001b[0;32m     77\u001b[0m                 \u001b[1;32mraise\u001b[0m \u001b[0mQueryExecutionException\u001b[0m\u001b[1;33m(\u001b[0m\u001b[0ms\u001b[0m\u001b[1;33m.\u001b[0m\u001b[0msplit\u001b[0m\u001b[1;33m(\u001b[0m\u001b[1;34m': '\u001b[0m\u001b[1;33m,\u001b[0m \u001b[1;36m1\u001b[0m\u001b[1;33m)\u001b[0m\u001b[1;33m[\u001b[0m\u001b[1;36m1\u001b[0m\u001b[1;33m]\u001b[0m\u001b[1;33m,\u001b[0m \u001b[0mstackTrace\u001b[0m\u001b[1;33m)\u001b[0m\u001b[1;33m\u001b[0m\u001b[1;33m\u001b[0m\u001b[0m\n\u001b[0;32m     78\u001b[0m             \u001b[1;32mif\u001b[0m \u001b[0ms\u001b[0m\u001b[1;33m.\u001b[0m\u001b[0mstartswith\u001b[0m\u001b[1;33m(\u001b[0m\u001b[1;34m'java.lang.IllegalArgumentException: '\u001b[0m\u001b[1;33m)\u001b[0m\u001b[1;33m:\u001b[0m\u001b[1;33m\u001b[0m\u001b[1;33m\u001b[0m\u001b[0m\n\u001b[1;32m---> 79\u001b[1;33m                 \u001b[1;32mraise\u001b[0m \u001b[0mIllegalArgumentException\u001b[0m\u001b[1;33m(\u001b[0m\u001b[0ms\u001b[0m\u001b[1;33m.\u001b[0m\u001b[0msplit\u001b[0m\u001b[1;33m(\u001b[0m\u001b[1;34m': '\u001b[0m\u001b[1;33m,\u001b[0m \u001b[1;36m1\u001b[0m\u001b[1;33m)\u001b[0m\u001b[1;33m[\u001b[0m\u001b[1;36m1\u001b[0m\u001b[1;33m]\u001b[0m\u001b[1;33m,\u001b[0m \u001b[0mstackTrace\u001b[0m\u001b[1;33m)\u001b[0m\u001b[1;33m\u001b[0m\u001b[1;33m\u001b[0m\u001b[0m\n\u001b[0m\u001b[0;32m     80\u001b[0m             \u001b[1;32mraise\u001b[0m\u001b[1;33m\u001b[0m\u001b[1;33m\u001b[0m\u001b[0m\n\u001b[0;32m     81\u001b[0m     \u001b[1;32mreturn\u001b[0m \u001b[0mdeco\u001b[0m\u001b[1;33m\u001b[0m\u001b[1;33m\u001b[0m\u001b[0m\n",
      "\u001b[1;31mIllegalArgumentException\u001b[0m: 'Data type IntegerType is not supported.'"
     ]
    }
   ],
   "source": [
    "# Import transformer\n",
    "from pyspark.ml.feature import Binarizer\n",
    "\n",
    "# Create the transformer\n",
    "binarizer = Binarizer(threshold=5.0, inputCol='List_Day_of_Week', outputCol='Listed_On_Weekend')\n",
    "\n",
    "# Apply the transformation to df\n",
    "df = binarizer.transform(df)\n",
    "\n",
    "# Verify transformation\n",
    "df[['List_Day_of_Week', 'Listed_On_Weekend']].show()"
   ]
  },
  {
   "cell_type": "markdown",
   "metadata": {},
   "source": [
    "## Bucketing\n",
    "\n",
    "If you are a homeowner its very important if a house has 1, 2, 3 or 4 bedrooms. But like bathrooms, once you hit a certain point you don't really care whether the house has 7 or 8. This example we'll look at how to figure out where are some good value points to bucket."
   ]
  },
  {
   "cell_type": "code",
   "execution_count": 65,
   "metadata": {
    "ExecuteTime": {
     "end_time": "2019-02-16T19:37:56.593268Z",
     "start_time": "2019-02-16T19:37:56.451624Z"
    }
   },
   "outputs": [
    {
     "ename": "TypeError",
     "evalue": "unsupported operand type(s) for +: 'float' and 'NoneType'",
     "output_type": "error",
     "traceback": [
      "\u001b[1;31m---------------------------------------------------------------------------\u001b[0m",
      "\u001b[1;31mTypeError\u001b[0m                                 Traceback (most recent call last)",
      "\u001b[1;32m<ipython-input-65-9547fda6fbaa>\u001b[0m in \u001b[0;36m<module>\u001b[1;34m\u001b[0m\n\u001b[0;32m      2\u001b[0m \u001b[1;33m\u001b[0m\u001b[0m\n\u001b[0;32m      3\u001b[0m \u001b[1;31m# Plot distribution of sample_df\u001b[0m\u001b[1;33m\u001b[0m\u001b[1;33m\u001b[0m\u001b[1;33m\u001b[0m\u001b[0m\n\u001b[1;32m----> 4\u001b[1;33m \u001b[0msns\u001b[0m\u001b[1;33m.\u001b[0m\u001b[0mdistplot\u001b[0m\u001b[1;33m(\u001b[0m\u001b[0msample_df\u001b[0m\u001b[1;33m,\u001b[0m \u001b[0maxlabel\u001b[0m\u001b[1;33m=\u001b[0m\u001b[1;34m'BEDROOMS'\u001b[0m\u001b[1;33m)\u001b[0m\u001b[1;33m\u001b[0m\u001b[1;33m\u001b[0m\u001b[0m\n\u001b[0m\u001b[0;32m      5\u001b[0m \u001b[0mplt\u001b[0m\u001b[1;33m.\u001b[0m\u001b[0mshow\u001b[0m\u001b[1;33m(\u001b[0m\u001b[1;33m)\u001b[0m\u001b[1;33m\u001b[0m\u001b[1;33m\u001b[0m\u001b[0m\n\u001b[0;32m      6\u001b[0m \u001b[1;33m\u001b[0m\u001b[0m\n",
      "\u001b[1;32m~\\Anaconda3\\lib\\site-packages\\seaborn\\distributions.py\u001b[0m in \u001b[0;36mdistplot\u001b[1;34m(a, bins, hist, kde, rug, fit, hist_kws, kde_kws, rug_kws, fit_kws, color, vertical, norm_hist, axlabel, label, ax)\u001b[0m\n\u001b[0;32m    196\u001b[0m             \u001b[0mline\u001b[0m\u001b[1;33m,\u001b[0m \u001b[1;33m=\u001b[0m \u001b[0max\u001b[0m\u001b[1;33m.\u001b[0m\u001b[0mplot\u001b[0m\u001b[1;33m(\u001b[0m\u001b[1;36m0\u001b[0m\u001b[1;33m,\u001b[0m \u001b[0ma\u001b[0m\u001b[1;33m.\u001b[0m\u001b[0mmean\u001b[0m\u001b[1;33m(\u001b[0m\u001b[1;33m)\u001b[0m\u001b[1;33m)\u001b[0m\u001b[1;33m\u001b[0m\u001b[1;33m\u001b[0m\u001b[0m\n\u001b[0;32m    197\u001b[0m         \u001b[1;32melse\u001b[0m\u001b[1;33m:\u001b[0m\u001b[1;33m\u001b[0m\u001b[1;33m\u001b[0m\u001b[0m\n\u001b[1;32m--> 198\u001b[1;33m             \u001b[0mline\u001b[0m\u001b[1;33m,\u001b[0m \u001b[1;33m=\u001b[0m \u001b[0max\u001b[0m\u001b[1;33m.\u001b[0m\u001b[0mplot\u001b[0m\u001b[1;33m(\u001b[0m\u001b[0ma\u001b[0m\u001b[1;33m.\u001b[0m\u001b[0mmean\u001b[0m\u001b[1;33m(\u001b[0m\u001b[1;33m)\u001b[0m\u001b[1;33m,\u001b[0m \u001b[1;36m0\u001b[0m\u001b[1;33m)\u001b[0m\u001b[1;33m\u001b[0m\u001b[1;33m\u001b[0m\u001b[0m\n\u001b[0m\u001b[0;32m    199\u001b[0m         \u001b[0mcolor\u001b[0m \u001b[1;33m=\u001b[0m \u001b[0mline\u001b[0m\u001b[1;33m.\u001b[0m\u001b[0mget_color\u001b[0m\u001b[1;33m(\u001b[0m\u001b[1;33m)\u001b[0m\u001b[1;33m\u001b[0m\u001b[1;33m\u001b[0m\u001b[0m\n\u001b[0;32m    200\u001b[0m         \u001b[0mline\u001b[0m\u001b[1;33m.\u001b[0m\u001b[0mremove\u001b[0m\u001b[1;33m(\u001b[0m\u001b[1;33m)\u001b[0m\u001b[1;33m\u001b[0m\u001b[1;33m\u001b[0m\u001b[0m\n",
      "\u001b[1;32m~\\Anaconda3\\lib\\site-packages\\numpy\\core\\_methods.py\u001b[0m in \u001b[0;36m_mean\u001b[1;34m(a, axis, dtype, out, keepdims)\u001b[0m\n\u001b[0;32m     73\u001b[0m             \u001b[0mis_float16_result\u001b[0m \u001b[1;33m=\u001b[0m \u001b[1;32mTrue\u001b[0m\u001b[1;33m\u001b[0m\u001b[1;33m\u001b[0m\u001b[0m\n\u001b[0;32m     74\u001b[0m \u001b[1;33m\u001b[0m\u001b[0m\n\u001b[1;32m---> 75\u001b[1;33m     \u001b[0mret\u001b[0m \u001b[1;33m=\u001b[0m \u001b[0mumr_sum\u001b[0m\u001b[1;33m(\u001b[0m\u001b[0marr\u001b[0m\u001b[1;33m,\u001b[0m \u001b[0maxis\u001b[0m\u001b[1;33m,\u001b[0m \u001b[0mdtype\u001b[0m\u001b[1;33m,\u001b[0m \u001b[0mout\u001b[0m\u001b[1;33m,\u001b[0m \u001b[0mkeepdims\u001b[0m\u001b[1;33m)\u001b[0m\u001b[1;33m\u001b[0m\u001b[1;33m\u001b[0m\u001b[0m\n\u001b[0m\u001b[0;32m     76\u001b[0m     \u001b[1;32mif\u001b[0m \u001b[0misinstance\u001b[0m\u001b[1;33m(\u001b[0m\u001b[0mret\u001b[0m\u001b[1;33m,\u001b[0m \u001b[0mmu\u001b[0m\u001b[1;33m.\u001b[0m\u001b[0mndarray\u001b[0m\u001b[1;33m)\u001b[0m\u001b[1;33m:\u001b[0m\u001b[1;33m\u001b[0m\u001b[1;33m\u001b[0m\u001b[0m\n\u001b[0;32m     77\u001b[0m         ret = um.true_divide(\n",
      "\u001b[1;31mTypeError\u001b[0m: unsupported operand type(s) for +: 'float' and 'NoneType'"
     ]
    },
    {
     "data": {
      "image/png": "[encoded data removed]",
      "text/plain": [
       "<Figure size 432x288 with 1 Axes>"
      ]
     },
     "metadata": {
      "needs_background": "light"
     },
     "output_type": "display_data"
    }
   ],
   "source": [
    "from pyspark.ml.feature import Bucketizer\n",
    "\n",
    "# Plot distribution of sample_df\n",
    "sns.distplot(sample_df, axlabel='BEDROOMS')\n",
    "plt.show()\n",
    "\n",
    "# Create the bucket splits and bucketizer\n",
    "splits = [0, 1, 2, 3, 4, 5, float('Inf')]\n",
    "buck = Bucketizer(splits=splits, inputCol='BEDROOMS', outputCol='bedrooms')\n",
    "\n",
    "# Apply the transformation to df\n",
    "df = buck.transform(df)\n",
    "\n",
    "# Display results\n",
    "df[['BEDROOMS', 'bedrooms']].show()"
   ]
  },
  {
   "cell_type": "markdown",
   "metadata": {},
   "source": [
    "## One Hot Encoding\n",
    "\n",
    "In the United States where you live determines which schools your kids can attend. Therefore it's understandable that many people care deeply about which school districts their future home will be in. While the school districts are numbered in SCHOOLDISTRICTNUMBER they are really categorical. Meaning that summing or averaging these values has no apparent meaning. Therefore in this example we will convert SCHOOLDISTRICTNUMBER from a categorial variable into a numeric vector to use in our machine learning model later."
   ]
  },
  {
   "cell_type": "code",
   "execution_count": 66,
   "metadata": {
    "ExecuteTime": {
     "end_time": "2019-02-16T19:37:58.697896Z",
     "start_time": "2019-02-16T19:37:57.814257Z"
    }
   },
   "outputs": [
    {
     "name": "stdout",
     "output_type": "stream",
     "text": [
      "+-----------------------------+------------+-------------+\n",
      "|         SCHOOLDISTRICTNUMBER|School_Index|   School_Vec|\n",
      "+-----------------------------+------------+-------------+\n",
      "|             834 - Stillwater|         3.0|(7,[3],[1.0])|\n",
      "|             834 - Stillwater|         3.0|(7,[3],[1.0])|\n",
      "|622 - North St Paul-Maplewood|         1.0|(7,[1],[1.0])|\n",
      "|             834 - Stillwater|         3.0|(7,[3],[1.0])|\n",
      "|622 - North St Paul-Maplewood|         1.0|(7,[1],[1.0])|\n",
      "|             834 - Stillwater|         3.0|(7,[3],[1.0])|\n",
      "|             834 - Stillwater|         3.0|(7,[3],[1.0])|\n",
      "|             834 - Stillwater|         3.0|(7,[3],[1.0])|\n",
      "|             834 - Stillwater|         3.0|(7,[3],[1.0])|\n",
      "|             834 - Stillwater|         3.0|(7,[3],[1.0])|\n",
      "|             834 - Stillwater|         3.0|(7,[3],[1.0])|\n",
      "|             834 - Stillwater|         3.0|(7,[3],[1.0])|\n",
      "|             834 - Stillwater|         3.0|(7,[3],[1.0])|\n",
      "|             834 - Stillwater|         3.0|(7,[3],[1.0])|\n",
      "|             834 - Stillwater|         3.0|(7,[3],[1.0])|\n",
      "|             834 - Stillwater|         3.0|(7,[3],[1.0])|\n",
      "|             834 - Stillwater|         3.0|(7,[3],[1.0])|\n",
      "|             834 - Stillwater|         3.0|(7,[3],[1.0])|\n",
      "|             834 - Stillwater|         3.0|(7,[3],[1.0])|\n",
      "|             834 - Stillwater|         3.0|(7,[3],[1.0])|\n",
      "+-----------------------------+------------+-------------+\n",
      "only showing top 20 rows\n",
      "\n"
     ]
    }
   ],
   "source": [
    "from pyspark.ml.feature import OneHotEncoder, StringIndexer\n",
    "\n",
    "# Map strings to numbers with string indexer\n",
    "string_indexer = StringIndexer(inputCol='SCHOOLDISTRICTNUMBER', outputCol='School_Index')\n",
    "indexed_df = string_indexer.fit(df).transform(df)\n",
    "\n",
    "# Onehot encode indexed values\n",
    "encoder = OneHotEncoder(inputCol='School_Index', outputCol='School_Vec')\n",
    "encoded_df = encoder.transform(indexed_df)\n",
    "\n",
    "# Inspect the transformation steps\n",
    "encoded_df[['SCHOOLDISTRICTNUMBER', 'School_Index', 'School_Vec']].show(truncate=100)"
   ]
  },
  {
   "cell_type": "markdown",
   "metadata": {},
   "source": [
    "# Building a Model"
   ]
  },
  {
   "cell_type": "markdown",
   "metadata": {},
   "source": [
    "## Creating Time Splits\n",
    "\n",
    "In the video, we learned why splitting data randomly can be dangerous for time series as data from the future can cause overfitting in our model. Often with time series, you acquire new data as it is made available and you will want to retrain your model using the newest data. In the video, we showed how to do a percentage split for test and training sets but suppose you wish to train on all available data except for the last 45days which you want to use for a test set.\n",
    "\n",
    "In this exercise, we will create a function to find the split date for using the last 45 days of data for testing and the rest for training. Please note that timedelta() has already been imported for you from the standard python library datetime."
   ]
  },
  {
   "cell_type": "code",
   "execution_count": 67,
   "metadata": {
    "ExecuteTime": {
     "end_time": "2019-02-16T19:38:03.734782Z",
     "start_time": "2019-02-16T19:38:03.694887Z"
    }
   },
   "outputs": [
    {
     "ename": "AnalysisException",
     "evalue": "'Cannot resolve column name \"OFFMKTDATE\" among (NO, MLSID, STREETNUMBERNUMERIC, STREETADDRESS, STREETNAME, POSTALCODE, STATEORPROVINCE, CITY, SALESCLOSEPRICE, LISTDATE, LISTPRICE, LISTTYPE, ORIGINALLISTPRICE, PRICEPERTSFT, FOUNDATIONSIZE, FENCE, MAPLETTER, LOTSIZEDIMENSIONS, SCHOOLDISTRICTNUMBER, DAYSONMARKET, OFFMARKETDATE, FIREPLACES, ROOMAREA4, ROOMTYPE, ROOF, ROOMFLOOR4, POTENTIALSHORTSALE, POOLDESCRIPTION, PDOM, GARAGEDESCRIPTION, SQFTABOVEGROUND, TAXES, ROOMFLOOR1, ROOMAREA1, TAXWITHASSESSMENTS, TAXYEAR, LIVINGAREA, UNITNUMBER, YEARBUILT, ZONING, STYLE, ACRES, COOLINGDESCRIPTION, APPLIANCES, BACKONMARKETDATE, ROOMFAMILYCHAR, ROOMAREA3, EXTERIOR, ROOMFLOOR3, ROOMFLOOR2, ROOMAREA2, DININGROOMDESCRIPTION, BASEMENT, BATHSFULL, BATHSHALF, BATHQUARTER, BATHSTHREEQUARTER, CLASS, BATHSTOTAL, BATHDESC, ROOMAREA5, ROOMFLOOR5, ROOMAREA6, ROOMFLOOR6, ROOMAREA7, ROOMFLOOR7, ROOMAREA8, ROOMFLOOR8, BEDROOMS, SQFTBELOWGROUND, ASSUMABLEMORTGAGE, ASSOCIATIONFEE, ASSESSMENTPENDING, ASSESSEDVALUATION, list_year, report_year, LOT_SIZE_SQFT, YARD_SIZE, ASSESSED_TO_LIST, TAX_TO_LIST, BED_TO_BATHS, TOTAL_SQFT, BATHS_PER_1000SQFT, List_Day_of_Week, has_attached_garage, garage_list);'",
     "output_type": "error",
     "traceback": [
      "\u001b[1;31m---------------------------------------------------------------------------\u001b[0m",
      "\u001b[1;31mPy4JJavaError\u001b[0m                             Traceback (most recent call last)",
      "\u001b[1;32m~\\Anaconda3\\lib\\site-packages\\pyspark\\sql\\utils.py\u001b[0m in \u001b[0;36mdeco\u001b[1;34m(*a, **kw)\u001b[0m\n\u001b[0;32m     62\u001b[0m         \u001b[1;32mtry\u001b[0m\u001b[1;33m:\u001b[0m\u001b[1;33m\u001b[0m\u001b[1;33m\u001b[0m\u001b[0m\n\u001b[1;32m---> 63\u001b[1;33m             \u001b[1;32mreturn\u001b[0m \u001b[0mf\u001b[0m\u001b[1;33m(\u001b[0m\u001b[1;33m*\u001b[0m\u001b[0ma\u001b[0m\u001b[1;33m,\u001b[0m \u001b[1;33m**\u001b[0m\u001b[0mkw\u001b[0m\u001b[1;33m)\u001b[0m\u001b[1;33m\u001b[0m\u001b[1;33m\u001b[0m\u001b[0m\n\u001b[0m\u001b[0;32m     64\u001b[0m         \u001b[1;32mexcept\u001b[0m \u001b[0mpy4j\u001b[0m\u001b[1;33m.\u001b[0m\u001b[0mprotocol\u001b[0m\u001b[1;33m.\u001b[0m\u001b[0mPy4JJavaError\u001b[0m \u001b[1;32mas\u001b[0m \u001b[0me\u001b[0m\u001b[1;33m:\u001b[0m\u001b[1;33m\u001b[0m\u001b[1;33m\u001b[0m\u001b[0m\n",
      "\u001b[1;32m~\\Anaconda3\\lib\\site-packages\\py4j\\protocol.py\u001b[0m in \u001b[0;36mget_return_value\u001b[1;34m(answer, gateway_client, target_id, name)\u001b[0m\n\u001b[0;32m    327\u001b[0m                     \u001b[1;34m\"An error occurred while calling {0}{1}{2}.\\n\"\u001b[0m\u001b[1;33m.\u001b[0m\u001b[1;33m\u001b[0m\u001b[1;33m\u001b[0m\u001b[0m\n\u001b[1;32m--> 328\u001b[1;33m                     format(target_id, \".\", name), value)\n\u001b[0m\u001b[0;32m    329\u001b[0m             \u001b[1;32melse\u001b[0m\u001b[1;33m:\u001b[0m\u001b[1;33m\u001b[0m\u001b[1;33m\u001b[0m\u001b[0m\n",
      "\u001b[1;31mPy4JJavaError\u001b[0m: An error occurred while calling o991.agg.\n: org.apache.spark.sql.AnalysisException: Cannot resolve column name \"OFFMKTDATE\" among (NO, MLSID, STREETNUMBERNUMERIC, STREETADDRESS, STREETNAME, POSTALCODE, STATEORPROVINCE, CITY, SALESCLOSEPRICE, LISTDATE, LISTPRICE, LISTTYPE, ORIGINALLISTPRICE, PRICEPERTSFT, FOUNDATIONSIZE, FENCE, MAPLETTER, LOTSIZEDIMENSIONS, SCHOOLDISTRICTNUMBER, DAYSONMARKET, OFFMARKETDATE, FIREPLACES, ROOMAREA4, ROOMTYPE, ROOF, ROOMFLOOR4, POTENTIALSHORTSALE, POOLDESCRIPTION, PDOM, GARAGEDESCRIPTION, SQFTABOVEGROUND, TAXES, ROOMFLOOR1, ROOMAREA1, TAXWITHASSESSMENTS, TAXYEAR, LIVINGAREA, UNITNUMBER, YEARBUILT, ZONING, STYLE, ACRES, COOLINGDESCRIPTION, APPLIANCES, BACKONMARKETDATE, ROOMFAMILYCHAR, ROOMAREA3, EXTERIOR, ROOMFLOOR3, ROOMFLOOR2, ROOMAREA2, DININGROOMDESCRIPTION, BASEMENT, BATHSFULL, BATHSHALF, BATHQUARTER, BATHSTHREEQUARTER, CLASS, BATHSTOTAL, BATHDESC, ROOMAREA5, ROOMFLOOR5, ROOMAREA6, ROOMFLOOR6, ROOMAREA7, ROOMFLOOR7, ROOMAREA8, ROOMFLOOR8, BEDROOMS, SQFTBELOWGROUND, ASSUMABLEMORTGAGE, ASSOCIATIONFEE, ASSESSMENTPENDING, ASSESSEDVALUATION, list_year, report_year, LOT_SIZE_SQFT, YARD_SIZE, ASSESSED_TO_LIST, TAX_TO_LIST, BED_TO_BATHS, TOTAL_SQFT, BATHS_PER_1000SQFT, List_Day_of_Week, has_attached_garage, garage_list);\r\n\tat org.apache.spark.sql.Dataset$$anonfun$resolve$1.apply(Dataset.scala:224)\r\n\tat org.apache.spark.sql.Dataset$$anonfun$resolve$1.apply(Dataset.scala:224)\r\n\tat scala.Option.getOrElse(Option.scala:121)\r\n\tat org.apache.spark.sql.Dataset.resolve(Dataset.scala:223)\r\n\tat org.apache.spark.sql.Dataset.col(Dataset.scala:1269)\r\n\tat org.apache.spark.sql.Dataset.apply(Dataset.scala:1236)\r\n\tat org.apache.spark.sql.RelationalGroupedDataset$$anonfun$agg$2.apply(RelationalGroupedDataset.scala:170)\r\n\tat org.apache.spark.sql.RelationalGroupedDataset$$anonfun$agg$2.apply(RelationalGroupedDataset.scala:169)\r\n\tat scala.collection.TraversableLike$$anonfun$map$1.apply(TraversableLike.scala:234)\r\n\tat scala.collection.TraversableLike$$anonfun$map$1.apply(TraversableLike.scala:234)\r\n\tat scala.collection.immutable.Map$Map1.foreach(Map.scala:116)\r\n\tat scala.collection.TraversableLike$class.map(TraversableLike.scala:234)\r\n\tat scala.collection.AbstractTraversable.map(Traversable.scala:104)\r\n\tat org.apache.spark.sql.RelationalGroupedDataset.agg(RelationalGroupedDataset.scala:169)\r\n\tat org.apache.spark.sql.RelationalGroupedDataset.agg(RelationalGroupedDataset.scala:188)\r\n\tat sun.reflect.GeneratedMethodAccessor59.invoke(Unknown Source)\r\n\tat sun.reflect.DelegatingMethodAccessorImpl.invoke(DelegatingMethodAccessorImpl.java:43)\r\n\tat java.lang.reflect.Method.invoke(Method.java:498)\r\n\tat py4j.reflection.MethodInvoker.invoke(MethodInvoker.java:244)\r\n\tat py4j.reflection.ReflectionEngine.invoke(ReflectionEngine.java:357)\r\n\tat py4j.Gateway.invoke(Gateway.java:282)\r\n\tat py4j.commands.AbstractCommand.invokeMethod(AbstractCommand.java:132)\r\n\tat py4j.commands.CallCommand.execute(CallCommand.java:79)\r\n\tat py4j.GatewayConnection.run(GatewayConnection.java:238)\r\n\tat java.lang.Thread.run(Thread.java:748)\r\n",
      "\nDuring handling of the above exception, another exception occurred:\n",
      "\u001b[1;31mAnalysisException\u001b[0m                         Traceback (most recent call last)",
      "\u001b[1;32m<ipython-input-67-abcc4494bf53>\u001b[0m in \u001b[0;36m<module>\u001b[1;34m\u001b[0m\n\u001b[0;32m      9\u001b[0m \u001b[1;33m\u001b[0m\u001b[0m\n\u001b[0;32m     10\u001b[0m \u001b[1;31m# Find the date to use in spitting test and train\u001b[0m\u001b[1;33m\u001b[0m\u001b[1;33m\u001b[0m\u001b[1;33m\u001b[0m\u001b[0m\n\u001b[1;32m---> 11\u001b[1;33m \u001b[0msplit_date\u001b[0m \u001b[1;33m=\u001b[0m \u001b[0mtrain_test_split_date\u001b[0m\u001b[1;33m(\u001b[0m\u001b[0mdf\u001b[0m\u001b[1;33m,\u001b[0m \u001b[1;34m'OFFMKTDATE'\u001b[0m\u001b[1;33m)\u001b[0m\u001b[1;33m\u001b[0m\u001b[1;33m\u001b[0m\u001b[0m\n\u001b[0m\u001b[0;32m     12\u001b[0m \u001b[1;33m\u001b[0m\u001b[0m\n\u001b[0;32m     13\u001b[0m \u001b[1;31m# Create Sequential Test and Training Sets\u001b[0m\u001b[1;33m\u001b[0m\u001b[1;33m\u001b[0m\u001b[1;33m\u001b[0m\u001b[0m\n",
      "\u001b[1;32m<ipython-input-67-abcc4494bf53>\u001b[0m in \u001b[0;36mtrain_test_split_date\u001b[1;34m(df, split_col, test_days)\u001b[0m\n\u001b[0;32m      2\u001b[0m   \u001b[1;34m\"\"\"Calculate the date to split test and training sets\"\"\"\u001b[0m\u001b[1;33m\u001b[0m\u001b[1;33m\u001b[0m\u001b[0m\n\u001b[0;32m      3\u001b[0m   \u001b[1;31m# Find how many days our data spans\u001b[0m\u001b[1;33m\u001b[0m\u001b[1;33m\u001b[0m\u001b[1;33m\u001b[0m\u001b[0m\n\u001b[1;32m----> 4\u001b[1;33m   \u001b[0mmax_date\u001b[0m \u001b[1;33m=\u001b[0m \u001b[0mdf\u001b[0m\u001b[1;33m.\u001b[0m\u001b[0magg\u001b[0m\u001b[1;33m(\u001b[0m\u001b[1;33m{\u001b[0m\u001b[0msplit_col\u001b[0m\u001b[1;33m:\u001b[0m \u001b[1;34m'max'\u001b[0m\u001b[1;33m}\u001b[0m\u001b[1;33m)\u001b[0m\u001b[1;33m.\u001b[0m\u001b[0mcollect\u001b[0m\u001b[1;33m(\u001b[0m\u001b[1;33m)\u001b[0m\u001b[1;33m[\u001b[0m\u001b[1;36m0\u001b[0m\u001b[1;33m]\u001b[0m\u001b[1;33m[\u001b[0m\u001b[1;36m0\u001b[0m\u001b[1;33m]\u001b[0m\u001b[1;33m\u001b[0m\u001b[1;33m\u001b[0m\u001b[0m\n\u001b[0m\u001b[0;32m      5\u001b[0m   \u001b[0mmin_date\u001b[0m \u001b[1;33m=\u001b[0m \u001b[0mdf\u001b[0m\u001b[1;33m.\u001b[0m\u001b[0magg\u001b[0m\u001b[1;33m(\u001b[0m\u001b[1;33m{\u001b[0m\u001b[0msplit_col\u001b[0m\u001b[1;33m:\u001b[0m \u001b[1;34m'min'\u001b[0m\u001b[1;33m}\u001b[0m\u001b[1;33m)\u001b[0m\u001b[1;33m.\u001b[0m\u001b[0mcollect\u001b[0m\u001b[1;33m(\u001b[0m\u001b[1;33m)\u001b[0m\u001b[1;33m[\u001b[0m\u001b[1;36m0\u001b[0m\u001b[1;33m]\u001b[0m\u001b[1;33m[\u001b[0m\u001b[1;36m0\u001b[0m\u001b[1;33m]\u001b[0m\u001b[1;33m\u001b[0m\u001b[1;33m\u001b[0m\u001b[0m\n\u001b[0;32m      6\u001b[0m   \u001b[1;31m# Subtract an integer number of days from the last date in dataset\u001b[0m\u001b[1;33m\u001b[0m\u001b[1;33m\u001b[0m\u001b[1;33m\u001b[0m\u001b[0m\n",
      "\u001b[1;32m~\\Anaconda3\\lib\\site-packages\\pyspark\\sql\\dataframe.py\u001b[0m in \u001b[0;36magg\u001b[1;34m(self, *exprs)\u001b[0m\n\u001b[0;32m   1443\u001b[0m         \u001b[1;33m[\u001b[0m\u001b[0mRow\u001b[0m\u001b[1;33m(\u001b[0m\u001b[0mmin\u001b[0m\u001b[1;33m(\u001b[0m\u001b[0mage\u001b[0m\u001b[1;33m)\u001b[0m\u001b[1;33m=\u001b[0m\u001b[1;36m2\u001b[0m\u001b[1;33m)\u001b[0m\u001b[1;33m]\u001b[0m\u001b[1;33m\u001b[0m\u001b[1;33m\u001b[0m\u001b[0m\n\u001b[0;32m   1444\u001b[0m         \"\"\"\n\u001b[1;32m-> 1445\u001b[1;33m         \u001b[1;32mreturn\u001b[0m \u001b[0mself\u001b[0m\u001b[1;33m.\u001b[0m\u001b[0mgroupBy\u001b[0m\u001b[1;33m(\u001b[0m\u001b[1;33m)\u001b[0m\u001b[1;33m.\u001b[0m\u001b[0magg\u001b[0m\u001b[1;33m(\u001b[0m\u001b[1;33m*\u001b[0m\u001b[0mexprs\u001b[0m\u001b[1;33m)\u001b[0m\u001b[1;33m\u001b[0m\u001b[1;33m\u001b[0m\u001b[0m\n\u001b[0m\u001b[0;32m   1446\u001b[0m \u001b[1;33m\u001b[0m\u001b[0m\n\u001b[0;32m   1447\u001b[0m     \u001b[1;33m@\u001b[0m\u001b[0msince\u001b[0m\u001b[1;33m(\u001b[0m\u001b[1;36m2.0\u001b[0m\u001b[1;33m)\u001b[0m\u001b[1;33m\u001b[0m\u001b[1;33m\u001b[0m\u001b[0m\n",
      "\u001b[1;32m~\\Anaconda3\\lib\\site-packages\\pyspark\\sql\\group.py\u001b[0m in \u001b[0;36magg\u001b[1;34m(self, *exprs)\u001b[0m\n\u001b[0;32m    108\u001b[0m         \u001b[1;32massert\u001b[0m \u001b[0mexprs\u001b[0m\u001b[1;33m,\u001b[0m \u001b[1;34m\"exprs should not be empty\"\u001b[0m\u001b[1;33m\u001b[0m\u001b[1;33m\u001b[0m\u001b[0m\n\u001b[0;32m    109\u001b[0m         \u001b[1;32mif\u001b[0m \u001b[0mlen\u001b[0m\u001b[1;33m(\u001b[0m\u001b[0mexprs\u001b[0m\u001b[1;33m)\u001b[0m \u001b[1;33m==\u001b[0m \u001b[1;36m1\u001b[0m \u001b[1;32mand\u001b[0m \u001b[0misinstance\u001b[0m\u001b[1;33m(\u001b[0m\u001b[0mexprs\u001b[0m\u001b[1;33m[\u001b[0m\u001b[1;36m0\u001b[0m\u001b[1;33m]\u001b[0m\u001b[1;33m,\u001b[0m \u001b[0mdict\u001b[0m\u001b[1;33m)\u001b[0m\u001b[1;33m:\u001b[0m\u001b[1;33m\u001b[0m\u001b[1;33m\u001b[0m\u001b[0m\n\u001b[1;32m--> 110\u001b[1;33m             \u001b[0mjdf\u001b[0m \u001b[1;33m=\u001b[0m \u001b[0mself\u001b[0m\u001b[1;33m.\u001b[0m\u001b[0m_jgd\u001b[0m\u001b[1;33m.\u001b[0m\u001b[0magg\u001b[0m\u001b[1;33m(\u001b[0m\u001b[0mexprs\u001b[0m\u001b[1;33m[\u001b[0m\u001b[1;36m0\u001b[0m\u001b[1;33m]\u001b[0m\u001b[1;33m)\u001b[0m\u001b[1;33m\u001b[0m\u001b[1;33m\u001b[0m\u001b[0m\n\u001b[0m\u001b[0;32m    111\u001b[0m         \u001b[1;32melse\u001b[0m\u001b[1;33m:\u001b[0m\u001b[1;33m\u001b[0m\u001b[1;33m\u001b[0m\u001b[0m\n\u001b[0;32m    112\u001b[0m             \u001b[1;31m# Columns\u001b[0m\u001b[1;33m\u001b[0m\u001b[1;33m\u001b[0m\u001b[1;33m\u001b[0m\u001b[0m\n",
      "\u001b[1;32m~\\Anaconda3\\lib\\site-packages\\py4j\\java_gateway.py\u001b[0m in \u001b[0;36m__call__\u001b[1;34m(self, *args)\u001b[0m\n\u001b[0;32m   1255\u001b[0m         \u001b[0manswer\u001b[0m \u001b[1;33m=\u001b[0m \u001b[0mself\u001b[0m\u001b[1;33m.\u001b[0m\u001b[0mgateway_client\u001b[0m\u001b[1;33m.\u001b[0m\u001b[0msend_command\u001b[0m\u001b[1;33m(\u001b[0m\u001b[0mcommand\u001b[0m\u001b[1;33m)\u001b[0m\u001b[1;33m\u001b[0m\u001b[1;33m\u001b[0m\u001b[0m\n\u001b[0;32m   1256\u001b[0m         return_value = get_return_value(\n\u001b[1;32m-> 1257\u001b[1;33m             answer, self.gateway_client, self.target_id, self.name)\n\u001b[0m\u001b[0;32m   1258\u001b[0m \u001b[1;33m\u001b[0m\u001b[0m\n\u001b[0;32m   1259\u001b[0m         \u001b[1;32mfor\u001b[0m \u001b[0mtemp_arg\u001b[0m \u001b[1;32min\u001b[0m \u001b[0mtemp_args\u001b[0m\u001b[1;33m:\u001b[0m\u001b[1;33m\u001b[0m\u001b[1;33m\u001b[0m\u001b[0m\n",
      "\u001b[1;32m~\\Anaconda3\\lib\\site-packages\\pyspark\\sql\\utils.py\u001b[0m in \u001b[0;36mdeco\u001b[1;34m(*a, **kw)\u001b[0m\n\u001b[0;32m     67\u001b[0m                                              e.java_exception.getStackTrace()))\n\u001b[0;32m     68\u001b[0m             \u001b[1;32mif\u001b[0m \u001b[0ms\u001b[0m\u001b[1;33m.\u001b[0m\u001b[0mstartswith\u001b[0m\u001b[1;33m(\u001b[0m\u001b[1;34m'org.apache.spark.sql.AnalysisException: '\u001b[0m\u001b[1;33m)\u001b[0m\u001b[1;33m:\u001b[0m\u001b[1;33m\u001b[0m\u001b[1;33m\u001b[0m\u001b[0m\n\u001b[1;32m---> 69\u001b[1;33m                 \u001b[1;32mraise\u001b[0m \u001b[0mAnalysisException\u001b[0m\u001b[1;33m(\u001b[0m\u001b[0ms\u001b[0m\u001b[1;33m.\u001b[0m\u001b[0msplit\u001b[0m\u001b[1;33m(\u001b[0m\u001b[1;34m': '\u001b[0m\u001b[1;33m,\u001b[0m \u001b[1;36m1\u001b[0m\u001b[1;33m)\u001b[0m\u001b[1;33m[\u001b[0m\u001b[1;36m1\u001b[0m\u001b[1;33m]\u001b[0m\u001b[1;33m,\u001b[0m \u001b[0mstackTrace\u001b[0m\u001b[1;33m)\u001b[0m\u001b[1;33m\u001b[0m\u001b[1;33m\u001b[0m\u001b[0m\n\u001b[0m\u001b[0;32m     70\u001b[0m             \u001b[1;32mif\u001b[0m \u001b[0ms\u001b[0m\u001b[1;33m.\u001b[0m\u001b[0mstartswith\u001b[0m\u001b[1;33m(\u001b[0m\u001b[1;34m'org.apache.spark.sql.catalyst.analysis'\u001b[0m\u001b[1;33m)\u001b[0m\u001b[1;33m:\u001b[0m\u001b[1;33m\u001b[0m\u001b[1;33m\u001b[0m\u001b[0m\n\u001b[0;32m     71\u001b[0m                 \u001b[1;32mraise\u001b[0m \u001b[0mAnalysisException\u001b[0m\u001b[1;33m(\u001b[0m\u001b[0ms\u001b[0m\u001b[1;33m.\u001b[0m\u001b[0msplit\u001b[0m\u001b[1;33m(\u001b[0m\u001b[1;34m': '\u001b[0m\u001b[1;33m,\u001b[0m \u001b[1;36m1\u001b[0m\u001b[1;33m)\u001b[0m\u001b[1;33m[\u001b[0m\u001b[1;36m1\u001b[0m\u001b[1;33m]\u001b[0m\u001b[1;33m,\u001b[0m \u001b[0mstackTrace\u001b[0m\u001b[1;33m)\u001b[0m\u001b[1;33m\u001b[0m\u001b[1;33m\u001b[0m\u001b[0m\n",
      "\u001b[1;31mAnalysisException\u001b[0m: 'Cannot resolve column name \"OFFMKTDATE\" among (NO, MLSID, STREETNUMBERNUMERIC, STREETADDRESS, STREETNAME, POSTALCODE, STATEORPROVINCE, CITY, SALESCLOSEPRICE, LISTDATE, LISTPRICE, LISTTYPE, ORIGINALLISTPRICE, PRICEPERTSFT, FOUNDATIONSIZE, FENCE, MAPLETTER, LOTSIZEDIMENSIONS, SCHOOLDISTRICTNUMBER, DAYSONMARKET, OFFMARKETDATE, FIREPLACES, ROOMAREA4, ROOMTYPE, ROOF, ROOMFLOOR4, POTENTIALSHORTSALE, POOLDESCRIPTION, PDOM, GARAGEDESCRIPTION, SQFTABOVEGROUND, TAXES, ROOMFLOOR1, ROOMAREA1, TAXWITHASSESSMENTS, TAXYEAR, LIVINGAREA, UNITNUMBER, YEARBUILT, ZONING, STYLE, ACRES, COOLINGDESCRIPTION, APPLIANCES, BACKONMARKETDATE, ROOMFAMILYCHAR, ROOMAREA3, EXTERIOR, ROOMFLOOR3, ROOMFLOOR2, ROOMAREA2, DININGROOMDESCRIPTION, BASEMENT, BATHSFULL, BATHSHALF, BATHQUARTER, BATHSTHREEQUARTER, CLASS, BATHSTOTAL, BATHDESC, ROOMAREA5, ROOMFLOOR5, ROOMAREA6, ROOMFLOOR6, ROOMAREA7, ROOMFLOOR7, ROOMAREA8, ROOMFLOOR8, BEDROOMS, SQFTBELOWGROUND, ASSUMABLEMORTGAGE, ASSOCIATIONFEE, ASSESSMENTPENDING, ASSESSEDVALUATION, list_year, report_year, LOT_SIZE_SQFT, YARD_SIZE, ASSESSED_TO_LIST, TAX_TO_LIST, BED_TO_BATHS, TOTAL_SQFT, BATHS_PER_1000SQFT, List_Day_of_Week, has_attached_garage, garage_list);'"
     ]
    }
   ],
   "source": [
    "def train_test_split_date(df, split_col, test_days=45):\n",
    "  \"\"\"Calculate the date to split test and training sets\"\"\"\n",
    "  # Find how many days our data spans\n",
    "  max_date = df.agg({split_col: 'max'}).collect()[0][0]\n",
    "  min_date = df.agg({split_col: 'min'}).collect()[0][0]\n",
    "  # Subtract an integer number of days from the last date in dataset\n",
    "  split_date = max_date - timedelta(days=test_days)\n",
    "  return split_date\n",
    "\n",
    "# Find the date to use in spitting test and train\n",
    "split_date = train_test_split_date(df, 'OFFMKTDATE')\n",
    "\n",
    "# Create Sequential Test and Training Sets\n",
    "train_df = df.where(df['OFFMKTDATE'] < split_date)\n",
    "test_df = df.where(df['OFFMKTDATE'] >= split_date).where(df['LISTDATE'] <= split_date) "
   ]
  },
  {
   "cell_type": "markdown",
   "metadata": {},
   "source": [
    "## Adjusting Time Features\n",
    "\n",
    "We have mentioned throughout this course some of the dangers of leaking information to your model during training. Data leakage will cause your model to have very optimistic metrics for accuracy but once real data is run through it the results are often very disappointing.\n",
    "\n",
    "In this exercise, we are going to ensure that DAYSONMARKET only reflects what information we have at the time of predicting the value. I.e., if the house is still on the market, we don't know how many more days it will stay on the market. We need to adjust our test_df to reflect what information we currently have as of 2017-12-10.\n",
    "\n",
    "NOTE: This example will use the lit() function. This function is used to allow single values where an entire column is expected in a function call."
   ]
  },
  {
   "cell_type": "code",
   "execution_count": 68,
   "metadata": {
    "ExecuteTime": {
     "end_time": "2019-02-16T19:38:06.343939Z",
     "start_time": "2019-02-16T19:38:06.311020Z"
    }
   },
   "outputs": [
    {
     "ename": "AnalysisException",
     "evalue": "'Cannot resolve column name \"OFFMKTDATE\" among (NO, MLSID, STREETNUMBERNUMERIC, STREETADDRESS, STREETNAME, POSTALCODE, STATEORPROVINCE, CITY, SALESCLOSEPRICE, LISTDATE, LISTPRICE, LISTTYPE, ORIGINALLISTPRICE, PRICEPERTSFT, FOUNDATIONSIZE, FENCE, MAPLETTER, LOTSIZEDIMENSIONS, SCHOOLDISTRICTNUMBER, DAYSONMARKET, OFFMARKETDATE, FIREPLACES, ROOMAREA4, ROOMTYPE, ROOF, ROOMFLOOR4, POTENTIALSHORTSALE, POOLDESCRIPTION, PDOM, GARAGEDESCRIPTION, SQFTABOVEGROUND, TAXES, ROOMFLOOR1, ROOMAREA1, TAXWITHASSESSMENTS, TAXYEAR, LIVINGAREA, UNITNUMBER, YEARBUILT, ZONING, STYLE, ACRES, COOLINGDESCRIPTION, APPLIANCES, BACKONMARKETDATE, ROOMFAMILYCHAR, ROOMAREA3, EXTERIOR, ROOMFLOOR3, ROOMFLOOR2, ROOMAREA2, DININGROOMDESCRIPTION, BASEMENT, BATHSFULL, BATHSHALF, BATHQUARTER, BATHSTHREEQUARTER, CLASS, BATHSTOTAL, BATHDESC, ROOMAREA5, ROOMFLOOR5, ROOMAREA6, ROOMFLOOR6, ROOMAREA7, ROOMFLOOR7, ROOMAREA8, ROOMFLOOR8, BEDROOMS, SQFTBELOWGROUND, ASSUMABLEMORTGAGE, ASSOCIATIONFEE, ASSESSMENTPENDING, ASSESSEDVALUATION, list_year, report_year, LOT_SIZE_SQFT, YARD_SIZE, ASSESSED_TO_LIST, TAX_TO_LIST, BED_TO_BATHS, TOTAL_SQFT, BATHS_PER_1000SQFT, List_Day_of_Week, has_attached_garage, garage_list);'",
     "output_type": "error",
     "traceback": [
      "\u001b[1;31m---------------------------------------------------------------------------\u001b[0m",
      "\u001b[1;31mPy4JJavaError\u001b[0m                             Traceback (most recent call last)",
      "\u001b[1;32m~\\Anaconda3\\lib\\site-packages\\pyspark\\sql\\utils.py\u001b[0m in \u001b[0;36mdeco\u001b[1;34m(*a, **kw)\u001b[0m\n\u001b[0;32m     62\u001b[0m         \u001b[1;32mtry\u001b[0m\u001b[1;33m:\u001b[0m\u001b[1;33m\u001b[0m\u001b[1;33m\u001b[0m\u001b[0m\n\u001b[1;32m---> 63\u001b[1;33m             \u001b[1;32mreturn\u001b[0m \u001b[0mf\u001b[0m\u001b[1;33m(\u001b[0m\u001b[1;33m*\u001b[0m\u001b[0ma\u001b[0m\u001b[1;33m,\u001b[0m \u001b[1;33m**\u001b[0m\u001b[0mkw\u001b[0m\u001b[1;33m)\u001b[0m\u001b[1;33m\u001b[0m\u001b[1;33m\u001b[0m\u001b[0m\n\u001b[0m\u001b[0;32m     64\u001b[0m         \u001b[1;32mexcept\u001b[0m \u001b[0mpy4j\u001b[0m\u001b[1;33m.\u001b[0m\u001b[0mprotocol\u001b[0m\u001b[1;33m.\u001b[0m\u001b[0mPy4JJavaError\u001b[0m \u001b[1;32mas\u001b[0m \u001b[0me\u001b[0m\u001b[1;33m:\u001b[0m\u001b[1;33m\u001b[0m\u001b[1;33m\u001b[0m\u001b[0m\n",
      "\u001b[1;32m~\\Anaconda3\\lib\\site-packages\\py4j\\protocol.py\u001b[0m in \u001b[0;36mget_return_value\u001b[1;34m(answer, gateway_client, target_id, name)\u001b[0m\n\u001b[0;32m    327\u001b[0m                     \u001b[1;34m\"An error occurred while calling {0}{1}{2}.\\n\"\u001b[0m\u001b[1;33m.\u001b[0m\u001b[1;33m\u001b[0m\u001b[1;33m\u001b[0m\u001b[0m\n\u001b[1;32m--> 328\u001b[1;33m                     format(target_id, \".\", name), value)\n\u001b[0m\u001b[0;32m    329\u001b[0m             \u001b[1;32melse\u001b[0m\u001b[1;33m:\u001b[0m\u001b[1;33m\u001b[0m\u001b[1;33m\u001b[0m\u001b[0m\n",
      "\u001b[1;31mPy4JJavaError\u001b[0m: An error occurred while calling o796.apply.\n: org.apache.spark.sql.AnalysisException: Cannot resolve column name \"OFFMKTDATE\" among (NO, MLSID, STREETNUMBERNUMERIC, STREETADDRESS, STREETNAME, POSTALCODE, STATEORPROVINCE, CITY, SALESCLOSEPRICE, LISTDATE, LISTPRICE, LISTTYPE, ORIGINALLISTPRICE, PRICEPERTSFT, FOUNDATIONSIZE, FENCE, MAPLETTER, LOTSIZEDIMENSIONS, SCHOOLDISTRICTNUMBER, DAYSONMARKET, OFFMARKETDATE, FIREPLACES, ROOMAREA4, ROOMTYPE, ROOF, ROOMFLOOR4, POTENTIALSHORTSALE, POOLDESCRIPTION, PDOM, GARAGEDESCRIPTION, SQFTABOVEGROUND, TAXES, ROOMFLOOR1, ROOMAREA1, TAXWITHASSESSMENTS, TAXYEAR, LIVINGAREA, UNITNUMBER, YEARBUILT, ZONING, STYLE, ACRES, COOLINGDESCRIPTION, APPLIANCES, BACKONMARKETDATE, ROOMFAMILYCHAR, ROOMAREA3, EXTERIOR, ROOMFLOOR3, ROOMFLOOR2, ROOMAREA2, DININGROOMDESCRIPTION, BASEMENT, BATHSFULL, BATHSHALF, BATHQUARTER, BATHSTHREEQUARTER, CLASS, BATHSTOTAL, BATHDESC, ROOMAREA5, ROOMFLOOR5, ROOMAREA6, ROOMFLOOR6, ROOMAREA7, ROOMFLOOR7, ROOMAREA8, ROOMFLOOR8, BEDROOMS, SQFTBELOWGROUND, ASSUMABLEMORTGAGE, ASSOCIATIONFEE, ASSESSMENTPENDING, ASSESSEDVALUATION, list_year, report_year, LOT_SIZE_SQFT, YARD_SIZE, ASSESSED_TO_LIST, TAX_TO_LIST, BED_TO_BATHS, TOTAL_SQFT, BATHS_PER_1000SQFT, List_Day_of_Week, has_attached_garage, garage_list);\r\n\tat org.apache.spark.sql.Dataset$$anonfun$resolve$1.apply(Dataset.scala:224)\r\n\tat org.apache.spark.sql.Dataset$$anonfun$resolve$1.apply(Dataset.scala:224)\r\n\tat scala.Option.getOrElse(Option.scala:121)\r\n\tat org.apache.spark.sql.Dataset.resolve(Dataset.scala:223)\r\n\tat org.apache.spark.sql.Dataset.col(Dataset.scala:1269)\r\n\tat org.apache.spark.sql.Dataset.apply(Dataset.scala:1236)\r\n\tat sun.reflect.GeneratedMethodAccessor62.invoke(Unknown Source)\r\n\tat sun.reflect.DelegatingMethodAccessorImpl.invoke(DelegatingMethodAccessorImpl.java:43)\r\n\tat java.lang.reflect.Method.invoke(Method.java:498)\r\n\tat py4j.reflection.MethodInvoker.invoke(MethodInvoker.java:244)\r\n\tat py4j.reflection.ReflectionEngine.invoke(ReflectionEngine.java:357)\r\n\tat py4j.Gateway.invoke(Gateway.java:282)\r\n\tat py4j.commands.AbstractCommand.invokeMethod(AbstractCommand.java:132)\r\n\tat py4j.commands.CallCommand.execute(CallCommand.java:79)\r\n\tat py4j.GatewayConnection.run(GatewayConnection.java:238)\r\n\tat java.lang.Thread.run(Thread.java:748)\r\n",
      "\nDuring handling of the above exception, another exception occurred:\n",
      "\u001b[1;31mAnalysisException\u001b[0m                         Traceback (most recent call last)",
      "\u001b[1;32m<ipython-input-68-654293835fd6>\u001b[0m in \u001b[0;36m<module>\u001b[1;34m\u001b[0m\n\u001b[0;32m      3\u001b[0m \u001b[0msplit_date\u001b[0m \u001b[1;33m=\u001b[0m \u001b[0mto_date\u001b[0m\u001b[1;33m(\u001b[0m\u001b[0mlit\u001b[0m\u001b[1;33m(\u001b[0m\u001b[1;34m'2017-12-10'\u001b[0m\u001b[1;33m)\u001b[0m\u001b[1;33m)\u001b[0m\u001b[1;33m\u001b[0m\u001b[1;33m\u001b[0m\u001b[0m\n\u001b[0;32m      4\u001b[0m \u001b[1;31m# Create Sequential Test set\u001b[0m\u001b[1;33m\u001b[0m\u001b[1;33m\u001b[0m\u001b[1;33m\u001b[0m\u001b[0m\n\u001b[1;32m----> 5\u001b[1;33m \u001b[0mtest_df\u001b[0m \u001b[1;33m=\u001b[0m \u001b[0mdf\u001b[0m\u001b[1;33m.\u001b[0m\u001b[0mwhere\u001b[0m\u001b[1;33m(\u001b[0m\u001b[0mdf\u001b[0m\u001b[1;33m[\u001b[0m\u001b[1;34m'OFFMKTDATE'\u001b[0m\u001b[1;33m]\u001b[0m \u001b[1;33m>=\u001b[0m \u001b[0msplit_date\u001b[0m\u001b[1;33m)\u001b[0m\u001b[1;33m.\u001b[0m\u001b[0mwhere\u001b[0m\u001b[1;33m(\u001b[0m\u001b[0mdf\u001b[0m\u001b[1;33m[\u001b[0m\u001b[1;34m'LISTDATE'\u001b[0m\u001b[1;33m]\u001b[0m \u001b[1;33m<=\u001b[0m \u001b[0msplit_date\u001b[0m\u001b[1;33m)\u001b[0m\u001b[1;33m\u001b[0m\u001b[1;33m\u001b[0m\u001b[0m\n\u001b[0m\u001b[0;32m      6\u001b[0m \u001b[1;33m\u001b[0m\u001b[0m\n\u001b[0;32m      7\u001b[0m \u001b[1;31m# Create a copy of DAYSONMARKET to review later\u001b[0m\u001b[1;33m\u001b[0m\u001b[1;33m\u001b[0m\u001b[1;33m\u001b[0m\u001b[0m\n",
      "\u001b[1;32m~\\Anaconda3\\lib\\site-packages\\pyspark\\sql\\dataframe.py\u001b[0m in \u001b[0;36m__getitem__\u001b[1;34m(self, item)\u001b[0m\n\u001b[0;32m   1277\u001b[0m         \"\"\"\n\u001b[0;32m   1278\u001b[0m         \u001b[1;32mif\u001b[0m \u001b[0misinstance\u001b[0m\u001b[1;33m(\u001b[0m\u001b[0mitem\u001b[0m\u001b[1;33m,\u001b[0m \u001b[0mbasestring\u001b[0m\u001b[1;33m)\u001b[0m\u001b[1;33m:\u001b[0m\u001b[1;33m\u001b[0m\u001b[1;33m\u001b[0m\u001b[0m\n\u001b[1;32m-> 1279\u001b[1;33m             \u001b[0mjc\u001b[0m \u001b[1;33m=\u001b[0m \u001b[0mself\u001b[0m\u001b[1;33m.\u001b[0m\u001b[0m_jdf\u001b[0m\u001b[1;33m.\u001b[0m\u001b[0mapply\u001b[0m\u001b[1;33m(\u001b[0m\u001b[0mitem\u001b[0m\u001b[1;33m)\u001b[0m\u001b[1;33m\u001b[0m\u001b[1;33m\u001b[0m\u001b[0m\n\u001b[0m\u001b[0;32m   1280\u001b[0m             \u001b[1;32mreturn\u001b[0m \u001b[0mColumn\u001b[0m\u001b[1;33m(\u001b[0m\u001b[0mjc\u001b[0m\u001b[1;33m)\u001b[0m\u001b[1;33m\u001b[0m\u001b[1;33m\u001b[0m\u001b[0m\n\u001b[0;32m   1281\u001b[0m         \u001b[1;32melif\u001b[0m \u001b[0misinstance\u001b[0m\u001b[1;33m(\u001b[0m\u001b[0mitem\u001b[0m\u001b[1;33m,\u001b[0m \u001b[0mColumn\u001b[0m\u001b[1;33m)\u001b[0m\u001b[1;33m:\u001b[0m\u001b[1;33m\u001b[0m\u001b[1;33m\u001b[0m\u001b[0m\n",
      "\u001b[1;32m~\\Anaconda3\\lib\\site-packages\\py4j\\java_gateway.py\u001b[0m in \u001b[0;36m__call__\u001b[1;34m(self, *args)\u001b[0m\n\u001b[0;32m   1255\u001b[0m         \u001b[0manswer\u001b[0m \u001b[1;33m=\u001b[0m \u001b[0mself\u001b[0m\u001b[1;33m.\u001b[0m\u001b[0mgateway_client\u001b[0m\u001b[1;33m.\u001b[0m\u001b[0msend_command\u001b[0m\u001b[1;33m(\u001b[0m\u001b[0mcommand\u001b[0m\u001b[1;33m)\u001b[0m\u001b[1;33m\u001b[0m\u001b[1;33m\u001b[0m\u001b[0m\n\u001b[0;32m   1256\u001b[0m         return_value = get_return_value(\n\u001b[1;32m-> 1257\u001b[1;33m             answer, self.gateway_client, self.target_id, self.name)\n\u001b[0m\u001b[0;32m   1258\u001b[0m \u001b[1;33m\u001b[0m\u001b[0m\n\u001b[0;32m   1259\u001b[0m         \u001b[1;32mfor\u001b[0m \u001b[0mtemp_arg\u001b[0m \u001b[1;32min\u001b[0m \u001b[0mtemp_args\u001b[0m\u001b[1;33m:\u001b[0m\u001b[1;33m\u001b[0m\u001b[1;33m\u001b[0m\u001b[0m\n",
      "\u001b[1;32m~\\Anaconda3\\lib\\site-packages\\pyspark\\sql\\utils.py\u001b[0m in \u001b[0;36mdeco\u001b[1;34m(*a, **kw)\u001b[0m\n\u001b[0;32m     67\u001b[0m                                              e.java_exception.getStackTrace()))\n\u001b[0;32m     68\u001b[0m             \u001b[1;32mif\u001b[0m \u001b[0ms\u001b[0m\u001b[1;33m.\u001b[0m\u001b[0mstartswith\u001b[0m\u001b[1;33m(\u001b[0m\u001b[1;34m'org.apache.spark.sql.AnalysisException: '\u001b[0m\u001b[1;33m)\u001b[0m\u001b[1;33m:\u001b[0m\u001b[1;33m\u001b[0m\u001b[1;33m\u001b[0m\u001b[0m\n\u001b[1;32m---> 69\u001b[1;33m                 \u001b[1;32mraise\u001b[0m \u001b[0mAnalysisException\u001b[0m\u001b[1;33m(\u001b[0m\u001b[0ms\u001b[0m\u001b[1;33m.\u001b[0m\u001b[0msplit\u001b[0m\u001b[1;33m(\u001b[0m\u001b[1;34m': '\u001b[0m\u001b[1;33m,\u001b[0m \u001b[1;36m1\u001b[0m\u001b[1;33m)\u001b[0m\u001b[1;33m[\u001b[0m\u001b[1;36m1\u001b[0m\u001b[1;33m]\u001b[0m\u001b[1;33m,\u001b[0m \u001b[0mstackTrace\u001b[0m\u001b[1;33m)\u001b[0m\u001b[1;33m\u001b[0m\u001b[1;33m\u001b[0m\u001b[0m\n\u001b[0m\u001b[0;32m     70\u001b[0m             \u001b[1;32mif\u001b[0m \u001b[0ms\u001b[0m\u001b[1;33m.\u001b[0m\u001b[0mstartswith\u001b[0m\u001b[1;33m(\u001b[0m\u001b[1;34m'org.apache.spark.sql.catalyst.analysis'\u001b[0m\u001b[1;33m)\u001b[0m\u001b[1;33m:\u001b[0m\u001b[1;33m\u001b[0m\u001b[1;33m\u001b[0m\u001b[0m\n\u001b[0;32m     71\u001b[0m                 \u001b[1;32mraise\u001b[0m \u001b[0mAnalysisException\u001b[0m\u001b[1;33m(\u001b[0m\u001b[0ms\u001b[0m\u001b[1;33m.\u001b[0m\u001b[0msplit\u001b[0m\u001b[1;33m(\u001b[0m\u001b[1;34m': '\u001b[0m\u001b[1;33m,\u001b[0m \u001b[1;36m1\u001b[0m\u001b[1;33m)\u001b[0m\u001b[1;33m[\u001b[0m\u001b[1;36m1\u001b[0m\u001b[1;33m]\u001b[0m\u001b[1;33m,\u001b[0m \u001b[0mstackTrace\u001b[0m\u001b[1;33m)\u001b[0m\u001b[1;33m\u001b[0m\u001b[1;33m\u001b[0m\u001b[0m\n",
      "\u001b[1;31mAnalysisException\u001b[0m: 'Cannot resolve column name \"OFFMKTDATE\" among (NO, MLSID, STREETNUMBERNUMERIC, STREETADDRESS, STREETNAME, POSTALCODE, STATEORPROVINCE, CITY, SALESCLOSEPRICE, LISTDATE, LISTPRICE, LISTTYPE, ORIGINALLISTPRICE, PRICEPERTSFT, FOUNDATIONSIZE, FENCE, MAPLETTER, LOTSIZEDIMENSIONS, SCHOOLDISTRICTNUMBER, DAYSONMARKET, OFFMARKETDATE, FIREPLACES, ROOMAREA4, ROOMTYPE, ROOF, ROOMFLOOR4, POTENTIALSHORTSALE, POOLDESCRIPTION, PDOM, GARAGEDESCRIPTION, SQFTABOVEGROUND, TAXES, ROOMFLOOR1, ROOMAREA1, TAXWITHASSESSMENTS, TAXYEAR, LIVINGAREA, UNITNUMBER, YEARBUILT, ZONING, STYLE, ACRES, COOLINGDESCRIPTION, APPLIANCES, BACKONMARKETDATE, ROOMFAMILYCHAR, ROOMAREA3, EXTERIOR, ROOMFLOOR3, ROOMFLOOR2, ROOMAREA2, DININGROOMDESCRIPTION, BASEMENT, BATHSFULL, BATHSHALF, BATHQUARTER, BATHSTHREEQUARTER, CLASS, BATHSTOTAL, BATHDESC, ROOMAREA5, ROOMFLOOR5, ROOMAREA6, ROOMFLOOR6, ROOMAREA7, ROOMFLOOR7, ROOMAREA8, ROOMFLOOR8, BEDROOMS, SQFTBELOWGROUND, ASSUMABLEMORTGAGE, ASSOCIATIONFEE, ASSESSMENTPENDING, ASSESSEDVALUATION, list_year, report_year, LOT_SIZE_SQFT, YARD_SIZE, ASSESSED_TO_LIST, TAX_TO_LIST, BED_TO_BATHS, TOTAL_SQFT, BATHS_PER_1000SQFT, List_Day_of_Week, has_attached_garage, garage_list);'"
     ]
    }
   ],
   "source": [
    "from pyspark.sql.functions import datediff, to_date, lit\n",
    "\n",
    "split_date = to_date(lit('2017-12-10'))\n",
    "# Create Sequential Test set\n",
    "test_df = df.where(df['OFFMKTDATE'] >= split_date).where(df['LISTDATE'] <= split_date)\n",
    "\n",
    "# Create a copy of DAYSONMARKET to review later\n",
    "test_df = test_df.withColumn('DAYSONMARKET_Original', test_df['DAYSONMARKET'])\n",
    "\n",
    "# Recalculate DAYSONMARKET from what we know on our split date\n",
    "test_df = test_df.withColumn('DAYSONMARKET', datediff(split_date, 'LISTDATE'))\n",
    "\n",
    "# Review the difference\n",
    "test_df[['LISTDATE', 'OFFMKTDATE', 'DAYSONMARKET_Original', 'DAYSONMARKET']].show()"
   ]
  },
  {
   "cell_type": "markdown",
   "metadata": {},
   "source": [
    "## Dropping Columns with Low Observations\n",
    "\n",
    "After doing a lot of feature engineering it's a good idea to take a step back and look at what you've created. If you've used some automation techniques on your categorical features like exploding or OneHot Encoding you may find that you now have hundreds of new binary features. While the subject of feature selection is material for a whole other course but there are some quick steps you can take to reduce the dimensionality of your data set.\n",
    "\n",
    "In this exercise, we are going to remove columns that have less than 30 observations. 30 is a common minimum number of observations for statistical significance. Any less than that and the relationships cause overfitting because of a sheer coincidence!\n",
    "\n",
    "NOTE: The data is available in the dataframe, df."
   ]
  },
  {
   "cell_type": "code",
   "execution_count": 69,
   "metadata": {
    "ExecuteTime": {
     "end_time": "2019-02-16T19:38:08.370925Z",
     "start_time": "2019-02-16T19:38:08.353997Z"
    }
   },
   "outputs": [
    {
     "ename": "NameError",
     "evalue": "name 'binary_cols' is not defined",
     "output_type": "error",
     "traceback": [
      "\u001b[1;31m---------------------------------------------------------------------------\u001b[0m",
      "\u001b[1;31mNameError\u001b[0m                                 Traceback (most recent call last)",
      "\u001b[1;32m<ipython-input-69-23b384b56c27>\u001b[0m in \u001b[0;36m<module>\u001b[1;34m\u001b[0m\n\u001b[0;32m      2\u001b[0m \u001b[0mcols_to_remove\u001b[0m \u001b[1;33m=\u001b[0m \u001b[0mlist\u001b[0m\u001b[1;33m(\u001b[0m\u001b[1;33m)\u001b[0m\u001b[1;33m\u001b[0m\u001b[1;33m\u001b[0m\u001b[0m\n\u001b[0;32m      3\u001b[0m \u001b[1;31m# Inspect first 10 binary columns in list\u001b[0m\u001b[1;33m\u001b[0m\u001b[1;33m\u001b[0m\u001b[1;33m\u001b[0m\u001b[0m\n\u001b[1;32m----> 4\u001b[1;33m \u001b[1;32mfor\u001b[0m \u001b[0mcol\u001b[0m \u001b[1;32min\u001b[0m \u001b[0mbinary_cols\u001b[0m\u001b[1;33m[\u001b[0m\u001b[1;36m0\u001b[0m\u001b[1;33m:\u001b[0m\u001b[1;36m10\u001b[0m\u001b[1;33m]\u001b[0m\u001b[1;33m:\u001b[0m\u001b[1;33m\u001b[0m\u001b[1;33m\u001b[0m\u001b[0m\n\u001b[0m\u001b[0;32m      5\u001b[0m   \u001b[1;31m# Count the number of 1 values in the binary column\u001b[0m\u001b[1;33m\u001b[0m\u001b[1;33m\u001b[0m\u001b[1;33m\u001b[0m\u001b[0m\n\u001b[0;32m      6\u001b[0m   \u001b[0mobs_count\u001b[0m \u001b[1;33m=\u001b[0m \u001b[0mdf\u001b[0m\u001b[1;33m.\u001b[0m\u001b[0magg\u001b[0m\u001b[1;33m(\u001b[0m\u001b[1;33m{\u001b[0m\u001b[0mcol\u001b[0m\u001b[1;33m:\u001b[0m\u001b[1;34m'sum'\u001b[0m\u001b[1;33m}\u001b[0m\u001b[1;33m)\u001b[0m\u001b[1;33m.\u001b[0m\u001b[0mcollect\u001b[0m\u001b[1;33m(\u001b[0m\u001b[1;33m)\u001b[0m\u001b[1;33m[\u001b[0m\u001b[1;36m0\u001b[0m\u001b[1;33m]\u001b[0m\u001b[1;33m[\u001b[0m\u001b[1;36m0\u001b[0m\u001b[1;33m]\u001b[0m\u001b[1;33m\u001b[0m\u001b[1;33m\u001b[0m\u001b[0m\n",
      "\u001b[1;31mNameError\u001b[0m: name 'binary_cols' is not defined"
     ]
    }
   ],
   "source": [
    "obs_threshold = 30\n",
    "cols_to_remove = list()\n",
    "# Inspect first 10 binary columns in list\n",
    "for col in binary_cols[0:10]:\n",
    "  # Count the number of 1 values in the binary column\n",
    "  obs_count = df.agg({col:'sum'}).collect()[0][0]\n",
    "  # If less than our observation threshold, remove\n",
    "  if obs_count <= obs_threshold:\n",
    "    cols_to_remove.append(col)\n",
    "    \n",
    "# Drop columns and print starting and ending dataframe shapes\n",
    "new_df = df.drop(*cols_to_remove)\n",
    "\n",
    "print('Rows: ' + str(df.count()) + ' Columns: ' + str(len(df.columns)))\n",
    "print('Rows: ' + str(new_df.count()) + ' Columns: ' + str(len(new_df.columns)))"
   ]
  },
  {
   "cell_type": "markdown",
   "metadata": {},
   "source": [
    "## Naively Handling Missing and Categorical Values\n",
    "\n",
    "Random Forest Regression is robust enough to allow us to ignore many of the more time consuming and tedious data preparation steps. While some implementations of Random Forest handle missing and categorical values automatically, PySpark's does not. The math remains the same however so we can get away with some naive value replacements.\n",
    "\n",
    "For missing values since our data is strictly positive, we will assign -1. The random forest will split on this value and handle it differently than the rest of the values in the same feature.\n",
    "\n",
    "For categorical values, we can just map the text values to numbers and again the random forest will appropriately handle them by splitting on them. In this example, we will dust off pipelines from Introduction to PySpark to write our code more concisely. Please note that the exercise will start by displaying the dtypes of the columns in the dataframe, compare them to the results at the end of this exercise.\n",
    "\n",
    "NOTE: Pipeline and StringIndexer are already imported for you. The list categorical_cols is also available."
   ]
  },
  {
   "cell_type": "code",
   "execution_count": 70,
   "metadata": {
    "ExecuteTime": {
     "end_time": "2019-02-16T19:38:09.920262Z",
     "start_time": "2019-02-16T19:38:09.899318Z"
    }
   },
   "outputs": [
    {
     "ename": "NameError",
     "evalue": "name 'categorical_cols' is not defined",
     "output_type": "error",
     "traceback": [
      "\u001b[1;31m---------------------------------------------------------------------------\u001b[0m",
      "\u001b[1;31mNameError\u001b[0m                                 Traceback (most recent call last)",
      "\u001b[1;32m<ipython-input-70-c5f122db2b1c>\u001b[0m in \u001b[0;36m<module>\u001b[1;34m\u001b[0m\n\u001b[0;32m      4\u001b[0m \u001b[1;31m# Create list of StringIndexers using list comprehension\u001b[0m\u001b[1;33m\u001b[0m\u001b[1;33m\u001b[0m\u001b[1;33m\u001b[0m\u001b[0m\n\u001b[0;32m      5\u001b[0m indexers = [StringIndexer(inputCol=col, outputCol=col+\"_IDX\")\\\n\u001b[1;32m----> 6\u001b[1;33m             .setHandleInvalid(\"keep\") for col in categorical_cols]\n\u001b[0m\u001b[0;32m      7\u001b[0m \u001b[1;31m# Create pipeline of indexers\u001b[0m\u001b[1;33m\u001b[0m\u001b[1;33m\u001b[0m\u001b[1;33m\u001b[0m\u001b[0m\n\u001b[0;32m      8\u001b[0m \u001b[0mindexer_pipeline\u001b[0m \u001b[1;33m=\u001b[0m \u001b[0mPipeline\u001b[0m\u001b[1;33m(\u001b[0m\u001b[0mstages\u001b[0m\u001b[1;33m=\u001b[0m\u001b[0mindexers\u001b[0m\u001b[1;33m)\u001b[0m\u001b[1;33m\u001b[0m\u001b[1;33m\u001b[0m\u001b[0m\n",
      "\u001b[1;31mNameError\u001b[0m: name 'categorical_cols' is not defined"
     ]
    }
   ],
   "source": [
    "# Replace missing values\n",
    "df = df.fillna(-1, subset=['WALKSCORE', 'BIKESCORE'])\n",
    "\n",
    "# Create list of StringIndexers using list comprehension\n",
    "indexers = [StringIndexer(inputCol=col, outputCol=col+\"_IDX\")\\\n",
    "            .setHandleInvalid(\"keep\") for col in categorical_cols]\n",
    "# Create pipeline of indexers\n",
    "indexer_pipeline = Pipeline(stages=indexers)\n",
    "# Fit and Transform the pipeline to the original data\n",
    "df_indexed = indexer_pipeline.fit(df).transform(df)\n",
    "\n",
    "# Clean up redundant columns\n",
    "df_indexed = df_indexed.drop(*categorical_cols)\n",
    "# Inspect data transformations\n",
    "print(df_indexed.dtypes)"
   ]
  },
  {
   "cell_type": "markdown",
   "metadata": {},
   "source": [
    "## Building a Regression Model\n",
    "\n",
    "One of the great things about PySpark ML module is that most algorithms can be tried and tested without changing much code. Random Forest Regression is a fairly simple ensemble model, using bagging to fit. Another tree based ensemble model is Gradient Boosted Trees which uses a different approach called boosting to fit. In this exercise let's train a GBTRegressor."
   ]
  },
  {
   "cell_type": "code",
   "execution_count": 71,
   "metadata": {
    "ExecuteTime": {
     "end_time": "2019-02-16T19:38:11.360576Z",
     "start_time": "2019-02-16T19:38:11.319684Z"
    }
   },
   "outputs": [
    {
     "ename": "NameError",
     "evalue": "name 'train_df' is not defined",
     "output_type": "error",
     "traceback": [
      "\u001b[1;31m---------------------------------------------------------------------------\u001b[0m",
      "\u001b[1;31mNameError\u001b[0m                                 Traceback (most recent call last)",
      "\u001b[1;32m<ipython-input-71-6b0ee9aa05bb>\u001b[0m in \u001b[0;36m<module>\u001b[1;34m\u001b[0m\n\u001b[0;32m      9\u001b[0m \u001b[1;33m\u001b[0m\u001b[0m\n\u001b[0;32m     10\u001b[0m \u001b[1;31m# Train model.\u001b[0m\u001b[1;33m\u001b[0m\u001b[1;33m\u001b[0m\u001b[1;33m\u001b[0m\u001b[0m\n\u001b[1;32m---> 11\u001b[1;33m \u001b[0mmodel\u001b[0m \u001b[1;33m=\u001b[0m \u001b[0mgbt\u001b[0m\u001b[1;33m.\u001b[0m\u001b[0mfit\u001b[0m\u001b[1;33m(\u001b[0m\u001b[0mtrain_df\u001b[0m\u001b[1;33m)\u001b[0m\u001b[1;33m\u001b[0m\u001b[1;33m\u001b[0m\u001b[0m\n\u001b[0m",
      "\u001b[1;31mNameError\u001b[0m: name 'train_df' is not defined"
     ]
    }
   ],
   "source": [
    "from pyspark.ml.regression import GBTRegressor\n",
    "\n",
    "# Train a Gradient Boosted Trees (GBT) model.\n",
    "gbt = GBTRegressor(featuresCol=\"features\",\n",
    "                           labelCol=\"SALESCLOSEPRICE\",\n",
    "                           predictionCol=\"Prediction_Price\",\n",
    "                           seed=42\n",
    "                           )\n",
    "\n",
    "# Train model.\n",
    "model = gbt.fit(train_df)"
   ]
  },
  {
   "cell_type": "markdown",
   "metadata": {},
   "source": [
    "## Evaluating & Comparing Algorithms\n",
    "\n",
    "Now that we've created a new model with GBTRegressor its time to compare it against our baseline of RandomForestRegressor. To do this we will compare the predictions of both models to the actual data and calculate RMSE and R^2."
   ]
  },
  {
   "cell_type": "code",
   "execution_count": 72,
   "metadata": {
    "ExecuteTime": {
     "end_time": "2019-02-16T19:38:12.773971Z",
     "start_time": "2019-02-16T19:38:12.753009Z"
    }
   },
   "outputs": [
    {
     "ename": "NameError",
     "evalue": "name 'gbt_predictions' is not defined",
     "output_type": "error",
     "traceback": [
      "\u001b[1;31m---------------------------------------------------------------------------\u001b[0m",
      "\u001b[1;31mNameError\u001b[0m                                 Traceback (most recent call last)",
      "\u001b[1;32m<ipython-input-72-43b238535f31>\u001b[0m in \u001b[0;36m<module>\u001b[1;34m\u001b[0m\n\u001b[0;32m      5\u001b[0m                                 predictionCol=\"Prediction_Price\")\n\u001b[0;32m      6\u001b[0m \u001b[1;31m# Dictionary of model predictions to loop over\u001b[0m\u001b[1;33m\u001b[0m\u001b[1;33m\u001b[0m\u001b[1;33m\u001b[0m\u001b[0m\n\u001b[1;32m----> 7\u001b[1;33m \u001b[0mmodels\u001b[0m \u001b[1;33m=\u001b[0m \u001b[1;33m{\u001b[0m\u001b[1;34m'Gradient Boosted Trees'\u001b[0m\u001b[1;33m:\u001b[0m \u001b[0mgbt_predictions\u001b[0m\u001b[1;33m,\u001b[0m \u001b[1;34m'Random Forest Regression'\u001b[0m\u001b[1;33m:\u001b[0m \u001b[0mrfr_predictions\u001b[0m\u001b[1;33m}\u001b[0m\u001b[1;33m\u001b[0m\u001b[1;33m\u001b[0m\u001b[0m\n\u001b[0m\u001b[0;32m      8\u001b[0m \u001b[1;32mfor\u001b[0m \u001b[0mkey\u001b[0m\u001b[1;33m,\u001b[0m \u001b[0mpreds\u001b[0m \u001b[1;32min\u001b[0m \u001b[0mmodels\u001b[0m\u001b[1;33m.\u001b[0m\u001b[0mitems\u001b[0m\u001b[1;33m(\u001b[0m\u001b[1;33m)\u001b[0m\u001b[1;33m:\u001b[0m\u001b[1;33m\u001b[0m\u001b[1;33m\u001b[0m\u001b[0m\n\u001b[0;32m      9\u001b[0m   \u001b[1;31m# Create evaluation metrics\u001b[0m\u001b[1;33m\u001b[0m\u001b[1;33m\u001b[0m\u001b[1;33m\u001b[0m\u001b[0m\n",
      "\u001b[1;31mNameError\u001b[0m: name 'gbt_predictions' is not defined"
     ]
    }
   ],
   "source": [
    "from pyspark.ml.evaluation import RegressionEvaluator\n",
    "\n",
    "# Select columns to compute test error\n",
    "evaluator = RegressionEvaluator(labelCol=\"SALESCLOSEPRICE\", \n",
    "                                predictionCol=\"Prediction_Price\")\n",
    "# Dictionary of model predictions to loop over\n",
    "models = {'Gradient Boosted Trees': gbt_predictions, 'Random Forest Regression': rfr_predictions}\n",
    "for key, preds in models.items():\n",
    "  # Create evaluation metrics\n",
    "  rmse = evaluator.evaluate(preds, {evaluator.metricName: \"rmse\"})\n",
    "  r2 = evaluator.evaluate(preds, {evaluator.metricName: \"r2\"})\n",
    "\n",
    "  # Print Model Metrics\n",
    "  print(key + ' RMSE: ' + str(rmse))\n",
    "  print(key + ' R^2: ' + str(r2))"
   ]
  },
  {
   "cell_type": "markdown",
   "metadata": {},
   "source": [
    "## Interpreting Results\n",
    "\n",
    "It is almost always important to know which features are influencing your prediction the most. Perhaps its counterintuitive and that's an insight? Perhaps a hand full of features account for most of the accuracy of your model and you don't need to perform time acquiring or massaging other features.\n",
    "\n",
    "In this example we will be looking at a model that has been trained without any LISTPRICE information. With that gone, what influences the price the most?\n",
    "\n",
    "    NOTE: The array of feature importances, importances has already been created for you from model.featureImportances.toArray()\n"
   ]
  },
  {
   "cell_type": "code",
   "execution_count": 73,
   "metadata": {
    "ExecuteTime": {
     "end_time": "2019-02-16T19:38:14.028138Z",
     "start_time": "2019-02-16T19:38:14.015196Z"
    }
   },
   "outputs": [
    {
     "ename": "NameError",
     "evalue": "name 'importances' is not defined",
     "output_type": "error",
     "traceback": [
      "\u001b[1;31m---------------------------------------------------------------------------\u001b[0m",
      "\u001b[1;31mNameError\u001b[0m                                 Traceback (most recent call last)",
      "\u001b[1;32m<ipython-input-73-18c64e48bc9d>\u001b[0m in \u001b[0;36m<module>\u001b[1;34m\u001b[0m\n\u001b[0;32m      1\u001b[0m \u001b[1;31m# Convert feature importances to a pandas column\u001b[0m\u001b[1;33m\u001b[0m\u001b[1;33m\u001b[0m\u001b[1;33m\u001b[0m\u001b[0m\n\u001b[1;32m----> 2\u001b[1;33m \u001b[0mfi_df\u001b[0m \u001b[1;33m=\u001b[0m \u001b[0mpd\u001b[0m\u001b[1;33m.\u001b[0m\u001b[0mDataFrame\u001b[0m\u001b[1;33m(\u001b[0m\u001b[0mimportances\u001b[0m\u001b[1;33m,\u001b[0m \u001b[0mcolumns\u001b[0m\u001b[1;33m=\u001b[0m\u001b[1;33m[\u001b[0m\u001b[1;34m'importance'\u001b[0m\u001b[1;33m]\u001b[0m\u001b[1;33m)\u001b[0m\u001b[1;33m\u001b[0m\u001b[1;33m\u001b[0m\u001b[0m\n\u001b[0m\u001b[0;32m      3\u001b[0m \u001b[1;33m\u001b[0m\u001b[0m\n\u001b[0;32m      4\u001b[0m \u001b[1;31m# Convert list of feature names to pandas column\u001b[0m\u001b[1;33m\u001b[0m\u001b[1;33m\u001b[0m\u001b[1;33m\u001b[0m\u001b[0m\n\u001b[0;32m      5\u001b[0m \u001b[0mfi_df\u001b[0m\u001b[1;33m[\u001b[0m\u001b[1;34m'feature'\u001b[0m\u001b[1;33m]\u001b[0m \u001b[1;33m=\u001b[0m \u001b[0mpd\u001b[0m\u001b[1;33m.\u001b[0m\u001b[0mSeries\u001b[0m\u001b[1;33m(\u001b[0m\u001b[0mfeature_cols\u001b[0m\u001b[1;33m)\u001b[0m\u001b[1;33m\u001b[0m\u001b[1;33m\u001b[0m\u001b[0m\n",
      "\u001b[1;31mNameError\u001b[0m: name 'importances' is not defined"
     ]
    }
   ],
   "source": [
    "# Convert feature importances to a pandas column\n",
    "fi_df = pd.DataFrame(importances, columns=['importance'])\n",
    "\n",
    "# Convert list of feature names to pandas column\n",
    "fi_df['feature'] = pd.Series(feature_cols)\n",
    "\n",
    "# Sort the data based on feature importance\n",
    "fi_df.sort_values(by=['importance'], ascending=False, inplace=True)\n",
    "\n",
    "# Inspect Results\n",
    "fi_df.head(10)"
   ]
  },
  {
   "cell_type": "markdown",
   "metadata": {},
   "source": [
    "## Saving & Loading Models\n",
    "\n",
    "Often times you may find yourself going back to a previous model to see what assumptions or settings were used when diagnosing where your prediction errors were coming from. Perhaps there was something wrong with the data? Maybe you need to incorporate a new feature to capture an unusual event that occurred?\n",
    "\n",
    "In this example, you will practice saving and loading a model."
   ]
  },
  {
   "cell_type": "code",
   "execution_count": 74,
   "metadata": {
    "ExecuteTime": {
     "end_time": "2019-02-16T19:38:15.287356Z",
     "start_time": "2019-02-16T19:38:15.277380Z"
    }
   },
   "outputs": [
    {
     "ename": "NameError",
     "evalue": "name 'model' is not defined",
     "output_type": "error",
     "traceback": [
      "\u001b[1;31m---------------------------------------------------------------------------\u001b[0m",
      "\u001b[1;31mNameError\u001b[0m                                 Traceback (most recent call last)",
      "\u001b[1;32m<ipython-input-74-faba4c6ca60a>\u001b[0m in \u001b[0;36m<module>\u001b[1;34m\u001b[0m\n\u001b[0;32m      2\u001b[0m \u001b[1;33m\u001b[0m\u001b[0m\n\u001b[0;32m      3\u001b[0m \u001b[1;31m# Save model\u001b[0m\u001b[1;33m\u001b[0m\u001b[1;33m\u001b[0m\u001b[1;33m\u001b[0m\u001b[0m\n\u001b[1;32m----> 4\u001b[1;33m \u001b[0mmodel\u001b[0m\u001b[1;33m.\u001b[0m\u001b[0msave\u001b[0m\u001b[1;33m(\u001b[0m\u001b[1;34m'rfr_no_listprice'\u001b[0m\u001b[1;33m)\u001b[0m\u001b[1;33m\u001b[0m\u001b[1;33m\u001b[0m\u001b[0m\n\u001b[0m\u001b[0;32m      5\u001b[0m \u001b[1;33m\u001b[0m\u001b[0m\n\u001b[0;32m      6\u001b[0m \u001b[1;31m# Load model\u001b[0m\u001b[1;33m\u001b[0m\u001b[1;33m\u001b[0m\u001b[1;33m\u001b[0m\u001b[0m\n",
      "\u001b[1;31mNameError\u001b[0m: name 'model' is not defined"
     ]
    }
   ],
   "source": [
    "from pyspark.ml.regression import RandomForestRegressionModel\n",
    "\n",
    "# Save model\n",
    "model.save('rfr_no_listprice')\n",
    "\n",
    "# Load model\n",
    "loaded_model = RandomForestRegressionModel.load('rfr_no_listprice')"
   ]
  }
 ],
 "metadata": {
  "kernelspec": {
   "display_name": "Python 3",
   "language": "python",
   "name": "python3"
  },
  "language_info": {
   "codemirror_mode": {
    "name": "ipython",
    "version": 3
   },
   "file_extension": ".py",
   "mimetype": "text/x-python",
   "name": "python",
   "nbconvert_exporter": "python",
   "pygments_lexer": "ipython3",
   "version": "3.6.7"
  },
  "toc": {
   "base_numbering": 1,
   "nav_menu": {},
   "number_sections": true,
   "sideBar": true,
   "skip_h1_title": false,
   "title_cell": "Table of Contents",
   "title_sidebar": "Contents",
   "toc_cell": false,
   "toc_position": {},
   "toc_section_display": true,
   "toc_window_display": true
  },
  "varInspector": {
   "cols": {
    "lenName": 16,
    "lenType": 16,
    "lenVar": 40
   },
   "kernels_config": {
    "python": {
     "delete_cmd_postfix": "",
     "delete_cmd_prefix": "del ",
     "library": "var_list.py",
     "varRefreshCmd": "print(var_dic_list())"
    },
    "r": {
     "delete_cmd_postfix": ") ",
     "delete_cmd_prefix": "rm(",
     "library": "var_list.r",
     "varRefreshCmd": "cat(var_dic_list()) "
    }
   },
   "types_to_exclude": [
    "module",
    "function",
    "builtin_function_or_method",
    "instance",
    "_Feature"
   ],
   "window_display": false
  }
 },
 "nbformat": 4,
 "nbformat_minor": 2
}
