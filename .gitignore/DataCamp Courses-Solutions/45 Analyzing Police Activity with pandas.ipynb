{
 "cells": [
  {
   "cell_type": "markdown",
   "metadata": {},
   "source": [
    "# Preparing the data for analysis"
   ]
  },
  {
   "cell_type": "code",
   "execution_count": 1,
   "metadata": {
    "ExecuteTime": {
     "end_time": "2019-02-18T10:38:58.756033Z",
     "start_time": "2019-02-18T10:38:58.008013Z"
    }
   },
   "outputs": [],
   "source": [
    "import pandas as pd\n",
    "import matplotlib.pyplot as plt\n",
    "import numpy as np\n",
    "import seaborn as sns\n",
    "\n",
    "%matplotlib inline\n",
    "\n",
    "# lng_df = pd.read_csv('43Data1.csv', index_col = 0, parse_dates = True)\n",
    "# np.savetxt('file', a, delimiter=',')"
   ]
  },
  {
   "cell_type": "markdown",
   "metadata": {},
   "source": [
    "## Examining the dataset\n",
    "\n",
    "Throughout this course, you'll be analyzing a dataset of traffic stops in Rhode Island that was collected by the Stanford Open Policing Project.\n",
    "\n",
    "Before beginning your analysis, it's important that you familiarize yourself with the dataset. In this exercise, you'll read the dataset into pandas, examine the first few rows, and then count the number of missing values."
   ]
  },
  {
   "cell_type": "code",
   "execution_count": 3,
   "metadata": {
    "ExecuteTime": {
     "end_time": "2019-02-18T10:40:19.503911Z",
     "start_time": "2019-02-18T10:40:19.263554Z"
    }
   },
   "outputs": [
    {
     "name": "stdout",
     "output_type": "stream",
     "text": [
      "  state   stop_date stop_time  county_name driver_gender driver_race  \\\n",
      "0    RI  2005-01-04     12:55          NaN             M       White   \n",
      "1    RI  2005-01-23     23:15          NaN             M       White   \n",
      "2    RI  2005-02-17     04:15          NaN             M       White   \n",
      "3    RI  2005-02-20     17:15          NaN             M       White   \n",
      "4    RI  2005-02-24     01:20          NaN             F       White   \n",
      "\n",
      "                    violation_raw  violation  search_conducted search_type  \\\n",
      "0  Equipment/Inspection Violation  Equipment             False         NaN   \n",
      "1                        Speeding   Speeding             False         NaN   \n",
      "2                        Speeding   Speeding             False         NaN   \n",
      "3                Call for Service      Other             False         NaN   \n",
      "4                        Speeding   Speeding             False         NaN   \n",
      "\n",
      "    stop_outcome is_arrested stop_duration  drugs_related_stop district  \n",
      "0       Citation       False      0-15 Min               False  Zone X4  \n",
      "1       Citation       False      0-15 Min               False  Zone K3  \n",
      "2       Citation       False      0-15 Min               False  Zone X4  \n",
      "3  Arrest Driver        True     16-30 Min               False  Zone X1  \n",
      "4       Citation       False      0-15 Min               False  Zone X3  \n",
      "state                     0\n",
      "stop_date                 0\n",
      "stop_time                 0\n",
      "county_name           91741\n",
      "driver_gender          5205\n",
      "driver_race            5202\n",
      "violation_raw          5202\n",
      "violation              5202\n",
      "search_conducted          0\n",
      "search_type           88434\n",
      "stop_outcome           5202\n",
      "is_arrested            5202\n",
      "stop_duration          5202\n",
      "drugs_related_stop        0\n",
      "district                  0\n",
      "dtype: int64\n"
     ]
    }
   ],
   "source": [
    "# Import the pandas library as pd\n",
    "import pandas as pd\n",
    "\n",
    "# Read 'police.csv' into a DataFrame named ri\n",
    "ri = pd.read_csv('police.csv')\n",
    "\n",
    "# Examine the head of the DataFrame\n",
    "print(ri.head())\n",
    "\n",
    "# Count the number of missing values in each column\n",
    "print(ri.isnull().sum())"
   ]
  },
  {
   "cell_type": "markdown",
   "metadata": {},
   "source": [
    "## Dropping columns\n",
    "\n",
    "Often, a DataFrame will contain columns that are not useful to your analysis. Such columns should be dropped from the DataFrame, to make it easier for you to focus on the remaining columns.\n",
    "\n",
    "In this exercise, you'll drop the county_name column because it only contains missing values, and you'll drop the state column because all of the traffic stops took place in one state (Rhode Island). Thus, these columns can be dropped because they contain no useful information."
   ]
  },
  {
   "cell_type": "code",
   "execution_count": 4,
   "metadata": {
    "ExecuteTime": {
     "end_time": "2019-02-18T10:40:35.804414Z",
     "start_time": "2019-02-18T10:40:35.703691Z"
    }
   },
   "outputs": [
    {
     "name": "stdout",
     "output_type": "stream",
     "text": [
      "state                     0\n",
      "stop_date                 0\n",
      "stop_time                 0\n",
      "county_name           91741\n",
      "driver_gender          5205\n",
      "driver_race            5202\n",
      "violation_raw          5202\n",
      "violation              5202\n",
      "search_conducted          0\n",
      "search_type           88434\n",
      "stop_outcome           5202\n",
      "is_arrested            5202\n",
      "stop_duration          5202\n",
      "drugs_related_stop        0\n",
      "district                  0\n",
      "dtype: int64\n",
      "(91741, 15)\n",
      "(91741, 13)\n"
     ]
    }
   ],
   "source": [
    "# Count the number of missing values in each column\n",
    "print(ri.isnull().sum())\n",
    "\n",
    "# Examine the shape of the DataFrame\n",
    "print(ri.shape)\n",
    "\n",
    "# Drop the 'county_name' and 'state' columns\n",
    "ri.drop(['county_name', 'state'], axis='columns', inplace=True)\n",
    "\n",
    "# Examine the shape of the DataFrame (again)\n",
    "print(ri.shape)"
   ]
  },
  {
   "cell_type": "markdown",
   "metadata": {},
   "source": [
    "## Dropping rows\n",
    "\n",
    "When you know that a specific column will be critical to your analysis, and only a small fraction of rows are missing a value in that column, it often makes sense to remove those rows from the dataset.\n",
    "\n",
    "During this course, the driver_gender column will be critical to many of your analyses. Because only a small fraction of rows are missing driver_gender, we'll drop those rows from the dataset."
   ]
  },
  {
   "cell_type": "code",
   "execution_count": 5,
   "metadata": {
    "ExecuteTime": {
     "end_time": "2019-02-18T10:40:46.166848Z",
     "start_time": "2019-02-18T10:40:46.012262Z"
    }
   },
   "outputs": [
    {
     "name": "stdout",
     "output_type": "stream",
     "text": [
      "stop_date                 0\n",
      "stop_time                 0\n",
      "driver_gender          5205\n",
      "driver_race            5202\n",
      "violation_raw          5202\n",
      "violation              5202\n",
      "search_conducted          0\n",
      "search_type           88434\n",
      "stop_outcome           5202\n",
      "is_arrested            5202\n",
      "stop_duration          5202\n",
      "drugs_related_stop        0\n",
      "district                  0\n",
      "dtype: int64\n",
      "stop_date                 0\n",
      "stop_time                 0\n",
      "driver_gender             0\n",
      "driver_race               0\n",
      "violation_raw             0\n",
      "violation                 0\n",
      "search_conducted          0\n",
      "search_type           83229\n",
      "stop_outcome              0\n",
      "is_arrested               0\n",
      "stop_duration             0\n",
      "drugs_related_stop        0\n",
      "district                  0\n",
      "dtype: int64\n",
      "(86536, 13)\n"
     ]
    }
   ],
   "source": [
    "# Count the number of missing values in each column\n",
    "print(ri.isnull().sum())\n",
    "\n",
    "# Drop all rows that are missing 'driver_gender'\n",
    "ri.dropna(subset=['driver_gender'], inplace=True)\n",
    "\n",
    "# Count the number of missing values in each column (again)\n",
    "print(ri.isnull().sum())\n",
    "\n",
    "# Examine the shape of the DataFrame\n",
    "print(ri.shape)"
   ]
  },
  {
   "cell_type": "markdown",
   "metadata": {},
   "source": [
    "## Fixing a data type\n",
    "\n",
    "We saw in the previous exercise that the is_arrested column currently has the object data type. In this exercise, we'll change the data type to bool, which is the most suitable type for a column containing True and False values.\n",
    "\n",
    "Fixing the data type will enable us to use mathematical operations on the is_arrested column that would not be possible otherwise."
   ]
  },
  {
   "cell_type": "code",
   "execution_count": 6,
   "metadata": {
    "ExecuteTime": {
     "end_time": "2019-02-18T10:41:08.035354Z",
     "start_time": "2019-02-18T10:41:08.021376Z"
    }
   },
   "outputs": [
    {
     "name": "stdout",
     "output_type": "stream",
     "text": [
      "0    False\n",
      "1    False\n",
      "2    False\n",
      "3     True\n",
      "4    False\n",
      "Name: is_arrested, dtype: object\n",
      "object\n",
      "bool\n"
     ]
    }
   ],
   "source": [
    "# Examine the head of the 'is_arrested' column\n",
    "print(ri.is_arrested.head())\n",
    "\n",
    "# Check the data type of 'is_arrested'\n",
    "print(ri.is_arrested.dtype)\n",
    "\n",
    "# Change the data type of 'is_arrested' to 'bool'\n",
    "ri['is_arrested'] = ri.is_arrested.astype('bool')\n",
    "\n",
    "# Check the data type of 'is_arrested' (again)\n",
    "print(ri.is_arrested.dtype)"
   ]
  },
  {
   "cell_type": "markdown",
   "metadata": {},
   "source": [
    "## Combining object columns\n",
    "\n",
    "Currently, the date and time of each traffic stop are stored in separate object columns: stop_date and stop_time.\n",
    "\n",
    "In this exercise, you'll combine these two columns into a single column, and then convert it to datetime format. This will enable convenient date-based attributes that we'll use later in the course."
   ]
  },
  {
   "cell_type": "code",
   "execution_count": 7,
   "metadata": {
    "ExecuteTime": {
     "end_time": "2019-02-18T10:41:20.756524Z",
     "start_time": "2019-02-18T10:41:20.684732Z"
    }
   },
   "outputs": [
    {
     "name": "stdout",
     "output_type": "stream",
     "text": [
      "stop_date                     object\n",
      "stop_time                     object\n",
      "driver_gender                 object\n",
      "driver_race                   object\n",
      "violation_raw                 object\n",
      "violation                     object\n",
      "search_conducted                bool\n",
      "search_type                   object\n",
      "stop_outcome                  object\n",
      "is_arrested                     bool\n",
      "stop_duration                 object\n",
      "drugs_related_stop              bool\n",
      "district                      object\n",
      "stop_datetime         datetime64[ns]\n",
      "dtype: object\n"
     ]
    }
   ],
   "source": [
    "# Concatenate 'stop_date' and 'stop_time' (separated by a space)\n",
    "combined = ri.stop_date.str.cat(ri.stop_time, sep=' ')\n",
    "\n",
    "# Convert 'combined' to datetime format\n",
    "ri['stop_datetime'] = pd.to_datetime(combined)\n",
    "\n",
    "# Examine the data types of the DataFrame\n",
    "print(ri.dtypes)"
   ]
  },
  {
   "cell_type": "markdown",
   "metadata": {},
   "source": [
    "## Setting the index\n",
    "\n",
    "The last step that you'll take in this chapter is to set the stop_datetime column as the DataFrame's index. By replacing the default index with a DatetimeIndex, you'll make it easier to analyze the dataset by date and time, which will come in handy later in the course!"
   ]
  },
  {
   "cell_type": "code",
   "execution_count": 8,
   "metadata": {
    "ExecuteTime": {
     "end_time": "2019-02-18T10:41:36.600290Z",
     "start_time": "2019-02-18T10:41:36.590296Z"
    }
   },
   "outputs": [
    {
     "name": "stdout",
     "output_type": "stream",
     "text": [
      "DatetimeIndex(['2005-01-04 12:55:00', '2005-01-23 23:15:00',\n",
      "               '2005-02-17 04:15:00', '2005-02-20 17:15:00',\n",
      "               '2005-02-24 01:20:00', '2005-03-14 10:00:00',\n",
      "               '2005-03-29 21:55:00', '2005-04-04 21:25:00',\n",
      "               '2005-07-14 11:20:00', '2005-07-14 19:55:00',\n",
      "               ...\n",
      "               '2015-12-31 13:23:00', '2015-12-31 18:59:00',\n",
      "               '2015-12-31 19:13:00', '2015-12-31 20:20:00',\n",
      "               '2015-12-31 20:50:00', '2015-12-31 21:21:00',\n",
      "               '2015-12-31 21:59:00', '2015-12-31 22:04:00',\n",
      "               '2015-12-31 22:09:00', '2015-12-31 22:47:00'],\n",
      "              dtype='datetime64[ns]', name='stop_datetime', length=86536, freq=None)\n",
      "Index(['stop_date', 'stop_time', 'driver_gender', 'driver_race',\n",
      "       'violation_raw', 'violation', 'search_conducted', 'search_type',\n",
      "       'stop_outcome', 'is_arrested', 'stop_duration', 'drugs_related_stop',\n",
      "       'district'],\n",
      "      dtype='object')\n"
     ]
    }
   ],
   "source": [
    "# Set 'stop_datetime' as the index\n",
    "ri.set_index('stop_datetime', inplace=True)\n",
    "\n",
    "# Examine the index\n",
    "print(ri.index)\n",
    "\n",
    "# Examine the columns\n",
    "print(ri.columns)"
   ]
  },
  {
   "cell_type": "markdown",
   "metadata": {},
   "source": [
    "# Exploring the relationship between gender and policing"
   ]
  },
  {
   "cell_type": "markdown",
   "metadata": {},
   "source": [
    "## Examining traffic violations\n",
    "\n",
    "Before comparing the violations being committed by each gender, you should examine the violations committed by all drivers to get a baseline understanding of the data.\n",
    "\n",
    "In this exercise, you'll count the unique values in the violation column, and then separately express those counts as proportions."
   ]
  },
  {
   "cell_type": "code",
   "execution_count": 9,
   "metadata": {
    "ExecuteTime": {
     "end_time": "2019-02-18T10:41:48.426132Z",
     "start_time": "2019-02-18T10:41:48.392242Z"
    }
   },
   "outputs": [
    {
     "name": "stdout",
     "output_type": "stream",
     "text": [
      "Speeding               48423\n",
      "Moving violation       16224\n",
      "Equipment              10921\n",
      "Other                   4409\n",
      "Registration/plates     3703\n",
      "Seat belt               2856\n",
      "Name: violation, dtype: int64\n",
      "Speeding               0.559571\n",
      "Moving violation       0.187483\n",
      "Equipment              0.126202\n",
      "Other                  0.050950\n",
      "Registration/plates    0.042791\n",
      "Seat belt              0.033004\n",
      "Name: violation, dtype: float64\n"
     ]
    }
   ],
   "source": [
    "# Count the unique values in 'violation'\n",
    "print(ri.violation.value_counts())\n",
    "\n",
    "# Express the counts as proportions\n",
    "print(ri.violation.value_counts(normalize=True))"
   ]
  },
  {
   "cell_type": "markdown",
   "metadata": {
    "ExecuteTime": {
     "end_time": "2019-02-18T10:41:54.654761Z",
     "start_time": "2019-02-18T10:41:54.648769Z"
    }
   },
   "source": [
    "## Comparing violations by gender\n",
    "\n",
    "The question we're trying to answer is whether male and female drivers tend to commit different types of traffic violations.\n",
    "\n",
    "In this exercise, you'll first create a DataFrame for each gender, and then analyze the violations in each DataFrame separately.2"
   ]
  },
  {
   "cell_type": "code",
   "execution_count": 11,
   "metadata": {
    "ExecuteTime": {
     "end_time": "2019-02-18T10:42:05.617910Z",
     "start_time": "2019-02-18T10:42:05.562055Z"
    }
   },
   "outputs": [
    {
     "name": "stdout",
     "output_type": "stream",
     "text": [
      "Speeding               0.658114\n",
      "Moving violation       0.138218\n",
      "Equipment              0.105199\n",
      "Registration/plates    0.044418\n",
      "Other                  0.029738\n",
      "Seat belt              0.024312\n",
      "Name: violation, dtype: float64\n",
      "Speeding               0.522243\n",
      "Moving violation       0.206144\n",
      "Equipment              0.134158\n",
      "Other                  0.058985\n",
      "Registration/plates    0.042175\n",
      "Seat belt              0.036296\n",
      "Name: violation, dtype: float64\n"
     ]
    }
   ],
   "source": [
    "# Create a DataFrame of female drivers\n",
    "female = ri[ri.driver_gender == 'F']\n",
    "\n",
    "# Create a DataFrame of male drivers\n",
    "male = ri[ri.driver_gender == 'M']\n",
    "\n",
    "# Compute the violations by female drivers (as proportions)\n",
    "print(female.violation.value_counts(normalize=True))\n",
    "\n",
    "# Compute the violations by male drivers (as proportions)\n",
    "print(male.violation.value_counts(normalize=True))"
   ]
  },
  {
   "cell_type": "markdown",
   "metadata": {},
   "source": [
    "## Comparing speeding outcomes by gender\n",
    "\n",
    "When a driver is pulled over for speeding, many people believe that gender has an impact on whether the driver will receive a ticket or a warning. Can you find evidence of this in the dataset?\n",
    "\n",
    "First, you'll create two DataFrames of drivers who were stopped for speeding: one containing females and the other containing males.\n",
    "\n",
    "Then, for each gender, you'll use the stop_outcome column to calculate what percentage of stops resulted in a \"Citation\" (meaning a ticket) versus a \"Warning\"."
   ]
  },
  {
   "cell_type": "code",
   "execution_count": 12,
   "metadata": {
    "ExecuteTime": {
     "end_time": "2019-02-18T10:42:45.765308Z",
     "start_time": "2019-02-18T10:42:45.706466Z"
    }
   },
   "outputs": [
    {
     "name": "stdout",
     "output_type": "stream",
     "text": [
      "Citation            0.952192\n",
      "Warning             0.040074\n",
      "Arrest Driver       0.005752\n",
      "N/D                 0.000959\n",
      "Arrest Passenger    0.000639\n",
      "No Action           0.000383\n",
      "Name: stop_outcome, dtype: float64\n",
      "Citation            0.944595\n",
      "Warning             0.036184\n",
      "Arrest Driver       0.015895\n",
      "Arrest Passenger    0.001281\n",
      "No Action           0.001068\n",
      "N/D                 0.000976\n",
      "Name: stop_outcome, dtype: float64\n"
     ]
    }
   ],
   "source": [
    "# Create a DataFrame of female drivers stopped for speeding\n",
    "female_and_speeding = ri[(ri.driver_gender == 'F') & (ri.violation == 'Speeding')]\n",
    "\n",
    "# Create a DataFrame of male drivers stopped for speeding\n",
    "male_and_speeding = ri[(ri.driver_gender == 'M') & (ri.violation == 'Speeding')]\n",
    "\n",
    "# Compute the stop outcomes for female drivers (as proportions)\n",
    "print(female_and_speeding.stop_outcome.value_counts(normalize=True))\n",
    "\n",
    "# Compute the stop outcomes for male drivers (as proportions)\n",
    "print(male_and_speeding.stop_outcome.value_counts(normalize=True))"
   ]
  },
  {
   "cell_type": "markdown",
   "metadata": {},
   "source": [
    "## Calculating the search rate\n",
    "\n",
    "During a traffic stop, the police officer sometimes conducts a search of the vehicle. In this exercise, you'll calculate the percentage of all stops that result in a vehicle search, also known as the search rate."
   ]
  },
  {
   "cell_type": "code",
   "execution_count": 13,
   "metadata": {
    "ExecuteTime": {
     "end_time": "2019-02-18T10:42:55.751848Z",
     "start_time": "2019-02-18T10:42:55.739883Z"
    }
   },
   "outputs": [
    {
     "name": "stdout",
     "output_type": "stream",
     "text": [
      "bool\n",
      "False    0.961785\n",
      "True     0.038215\n",
      "Name: search_conducted, dtype: float64\n",
      "0.0382153092354627\n"
     ]
    }
   ],
   "source": [
    "# Check the data type of 'search_conducted'\n",
    "print(ri.search_conducted.dtype)\n",
    "\n",
    "# Calculate the search rate by counting the values\n",
    "print(ri.search_conducted.value_counts(normalize=True))\n",
    "\n",
    "# Calculate the search rate by taking the mean\n",
    "print(ri.search_conducted.mean())"
   ]
  },
  {
   "cell_type": "markdown",
   "metadata": {},
   "source": [
    "## Comparing search rates by gender\n",
    "\n",
    "In this exercise, you'll compare the rates at which female and male drivers are searched during a traffic stop. Remember that the vehicle search rate across all stops is about 3.8%.\n",
    "\n",
    "First, you'll filter the DataFrame by gender and calculate the search rate for each group separately. Then, you'll perform the same calculation for both genders at once using a .groupby()."
   ]
  },
  {
   "cell_type": "code",
   "execution_count": 14,
   "metadata": {
    "ExecuteTime": {
     "end_time": "2019-02-18T10:43:12.305566Z",
     "start_time": "2019-02-18T10:43:12.287592Z"
    }
   },
   "outputs": [
    {
     "name": "stdout",
     "output_type": "stream",
     "text": [
      "0.019180617481282074\n"
     ]
    }
   ],
   "source": [
    "# Calculate the search rate for female drivers\n",
    "print(ri[ri.driver_gender == 'F'].search_conducted.mean())"
   ]
  },
  {
   "cell_type": "markdown",
   "metadata": {},
   "source": [
    "## Adding a second factor to the analysis\n",
    "\n",
    "Even though the search rate for males is much higher than for females, it's possible that the difference is mostly due to a second factor.\n",
    "\n",
    "For example, you might hypothesize that the search rate varies by violation type, and the difference in search rate between males and females is because they tend to commit different violations.\n",
    "\n",
    "You can test this hypothesis by examining the search rate for each combination of gender and violation. If the hypothesis was true, you would find that males and females are searched at about the same rate for each violation. Find out below if that's the case!"
   ]
  },
  {
   "cell_type": "code",
   "execution_count": 15,
   "metadata": {
    "ExecuteTime": {
     "end_time": "2019-02-18T10:43:23.386840Z",
     "start_time": "2019-02-18T10:43:23.358935Z"
    }
   },
   "outputs": [
    {
     "name": "stdout",
     "output_type": "stream",
     "text": [
      "driver_gender  violation          \n",
      "F              Equipment              0.039984\n",
      "               Moving violation       0.039257\n",
      "               Other                  0.041018\n",
      "               Registration/plates    0.054924\n",
      "               Seat belt              0.017301\n",
      "               Speeding               0.008309\n",
      "M              Equipment              0.071496\n",
      "               Moving violation       0.061524\n",
      "               Other                  0.046191\n",
      "               Registration/plates    0.108802\n",
      "               Seat belt              0.035119\n",
      "               Speeding               0.027885\n",
      "Name: search_conducted, dtype: float64\n"
     ]
    }
   ],
   "source": [
    "# Calculate the search rate for each combination of gender and violation\n",
    "print(ri.groupby(['driver_gender', 'violation']).search_conducted.mean())"
   ]
  },
  {
   "cell_type": "markdown",
   "metadata": {},
   "source": [
    "## Counting protective frisks\n",
    "\n",
    "During a vehicle search, the police officer may pat down the driver to check if they have a weapon. This is known as a \"protective frisk.\"\n",
    "\n",
    "In this exercise, you'll first check to see how many times \"Protective Frisk\" was the only search type. Then, you'll use a string method to locate all instances in which the driver was frisked."
   ]
  },
  {
   "cell_type": "code",
   "execution_count": 16,
   "metadata": {
    "ExecuteTime": {
     "end_time": "2019-02-18T10:43:34.977095Z",
     "start_time": "2019-02-18T10:43:34.936210Z"
    }
   },
   "outputs": [
    {
     "name": "stdout",
     "output_type": "stream",
     "text": [
      "Incident to Arrest                                          1290\n",
      "Probable Cause                                               924\n",
      "Inventory                                                    219\n",
      "Reasonable Suspicion                                         214\n",
      "Protective Frisk                                             164\n",
      "Incident to Arrest,Inventory                                 123\n",
      "Incident to Arrest,Probable Cause                            100\n",
      "Probable Cause,Reasonable Suspicion                           54\n",
      "Probable Cause,Protective Frisk                               35\n",
      "Incident to Arrest,Inventory,Probable Cause                   35\n",
      "Incident to Arrest,Protective Frisk                           33\n",
      "Inventory,Probable Cause                                      25\n",
      "Protective Frisk,Reasonable Suspicion                         19\n",
      "Incident to Arrest,Inventory,Protective Frisk                 18\n",
      "Incident to Arrest,Probable Cause,Protective Frisk            13\n",
      "Inventory,Protective Frisk                                    12\n",
      "Incident to Arrest,Reasonable Suspicion                        8\n",
      "Incident to Arrest,Probable Cause,Reasonable Suspicion         5\n",
      "Probable Cause,Protective Frisk,Reasonable Suspicion           5\n",
      "Incident to Arrest,Inventory,Reasonable Suspicion              4\n",
      "Inventory,Reasonable Suspicion                                 2\n",
      "Incident to Arrest,Protective Frisk,Reasonable Suspicion       2\n",
      "Inventory,Probable Cause,Reasonable Suspicion                  1\n",
      "Inventory,Protective Frisk,Reasonable Suspicion                1\n",
      "Inventory,Probable Cause,Protective Frisk                      1\n",
      "Name: search_type, dtype: int64\n",
      "bool\n",
      "303\n"
     ]
    }
   ],
   "source": [
    "# Count the 'search_type' values\n",
    "print(ri.search_type.value_counts())\n",
    "\n",
    "# Check if 'search_type' contains the string 'Protective Frisk'\n",
    "ri['frisk'] = ri.search_type.str.contains('Protective Frisk', na=False)\n",
    "\n",
    "# Check the data type of 'frisk'\n",
    "print(ri.frisk.dtype)\n",
    "\n",
    "# Take the sum of 'frisk'\n",
    "print(ri.frisk.sum())"
   ]
  },
  {
   "cell_type": "markdown",
   "metadata": {},
   "source": [
    "## Comparing frisk rates by gender\n",
    "\n",
    "In this exercise, you'll compare the rates at which female and male drivers are frisked during a search. Are males frisked more often than females, perhaps because police officers consider them to be higher risk?\n",
    "\n",
    "Before doing any calculations, it's important to filter the DataFrame to only include the relevant subset of data, namely stops in which a search was conducted."
   ]
  },
  {
   "cell_type": "code",
   "execution_count": 17,
   "metadata": {
    "ExecuteTime": {
     "end_time": "2019-02-18T10:43:45.832606Z",
     "start_time": "2019-02-18T10:43:45.821612Z"
    }
   },
   "outputs": [
    {
     "name": "stdout",
     "output_type": "stream",
     "text": [
      "0.09162382824312065\n",
      "driver_gender\n",
      "F    0.074561\n",
      "M    0.094353\n",
      "Name: frisk, dtype: float64\n"
     ]
    }
   ],
   "source": [
    "# Create a DataFrame of stops in which a search was conducted\n",
    "searched = ri[ri.search_conducted == True]\n",
    "\n",
    "# Calculate the overall frisk rate by taking the mean of 'frisk'\n",
    "print(searched.frisk.mean())\n",
    "\n",
    "# Calculate the frisk rate for each gender\n",
    "print(searched.groupby('driver_gender').frisk.mean())"
   ]
  },
  {
   "cell_type": "markdown",
   "metadata": {},
   "source": [
    "# Visual exploratory data analysis"
   ]
  },
  {
   "cell_type": "markdown",
   "metadata": {},
   "source": [
    "## Calculating the hourly arrest rate\n",
    "\n",
    "When a police officer stops a driver, a small percentage of those stops ends in an arrest. This is known as the arrest rate. In this exercise, you'll find out whether the arrest rate varies by time of day.\n",
    "\n",
    "First, you'll calculate the arrest rate across all stops. Then, you'll calculate the hourly arrest rate by using the hour attribute of the index. The hour ranges from 0 to 23, in which:\n",
    "\n",
    "    0 = midnight\n",
    "    12 = noon\n",
    "    23 = 11 PM\n"
   ]
  },
  {
   "cell_type": "code",
   "execution_count": 18,
   "metadata": {
    "ExecuteTime": {
     "end_time": "2019-02-18T10:43:58.503436Z",
     "start_time": "2019-02-18T10:43:58.474534Z"
    }
   },
   "outputs": [
    {
     "name": "stdout",
     "output_type": "stream",
     "text": [
      "0.0355690117407784\n",
      "stop_datetime\n",
      "0     0.051431\n",
      "1     0.064932\n",
      "2     0.060798\n",
      "3     0.060549\n",
      "4     0.048000\n",
      "5     0.042781\n",
      "6     0.013813\n",
      "7     0.013032\n",
      "8     0.021854\n",
      "9     0.025206\n",
      "10    0.028213\n",
      "11    0.028897\n",
      "12    0.037399\n",
      "13    0.030776\n",
      "14    0.030605\n",
      "15    0.030679\n",
      "16    0.035281\n",
      "17    0.040619\n",
      "18    0.038204\n",
      "19    0.032245\n",
      "20    0.038107\n",
      "21    0.064541\n",
      "22    0.048666\n",
      "23    0.047592\n",
      "Name: is_arrested, dtype: float64\n"
     ]
    }
   ],
   "source": [
    "# Calculate the overall arrest rate\n",
    "print(ri.is_arrested.mean())\n",
    "\n",
    "# Calculate the hourly arrest rate\n",
    "print(ri.groupby(ri.index.hour).is_arrested.mean())\n",
    "\n",
    "# Save the hourly arrest rate\n",
    "hourly_arrest_rate = ri.groupby(ri.index.hour).is_arrested.mean()"
   ]
  },
  {
   "cell_type": "markdown",
   "metadata": {},
   "source": [
    "## Plotting the hourly arrest rate\n",
    "\n",
    "In this exercise, you'll create a line plot from the hourly_arrest_rate object. A line plot is appropriate in this case because you're showing how a quantity changes over time.\n",
    "\n",
    "This plot should help you to spot some trends that may not have been obvious when examining the raw numbers!"
   ]
  },
  {
   "cell_type": "code",
   "execution_count": 19,
   "metadata": {
    "ExecuteTime": {
     "end_time": "2019-02-18T10:44:08.763759Z",
     "start_time": "2019-02-18T10:44:08.629127Z"
    }
   },
   "outputs": [
    {
     "data": {
      "image/png": "[encoded data removed]",
      "text/plain": [
       "<Figure size 432x288 with 1 Axes>"
      ]
     },
     "metadata": {
      "needs_background": "light"
     },
     "output_type": "display_data"
    }
   ],
   "source": [
    "# Import matplotlib.pyplot as plt\n",
    "import matplotlib.pyplot as plt\n",
    "\n",
    "# Create a line plot of 'hourly_arrest_rate'\n",
    "hourly_arrest_rate.plot()\n",
    "\n",
    "# Add the xlabel, ylabel, and title\n",
    "plt.xlabel('Hour')\n",
    "plt.ylabel('Arrest Rate')\n",
    "plt.title('Arrest Rate by Time of Day')\n",
    "\n",
    "# Display the plot\n",
    "plt.show()"
   ]
  },
  {
   "cell_type": "markdown",
   "metadata": {},
   "source": [
    "## Plotting drug-related stops\n",
    "\n",
    "In a small portion of traffic stops, drugs are found in the vehicle during a search. In this exercise, you'll assess whether these drug-related stops are becoming more common over time.\n",
    "\n",
    "The Boolean column drugs_related_stop indicates whether drugs were found during a given stop. You'll calculate the annual drug rate by resampling this column, and then you'll use a line plot to visualize how the rate has changed over time."
   ]
  },
  {
   "cell_type": "code",
   "execution_count": 20,
   "metadata": {
    "ExecuteTime": {
     "end_time": "2019-02-18T10:44:21.322308Z",
     "start_time": "2019-02-18T10:44:21.182681Z"
    }
   },
   "outputs": [
    {
     "name": "stdout",
     "output_type": "stream",
     "text": [
      "stop_datetime\n",
      "2005-12-31    0.006501\n",
      "2006-12-31    0.007258\n",
      "2007-12-31    0.007970\n",
      "2008-12-31    0.007505\n",
      "2009-12-31    0.009889\n",
      "2010-12-31    0.010081\n",
      "2011-12-31    0.009731\n",
      "2012-12-31    0.009921\n",
      "2013-12-31    0.013094\n",
      "2014-12-31    0.013826\n",
      "2015-12-31    0.012266\n",
      "Freq: A-DEC, Name: drugs_related_stop, dtype: float64\n"
     ]
    },
    {
     "data": {
      "image/png": "[encoded data removed]",
      "text/plain": [
       "<Figure size 432x288 with 1 Axes>"
      ]
     },
     "metadata": {
      "needs_background": "light"
     },
     "output_type": "display_data"
    }
   ],
   "source": [
    "# Calculate the annual rate of drug-related stops\n",
    "print(ri.drugs_related_stop.resample('A').mean())\n",
    "\n",
    "# Save the annual rate of drug-related stops\n",
    "annual_drug_rate = ri.drugs_related_stop.resample('A').mean()\n",
    "\n",
    "# Create a line plot of 'annual_drug_rate'\n",
    "annual_drug_rate.plot()\n",
    "\n",
    "# Display the plot\n",
    "plt.show()"
   ]
  },
  {
   "cell_type": "markdown",
   "metadata": {},
   "source": [
    "## Comparing drug and search rates\n",
    "\n",
    "As you saw in the last exercise, the rate of drug-related stops increased significantly between 2005 and 2015. You might hypothesize that the rate of vehicle searches was also increasing, which would have led to an increase in drug-related stops even if more drivers were not carrying drugs.\n",
    "\n",
    "You can test this hypothesis by calculating the annual search rate, and then plotting it against the annual drug rate. If the hypothesis is true, then you'll see both rates increasing over time."
   ]
  },
  {
   "cell_type": "code",
   "execution_count": 21,
   "metadata": {
    "ExecuteTime": {
     "end_time": "2019-02-18T10:44:31.719647Z",
     "start_time": "2019-02-18T10:44:31.517187Z"
    }
   },
   "outputs": [
    {
     "data": {
      "image/png": "[encoded data removed]",
      "text/plain": [
       "<Figure size 432x288 with 2 Axes>"
      ]
     },
     "metadata": {
      "needs_background": "light"
     },
     "output_type": "display_data"
    }
   ],
   "source": [
    "# Calculate and save the annual search rate\n",
    "annual_search_rate = ri.search_conducted.resample('A').mean()\n",
    "\n",
    "# Concatenate 'annual_drug_rate' and 'annual_search_rate'\n",
    "annual = pd.concat([annual_drug_rate, annual_search_rate], axis='columns')\n",
    "\n",
    "# Create subplots from 'annual'\n",
    "annual.plot(subplots=True)\n",
    "\n",
    "# Display the subplots\n",
    "plt.show()"
   ]
  },
  {
   "cell_type": "markdown",
   "metadata": {},
   "source": [
    "## Tallying violations by district\n",
    "\n",
    "The state of Rhode Island is broken into six police districts, also known as zones. How do the zones compare in terms of what violations are caught by police?\n",
    "\n",
    "In this exercise, you'll create a frequency table to determine how many violations of each type took place in each of the six zones. Then, you'll filter the table to focus on the \"K\" zones, which you'll examine further in the next exercise."
   ]
  },
  {
   "cell_type": "code",
   "execution_count": 22,
   "metadata": {
    "ExecuteTime": {
     "end_time": "2019-02-18T10:45:14.041820Z",
     "start_time": "2019-02-18T10:45:13.964026Z"
    }
   },
   "outputs": [
    {
     "name": "stdout",
     "output_type": "stream",
     "text": [
      "violation  Equipment  Moving violation  Other  Registration/plates  Seat belt  \\\n",
      "district                                                                        \n",
      "Zone K1          672              1254    290                  120          0   \n",
      "Zone K2         2061              2962    942                  768        481   \n",
      "Zone K3         2302              2898    705                  695        638   \n",
      "Zone X1          296               671    143                   38         74   \n",
      "Zone X3         2049              3086    769                  671        820   \n",
      "Zone X4         3541              5353   1560                 1411        843   \n",
      "\n",
      "violation  Speeding  \n",
      "district             \n",
      "Zone K1        5960  \n",
      "Zone K2       10448  \n",
      "Zone K3       12322  \n",
      "Zone X1        1119  \n",
      "Zone X3        8779  \n",
      "Zone X4        9795  \n",
      "violation  Equipment  Moving violation  Other  Registration/plates  Seat belt  \\\n",
      "district                                                                        \n",
      "Zone K1          672              1254    290                  120          0   \n",
      "Zone K2         2061              2962    942                  768        481   \n",
      "Zone K3         2302              2898    705                  695        638   \n",
      "\n",
      "violation  Speeding  \n",
      "district             \n",
      "Zone K1        5960  \n",
      "Zone K2       10448  \n",
      "Zone K3       12322  \n"
     ]
    }
   ],
   "source": [
    "# Create a frequency table of districts and violations\n",
    "print(pd.crosstab(ri.district, ri.violation))\n",
    "\n",
    "# Save the frequency table as 'all_zones'\n",
    "all_zones = pd.crosstab(ri.district, ri.violation)\n",
    "\n",
    "# Select rows 'Zone K1' through 'Zone K3'\n",
    "print(all_zones.loc['Zone K1':'Zone K3'])\n",
    "\n",
    "# Save the smaller table as 'k_zones'\n",
    "k_zones = all_zones.loc['Zone K1':'Zone K3']"
   ]
  },
  {
   "cell_type": "markdown",
   "metadata": {},
   "source": [
    "## Plotting violations by district\n",
    "\n",
    "Now that you've created a frequency table focused on the \"K\" zones, you'll visualize the data to help you compare what violations are being caught in each zone.\n",
    "\n",
    "First you'll create a bar plot, which is an appropriate plot type since you're comparing categorical data. Then you'll create a stacked bar plot in order to get a slightly different look at the data. Which plot do you find to be more insightful?"
   ]
  },
  {
   "cell_type": "code",
   "execution_count": 23,
   "metadata": {
    "ExecuteTime": {
     "end_time": "2019-02-18T10:45:23.979113Z",
     "start_time": "2019-02-18T10:45:23.813535Z"
    }
   },
   "outputs": [
    {
     "data": {
      "image/png": "[encoded data removed]",
      "text/plain": [
       "<Figure size 432x288 with 1 Axes>"
      ]
     },
     "metadata": {
      "needs_background": "light"
     },
     "output_type": "display_data"
    }
   ],
   "source": [
    "# Create a bar plot of 'k_zones'\n",
    "k_zones.plot(kind='bar')\n",
    "\n",
    "# Display the plot\n",
    "plt.show()"
   ]
  },
  {
   "cell_type": "markdown",
   "metadata": {},
   "source": [
    "## Converting stop durations to numbers\n",
    "\n",
    "In the traffic stops dataset, the stop_duration column tells you approximately how long the driver was detained by the officer. Unfortunately, the durations are stored as strings, such as '0-15 Min'. How can you make this data easier to analyze?\n",
    "\n",
    "In this exercise, you'll convert the stop durations to integers. Because the precise durations are not available, you'll have to estimate the numbers using reasonable values:\n",
    "\n",
    "    Convert '0-15 Min' to 8\n",
    "    Convert '16-30 Min' to 23\n",
    "    Convert '30+ Min' to 45\n"
   ]
  },
  {
   "cell_type": "code",
   "execution_count": 24,
   "metadata": {
    "ExecuteTime": {
     "end_time": "2019-02-18T10:45:35.441722Z",
     "start_time": "2019-02-18T10:45:35.421751Z"
    }
   },
   "outputs": [
    {
     "name": "stdout",
     "output_type": "stream",
     "text": [
      "['0-15 Min' '16-30 Min' '30+ Min']\n",
      "[ 8 23 45]\n"
     ]
    }
   ],
   "source": [
    "# Print the unique values in 'stop_duration'\n",
    "print(ri.stop_duration.unique())\n",
    "\n",
    "# Create a dictionary that maps strings to integers\n",
    "mapping = {'0-15 Min':8, '16-30 Min':23, '30+ Min':45}\n",
    "\n",
    "# Convert the 'stop_duration' strings to integers using the 'mapping'\n",
    "ri['stop_minutes'] = ri.stop_duration.map(mapping)\n",
    "\n",
    "# Print the unique values in 'stop_minutes'\n",
    "print(ri.stop_minutes.unique())"
   ]
  },
  {
   "cell_type": "markdown",
   "metadata": {},
   "source": [
    "## Plotting stop length\n",
    "\n",
    "If you were stopped for a particular violation, how long might you expect to be detained?\n",
    "\n",
    "In this exercise, you'll visualize the average length of time drivers are stopped for each type of violation. Rather than using the violation column in this exercise, you'll use violation_raw since it contains more detailed descriptions of the violations."
   ]
  },
  {
   "cell_type": "code",
   "execution_count": 25,
   "metadata": {
    "ExecuteTime": {
     "end_time": "2019-02-18T10:45:45.360410Z",
     "start_time": "2019-02-18T10:45:45.203826Z"
    }
   },
   "outputs": [
    {
     "name": "stdout",
     "output_type": "stream",
     "text": [
      "violation_raw\n",
      "APB                                 17.967033\n",
      "Call for Service                    22.124371\n",
      "Equipment/Inspection Violation      11.445655\n",
      "Motorist Assist/Courtesy            17.741463\n",
      "Other Traffic Violation             13.844490\n",
      "Registration Violation              13.736970\n",
      "Seatbelt Violation                   9.662815\n",
      "Special Detail/Directed Patrol      15.123632\n",
      "Speeding                            10.581562\n",
      "Suspicious Person                   14.910714\n",
      "Violation of City/Town Ordinance    13.254144\n",
      "Warrant                             24.055556\n",
      "Name: stop_minutes, dtype: float64\n"
     ]
    },
    {
     "data": {
      "image/png": "[encoded data removed]",
      "text/plain": [
       "<Figure size 432x288 with 1 Axes>"
      ]
     },
     "metadata": {
      "needs_background": "light"
     },
     "output_type": "display_data"
    }
   ],
   "source": [
    "# Calculate the mean 'stop_minutes' for each value in 'violation_raw'\n",
    "print(ri.groupby('violation_raw').stop_minutes.mean())\n",
    "\n",
    "# Save the resulting Series as 'stop_length'\n",
    "stop_length = ri.groupby('violation_raw').stop_minutes.mean()\n",
    "\n",
    "# Sort 'stop_length' by its values and create a horizontal bar plot\n",
    "stop_length.sort_values().plot(kind='barh')\n",
    "\n",
    "# Display the plot\n",
    "plt.show()"
   ]
  },
  {
   "cell_type": "markdown",
   "metadata": {},
   "source": [
    "# Analyzing the effect of weather on policing"
   ]
  },
  {
   "cell_type": "markdown",
   "metadata": {},
   "source": [
    "## Plotting the temperature\n",
    "\n",
    "In this exercise, you'll examine the temperature columns from the weather dataset to assess whether the data seems trustworthy. First you'll print the summary statistics, and then you'll visualize the data using a box plot.\n",
    "\n",
    "When deciding whether the values seem reasonable, keep in mind that the temperature is measured in degrees Fahrenheit, not Celsius!"
   ]
  },
  {
   "cell_type": "code",
   "execution_count": 26,
   "metadata": {
    "ExecuteTime": {
     "end_time": "2019-02-18T10:45:57.283233Z",
     "start_time": "2019-02-18T10:45:57.114698Z"
    }
   },
   "outputs": [
    {
     "name": "stdout",
     "output_type": "stream",
     "text": [
      "              TMIN         TAVG         TMAX\n",
      "count  4017.000000  1217.000000  4017.000000\n",
      "mean     43.484441    52.493016    61.268608\n",
      "std      17.020298    17.830714    18.199517\n",
      "min      -5.000000     6.000000    15.000000\n",
      "25%      30.000000    39.000000    47.000000\n",
      "50%      44.000000    54.000000    62.000000\n",
      "75%      58.000000    68.000000    77.000000\n",
      "max      77.000000    86.000000   102.000000\n"
     ]
    },
    {
     "data": {
      "image/png": "[encoded data removed]",
      "text/plain": [
       "<Figure size 432x288 with 1 Axes>"
      ]
     },
     "metadata": {
      "needs_background": "light"
     },
     "output_type": "display_data"
    }
   ],
   "source": [
    "# Read 'weather.csv' into a DataFrame named 'weather'\n",
    "weather = pd.read_csv('weather.csv')\n",
    "\n",
    "# Describe the temperature columns\n",
    "print(weather[['TMIN', 'TAVG', 'TMAX']].describe())\n",
    "\n",
    "# Create a box plot of the temperature columns\n",
    "weather[['TMIN', 'TAVG', 'TMAX']].plot(kind='box')\n",
    "\n",
    "# Display the plot\n",
    "plt.show()"
   ]
  },
  {
   "cell_type": "markdown",
   "metadata": {},
   "source": [
    "## Plotting the temperature difference\n",
    "\n",
    "In this exercise, you'll continue to assess whether the dataset seems trustworthy by plotting the difference between the maximum and minimum temperatures.\n",
    "\n",
    "What do you notice about the resulting histogram? Does it match your expectations, or do you see anything unusual?"
   ]
  },
  {
   "cell_type": "code",
   "execution_count": 27,
   "metadata": {
    "ExecuteTime": {
     "end_time": "2019-02-18T10:46:07.309914Z",
     "start_time": "2019-02-18T10:46:07.178287Z"
    }
   },
   "outputs": [
    {
     "name": "stdout",
     "output_type": "stream",
     "text": [
      "count    4017.000000\n",
      "mean       17.784167\n",
      "std         6.350720\n",
      "min         2.000000\n",
      "25%        14.000000\n",
      "50%        18.000000\n",
      "75%        22.000000\n",
      "max        43.000000\n",
      "Name: TDIFF, dtype: float64\n"
     ]
    },
    {
     "data": {
      "image/png": "[encoded data removed]",
      "text/plain": [
       "<Figure size 432x288 with 1 Axes>"
      ]
     },
     "metadata": {
      "needs_background": "light"
     },
     "output_type": "display_data"
    }
   ],
   "source": [
    "# Create a 'TDIFF' column that represents temperature difference\n",
    "weather['TDIFF'] = weather.TMAX - weather.TMIN\n",
    "\n",
    "# Describe the 'TDIFF' column\n",
    "print(weather.TDIFF.describe())\n",
    "\n",
    "# Create a histogram with 20 bins to visualize 'TDIFF'\n",
    "weather.TDIFF.plot(kind='hist', bins=20)\n",
    "\n",
    "# Display the plot\n",
    "plt.show()"
   ]
  },
  {
   "cell_type": "markdown",
   "metadata": {},
   "source": [
    "## Counting bad weather conditions\n",
    "\n",
    "The weather DataFrame contains 20 columns that start with 'WT', each of which represents a bad weather condition. For example:\n",
    "\n",
    "    WT05 indicates \"Hail\"\n",
    "    WT11 indicates \"High or damaging winds\"\n",
    "    WT17 indicates \"Freezing rain\"\n",
    "\n",
    "For every row in the dataset, each WT column contains either a 1 (meaning the condition was present that day) or NaN (meaning the condition was not present).\n",
    "\n",
    "In this exercise, you'll quantify \"how bad\" the weather was each day by counting the number of 1 values in each row."
   ]
  },
  {
   "cell_type": "code",
   "execution_count": 28,
   "metadata": {
    "ExecuteTime": {
     "end_time": "2019-02-18T10:46:19.721277Z",
     "start_time": "2019-02-18T10:46:19.549716Z"
    }
   },
   "outputs": [
    {
     "data": {
      "image/png": "[encoded data removed]",
      "text/plain": [
       "<Figure size 432x288 with 1 Axes>"
      ]
     },
     "metadata": {
      "needs_background": "light"
     },
     "output_type": "display_data"
    }
   ],
   "source": [
    "# Copy 'WT01' through 'WT22' to a new DataFrame\n",
    "WT = weather.loc[:, 'WT01':'WT22']\n",
    "\n",
    "# Calculate the sum of each row in 'WT'\n",
    "weather['bad_conditions'] = WT.sum(axis='columns')\n",
    "\n",
    "# Replace missing values in 'bad_conditions' with '0'\n",
    "weather['bad_conditions'] = weather.bad_conditions.fillna(0).astype('int')\n",
    "\n",
    "# Create a histogram to visualize 'bad_conditions'\n",
    "weather.bad_conditions.plot(kind='hist')\n",
    "\n",
    "# Display the plot\n",
    "plt.show()"
   ]
  },
  {
   "cell_type": "markdown",
   "metadata": {},
   "source": [
    "## Rating the weather conditions\n",
    "\n",
    "In the previous exercise, you counted the number of bad weather conditions each day. In this exercise, you'll use the counts to create a rating system for the weather.\n",
    "\n",
    "The counts range from 0 to 9, and should be converted to ratings as follows:\n",
    "\n",
    "    Convert 0 to 'good'\n",
    "    Convert 1 through 4 to 'bad'\n",
    "    Convert 5 through 9 to 'worse'\n"
   ]
  },
  {
   "cell_type": "code",
   "execution_count": 29,
   "metadata": {
    "ExecuteTime": {
     "end_time": "2019-02-18T10:46:30.043036Z",
     "start_time": "2019-02-18T10:46:30.029070Z"
    }
   },
   "outputs": [
    {
     "name": "stdout",
     "output_type": "stream",
     "text": [
      "0    1749\n",
      "1     613\n",
      "2     367\n",
      "3     380\n",
      "4     476\n",
      "5     282\n",
      "6     101\n",
      "7      41\n",
      "8       4\n",
      "9       4\n",
      "Name: bad_conditions, dtype: int64\n",
      "bad      1836\n",
      "good     1749\n",
      "worse     432\n",
      "Name: rating, dtype: int64\n"
     ]
    }
   ],
   "source": [
    "# Count the unique values in 'bad_conditions' and sort the index\n",
    "print(weather.bad_conditions.value_counts().sort_index())\n",
    "\n",
    "# Create a dictionary that maps integers to strings\n",
    "mapping = {0:'good', 1:'bad', 2:'bad', 3:'bad', 4:'bad', 5:'worse', 6:'worse', 7:'worse', 8:'worse', 9:'worse'}\n",
    "\n",
    "# Convert the 'bad_conditions' integers to strings using the 'mapping'\n",
    "weather['rating'] = weather.bad_conditions.map(mapping)\n",
    "\n",
    "# Count the unique values in 'rating'\n",
    "print(weather.rating.value_counts())"
   ]
  },
  {
   "cell_type": "markdown",
   "metadata": {},
   "source": [
    "## Changing the data type to category\n",
    "\n",
    "Since the rating column only has a few possible values, you'll change its data type to category in order to store the data more efficiently. You'll also specify a logical order for the categories, which will be useful for future exercises."
   ]
  },
  {
   "cell_type": "code",
   "execution_count": 30,
   "metadata": {
    "ExecuteTime": {
     "end_time": "2019-02-18T10:47:08.775341Z",
     "start_time": "2019-02-18T10:47:08.766354Z"
    }
   },
   "outputs": [
    {
     "name": "stdout",
     "output_type": "stream",
     "text": [
      "0    bad\n",
      "1    bad\n",
      "2    bad\n",
      "3    bad\n",
      "4    bad\n",
      "Name: rating, dtype: category\n",
      "Categories (3, object): [good < bad < worse]\n"
     ]
    },
    {
     "name": "stderr",
     "output_type": "stream",
     "text": [
      "C:\\Users\\Admin\\Anaconda3\\lib\\site-packages\\ipykernel_launcher.py:5: FutureWarning: specifying 'categories' or 'ordered' in .astype() is deprecated; pass a CategoricalDtype instead\n",
      "  \"\"\"\n"
     ]
    }
   ],
   "source": [
    "# Create a list of weather ratings in logical order\n",
    "cats = ['good', 'bad', 'worse']\n",
    "\n",
    "# Change the data type of 'rating' to category\n",
    "weather['rating'] = weather.rating.astype('category', ordered=True, categories=cats)\n",
    "\n",
    "# Examine the head of 'rating'\n",
    "print(weather.rating.head())"
   ]
  },
  {
   "cell_type": "markdown",
   "metadata": {},
   "source": [
    "## Preparing the DataFrames\n",
    "\n",
    "In this exercise, you'll prepare the traffic stop and weather rating DataFrames so that they're ready to be merged:\n",
    "\n",
    "    With the ri DataFrame, you'll move the stop_datetime index to a column since the index will be lost during the merge.\n",
    "    With the weather DataFrame, you'll select the DATE and rating columns and put them in a new DataFrame.\n"
   ]
  },
  {
   "cell_type": "code",
   "execution_count": 31,
   "metadata": {
    "ExecuteTime": {
     "end_time": "2019-02-18T10:47:31.384192Z",
     "start_time": "2019-02-18T10:47:31.365268Z"
    }
   },
   "outputs": [
    {
     "name": "stdout",
     "output_type": "stream",
     "text": [
      "        stop_datetime   stop_date stop_time driver_gender driver_race  \\\n",
      "0 2005-01-04 12:55:00  2005-01-04     12:55             M       White   \n",
      "1 2005-01-23 23:15:00  2005-01-23     23:15             M       White   \n",
      "2 2005-02-17 04:15:00  2005-02-17     04:15             M       White   \n",
      "3 2005-02-20 17:15:00  2005-02-20     17:15             M       White   \n",
      "4 2005-02-24 01:20:00  2005-02-24     01:20             F       White   \n",
      "\n",
      "                    violation_raw  violation  search_conducted search_type  \\\n",
      "0  Equipment/Inspection Violation  Equipment             False         NaN   \n",
      "1                        Speeding   Speeding             False         NaN   \n",
      "2                        Speeding   Speeding             False         NaN   \n",
      "3                Call for Service      Other             False         NaN   \n",
      "4                        Speeding   Speeding             False         NaN   \n",
      "\n",
      "    stop_outcome  is_arrested stop_duration  drugs_related_stop district  \\\n",
      "0       Citation        False      0-15 Min               False  Zone X4   \n",
      "1       Citation        False      0-15 Min               False  Zone K3   \n",
      "2       Citation        False      0-15 Min               False  Zone X4   \n",
      "3  Arrest Driver         True     16-30 Min               False  Zone X1   \n",
      "4       Citation        False      0-15 Min               False  Zone X3   \n",
      "\n",
      "   frisk  stop_minutes  \n",
      "0  False             8  \n",
      "1  False             8  \n",
      "2  False             8  \n",
      "3  False            23  \n",
      "4  False             8  \n",
      "         DATE rating\n",
      "0  2005-01-01    bad\n",
      "1  2005-01-02    bad\n",
      "2  2005-01-03    bad\n",
      "3  2005-01-04    bad\n",
      "4  2005-01-05    bad\n"
     ]
    }
   ],
   "source": [
    "# Reset the index of 'ri'\n",
    "ri.reset_index(inplace=True)\n",
    "\n",
    "# Examine the head of 'ri'\n",
    "print(ri.head())\n",
    "\n",
    "# Create a DataFrame from the 'DATE' and 'rating' columns\n",
    "weather_rating = weather[['DATE', 'rating']]\n",
    "\n",
    "# Examine the head of 'weather_rating'\n",
    "print(weather_rating.head())"
   ]
  },
  {
   "cell_type": "markdown",
   "metadata": {},
   "source": [
    "## Merging the DataFrames\n",
    "\n",
    "In this exercise, you'll merge the ri and weather_rating DataFrames into a new DataFrame, ri_weather.\n",
    "\n",
    "The DataFrames will be joined using the stop_date column from ri and the DATE column from weather_rating. Thankfully the date formatting matches exactly, which is not always the case!\n",
    "\n",
    "Once the merge is complete, you'll set stop_datetime as the index, which is the column you saved in the previous exercise."
   ]
  },
  {
   "cell_type": "code",
   "execution_count": 32,
   "metadata": {
    "ExecuteTime": {
     "end_time": "2019-02-18T10:47:40.588261Z",
     "start_time": "2019-02-18T10:47:40.504505Z"
    }
   },
   "outputs": [
    {
     "name": "stdout",
     "output_type": "stream",
     "text": [
      "(86536, 16)\n",
      "(86536, 18)\n"
     ]
    }
   ],
   "source": [
    "# Examine the shape of 'ri'\n",
    "print(ri.shape)\n",
    "\n",
    "# Merge 'ri' and 'weather_rating' using a left join\n",
    "ri_weather = pd.merge(left=ri, right=weather_rating, left_on='stop_date', right_on='DATE', how='left')\n",
    "\n",
    "# Examine the shape of 'ri_weather'\n",
    "print(ri_weather.shape)\n",
    "\n",
    "# Set 'stop_datetime' as the index of 'ri_weather'\n",
    "ri_weather.set_index('stop_datetime', inplace=True)"
   ]
  },
  {
   "cell_type": "markdown",
   "metadata": {},
   "source": [
    "## Comparing arrest rates by weather rating\n",
    "\n",
    "Do police officers arrest drivers more often when the weather is bad? Find out below!\n",
    "\n",
    "    First, you'll calculate the overall arrest rate.\n",
    "    Then, you'll calculate the arrest rate for each of the weather ratings you previously assigned.\n",
    "    Finally, you'll add violation type as a second factor in the analysis, to see if that accounts for any differences in the arrest rate.\n",
    "\n",
    "Since you previously defined a logical order for the weather categories, good < bad < worse, they will be sorted that way in the results."
   ]
  },
  {
   "cell_type": "code",
   "execution_count": 33,
   "metadata": {
    "ExecuteTime": {
     "end_time": "2019-02-18T10:47:53.053160Z",
     "start_time": "2019-02-18T10:47:53.047176Z"
    }
   },
   "outputs": [
    {
     "name": "stdout",
     "output_type": "stream",
     "text": [
      "0.0355690117407784\n"
     ]
    }
   ],
   "source": [
    "# Calculate the overall arrest rate\n",
    "print(ri_weather.is_arrested.mean())"
   ]
  },
  {
   "cell_type": "code",
   "execution_count": 34,
   "metadata": {
    "ExecuteTime": {
     "end_time": "2019-02-18T10:48:12.488296Z",
     "start_time": "2019-02-18T10:48:12.468349Z"
    }
   },
   "outputs": [
    {
     "name": "stdout",
     "output_type": "stream",
     "text": [
      "rating\n",
      "good     0.033715\n",
      "bad      0.036261\n",
      "worse    0.041667\n",
      "Name: is_arrested, dtype: float64\n"
     ]
    }
   ],
   "source": [
    "# Calculate the arrest rate for each 'rating'\n",
    "print(ri_weather.groupby('rating').is_arrested.mean())"
   ]
  },
  {
   "cell_type": "code",
   "execution_count": 35,
   "metadata": {
    "ExecuteTime": {
     "end_time": "2019-02-18T10:48:24.722783Z",
     "start_time": "2019-02-18T10:48:24.702817Z"
    }
   },
   "outputs": [
    {
     "name": "stdout",
     "output_type": "stream",
     "text": [
      "violation            rating\n",
      "Equipment            good      0.059007\n",
      "                     bad       0.066311\n",
      "                     worse     0.097357\n",
      "Moving violation     good      0.056227\n",
      "                     bad       0.058050\n",
      "                     worse     0.065860\n",
      "Other                good      0.076966\n",
      "                     bad       0.087443\n",
      "                     worse     0.062893\n",
      "Registration/plates  good      0.081574\n",
      "                     bad       0.098160\n",
      "                     worse     0.115625\n",
      "Seat belt            good      0.028587\n",
      "                     bad       0.022493\n",
      "                     worse     0.000000\n",
      "Speeding             good      0.013405\n",
      "                     bad       0.013314\n",
      "                     worse     0.016886\n",
      "Name: is_arrested, dtype: float64\n"
     ]
    }
   ],
   "source": [
    "# Calculate the arrest rate for each 'violation' and 'rating'\n",
    "print(ri_weather.groupby(['violation', 'rating']).is_arrested.mean())"
   ]
  },
  {
   "cell_type": "markdown",
   "metadata": {},
   "source": [
    "## Selecting from a multi-indexed Series\n",
    "\n",
    "The output of a single .groupby() operation on multiple columns is a Series with a MultiIndex. Working with this type of object is similar to working with a DataFrame:\n",
    "\n",
    "    The outer index level is like the DataFrame rows.\n",
    "    The inner index level is like the DataFrame columns.\n",
    "\n",
    "In this exercise, you'll practice accessing data from a multi-indexed Series using the .loc[] accessor."
   ]
  },
  {
   "cell_type": "code",
   "execution_count": 36,
   "metadata": {
    "ExecuteTime": {
     "end_time": "2019-02-18T10:48:43.148214Z",
     "start_time": "2019-02-18T10:48:43.128259Z"
    }
   },
   "outputs": [
    {
     "name": "stdout",
     "output_type": "stream",
     "text": [
      "violation            rating\n",
      "Equipment            good      0.059007\n",
      "                     bad       0.066311\n",
      "                     worse     0.097357\n",
      "Moving violation     good      0.056227\n",
      "                     bad       0.058050\n",
      "                     worse     0.065860\n",
      "Other                good      0.076966\n",
      "                     bad       0.087443\n",
      "                     worse     0.062893\n",
      "Registration/plates  good      0.081574\n",
      "                     bad       0.098160\n",
      "                     worse     0.115625\n",
      "Seat belt            good      0.028587\n",
      "                     bad       0.022493\n",
      "                     worse     0.000000\n",
      "Speeding             good      0.013405\n",
      "                     bad       0.013314\n",
      "                     worse     0.016886\n",
      "Name: is_arrested, dtype: float64\n",
      "0.05804964058049641\n",
      "rating\n",
      "good     0.013405\n",
      "bad      0.013314\n",
      "worse    0.016886\n",
      "Name: is_arrested, dtype: float64\n"
     ]
    }
   ],
   "source": [
    "# Save the output of the groupby operation from the last exercise\n",
    "arrest_rate = ri_weather.groupby(['violation', 'rating']).is_arrested.mean()\n",
    "\n",
    "# Print the 'arrest_rate' Series\n",
    "print(arrest_rate)\n",
    "\n",
    "# Print the arrest rate for moving violations in bad weather\n",
    "print(arrest_rate.loc['Moving violation', 'bad'])\n",
    "\n",
    "# Print the arrest rates for speeding violations in all three weather conditions\n",
    "print(arrest_rate.loc['Speeding'])"
   ]
  },
  {
   "cell_type": "markdown",
   "metadata": {},
   "source": [
    "## Reshaping the arrest rate data\n",
    "\n",
    "In this exercise, you'll start by reshaping the arrest_rate Series into a DataFrame. This is a useful step when working with any multi-indexed Series, since it enables you to access the full range of DataFrame methods.\n",
    "\n",
    "Then, you'll create the exact same DataFrame using a pivot table. This is a great example of how pandas often gives you more than one way to reach the same result!"
   ]
  },
  {
   "cell_type": "code",
   "execution_count": 37,
   "metadata": {
    "ExecuteTime": {
     "end_time": "2019-02-18T10:48:52.195425Z",
     "start_time": "2019-02-18T10:48:52.160504Z"
    }
   },
   "outputs": [
    {
     "name": "stdout",
     "output_type": "stream",
     "text": [
      "rating                   good       bad     worse\n",
      "violation                                        \n",
      "Equipment            0.059007  0.066311  0.097357\n",
      "Moving violation     0.056227  0.058050  0.065860\n",
      "Other                0.076966  0.087443  0.062893\n",
      "Registration/plates  0.081574  0.098160  0.115625\n",
      "Seat belt            0.028587  0.022493  0.000000\n",
      "Speeding             0.013405  0.013314  0.016886\n",
      "rating                   good       bad     worse\n",
      "violation                                        \n",
      "Equipment            0.059007  0.066311  0.097357\n",
      "Moving violation     0.056227  0.058050  0.065860\n",
      "Other                0.076966  0.087443  0.062893\n",
      "Registration/plates  0.081574  0.098160  0.115625\n",
      "Seat belt            0.028587  0.022493  0.000000\n",
      "Speeding             0.013405  0.013314  0.016886\n"
     ]
    }
   ],
   "source": [
    "# Unstack the 'arrest_rate' Series into a DataFrame\n",
    "print(arrest_rate.unstack())\n",
    "\n",
    "# Create the same DataFrame using a pivot table\n",
    "print(ri_weather.pivot_table(index='violation', columns='rating', values='is_arrested'))"
   ]
  },
  {
   "cell_type": "code",
   "execution_count": null,
   "metadata": {},
   "outputs": [],
   "source": []
  }
 ],
 "metadata": {
  "kernelspec": {
   "display_name": "Python 3",
   "language": "python",
   "name": "python3"
  },
  "language_info": {
   "codemirror_mode": {
    "name": "ipython",
    "version": 3
   },
   "file_extension": ".py",
   "mimetype": "text/x-python",
   "name": "python",
   "nbconvert_exporter": "python",
   "pygments_lexer": "ipython3",
   "version": "3.6.7"
  },
  "toc": {
   "base_numbering": 1,
   "nav_menu": {},
   "number_sections": true,
   "sideBar": true,
   "skip_h1_title": false,
   "title_cell": "Table of Contents",
   "title_sidebar": "Contents",
   "toc_cell": false,
   "toc_position": {},
   "toc_section_display": true,
   "toc_window_display": true
  },
  "varInspector": {
   "cols": {
    "lenName": 16,
    "lenType": 16,
    "lenVar": 40
   },
   "kernels_config": {
    "python": {
     "delete_cmd_postfix": "",
     "delete_cmd_prefix": "del ",
     "library": "var_list.py",
     "varRefreshCmd": "print(var_dic_list())"
    },
    "r": {
     "delete_cmd_postfix": ") ",
     "delete_cmd_prefix": "rm(",
     "library": "var_list.r",
     "varRefreshCmd": "cat(var_dic_list()) "
    }
   },
   "types_to_exclude": [
    "module",
    "function",
    "builtin_function_or_method",
    "instance",
    "_Feature"
   ],
   "window_display": false
  }
 },
 "nbformat": 4,
 "nbformat_minor": 2
}
