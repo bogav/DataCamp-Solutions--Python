{
 "cells": [
  {
   "cell_type": "markdown",
   "metadata": {},
   "source": [
    "# Fish sleep and bacteria growth: A review of Statistical Thinking I and II"
   ]
  },
  {
   "cell_type": "code",
   "execution_count": 1,
   "metadata": {
    "ExecuteTime": {
     "end_time": "2019-02-17T06:29:30.001484Z",
     "start_time": "2019-02-17T06:29:23.151450Z"
    }
   },
   "outputs": [],
   "source": [
    "import pandas as pd\n",
    "import matplotlib.pyplot as plt\n",
    "import numpy as np\n",
    "import seaborn as sns\n",
    "\n",
    "%matplotlib inline"
   ]
  },
  {
   "cell_type": "markdown",
   "metadata": {},
   "source": [
    "## EDA: Plot ECDFs of active bout length\n",
    "\n",
    "An active bout is a stretch of time where a fish is constantly moving. Plot an ECDF of active bout length for the mutant and wild type fish for the seventh night of their lives. The data sets are in the numpy arrays bout_lengths_wt and bout_lengths_mut. The bout lengths are in units of minutes."
   ]
  },
  {
   "cell_type": "code",
   "execution_count": 18,
   "metadata": {
    "ExecuteTime": {
     "end_time": "2019-02-17T07:07:10.460481Z",
     "start_time": "2019-02-17T07:07:10.437542Z"
    }
   },
   "outputs": [],
   "source": [
    "bout_lengths_wt = np.loadtxt('27Data1.txt', delimiter=',')\n",
    "bout_lengths_mut = np.loadtxt('27Data2.txt', delimiter=',')"
   ]
  },
  {
   "cell_type": "code",
   "execution_count": 19,
   "metadata": {
    "ExecuteTime": {
     "end_time": "2019-02-17T07:07:19.991185Z",
     "start_time": "2019-02-17T07:07:17.865869Z"
    }
   },
   "outputs": [
    {
     "data": {
      "image/png": "[encoded data removed]",
      "text/plain": [
       "<Figure size 432x288 with 1 Axes>"
      ]
     },
     "metadata": {
      "needs_background": "light"
     },
     "output_type": "display_data"
    }
   ],
   "source": [
    "# Import the dc_stat_think module as dcst\n",
    "import dc_stat_think as dcst\n",
    "\n",
    "# Generate x and y values for plotting ECDFs\n",
    "x_wt, y_wt = dcst.ecdf(bout_lengths_wt)\n",
    "x_mut, y_mut = dcst.ecdf(bout_lengths_mut)\n",
    "\n",
    "# Plot the ECDFs\n",
    "_ = plt.plot(x_wt, y_wt, marker='.', linestyle='none')\n",
    "_ = plt.plot(x_mut, y_mut, marker='.', linestyle='none')\n",
    "\n",
    "# Make a legend, label axes, and show plot\n",
    "_ = plt.legend(('wt', 'mut'))\n",
    "_ = plt.xlabel('active bout length (min)')\n",
    "_ = plt.ylabel('ECDF')\n",
    "plt.show()\n"
   ]
  },
  {
   "cell_type": "markdown",
   "metadata": {},
   "source": [
    "## Interpreting ECDFs and the story\n",
    "\n",
    "While a more detailed analysis of distributions is often warranted for careful analyses, you can already get a feel for the distributions and the story behind the data by eyeballing the ECDFs. Which of the following would be the most reasonable statement to make about how the active bout lengths are distributed and what kind of process might be behind exiting the active bout to rest?\n",
    "\n",
    "If you need a refresher, here are videos from Statistical Thinking I about stories behind probability distributions.\n",
    "\n",
    "    Discrete Uniform and Binomial\n",
    "    Poisson processes and Poisson distribution\n",
    "    Normal distribution\n",
    "    Exponential Distribution\n"
   ]
  },
  {
   "cell_type": "markdown",
   "metadata": {},
   "source": [
    "## Parameter estimation: active bout length\n",
    "\n",
    "Compute the mean active bout length for wild type and mutant, with 95% bootstrap confidence interval. The data sets are again available in the numpy arrays bout_lengths_wt and bout_lengths_mut. The dc_stat_think module has been imported as dcst."
   ]
  },
  {
   "cell_type": "code",
   "execution_count": 20,
   "metadata": {
    "ExecuteTime": {
     "end_time": "2019-02-17T07:07:25.351085Z",
     "start_time": "2019-02-17T07:07:24.362704Z"
    }
   },
   "outputs": [
    {
     "name": "stdout",
     "output_type": "stream",
     "text": [
      "\n",
      "wt:  mean = 3.874 min., conf. int. = [3.6, 4.1] min.\n",
      "mut: mean = 6.543 min., conf. int. = [6.1, 7.0] min.\n",
      "\n"
     ]
    }
   ],
   "source": [
    "# Compute mean active bout length\n",
    "mean_wt = np.mean(bout_lengths_wt)\n",
    "mean_mut = np.mean(bout_lengths_mut)\n",
    "\n",
    "# Draw bootstrap replicates\n",
    "bs_reps_wt = dcst.draw_bs_reps(bout_lengths_wt, np.mean, size=10000)\n",
    "bs_reps_mut = dcst.draw_bs_reps(bout_lengths_mut, np.mean, size=10000)\n",
    "\n",
    "# Compute 95% confidence intervals\n",
    "conf_int_wt = np.percentile(bs_reps_wt, [2.5, 97.5])\n",
    "conf_int_mut = np.percentile(bs_reps_mut, [2.5, 97.5])\n",
    "\n",
    "# Print the results\n",
    "print(\"\"\"\n",
    "wt:  mean = {0:.3f} min., conf. int. = [{1:.1f}, {2:.1f}] min.\n",
    "mut: mean = {3:.3f} min., conf. int. = [{4:.1f}, {5:.1f}] min.\n",
    "\"\"\".format(mean_wt, *conf_int_wt, mean_mut, *conf_int_mut))"
   ]
  },
  {
   "cell_type": "markdown",
   "metadata": {},
   "source": [
    "## Permutation test: wild type versus heterozygote\n",
    "\n",
    "Test the hypothesis that the heterozygote and wild type bout lengths are identically distributed using a permutation test."
   ]
  },
  {
   "cell_type": "code",
   "execution_count": 22,
   "metadata": {
    "ExecuteTime": {
     "end_time": "2019-02-17T07:10:23.072528Z",
     "start_time": "2019-02-17T07:10:23.055593Z"
    }
   },
   "outputs": [],
   "source": [
    "bout_lengths_het = np.loadtxt('27Data3.txt', delimiter=',')"
   ]
  },
  {
   "cell_type": "code",
   "execution_count": 23,
   "metadata": {
    "ExecuteTime": {
     "end_time": "2019-02-17T07:10:24.826386Z",
     "start_time": "2019-02-17T07:10:23.866952Z"
    }
   },
   "outputs": [
    {
     "name": "stdout",
     "output_type": "stream",
     "text": [
      "p = 0.0008\n"
     ]
    }
   ],
   "source": [
    "# Compute the difference of means: diff_means_exp\n",
    "diff_means_exp = np.mean(bout_lengths_het) - np.mean(bout_lengths_wt)\n",
    "\n",
    "# Draw permutation replicates: perm_reps\n",
    "perm_reps = dcst.draw_perm_reps(bout_lengths_het, bout_lengths_wt, \n",
    "                               dcst.diff_of_means, size=10000)\n",
    "\n",
    "# Compute the p-value: p_val\n",
    "p_val = np.sum(perm_reps >= diff_means_exp) / len(perm_reps)\n",
    "\n",
    "# Print the result\n",
    "print('p =', p_val)"
   ]
  },
  {
   "cell_type": "markdown",
   "metadata": {},
   "source": [
    "## Bootstrap hypothesis test\n",
    "\n",
    "The permutation test has a pretty restrictive hypothesis, that the heterozygotic and wild type bout lengths are identically distributed. Now, use a bootstrap hypothesis test to test the hypothesis that the means are equal, making no assumptions about the distributions."
   ]
  },
  {
   "cell_type": "code",
   "execution_count": 24,
   "metadata": {
    "ExecuteTime": {
     "end_time": "2019-02-17T07:10:40.287174Z",
     "start_time": "2019-02-17T07:10:39.662823Z"
    }
   },
   "outputs": [
    {
     "name": "stdout",
     "output_type": "stream",
     "text": [
      "p-value = 0.0006\n"
     ]
    }
   ],
   "source": [
    "# Concatenate arrays: bout_lengths_concat\n",
    "bout_lengths_concat = np.concatenate((bout_lengths_wt, bout_lengths_het))\n",
    "\n",
    "# Compute mean of all bout_lengths: mean_bout_length\n",
    "mean_bout_length = np.mean(bout_lengths_concat)\n",
    "\n",
    "# Generate shifted arrays\n",
    "wt_shifted = bout_lengths_wt - np.mean(bout_lengths_wt) + mean_bout_length\n",
    "het_shifted = bout_lengths_het - np.mean(bout_lengths_het) + mean_bout_length\n",
    "\n",
    "# Compute 10,000 bootstrap replicates from shifted arrays\n",
    "bs_reps_wt = dcst.draw_bs_reps(wt_shifted, np.mean, size=10000)\n",
    "bs_reps_het = dcst.draw_bs_reps(het_shifted, np.mean, size=10000)\n",
    "\n",
    "# Get replicates of difference of means: bs_reps\n",
    "bs_reps = bs_reps_het - bs_reps_wt\n",
    "\n",
    "# Compute and print p-value: p\n",
    "p = np.sum(bs_reps >= diff_means_exp) / len(bs_reps)\n",
    "print('p-value =', p)"
   ]
  },
  {
   "cell_type": "markdown",
   "metadata": {},
   "source": [
    "## Assessing the growth rate\n",
    "\n",
    "To compute the growth rate, you can do a linear regression of the logarithm of the total bacterial area versus time. Compute the growth rate and get a 95% confidence interval using pairs bootstrap. The time points, in units of hours, are stored in the numpy array t and the bacterial area, in units of square micrometers, is stored in bac_area."
   ]
  },
  {
   "cell_type": "code",
   "execution_count": 29,
   "metadata": {
    "ExecuteTime": {
     "end_time": "2019-02-17T07:14:37.107398Z",
     "start_time": "2019-02-17T07:14:37.093437Z"
    },
    "code_folding": [
     0,
     14
    ]
   },
   "outputs": [],
   "source": [
    "bac_area = np.array([  5.574735  ,   5.71202325,   5.90339475,   6.19461225,\n",
    "         6.456708  ,   6.85193175,   7.17643125,   7.56749475,\n",
    "         8.087526  ,   8.586756  ,   8.74900575,   9.48120975,\n",
    "        10.03868325,  10.550394  ,  11.13698925,  11.765187  ,\n",
    "        12.38506425,  13.07566575,  13.7371455 ,  14.377824  ,\n",
    "        14.89785525,  15.5177325 ,  16.341462  ,  17.31912075,\n",
    "        18.4132665 ,  19.5947775 ,  20.96766   ,  22.07844675,\n",
    "        23.41804725,  24.6702825 ,  26.25533775,  28.00264275,\n",
    "        29.6293005 ,  31.41404775,  33.31944225,  35.59925925,\n",
    "        37.974762  ,  40.787091  ,  43.749189  ,  46.8028125 ,\n",
    "        50.28494175,  53.467533  ,  57.644424  ,  61.438572  ,\n",
    "        64.72932975,  68.3861895 ,  71.539659  ,  75.85383825,\n",
    "        81.61994475,  86.050611  ,  91.53798075,  98.231823  ,\n",
    "       104.27666625, 110.862342  , 118.31751   ])\n",
    "t = np.array([ 0.  ,  0.25,  0.5 ,  0.75,  1.  ,  1.25,  1.5 ,  1.75,  2.  ,\n",
    "        2.25,  2.5 ,  2.75,  3.  ,  3.25,  3.5 ,  3.75,  4.  ,  4.25,\n",
    "        4.5 ,  4.75,  5.  ,  5.25,  5.5 ,  5.75,  6.  ,  6.25,  6.5 ,\n",
    "        6.75,  7.  ,  7.25,  7.5 ,  7.75,  8.  ,  8.25,  8.5 ,  8.75,\n",
    "        9.  ,  9.25,  9.5 ,  9.75, 10.  , 10.25, 10.5 , 10.75, 11.  ,\n",
    "       11.25, 11.5 , 11.75, 12.  , 12.25, 12.5 , 12.75, 13.  , 13.25,\n",
    "       13.5 ])"
   ]
  },
  {
   "cell_type": "code",
   "execution_count": 30,
   "metadata": {
    "ExecuteTime": {
     "end_time": "2019-02-17T07:14:40.766128Z",
     "start_time": "2019-02-17T07:14:37.702297Z"
    }
   },
   "outputs": [
    {
     "name": "stdout",
     "output_type": "stream",
     "text": [
      "\n",
      "Growth rate: 0.2301 sq. µm/hour\n",
      "95% conf int: [0.2266, 0.2336] sq. µm/hour\n",
      "\n"
     ]
    }
   ],
   "source": [
    "# Compute logarithm of the bacterial area\n",
    "log_bac_area = np.log(bac_area)\n",
    "\n",
    "# Compute the slope and intercept: growth_rate, log_a0\n",
    "growth_rate, log_a0 = np.polyfit(t, log_bac_area, 1)\n",
    "\n",
    "# Draw 10,000 pairs bootstrap replicates: growth_rate_bs_reps, log_a0_bs_reps\n",
    "growth_rate_bs_reps, log_a0_bs_reps = \\\n",
    "            dcst.draw_bs_pairs_linreg(t, log_bac_area, size=10000)\n",
    "    \n",
    "# Compute confidence intervals: growth_rate_conf_int\n",
    "growth_rate_conf_int = np.percentile(growth_rate_bs_reps, [2.5, 97.5])\n",
    "\n",
    "# Print the result to the screen\n",
    "print(\"\"\"\n",
    "Growth rate: {0:.4f} sq. µm/hour\n",
    "95% conf int: [{1:.4f}, {2:.4f}] sq. µm/hour\n",
    "\"\"\".format(growth_rate, *growth_rate_conf_int))"
   ]
  },
  {
   "cell_type": "markdown",
   "metadata": {},
   "source": [
    "## Plotting the growth curve\n",
    "\n",
    "You saw in the previous exercise that the confidence interval on the growth curve is very tight. You will explore this graphically here by plotting several bootstrap lines along with the growth curve. You will use the plt.semilogy() function to make the plot with the y-axis on a log scale. This means that you will need to transform your theoretical linear regression curve for plotting by exponentiating it."
   ]
  },
  {
   "cell_type": "code",
   "execution_count": 31,
   "metadata": {
    "ExecuteTime": {
     "end_time": "2019-02-17T07:15:04.980193Z",
     "start_time": "2019-02-17T07:15:04.120469Z"
    }
   },
   "outputs": [
    {
     "data": {
      "image/png": "[encoded data removed]",
      "text/plain": [
       "<Figure size 432x288 with 1 Axes>"
      ]
     },
     "metadata": {
      "needs_background": "light"
     },
     "output_type": "display_data"
    }
   ],
   "source": [
    "# Plot data points in a semilog-y plot with axis labeles\n",
    "_ = plt.semilogy(t, bac_area, marker='.', linestyle='none')\n",
    "\n",
    "# Generate x-values for the bootstrap lines: t_bs\n",
    "t_bs = np.array([0, 14])\n",
    "\n",
    "# Plot the first 100 bootstrap lines\n",
    "for i in range(100):\n",
    "    y = np.exp(growth_rate_bs_reps[i] * t_bs + log_a0_bs_reps[i])\n",
    "    _ = plt.semilogy(t_bs, y, linewidth=0.5, alpha=0.05, color='red')\n",
    "    \n",
    "# Label axes and show plot\n",
    "_ = plt.xlabel('time (hr)')\n",
    "_ = plt.ylabel('area (sq. µm)')\n",
    "plt.show()"
   ]
  },
  {
   "cell_type": "markdown",
   "metadata": {},
   "source": [
    "# Analysis of results of the 2015 FINA World Swimming Championships"
   ]
  },
  {
   "cell_type": "markdown",
   "metadata": {},
   "source": [
    "## Graphical EDA of men's 200 free heats\n",
    "\n",
    "In the heats, all contestants swim, the very fast and the very slow. To explore how the swim times are distributed, plot an ECDF of the men's 200 freestyle."
   ]
  },
  {
   "cell_type": "code",
   "execution_count": 33,
   "metadata": {
    "ExecuteTime": {
     "end_time": "2019-02-17T07:16:51.439725Z",
     "start_time": "2019-02-17T07:16:51.431725Z"
    },
    "code_folding": [
     0
    ]
   },
   "outputs": [],
   "source": [
    "mens_200_free_heats = np.array([118.32, 107.73, 107.  , 106.39, 108.75, 117.74, 108.43, 111.96,\n",
    "       114.36, 121.77, 108.23, 107.47, 118.41, 108.29, 106.  , 109.32,\n",
    "       111.49, 112.92, 117.38, 110.95, 108.27, 111.78, 107.87, 110.77,\n",
    "       109.05, 111.  , 108.77, 106.1 , 106.61, 113.68, 108.2 , 106.2 ,\n",
    "       111.01, 109.25, 112.  , 118.55, 109.56, 108.18, 111.67, 108.09,\n",
    "       110.04, 113.97, 109.91, 112.12, 111.65, 110.18, 116.36, 124.59,\n",
    "       115.59, 121.01, 106.88, 108.96, 109.09, 108.67, 109.6 , 111.85,\n",
    "       118.54, 108.12, 124.38, 107.17, 107.48, 106.65, 106.91, 140.68,\n",
    "       117.93, 120.66, 111.29, 107.1 , 108.49, 112.43, 110.61, 110.38,\n",
    "       109.87, 106.73, 107.18, 110.98, 108.55, 114.31, 112.05])"
   ]
  },
  {
   "cell_type": "code",
   "execution_count": 34,
   "metadata": {
    "ExecuteTime": {
     "end_time": "2019-02-17T07:16:54.210460Z",
     "start_time": "2019-02-17T07:16:54.091758Z"
    }
   },
   "outputs": [
    {
     "data": {
      "image/png": "[encoded data removed]",
      "text/plain": [
       "<Figure size 432x288 with 1 Axes>"
      ]
     },
     "metadata": {
      "needs_background": "light"
     },
     "output_type": "display_data"
    }
   ],
   "source": [
    "# Generate x and y values for ECDF\n",
    "x, y = dcst.ecdf(mens_200_free_heats)\n",
    "\n",
    "# Plot the ECDF as dots\n",
    "_ = plt.plot(x, y, marker='.', linestyle='none')\n",
    "\n",
    "# Label axes and show plot\n",
    "_ = plt.xlabel('time (s)')\n",
    "_ = plt.ylabel('ECDF')\n",
    "plt.show()\n"
   ]
  },
  {
   "cell_type": "markdown",
   "metadata": {},
   "source": [
    "## 200 m free time with confidence interval\n",
    "\n",
    "Now, you will practice parameter estimation and computation of confidence intervals by computing the mean and median swim time for the men's 200 freestyle heats. The median is useful because it is immune to heavy tails in the distribution of swim times, such as the slow swimmers in the heats. mens_200_free_heats is still in your namespace."
   ]
  },
  {
   "cell_type": "code",
   "execution_count": 35,
   "metadata": {
    "ExecuteTime": {
     "end_time": "2019-02-17T07:17:11.493020Z",
     "start_time": "2019-02-17T07:17:10.190502Z"
    }
   },
   "outputs": [
    {
     "name": "stdout",
     "output_type": "stream",
     "text": [
      "\n",
      "mean time: 111.63 sec.\n",
      "95% conf int of mean: [110.46, 112.91] sec.\n",
      "\n",
      "median time: 110.04 sec.\n",
      "95% conf int of median: [108.96, 111.02] sec.\n",
      "\n"
     ]
    }
   ],
   "source": [
    "# Compute mean and median swim times\n",
    "mean_time = np.mean(mens_200_free_heats)\n",
    "median_time = np.median(mens_200_free_heats)\n",
    "\n",
    "# Draw 10,000 bootstrap replicates of the mean and median\n",
    "bs_reps_mean = dcst.draw_bs_reps(mens_200_free_heats, np.mean, size=10000)\n",
    "bs_reps_median = dcst.draw_bs_reps(mens_200_free_heats, np.median, size=10000)\n",
    "\n",
    "\n",
    "# Compute the 95% confidence intervals\n",
    "conf_int_mean = np.percentile(bs_reps_mean, [2.5, 97.5])\n",
    "conf_int_median = np.percentile(bs_reps_median, [2.5, 97.5])\n",
    "\n",
    "# Print the result to the screen\n",
    "print(\"\"\"\n",
    "mean time: {0:.2f} sec.\n",
    "95% conf int of mean: [{1:.2f}, {2:.2f}] sec.\n",
    "\n",
    "median time: {3:.2f} sec.\n",
    "95% conf int of median: [{4:.2f}, {5:.2f}] sec.\n",
    "\"\"\".format(mean_time, *conf_int_mean, median_time, *conf_int_median))"
   ]
  },
  {
   "cell_type": "markdown",
   "metadata": {},
   "source": [
    "## EDA: finals versus semifinals\n",
    "\n",
    "First, you will get an understanding of how athletes' performance changes from the semifinals to the finals by computing the fractional improvement from the semifinals to finals and plotting an ECDF of all of these values.\n",
    "\n",
    "The arrays final_times and semi_times contain the swim times of the respective rounds. The arrays are aligned such that final_times[i] and semi_times[i] are for the same swimmer/event. If you are interested in the strokes/events, you can check out the data frame df in your namespace, which has more detailed information, but is not used in the analysis."
   ]
  },
  {
   "cell_type": "code",
   "execution_count": 39,
   "metadata": {
    "ExecuteTime": {
     "end_time": "2019-02-17T07:18:24.803964Z",
     "start_time": "2019-02-17T07:18:24.786984Z"
    },
    "code_folding": [
     0,
     12
    ]
   },
   "outputs": [],
   "source": [
    "semi_times = np.array([ 53.  ,  24.32,  52.84,  24.22,  57.59, 116.95,  58.56,  27.7 ,\n",
    "       126.56,  59.05,  27.83, 127.57,  25.81,  24.38,  27.41,  58.05,\n",
    "       128.99,  24.52,  57.52, 142.82, 128.16,  31.03,  59.33,  27.18,\n",
    "        57.63,  66.28, 143.06,  57.36,  25.79, 116.44,  53.91, 127.08,\n",
    "        27.67, 127.69, 141.99,  57.04,  25.27,  58.84,  27.63,  25.88,\n",
    "       142.9 ,  25.71,  24.5 ,  59.71,  27.88,  57.77, 126.64, 129.16,\n",
    "        28.01, 116.51, 126.18, 127.05, 129.04,  67.11,  30.9 , 116.23,\n",
    "        66.95,  66.21,  30.78, 126.36,  66.64, 142.15, 142.88,  65.64,\n",
    "        29.98, 116.91,  53.38,  53.78,  24.23,  25.9 ,  25.91, 116.56,\n",
    "       128.74,  65.6 ,  30.14,  59.55, 142.72,  55.74,  52.78,  25.06,\n",
    "        24.31,  66.76,  30.39,  30.64,  53.81,  24.47, 142.04, 116.76,\n",
    "        59.42, 116.37,  53.92, 127.79,  30.25, 127.52,  59.63, 127.57])\n",
    "final_times = np.array([ 52.52,  24.12,  52.82,  24.36,  57.67, 116.41,  58.26,  27.66,\n",
    "       125.81,  58.75,  27.92, 126.78,  25.93,  24.44,  27.26,  58.22,\n",
    "       128.66,  24.39,  57.69, 143.61, 128.51,  30.74,  59.02,  27.11,\n",
    "        57.85,  66.55, 142.76,  57.48,  25.37, 116.27,  54.76, 126.51,\n",
    "        27.58, 130.2 , 142.76,  57.05,  25.34,  58.86,  27.73,  25.78,\n",
    "       142.76,  25.85,  24.51,  59.78,  27.99,  57.94, 126.78, 128.49,\n",
    "        28.17, 116.19, 126.84, 127.76, 129.53,  67.1 ,  31.12, 115.32,\n",
    "        67.6 ,  66.42,  30.11, 125.56,  66.43, 141.15, 143.19,  66.36,\n",
    "        30.14, 116.79,  53.58,  53.17,  24.22,  25.64,  26.2 , 116.16,\n",
    "       127.64,  65.66,  30.13,  59.66, 143.59,  55.64,  52.7 ,  24.96,\n",
    "        24.31,  67.17,  30.05,  31.14,  53.93,  24.57, 142.44, 115.16,\n",
    "        59.4 , 115.49,  54.  , 126.34,  30.2 , 126.95,  59.99, 126.4 ])"
   ]
  },
  {
   "cell_type": "code",
   "execution_count": 40,
   "metadata": {
    "ExecuteTime": {
     "end_time": "2019-02-17T07:18:26.924873Z",
     "start_time": "2019-02-17T07:18:26.750337Z"
    }
   },
   "outputs": [
    {
     "data": {
      "image/png": "[encoded data removed]",
      "text/plain": [
       "<Figure size 432x288 with 1 Axes>"
      ]
     },
     "metadata": {
      "needs_background": "light"
     },
     "output_type": "display_data"
    }
   ],
   "source": [
    "# Compute fractional difference in time between finals and semis\n",
    "f = (semi_times - final_times) / semi_times\n",
    "\n",
    "# Generate x and y values for the ECDF: x, y\n",
    "x, y = dcst.ecdf(f)\n",
    "\n",
    "# Make a plot of the ECDF\n",
    "_ = plt.plot(x, y, marker='.', linestyle='none')\n",
    "\n",
    "# Label axes and show plot\n",
    "_ = plt.xlabel('f')\n",
    "_ = plt.ylabel('ECDF')\n",
    "plt.show()"
   ]
  },
  {
   "cell_type": "markdown",
   "metadata": {},
   "source": [
    "## Parameter estimates of difference between finals and semifinals\n",
    "\n",
    "Compute the mean fractional improvement from the semifinals to finals, along with a 95% confidence interval of the mean. The Numpy array f that you computed in the last exercise is in your namespace."
   ]
  },
  {
   "cell_type": "code",
   "execution_count": 41,
   "metadata": {
    "ExecuteTime": {
     "end_time": "2019-02-17T07:18:44.557353Z",
     "start_time": "2019-02-17T07:18:44.532398Z"
    }
   },
   "outputs": [
    {
     "name": "stdout",
     "output_type": "stream",
     "text": [
      "\n",
      "mean frac. diff.: 0.00040\n",
      "95% conf int of mean frac. diff.: [-0.00092, 0.00174]\n"
     ]
    }
   ],
   "source": [
    "# Mean fractional time difference: f_mean\n",
    "f_mean = np.mean(f)\n",
    "\n",
    "# Get bootstrap reps of mean: bs_reps\n",
    "bs_reps = dcst.draw_bs_reps(f, np.mean, size=10000)\n",
    "\n",
    "# Compute confidence intervals: conf_int\n",
    "conf_int = np.percentile(bs_reps, [2.5, 97.5])\n",
    "\n",
    "# Report\n",
    "print(\"\"\"\n",
    "mean frac. diff.: {0:.5f}\n",
    "95% conf int of mean frac. diff.: [{1:.5f}, {2:.5f}]\"\"\".format(f_mean, *conf_int))\n"
   ]
  },
  {
   "cell_type": "markdown",
   "metadata": {
    "ExecuteTime": {
     "end_time": "2019-02-17T07:18:54.914048Z",
     "start_time": "2019-02-17T07:18:54.898088Z"
    }
   },
   "source": [
    "## How to do the permutation test\n",
    "\n",
    "Based on our EDA and parameter estimates, it is tough to discern improvement from the semifinals to finals. In the next exercise, you will test the hypothesis that there is no difference in performance between the semifinals and finals. A permutation test is fitting for this. We will use the mean value of f as the test statistic. Which of the following simulates getting the test statistic under the null hypothesis?\n",
    "\n",
    "    Strategy 1\n",
    "    Take an array of semifinal times and an array of final times for each swimmer for each stroke/distance pair.\n",
    "    Go through each array, and for each index, swap the entry in the respective final and semifinal array with a 50% probability.\n",
    "    Use the resulting final and semifinal arrays to compute f and then the mean of f.\n",
    "    Strategy 2\n",
    "    Take an array of semifinal times and an array of final times for each swimmer for each stroke/distance pair and concatenate them, giving a total of 96 entries.\n",
    "    Scramble the concatenated array using the np.permutation() function. Assign the first 48 entries in the scrambled array to be \"semifinal\" and the last 48 entries to be \"final.\"\n",
    "    Compute f from these new semifinal and final arrays, and then compute the mean of f.\n",
    "    Strategy 3\n",
    "    Take the array f we used in the last exercise.\n",
    "    Multiply each entry of f by either 1 or -1 with equal probability.\n",
    "    Compute the mean of this new array to get the test statistic.\n",
    "    Strategy 4\n",
    "    Define a function with signature compute_f(semi_times, final_times) to compute f from inputted swim time arrays.\n",
    "    Draw a permutation replicate using dcst.draw_perm_reps(semi_times, final_times, compute_f).\n"
   ]
  },
  {
   "cell_type": "markdown",
   "metadata": {},
   "source": [
    "## Generating permutation samples\n",
    "\n",
    "As you worked out in the last exercise, we need to generate a permutation sample by randomly swapping corresponding entries in the semi_times and final_times array. Write a function with signature swap_random(a, b) that returns arrays where random indices have the entries in a and b swapped."
   ]
  },
  {
   "cell_type": "code",
   "execution_count": 43,
   "metadata": {
    "ExecuteTime": {
     "end_time": "2019-02-17T07:19:20.970056Z",
     "start_time": "2019-02-17T07:19:20.964096Z"
    }
   },
   "outputs": [],
   "source": [
    "def swap_random(a, b):\n",
    "    \"\"\"Randomly swap entries in two arrays.\"\"\"\n",
    "    # Indices to swap\n",
    "    swap_inds = np.random.random(size=len(a)) < 0.5\n",
    "    \n",
    "    # Make copies of arrays a and b for output\n",
    "    a_out = np.copy(a)\n",
    "    b_out = np.copy(b)\n",
    "    \n",
    "    # Swap values\n",
    "    a_out[swap_inds] = b[swap_inds]\n",
    "    b_out[swap_inds] = a[swap_inds]\n",
    "\n",
    "    return a_out, b_out"
   ]
  },
  {
   "cell_type": "markdown",
   "metadata": {},
   "source": [
    "## Hypothesis test: Do women swim the same way in semis and finals?\n",
    "\n",
    "Test the hypothesis that performance in the finals and semifinals are identical using the mean of the fractional improvement as your test statistic. The test statistic under the null hypothesis is considered to be at least as extreme as what was observed if it is greater than or equal to f_mean, which is already in your namespace.\n",
    "\n",
    "The semifinal and final times are contained in the numpy arrays semi_times and final_times."
   ]
  },
  {
   "cell_type": "code",
   "execution_count": 44,
   "metadata": {
    "ExecuteTime": {
     "end_time": "2019-02-17T07:19:33.331884Z",
     "start_time": "2019-02-17T07:19:33.287018Z"
    }
   },
   "outputs": [
    {
     "name": "stdout",
     "output_type": "stream",
     "text": [
      "p = 0.266\n"
     ]
    }
   ],
   "source": [
    "# Set up array of permutation replicates\n",
    "perm_reps = np.empty(1000)\n",
    "\n",
    "for i in range(1000):\n",
    "    # Generate a permutation sample\n",
    "    semi_perm, final_perm = swap_random(semi_times, final_times)\n",
    "    \n",
    "    # Compute f from the permutation sample\n",
    "    f = (semi_perm - final_perm) / semi_perm\n",
    "    \n",
    "    # Compute and store permutation replicate\n",
    "    perm_reps[i] = np.mean(f)\n",
    "\n",
    "# Compute and print p-value\n",
    "print('p =', np.sum(perm_reps >= f_mean) / 1000)"
   ]
  },
  {
   "cell_type": "markdown",
   "metadata": {},
   "source": [
    "## EDA: Plot all your data\n",
    "\n",
    "To get a graphical overview of a data set, it is often useful to plot all of your data. In this exercise, plot all of the splits for all female swimmers in the 800 meter heats. The data are available in a Numpy arrays split_number and splits. The arrays are organized such that splits[i,j] is the split time for swimmer i for split_number[j]."
   ]
  },
  {
   "cell_type": "code",
   "execution_count": 48,
   "metadata": {
    "ExecuteTime": {
     "end_time": "2019-02-17T07:20:54.772369Z",
     "start_time": "2019-02-17T07:20:54.723493Z"
    },
    "code_folding": [
     0
    ]
   },
   "outputs": [],
   "source": [
    "splits = np.array([[35.04, 36.39, 35.92, 36.23, 36.67, 36.76, 36.48, 36.85, 36.92,\n",
    "        36.68, 36.97, 36.98],\n",
    "       [34.14, 34.22, 33.67, 33.88, 34.15, 33.91, 34.41, 33.92, 34.36,\n",
    "        34.38, 34.6 , 34.45],\n",
    "       [31.8 , 31.91, 31.95, 32.04, 31.95, 31.65, 31.57, 31.39, 31.61,\n",
    "        31.43, 31.46, 31.47],\n",
    "       [33.16, 32.9 , 32.68, 32.84, 33.55, 33.74, 33.71, 33.6 , 33.71,\n",
    "        33.12, 33.14, 32.79],\n",
    "       [32.97, 32.83, 32.99, 32.94, 33.19, 33.6 , 33.72, 33.74, 33.82,\n",
    "        33.67, 33.86, 33.59],\n",
    "       [34.6 , 34.57, 34.62, 34.96, 35.1 , 35.22, 35.63, 35.56, 35.43,\n",
    "        35.67, 35.26, 35.42],\n",
    "       [32.18, 32.17, 32.15, 32.16, 32.31, 32.27, 32.32, 32.23, 32.42,\n",
    "        32.34, 32.32, 32.27],\n",
    "       [32.4 , 32.14, 32.46, 32.43, 32.58, 32.46, 32.6 , 32.42, 32.79,\n",
    "        32.33, 32.47, 32.63],\n",
    "       [32.67, 32.54, 32.48, 32.42, 32.55, 32.45, 32.94, 33.03, 33.12,\n",
    "        33.47, 33.42, 33.48],\n",
    "       [33.76, 34.95, 34.76, 35.45, 34.99, 36.11, 35.27, 35.82, 35.48,\n",
    "        36.12, 35.2 , 36.07],\n",
    "       [32.57, 32.7 , 32.53, 32.73, 32.84, 32.7 , 32.75, 33.07, 33.01,\n",
    "        33.11, 33.17, 33.02],\n",
    "       [35.04, 34.69, 34.24, 34.07, 34.47, 34.39, 34.98, 34.56, 35.3 ,\n",
    "        34.9 , 35.03, 34.08],\n",
    "       [32.61, 32.97, 33.09, 33.19, 33.72, 33.92, 34.12, 33.82, 34.07,\n",
    "        34.22, 34.26, 34.07],\n",
    "       [31.01, 31.49, 31.38, 31.47, 31.58, 31.56, 31.68, 31.68, 32.09,\n",
    "        31.83, 32.25, 31.67],\n",
    "       [32.29, 32.36, 32.43, 32.56, 32.84, 32.73, 32.77, 32.78, 32.91,\n",
    "        33.15, 33.19, 33.32],\n",
    "       [31.92, 32.14, 31.87, 32.02, 31.84, 32.47, 32.17, 32.73, 32.45,\n",
    "        33.16, 33.01, 33.08],\n",
    "       [32.1 , 32.47, 32.32, 32.84, 32.38, 32.93, 32.36, 32.96, 32.72,\n",
    "        33.35, 32.95, 33.77],\n",
    "       [35.97, 35.96, 36.09, 36.  , 36.59, 36.55, 36.4 , 36.58, 36.89,\n",
    "        36.69, 36.81, 36.73],\n",
    "       [31.69, 31.56, 31.76, 31.43, 31.69, 31.77, 31.88, 31.66, 31.96,\n",
    "        31.87, 31.66, 31.73],\n",
    "       [31.71, 32.23, 31.89, 32.31, 32.01, 32.62, 32.12, 33.  , 32.63,\n",
    "        33.14, 32.55, 33.39],\n",
    "       [31.99, 31.94, 31.82, 32.02, 31.71, 32.  , 31.79, 31.87, 31.97,\n",
    "        32.15, 32.09, 32.3 ],\n",
    "       [31.88, 31.78, 31.67, 31.68, 31.97, 31.7 , 31.71, 31.87, 31.91,\n",
    "        32.  , 31.83, 32.13],\n",
    "       [32.49, 32.32, 32.77, 32.8 , 32.87, 32.85, 32.89, 33.  , 33.12,\n",
    "        32.86, 33.05, 32.75],\n",
    "       [31.99, 31.93, 31.76, 31.85, 31.95, 31.82, 31.64, 31.49, 31.78,\n",
    "        31.67, 32.28, 31.85],\n",
    "       [32.19, 32.32, 32.55, 32.74, 32.59, 32.94, 32.75, 33.09, 32.91,\n",
    "        33.53, 33.06, 33.  ],\n",
    "       [32.37, 32.62, 32.38, 33.07, 32.91, 33.45, 32.97, 33.38, 33.24,\n",
    "        33.33, 32.93, 32.53],\n",
    "       [32.8 , 33.38, 33.18, 33.78, 33.78, 34.32, 34.1 , 34.88, 33.97,\n",
    "        34.96, 34.44, 34.93],\n",
    "       [34.9 , 35.03, 35.25, 35.42, 35.88, 35.63, 35.63, 35.66, 35.45,\n",
    "        35.66, 35.39, 35.34],\n",
    "       [32.67, 32.3 , 32.4 , 32.48, 32.52, 32.59, 32.73, 32.67, 32.97,\n",
    "        32.7 , 32.87, 32.82],\n",
    "       [32.68, 33.02, 32.8 , 32.94, 33.28, 33.46, 33.2 , 33.42, 33.14,\n",
    "        33.36, 33.38, 33.31],\n",
    "       [33.96, 33.93, 33.62, 33.76, 33.31, 33.7 , 33.02, 33.66, 33.57,\n",
    "        33.37, 33.91, 33.92],\n",
    "       [32.36, 32.6 , 32.12, 32.67, 32.56, 32.91, 32.84, 33.17, 32.95,\n",
    "        33.44, 33.25, 33.59],\n",
    "       [31.69, 31.81, 31.99, 31.99, 32.01, 31.77, 31.67, 31.62, 31.66,\n",
    "        31.82, 31.63, 31.72],\n",
    "       [36.95, 37.44, 36.96, 37.12, 37.51, 37.07, 37.49, 36.66, 36.84,\n",
    "        37.11, 37.55, 37.6 ],\n",
    "       [32.61, 32.92, 32.74, 32.88, 33.16, 33.21, 33.2 , 33.13, 33.04,\n",
    "        33.09, 33.31, 33.45],\n",
    "       [31.01, 31.5 , 31.29, 31.59, 31.77, 31.67, 31.79, 31.94, 32.  ,\n",
    "        31.98, 32.1 , 32.03],\n",
    "       [33.66, 33.92, 33.99, 34.21, 33.99, 34.16, 34.22, 34.44, 34.11,\n",
    "        34.37, 34.43, 34.33],\n",
    "       [32.91, 33.59, 33.56, 33.96, 34.83, 34.98, 35.43, 35.09, 35.94,\n",
    "        35.99, 36.16, 35.74],\n",
    "       [33.23, 34.1 , 33.87, 34.28, 34.23, 34.37, 34.19, 34.38, 34.23,\n",
    "        34.48, 34.34, 34.4 ],\n",
    "       [32.34, 32.3 , 32.13, 32.4 , 32.74, 32.57, 32.81, 32.92, 32.89,\n",
    "        32.92, 33.01, 32.73],\n",
    "       [30.77, 31.1 , 31.2 , 31.36, 31.31, 31.44, 31.31, 31.7 , 31.75,\n",
    "        31.64, 31.86, 31.97],\n",
    "       [31.9 , 31.98, 32.04, 31.98, 31.97, 31.83, 32.04, 31.92, 32.02,\n",
    "        31.96, 32.07, 31.99],\n",
    "       [32.39, 32.13, 32.24, 32.28, 32.17, 32.22, 32.1 , 32.25, 32.4 ,\n",
    "        32.55, 32.64, 32.48]])\n",
    "split_number = np.array([ 3,  4,  5,  6,  7,  8,  9, 10, 11, 12, 13, 14])"
   ]
  },
  {
   "cell_type": "code",
   "execution_count": 49,
   "metadata": {
    "ExecuteTime": {
     "end_time": "2019-02-17T07:20:56.499452Z",
     "start_time": "2019-02-17T07:20:56.296991Z"
    }
   },
   "outputs": [
    {
     "data": {
      "image/png": "[encoded data removed]",
      "text/plain": [
       "<Figure size 432x288 with 1 Axes>"
      ]
     },
     "metadata": {
      "needs_background": "light"
     },
     "output_type": "display_data"
    }
   ],
   "source": [
    "# Plot the splits for each swimmer\n",
    "for splitset in splits:\n",
    "    _ = plt.plot(split_number, splitset, linewidth=1, color='lightgray')\n",
    "\n",
    "# Compute the mean split times\n",
    "mean_splits = np.mean(splits, axis=0)\n",
    "\n",
    "# Plot the mean split times\n",
    "_ = plt.plot(split_number, mean_splits, marker='.', linewidth=3, markersize=12)\n",
    "\n",
    "# Label axes and show plot\n",
    "_ = plt.xlabel('split number')\n",
    "_ = plt.ylabel('split time (s)')\n",
    "plt.show()"
   ]
  },
  {
   "cell_type": "markdown",
   "metadata": {},
   "source": [
    "## Linear regression of average split time\n",
    "\n",
    "We will assume that the swimmers slow down in a linear fashion over the course of the 800 m event. The slowdown per split is then the slope of the mean split time versus split number plot. Perform a linear regression to estimate the slowdown per split and compute a pairs bootstrap 95% confidence interval on the slowdown. Also show a plot of the best fit line.\n",
    "\n",
    "Note: We can compute error bars for the mean split times and use those in the regression analysis, but we will not take those into account here, as that is beyond the scope of this course."
   ]
  },
  {
   "cell_type": "code",
   "execution_count": 50,
   "metadata": {
    "ExecuteTime": {
     "end_time": "2019-02-17T07:21:12.412827Z",
     "start_time": "2019-02-17T07:21:12.206381Z"
    }
   },
   "outputs": [
    {
     "data": {
      "image/png": "[encoded data removed]",
      "text/plain": [
       "<Figure size 432x288 with 1 Axes>"
      ]
     },
     "metadata": {
      "needs_background": "light"
     },
     "output_type": "display_data"
    },
    {
     "name": "stdout",
     "output_type": "stream",
     "text": [
      "\n",
      "mean slowdown: 0.065 sec./split\n",
      "95% conf int of mean slowdown: [0.051, 0.078] sec./split\n"
     ]
    }
   ],
   "source": [
    "# Perform regression\n",
    "slowdown, split_3 = np.polyfit(split_number, mean_splits, 1)\n",
    "\n",
    "# Compute pairs bootstrap\n",
    "bs_reps, _ = dcst.draw_bs_pairs_linreg(split_number, mean_splits, size=10000)\n",
    "\n",
    "# Compute confidence interval\n",
    "conf_int = np.percentile(bs_reps, [2.5, 97.5])\n",
    "\n",
    "# Plot the data with regressions line\n",
    "_ = plt.plot(split_number, mean_splits, marker='.', linestyle='none')\n",
    "_ = plt.plot(split_number, slowdown * split_number + split_3, '-')\n",
    "\n",
    "# Label axes and show plot\n",
    "_ = plt.xlabel('split number')\n",
    "_ = plt.ylabel('split time (s)')\n",
    "plt.show()\n",
    "\n",
    "# Print the slowdown per split\n",
    "print(\"\"\"\n",
    "mean slowdown: {0:.3f} sec./split\n",
    "95% conf int of mean slowdown: [{1:.3f}, {2:.3f}] sec./split\"\"\".format(\n",
    "    slowdown, *conf_int))\n"
   ]
  },
  {
   "cell_type": "markdown",
   "metadata": {},
   "source": [
    "## Hypothesis test: are they slowing down?\n",
    "\n",
    "Now we will test the null hypothesis that the swimmer's split time is not at all correlated with the distance they are at in the swim. We will use the Pearson correlation coefficient (computed using dcst.pearson_r()) as the test statistic."
   ]
  },
  {
   "cell_type": "code",
   "execution_count": 51,
   "metadata": {
    "ExecuteTime": {
     "end_time": "2019-02-17T07:21:27.130182Z",
     "start_time": "2019-02-17T07:21:26.243534Z"
    }
   },
   "outputs": [
    {
     "name": "stdout",
     "output_type": "stream",
     "text": [
      "p = 0.0\n"
     ]
    }
   ],
   "source": [
    "# Observed correlation\n",
    "rho = dcst.pearson_r(split_number, mean_splits)\n",
    "\n",
    "# Initialize permutation reps\n",
    "perm_reps_rho = np.empty(10000)\n",
    "\n",
    "# Make permutation reps\n",
    "for i in range(10000):\n",
    "    # Scramble the split number array\n",
    "    scrambled_split_number = np.random.permutation(split_number)\n",
    "    \n",
    "    # Compute the Pearson correlation coefficient\n",
    "    perm_reps_rho[i] = dcst.pearson_r(scrambled_split_number, mean_splits)\n",
    "    \n",
    "# Compute and print p-value\n",
    "p_val = np.sum(perm_reps_rho >= rho) / 10000\n",
    "print('p =', p_val)"
   ]
  },
  {
   "cell_type": "markdown",
   "metadata": {},
   "source": [
    "# The \"Current Controversy\" of the 2013 World Championships"
   ]
  },
  {
   "cell_type": "markdown",
   "metadata": {},
   "source": [
    "## A metric for improvement\n",
    "\n",
    "In your first analysis, you will investigate how times of swimmers in 50 m events change as they move between low numbered lanes (1-3) to high numbered lanes (6-8) in the semifinals and finals. We showed in the previous chapter that there is little difference between semifinal and final performance, so you will neglect any differences due to it being the final versus the semifinal.\n",
    "\n",
    "You want to use as much data as you can, so use all four strokes for both the men's and women's competitions. As such, what would be a good metric for improvement from one round to the next for an individual swimmer, where ta is the swim time in a low numbered lane and tb is the swim time in a high numbered lane?"
   ]
  },
  {
   "cell_type": "markdown",
   "metadata": {},
   "source": [
    "## ECDF of improvement from low to high lanes\n",
    "\n",
    "Now that you have a metric for improvement going from low- to high-numbered lanes, plot an ECDF of this metric. I have put together the swim times of all swimmers who swam a 50 m semifinal in a high numbered lane and the final in a low numbered lane, and vice versa. The swim times are stored in the Numpy arrays swimtime_high_lanes and swimtime_low_lanes. Entry i in the respective arrays are for the same swimmer in the same event."
   ]
  },
  {
   "cell_type": "code",
   "execution_count": 54,
   "metadata": {
    "ExecuteTime": {
     "end_time": "2019-02-17T07:25:13.650430Z",
     "start_time": "2019-02-17T07:25:13.643449Z"
    },
    "code_folding": [
     0,
     3
    ]
   },
   "outputs": [],
   "source": [
    "swimtime_low_lanes = np.array([24.66, 23.28, 27.2 , 24.95, 32.34, 24.66, 26.17, 27.93, 23.35,\n",
    "       22.93, 21.93, 28.33, 25.14, 25.19, 26.11, 31.31, 27.44, 21.85,\n",
    "       27.48, 30.66, 21.74, 23.22, 27.93, 21.42, 24.79, 26.46])\n",
    "swimtime_high_lanes = np.array([24.62, 22.9 , 27.05, 24.76, 30.31, 24.54, 26.12, 27.71, 23.15,\n",
    "       23.11, 21.62, 28.02, 24.73, 24.95, 25.83, 30.61, 27.04, 21.67,\n",
    "       27.16, 30.23, 21.51, 22.97, 28.05, 21.65, 24.54, 26.06])"
   ]
  },
  {
   "cell_type": "code",
   "execution_count": 55,
   "metadata": {
    "ExecuteTime": {
     "end_time": "2019-02-17T07:25:15.111805Z",
     "start_time": "2019-02-17T07:25:14.984146Z"
    }
   },
   "outputs": [
    {
     "data": {
      "image/png": "[encoded data removed]",
      "text/plain": [
       "<Figure size 432x288 with 1 Axes>"
      ]
     },
     "metadata": {
      "needs_background": "light"
     },
     "output_type": "display_data"
    }
   ],
   "source": [
    "# Compute the fractional improvement of being in high lane: f\n",
    "f = (swimtime_low_lanes - swimtime_high_lanes) / swimtime_low_lanes\n",
    "\n",
    "# Make x and y values for ECDF: x, y\n",
    "x, y = dcst.ecdf(f)\n",
    "\n",
    "# Plot the ECDFs as dots\n",
    "_ = plt.plot(x, y, marker='.', linestyle='none')\n",
    "\n",
    "# Label the axes and show the plot\n",
    "_ = plt.xlabel('f')\n",
    "_ = plt.ylabel('ECDF')\n",
    "plt.show()"
   ]
  },
  {
   "cell_type": "markdown",
   "metadata": {},
   "source": [
    "## Estimation of mean improvement\n",
    "\n",
    "You will now estimate how big this current effect is. Compute the mean fractional improvement for being in a high-numbered lane versus a low-numbered lane, along with a 95% confidence interval of the mean."
   ]
  },
  {
   "cell_type": "code",
   "execution_count": 56,
   "metadata": {
    "ExecuteTime": {
     "end_time": "2019-02-17T07:25:30.715489Z",
     "start_time": "2019-02-17T07:25:30.700511Z"
    }
   },
   "outputs": [
    {
     "name": "stdout",
     "output_type": "stream",
     "text": [
      "\n",
      "mean frac. diff.: 0.01051\n",
      "95% conf int of mean frac. diff.: [0.00615, 0.01583]\n"
     ]
    }
   ],
   "source": [
    "# Compute the mean difference: f_mean\n",
    "f_mean = np.mean(f)\n",
    "\n",
    "# Draw 10,000 bootstrap replicates: bs_reps\n",
    "bs_reps = dcst.draw_bs_reps(f, np.mean, size=10000)\n",
    "\n",
    "# Compute 95% confidence interval: conf_int\n",
    "conf_int = np.percentile(bs_reps, [2.5, 97.5])\n",
    "\n",
    "# Print the result\n",
    "print(\"\"\"\n",
    "mean frac. diff.: {0:.5f}\n",
    "95% conf int of mean frac. diff.: [{1:.5f}, {2:.5f}]\"\"\".format(f_mean, *conf_int))"
   ]
  },
  {
   "cell_type": "markdown",
   "metadata": {},
   "source": [
    "## How should we test the hypothesis?\n",
    "\n",
    "You are interested in the presence of lane bias toward higher lanes, presumably due to a slight current in the pool. A natural null hypothesis to test, then, is that the mean fractional improvement going from low to high lane numbers is zero. Which of the following is a good way to simulate this null hypothesis?\n",
    "\n",
    "As a reminder, the arrays swimtime_low_lanes and swimtime_high_lanes contain the swim times for lanes 1-3 and 6-8, respectively, and we define the fractional improvement as f = (swimtime_low_lanes - swimtime_high_lanes) / swimtime_low_lanes."
   ]
  },
  {
   "cell_type": "markdown",
   "metadata": {},
   "source": [
    "## Hypothesis test: Does lane assignment affect performance?\n",
    "\n",
    "Perform a bootstrap hypothesis test of the null hypothesis that the mean fractional improvement going from low-numbered lanes to high-numbered lanes is zero. Take the fractional improvement as your test statistic, and \"at least as extreme as\" to mean that the test statistic under the null hypothesis is greater than or equal to what was observed."
   ]
  },
  {
   "cell_type": "code",
   "execution_count": 57,
   "metadata": {
    "ExecuteTime": {
     "end_time": "2019-02-17T07:25:49.666206Z",
     "start_time": "2019-02-17T07:25:49.605361Z"
    }
   },
   "outputs": [
    {
     "name": "stdout",
     "output_type": "stream",
     "text": [
      "p = 0.00031\n"
     ]
    }
   ],
   "source": [
    "# Shift f: f_shift\n",
    "f_shift = f - f_mean\n",
    "\n",
    "# Draw 100,000 bootstrap replicates of the mean: bs_reps\n",
    "bs_reps = dcst.draw_bs_reps(f_shift, np.mean, size=100000)\n",
    "\n",
    "# Compute and report the p-value\n",
    "p_val = np.sum(bs_reps >= f_mean) / 100000\n",
    "print('p =', p_val)"
   ]
  },
  {
   "cell_type": "markdown",
   "metadata": {},
   "source": [
    "## Did the 2015 event have this problem?\n",
    "\n",
    "You would like to know if this is a typical problem with pools in competitive swimming. To address this question, perform a similar analysis for the results of the 2015 FINA World Championships. That is, compute the mean fractional improvement for going from lanes 1-3 to lanes 6-8 for the 2015 competition, along with a 95% confidence interval on the mean. Also test the hypothesis that the mean fractional improvement is zero.\n",
    "\n",
    "The arrays swimtime_low_lanes_15 and swimtime_high_lanes_15 have the pertinent data."
   ]
  },
  {
   "cell_type": "code",
   "execution_count": 59,
   "metadata": {
    "ExecuteTime": {
     "end_time": "2019-02-17T07:26:46.609487Z",
     "start_time": "2019-02-17T07:26:46.604488Z"
    },
    "code_folding": [
     0,
     2
    ]
   },
   "outputs": [],
   "source": [
    "swimtime_low_lanes_15 = np.array([27.66, 24.69, 23.29, 23.05, 26.87, 31.03, 22.04, 24.51, 21.86,\n",
    "       25.64, 25.91, 24.77, 30.14, 27.23, 24.31, 30.2 , 26.86])\n",
    "swimtime_high_lanes_15 = np.array([27.7 , 24.64, 23.21, 23.09, 26.87, 30.74, 21.88, 24.5 , 21.86,\n",
    "       25.9 , 26.2 , 24.73, 30.13, 26.92, 24.31, 30.25, 26.76])"
   ]
  },
  {
   "cell_type": "code",
   "execution_count": 60,
   "metadata": {
    "ExecuteTime": {
     "end_time": "2019-02-17T07:26:47.819695Z",
     "start_time": "2019-02-17T07:26:47.744919Z"
    }
   },
   "outputs": [
    {
     "name": "stdout",
     "output_type": "stream",
     "text": [
      "\n",
      "mean frac. diff.: 0.00079\n",
      "95% conf int of mean frac. diff.: [-0.00194, 0.00340]\n",
      "p-value: 0.28489\n"
     ]
    }
   ],
   "source": [
    "# Compute f and its mean\n",
    "f = (swimtime_low_lanes_15 - swimtime_high_lanes_15) / swimtime_low_lanes_15\n",
    "f_mean = np.mean(f)\n",
    "\n",
    "# Draw 10,000 bootstrap replicates\n",
    "bs_reps = dcst.draw_bs_reps(f, np.mean, size=10000)\n",
    "\n",
    "# Compute 95% confidence interval\n",
    "conf_int = np.percentile(bs_reps, [2.5, 97.5])\n",
    "\n",
    "# Shift f\n",
    "f_shift = f - f_mean\n",
    "\n",
    "# Draw 100,000 bootstrap replicates of the mean\n",
    "bs_reps = dcst.draw_bs_reps(f_shift, np.mean, size=100000)\n",
    "\n",
    "# Compute the p-value\n",
    "p_val = np.sum(bs_reps >= f_mean) / 100000\n",
    "\n",
    "# Print the results\n",
    "print(\"\"\"\n",
    "mean frac. diff.: {0:.5f}\n",
    "95% conf int of mean frac. diff.: [{1:.5f}, {2:.5f}]\n",
    "p-value: {3:.5f}\"\"\".format(f_mean, *conf_int, p_val))"
   ]
  },
  {
   "cell_type": "markdown",
   "metadata": {},
   "source": [
    "## EDA: mean differences between odd and even splits\n",
    "\n",
    "To investigate the differences between odd and even splits, you first need to define a difference metric. In previous exercises, you investigated the improvement of moving from a low-numbered lane to a high-numbered lane, defining f = (ta - tb) / ta. There, the ta in the denominator served as our reference time for improvement. Here, you are considering both improvement and decline in performance depending on the direction of swimming, so you want the reference to be an average. So, we will define the fractional difference as f = 2(ta - tb) / (ta + tb).\n",
    "\n",
    "Your task here is to plot the mean fractional difference between odd and even splits versus lane number. I have already calculated the mean fractional differences for the 2013 and 2015 Worlds for you, and they are stored in f_13 and f_15. The corresponding lane numbers are in the array lanes."
   ]
  },
  {
   "cell_type": "code",
   "execution_count": 62,
   "metadata": {
    "ExecuteTime": {
     "end_time": "2019-02-17T07:29:11.333320Z",
     "start_time": "2019-02-17T07:29:11.328318Z"
    },
    "code_folding": [
     1,
     3
    ]
   },
   "outputs": [],
   "source": [
    "lanes = np.array([1, 2, 3, 4, 5, 6, 7, 8])\n",
    "f_13 = np.array([-0.01562214, -0.0146381 , -0.00977673, -0.00525713,  0.00204104,\n",
    "        0.00381014,  0.0075664 ,  0.01525869])\n",
    "f_15 = np.array([-0.00516018, -0.00392952, -0.00099284,  0.00059953, -0.002424  ,\n",
    "       -0.00451099,  0.00047467,  0.00081962])"
   ]
  },
  {
   "cell_type": "code",
   "execution_count": 63,
   "metadata": {
    "ExecuteTime": {
     "end_time": "2019-02-17T07:29:12.093989Z",
     "start_time": "2019-02-17T07:29:11.952343Z"
    }
   },
   "outputs": [
    {
     "data": {
      "image/png": "[encoded data removed]",
      "text/plain": [
       "<Figure size 432x288 with 1 Axes>"
      ]
     },
     "metadata": {
      "needs_background": "light"
     },
     "output_type": "display_data"
    }
   ],
   "source": [
    "# Plot the the fractional difference for 2013 and 2015\n",
    "_ = plt.plot(lanes, f_13, marker='.', markersize=12, linestyle='none')\n",
    "_ = plt.plot(lanes, f_15, marker='.', markersize=12, linestyle='none')\n",
    "\n",
    "# Add a legend\n",
    "_ = plt.legend((2013, 2015))\n",
    "\n",
    "# Label axes and show plot\n",
    "_ = plt.xlabel('lane')\n",
    "_ = plt.ylabel('frac. diff. (odd - even)')\n",
    "plt.show()"
   ]
  },
  {
   "cell_type": "markdown",
   "metadata": {},
   "source": [
    "## How does the current effect depend on lane position?\n",
    "\n",
    "To quantify the effect of lane number on performance, perform a linear regression on the f_13 versus lanes data. Do a pairs bootstrap calculation to get a 95% confidence interval. Finally, make a plot of the regression. The arrays lanes and f_13 are in your namespace.\n",
    "\n",
    "Note that we could compute error bars on the mean fractional differences and use them in the regression, but that is beyond the scope of this course."
   ]
  },
  {
   "cell_type": "code",
   "execution_count": 64,
   "metadata": {
    "ExecuteTime": {
     "end_time": "2019-02-17T07:29:35.001984Z",
     "start_time": "2019-02-17T07:29:34.587071Z"
    }
   },
   "outputs": [
    {
     "name": "stdout",
     "output_type": "stream",
     "text": [
      "\n",
      "slope: 0.00447 per lane\n",
      "95% conf int: [0.00392, 0.00501] per lane\n"
     ]
    },
    {
     "data": {
      "image/png": "[encoded data removed]",
      "text/plain": [
       "<Figure size 432x288 with 1 Axes>"
      ]
     },
     "metadata": {
      "needs_background": "light"
     },
     "output_type": "display_data"
    }
   ],
   "source": [
    "# Compute the slope and intercept of the frac diff/lane curve\n",
    "slope, intercept = np.polyfit(lanes, f_13, 1)\n",
    "\n",
    "# Compute bootstrap replicates\n",
    "bs_reps_slope, bs_reps_int = dcst.draw_bs_pairs_linreg(lanes, f_13, size=10000)\n",
    "\n",
    "# Compute 95% confidence interval of slope\n",
    "conf_int = np.percentile(bs_reps_slope, [2.5, 97.5])\n",
    "\n",
    "# Print slope and confidence interval\n",
    "print(\"\"\"\n",
    "slope: {0:.5f} per lane\n",
    "95% conf int: [{1:.5f}, {2:.5f}] per lane\"\"\".format(slope, *conf_int))\n",
    "\n",
    "# x-values for plotting regression lines\n",
    "x = np.array([1, 8])\n",
    "\n",
    "# Plot 100 bootstrap replicate lines\n",
    "for i in range(100):\n",
    "    _ = plt.plot(x, bs_reps_slope[i] * x + bs_reps_int[i], \n",
    "                 color='red', alpha=0.2, linewidth=0.5)\n",
    "   \n",
    "# Update the plot\n",
    "plt.draw()\n",
    "plt.show()"
   ]
  },
  {
   "cell_type": "markdown",
   "metadata": {},
   "source": [
    "## Hypothesis test: can this be by chance?\n",
    "\n",
    "The EDA and linear regression analysis is pretty conclusive. Nonetheless, you will top off the analysis of the zigzag effect by testing the hypothesis that lane assignment has nothing to do with the mean fractional difference between even and odd lanes using a permutation test. You will use the Pearson correlation coefficient, which you can compute with dcst.pearson_r() as the test statistic. The variables lanes and f_13 are already in your namespace."
   ]
  },
  {
   "cell_type": "code",
   "execution_count": 65,
   "metadata": {
    "ExecuteTime": {
     "end_time": "2019-02-17T07:29:56.439147Z",
     "start_time": "2019-02-17T07:29:56.023262Z"
    }
   },
   "outputs": [
    {
     "name": "stdout",
     "output_type": "stream",
     "text": [
      "p = 0.0\n"
     ]
    }
   ],
   "source": [
    "# Compute observed correlation: rho\n",
    "rho = dcst.pearson_r(lanes, f_13)\n",
    "\n",
    "# Initialize permutation reps: perm_reps_rho\n",
    "perm_reps_rho = np.empty(10000)\n",
    "\n",
    "# Make permutation reps\n",
    "for i in range(10000):\n",
    "    # Scramble the lanes array: scrambled_lanes\n",
    "    scrambled_lanes = np.random.permutation(lanes)\n",
    "    \n",
    "    # Compute the Pearson correlation coefficient\n",
    "    perm_reps_rho[i] = dcst.pearson_r(scrambled_lanes, f_13)\n",
    "    \n",
    "# Compute and print p-value\n",
    "p_val = np.sum(perm_reps_rho >= rho) / 10000\n",
    "print('p =', p_val)"
   ]
  },
  {
   "cell_type": "markdown",
   "metadata": {},
   "source": [
    "# Statistical seismology and the Parkfield region"
   ]
  },
  {
   "cell_type": "markdown",
   "metadata": {},
   "source": [
    "## Parkfield earthquake magnitudes\n",
    "\n",
    "As usual, you will start with EDA and plot the ECDF of the magnitudes of earthquakes detected in the Parkfield region from 1950 to 2016. The magnitudes of all earthquakes in the region from the ANSS ComCat are stored in the Numpy array mags.\n",
    "\n",
    "When you do it this time, though, take a shortcut in generating the ECDF. You may recall that putting an asterisk before an argument in a function splits what follows into separate arguments. Since dcst.ecdf() returns two values, we can pass them as the x, y positional arguments to plt.plot() as plt.plot(*dcst.ecdf(data_you_want_to_plot)).\n",
    "\n",
    "You will use this shortcut in this exercise and going forward."
   ]
  },
  {
   "cell_type": "code",
   "execution_count": 67,
   "metadata": {
    "ExecuteTime": {
     "end_time": "2019-02-17T07:33:23.147906Z",
     "start_time": "2019-02-17T07:33:23.083099Z"
    }
   },
   "outputs": [],
   "source": [
    "mags = np.loadtxt('27Data4.txt', delimiter=',')"
   ]
  },
  {
   "cell_type": "code",
   "execution_count": 68,
   "metadata": {
    "ExecuteTime": {
     "end_time": "2019-02-17T07:33:24.280558Z",
     "start_time": "2019-02-17T07:33:24.140907Z"
    }
   },
   "outputs": [
    {
     "data": {
      "image/png": "[encoded data removed]",
      "text/plain": [
       "<Figure size 432x288 with 1 Axes>"
      ]
     },
     "metadata": {
      "needs_background": "light"
     },
     "output_type": "display_data"
    }
   ],
   "source": [
    "# Make the plot\n",
    "_ = plt.plot(*dcst.ecdf(mags), marker='.', linestyle='none')\n",
    "\n",
    "# Label axes and show plot\n",
    "_ = plt.xlabel('magnitude')\n",
    "_ = plt.ylabel('ECDF')\n",
    "plt.show()"
   ]
  },
  {
   "cell_type": "markdown",
   "metadata": {},
   "source": [
    "## Computing the b-value\n",
    "\n",
    "The b-value is a common metric for the seismicity of a region. You can imagine you would like to calculate it often when working with earthquake data. For tasks like this that you will do often, it is best to write a function! So, write a function with signature b_value(mags, mt, perc=[2.5, 97.5], n_reps=None) that returns the b-value and (optionally, if n_reps is not None) its confidence interval for a set of magnitudes, mags. The completeness threshold is given by mt. The perc keyword argument gives the percentiles for the lower and upper bounds of the confidence interval, and n_reps is the number of bootstrap replicates to use in computing the confidence interval."
   ]
  },
  {
   "cell_type": "code",
   "execution_count": 69,
   "metadata": {
    "ExecuteTime": {
     "end_time": "2019-02-17T07:33:41.225379Z",
     "start_time": "2019-02-17T07:33:41.219394Z"
    }
   },
   "outputs": [],
   "source": [
    "def b_value(mags, mt, perc=[2.5, 97.5], n_reps=None):\n",
    "    \"\"\"Compute the b-value and optionally its confidence interval.\"\"\"\n",
    "    # Extract magnitudes above completeness threshold: m\n",
    "    m = mags[mags >= mt]\n",
    "\n",
    "    # Compute b-value: b\n",
    "    b = (np.mean(m) - mt) * np.log(10)\n",
    "\n",
    "    # Draw bootstrap replicates\n",
    "    if n_reps is None:\n",
    "        return b\n",
    "    else:\n",
    "        m_bs_reps = dcst.draw_bs_reps(m, np.mean, size=n_reps)\n",
    "\n",
    "        # Compute b-value from replicates: b_bs_reps\n",
    "        b_bs_reps = (m_bs_reps - mt) * np.log(10)\n",
    "\n",
    "        # Compute confidence interval: conf_int\n",
    "        conf_int = np.percentile(b_bs_reps, perc)\n",
    "    \n",
    "        return b, conf_int"
   ]
  },
  {
   "cell_type": "markdown",
   "metadata": {},
   "source": [
    "## The b-value for Parkfield\n",
    "\n",
    "The ECDF is effective at exposing roll-off, as you could see below magnitude 1. Because there are plenty of earthquakes above magnitude 3, you can use mt = 3 as your completeness threshold. With this completeness threshold, compute the b-value for the Parkfield region from 1950 to 2016, along with the 95% confidence interval. Print the results to the screen. The variable mags with all the magnitudes is in your namespace.\n",
    "\n",
    "Overlay the theoretical Exponential CDF to verify that the Parkfield region follows the Gutenberg-Richter Law."
   ]
  },
  {
   "cell_type": "code",
   "execution_count": 71,
   "metadata": {
    "ExecuteTime": {
     "end_time": "2019-02-17T07:34:09.521652Z",
     "start_time": "2019-02-17T07:34:09.517678Z"
    }
   },
   "outputs": [],
   "source": [
    "mt = 3"
   ]
  },
  {
   "cell_type": "code",
   "execution_count": 72,
   "metadata": {
    "ExecuteTime": {
     "end_time": "2019-02-17T07:34:10.107129Z",
     "start_time": "2019-02-17T07:34:09.930620Z"
    }
   },
   "outputs": [
    {
     "data": {
      "image/png": "[encoded data removed]",
      "text/plain": [
       "<Figure size 432x288 with 1 Axes>"
      ]
     },
     "metadata": {
      "needs_background": "light"
     },
     "output_type": "display_data"
    },
    {
     "name": "stdout",
     "output_type": "stream",
     "text": [
      "\n",
      "b-value: 1.08\n",
      "95% conf int: [0.94, 1.24]\n"
     ]
    }
   ],
   "source": [
    "# Compute b-value and confidence interval\n",
    "b, conf_int = b_value(mags, mt, perc=[2.5, 97.5], n_reps=10000)\n",
    "\n",
    "# Generate samples to for theoretical ECDF\n",
    "m_theor = np.random.exponential(b/np.log(10), size=100000) + mt\n",
    "\n",
    "# Plot the theoretical CDF\n",
    "_ = plt.plot(*dcst.ecdf(m_theor))\n",
    "\n",
    "# Plot the ECDF (slicing mags >= mt)\n",
    "_ = plt.plot(*dcst.ecdf(mags[mags >= mt]), marker='.', linestyle='none')\n",
    "\n",
    "# Pretty up and show the plot\n",
    "_ = plt.xlabel('magnitude')\n",
    "_ = plt.ylabel('ECDF')\n",
    "_ = plt.xlim(2.8, 6.2)\n",
    "plt.show()\n",
    "\n",
    "# Report the results\n",
    "print(\"\"\"\n",
    "b-value: {0:.2f}\n",
    "95% conf int: [{1:.2f}, {2:.2f}]\"\"\".format(b, *conf_int))"
   ]
  },
  {
   "cell_type": "markdown",
   "metadata": {},
   "source": [
    "## Interearthquake time estimates for Parkfield\n",
    "\n",
    "In this exercise, you will first compute the best estimates for the parameters for the Exponential and Gaussian models for interearthquake times. You will then plot the theoretical CDFs for the respective models along with the formal ECDF of the actual Parkfield interearthquake times."
   ]
  },
  {
   "cell_type": "code",
   "execution_count": 74,
   "metadata": {
    "ExecuteTime": {
     "end_time": "2019-02-17T07:34:59.848669Z",
     "start_time": "2019-02-17T07:34:59.843682Z"
    },
    "code_folding": [
     0
    ]
   },
   "outputs": [],
   "source": [
    "time_gap = np.array([24.06570842, 20.07665982, 21.01848049, 12.24640657, 32.05475702,\n",
    "       38.2532512 ])"
   ]
  },
  {
   "cell_type": "code",
   "execution_count": 75,
   "metadata": {
    "ExecuteTime": {
     "end_time": "2019-02-17T07:35:02.430135Z",
     "start_time": "2019-02-17T07:35:01.603323Z"
    }
   },
   "outputs": [
    {
     "data": {
      "image/png": "[encoded data removed]",
      "text/plain": [
       "<Figure size 432x288 with 1 Axes>"
      ]
     },
     "metadata": {
      "needs_background": "light"
     },
     "output_type": "display_data"
    }
   ],
   "source": [
    "# Compute the mean time gap: mean_time_gap\n",
    "mean_time_gap = np.mean(time_gap)\n",
    "\n",
    "# Standard deviation of the time gap: std_time_gap\n",
    "std_time_gap = np.std(time_gap)\n",
    "\n",
    "# Generate theoretical Exponential distribution of timings: time_gap_exp\n",
    "time_gap_exp = np.random.exponential(mean_time_gap, size=10000)\n",
    "\n",
    "# Generate theoretical Normal distribution of timings: time_gap_norm\n",
    "time_gap_norm = np.random.normal(mean_time_gap, std_time_gap, size=10000)\n",
    "\n",
    "# Plot theoretical CDFs\n",
    "_ = plt.plot(*dcst.ecdf(time_gap_exp))\n",
    "_ = plt.plot(*dcst.ecdf(time_gap_norm))\n",
    "\n",
    "# Plot Parkfield ECDF\n",
    "_ = plt.plot(*dcst.ecdf(time_gap, formal=True, min_x=-10, max_x=50))\n",
    "\n",
    "# Add legend\n",
    "_ = plt.legend(('Exp.', 'Norm.'), loc='upper left')\n",
    "\n",
    "# Label axes, set limits and show plot\n",
    "_ = plt.xlabel('time gap (years)')\n",
    "_ = plt.ylabel('ECDF')\n",
    "_ = plt.xlim(-10, 50)\n",
    "plt.show()"
   ]
  },
  {
   "cell_type": "markdown",
   "metadata": {},
   "source": [
    "## When will the next big Parkfield quake be?\n",
    "\n",
    "The last big earthquake in the Parkfield region was on the evening of September 27, 2004 local time. Your task is to get an estimate as to when the next Parkfield quake will be, assuming the Exponential model and also the Gaussian model. In both cases, the best estimate is given by the mean time gap, which you computed in the last exercise to be 24.62 years, meaning that the next earthquake would be in 2029. Compute 95% confidence intervals on when the next earthquake will be assuming an Exponential distribution parametrized by mean_time_gap you computed in the last exercise. Do the same assuming a Normal distribution parametrized by mean_time_gap and std_time_gap."
   ]
  },
  {
   "cell_type": "code",
   "execution_count": 79,
   "metadata": {
    "ExecuteTime": {
     "end_time": "2019-02-17T07:36:13.032882Z",
     "start_time": "2019-02-17T07:36:13.028893Z"
    }
   },
   "outputs": [],
   "source": [
    "today = 2019.1296331239814\n",
    "last_quake = 2004.74"
   ]
  },
  {
   "cell_type": "code",
   "execution_count": 80,
   "metadata": {
    "ExecuteTime": {
     "end_time": "2019-02-17T07:36:13.653450Z",
     "start_time": "2019-02-17T07:36:13.635492Z"
    }
   },
   "outputs": [
    {
     "name": "stdout",
     "output_type": "stream",
     "text": [
      "Exponential: [2019.73162777 2036.25166373 2109.30201296]\n",
      "     Normal: [2020.01756393 2030.54354152 2046.33495463]\n"
     ]
    }
   ],
   "source": [
    "# Draw samples from the Exponential distribution: exp_samples\n",
    "exp_samples = np.random.exponential(mean_time_gap, size=100000)\n",
    "\n",
    "# Draw samples from the Normal distribution: norm_samples\n",
    "norm_samples = np.random.normal(mean_time_gap, std_time_gap, size=100000)\n",
    "\n",
    "# No earthquake as of today, so only keep samples that are long enough\n",
    "exp_samples = exp_samples[exp_samples > today - last_quake]\n",
    "norm_samples = norm_samples[norm_samples > today - last_quake]\n",
    "\n",
    "# Compute the confidence intervals with medians\n",
    "conf_int_exp = np.percentile(exp_samples, [2.5, 50, 97.5]) + last_quake\n",
    "conf_int_norm = np.percentile(norm_samples, [2.5, 50, 97.5]) + last_quake\n",
    "\n",
    "# Print the results\n",
    "print('Exponential:', conf_int_exp)\n",
    "print('     Normal:', conf_int_norm)"
   ]
  },
  {
   "cell_type": "markdown",
   "metadata": {},
   "source": [
    "## Computing the value of a formal ECDF\n",
    "\n",
    "To be able to do the Kolmogorov-Smirnov test, we need to compute the value of a formal ECDF at arbitrary points. In other words, we need a function, ecdf_formal(x, data) that returns the value of the formal ECDF derived from the data set data for each value in the array x. Two of the functions accomplish this. One will not. Of the two that do the calculation correctly, one is faster. Label each.\n",
    "\n",
    "As a reminder, the ECDF is formally defined as ECDF(x) = (number of samples ≤ x) / (total number of samples). You also might want to check out the doc string of np.searchsorted().\n",
    "\n",
    "a)\n",
    "\n",
    "    def ecdf_formal(x, data):\n",
    "        return np.searchsorted(np.sort(data), x) / len(data)\n",
    "\n",
    "b)\n",
    "\n",
    "    def ecdf_formal(x, data):\n",
    "        return np.searchsorted(np.sort(data), x, side='right') / len(data)\n",
    "\n",
    "c)\n",
    "\n",
    "    def ecdf_formal(x, data):\n",
    "        output = np.empty(len(x))\n",
    "        data = np.sort(data)\n",
    "        for i, x_val in x:\n",
    "            j = 0\n",
    "            while j < len(data) and x_val >= data[j]:\n",
    "                j += 1\n",
    "            output[i] = j\n",
    "        return output / len(data)\n"
   ]
  },
  {
   "cell_type": "markdown",
   "metadata": {},
   "source": [
    "## Computing the K-S statistic\n",
    "\n",
    "Write a function to compute the Kolmogorov-Smirnov statistic from two data sets, data1 and data2. In practice using hacker stats, the second data set will be samples from the theoretical distribution you are comparing your data to. Conveniently, the function you just selected for computing values of the formal ECDF is given as dcst.ecdf_formal()."
   ]
  },
  {
   "cell_type": "code",
   "execution_count": 81,
   "metadata": {
    "ExecuteTime": {
     "end_time": "2019-02-17T07:37:19.693193Z",
     "start_time": "2019-02-17T07:37:19.687200Z"
    }
   },
   "outputs": [],
   "source": [
    "def ks_stat(data1, data2):\n",
    "    # Compute ECDF from data: x, y\n",
    "    x, y = dcst.ecdf(data1)\n",
    "    \n",
    "    # Compute corresponding values of the target CDF\n",
    "    cdf = dcst.ecdf_formal(x, data2)\n",
    "\n",
    "    # Compute distances between concave corners and CDF\n",
    "    D_top = y - cdf\n",
    "\n",
    "    # Compute distance between convex corners and CDF\n",
    "    D_bottom = cdf - y + 1/len(data1)\n",
    "\n",
    "    return np.max((D_top, D_bottom))"
   ]
  },
  {
   "cell_type": "markdown",
   "metadata": {},
   "source": [
    "## Drawing K-S replicates\n",
    "\n",
    "Now, you need a function to draw Kolmogorov-Smirnov replicates out of a target distribution, f. Construct a function with signature draw_ks_reps(n, f, args=(), size=10000, n_reps=10000) to do so. Here, n is the number of data points, and f is the function you will use to generate samples from the target CDF. For example, to test against an Exponential distribution, you would pass np.random.exponential as f. This function usually takes arguments, which must be passed as a tuple. So, if you wanted to take samples from an Exponential distribution with mean x_mean, you would use the args=(x_mean,) keyword. The keyword arguments size and n_reps respectively represent the number of samples to take from the target distribution and the number of replicates to draw."
   ]
  },
  {
   "cell_type": "code",
   "execution_count": 82,
   "metadata": {
    "ExecuteTime": {
     "end_time": "2019-02-17T07:37:30.985447Z",
     "start_time": "2019-02-17T07:37:30.980483Z"
    }
   },
   "outputs": [],
   "source": [
    "def draw_ks_reps(n, f, args=(), size=10000, n_reps=10000):\n",
    "    # Generate samples from target distribution\n",
    "    x_f = f(*args, size=size)\n",
    "    \n",
    "    # Initialize K-S replicates\n",
    "    reps = np.empty(n_reps)\n",
    "    \n",
    "    # Draw replicates\n",
    "    for i in range(n_reps):\n",
    "        # Draw samples for comparison\n",
    "        x_samp = f(*args, size=n)\n",
    "        \n",
    "        # Compute K-S statistic\n",
    "        reps[i] = dcst.ks_stat(x_samp, x_f)\n",
    "\n",
    "    return reps"
   ]
  },
  {
   "cell_type": "markdown",
   "metadata": {},
   "source": [
    "## The K-S test for Exponentiality\n",
    "\n",
    "Test the null hypothesis that the interearthquake times of the Parkfield sequence are Exponentially distributed. That is, earthquakes happen at random with no memory of when the last one was. Note: This calculation is computationally intensive (you will draw more than 108 random numbers), so it will take about 10 seconds to complete."
   ]
  },
  {
   "cell_type": "code",
   "execution_count": 83,
   "metadata": {
    "ExecuteTime": {
     "end_time": "2019-02-17T07:37:45.429706Z",
     "start_time": "2019-02-17T07:37:43.349273Z"
    }
   },
   "outputs": [
    {
     "name": "stdout",
     "output_type": "stream",
     "text": [
      "p = 0.2526\n"
     ]
    }
   ],
   "source": [
    "# Draw target distribution: x_f\n",
    "x_f = np.random.exponential(mean_time_gap, size=10000)\n",
    "\n",
    "# Compute K-S stat: d\n",
    "d = dcst.ks_stat(time_gap, x_f)\n",
    "\n",
    "# Draw K-S replicates: reps\n",
    "reps = dcst.draw_ks_reps(len(time_gap), np.random.exponential, \n",
    "                         args=(mean_time_gap,), size=10000, n_reps=10000)\n",
    "\n",
    "# Compute and print p-value\n",
    "p_val = np.sum(reps >= d) / 10000\n",
    "print('p =', p_val)"
   ]
  },
  {
   "cell_type": "markdown",
   "metadata": {},
   "source": [
    "# Earthquakes and oil mining in Oklahoma"
   ]
  },
  {
   "cell_type": "markdown",
   "metadata": {},
   "source": [
    "## EDA: Plotting earthquakes over time\n",
    "\n",
    "Make a plot where the y-axis is the magnitude and the x-axis is the time of all earthquakes in Oklahoma between 1980 and the first half of 2017. Each dot in the plot represents a single earthquake. The time of the earthquakes, as decimal years, is stored in the Numpy array time, and the magnitudes in the Numpy array mags."
   ]
  },
  {
   "cell_type": "code",
   "execution_count": 87,
   "metadata": {
    "ExecuteTime": {
     "end_time": "2019-02-17T07:43:42.349727Z",
     "start_time": "2019-02-17T07:43:42.253954Z"
    }
   },
   "outputs": [],
   "source": [
    "time = np.loadtxt('27Data5.txt', delimiter=',')\n",
    "mags = np.loadtxt('27Data6.txt', delimiter=',')"
   ]
  },
  {
   "cell_type": "code",
   "execution_count": 88,
   "metadata": {
    "ExecuteTime": {
     "end_time": "2019-02-17T07:43:42.832499Z",
     "start_time": "2019-02-17T07:43:42.689886Z"
    }
   },
   "outputs": [
    {
     "data": {
      "image/png": "[encoded data removed]",
      "text/plain": [
       "<Figure size 432x288 with 1 Axes>"
      ]
     },
     "metadata": {
      "needs_background": "light"
     },
     "output_type": "display_data"
    }
   ],
   "source": [
    "# Plot time vs. magnitude\n",
    "_ = plt.plot(time, mags, marker='.', linestyle='none', alpha=0.1)\n",
    "\n",
    "# Label axes and show the plot\n",
    "_ = plt.xlabel('time (year)')\n",
    "_ = plt.ylabel('magnitude')\n",
    "plt.show()"
   ]
  },
  {
   "cell_type": "markdown",
   "metadata": {},
   "source": [
    "## Estimates of the mean interearthquake times\n",
    "\n",
    "The graphical EDA in the last exercise shows an obvious change in earthquake frequency around 2010. To compare, compute the mean time between earthquakes of magnitude 3 and larger from 1980 through 2009 and also from 2010 through mid-2017. Also include 95% confidence intervals of the mean. The variables dt_pre and dt_post respectively contain the time gap between all earthquakes of magnitude at least 3 from pre-2010 and post-2010 in units of days."
   ]
  },
  {
   "cell_type": "code",
   "execution_count": 90,
   "metadata": {
    "ExecuteTime": {
     "end_time": "2019-02-17T07:46:28.496338Z",
     "start_time": "2019-02-17T07:46:28.476363Z"
    },
    "code_folding": [
     0
    ]
   },
   "outputs": [],
   "source": [
    "dt_pre = np.array([2.51473603e+02, 2.95650596e+02, 6.41211817e+02, 1.08631328e+03,\n",
    "       3.17616277e+02, 5.89587696e+02, 4.83564906e+02, 6.97670295e+01,\n",
    "       6.92609789e+02, 2.83876828e+01, 4.69754032e+02, 2.64696924e+02,\n",
    "       7.66216207e+01, 5.70100061e+01, 1.05893359e+02, 7.22457315e+02,\n",
    "       2.33767653e+02, 7.02367640e+01, 1.15034729e+02, 3.60481877e+02,\n",
    "       8.36271879e+02, 1.11819550e+02, 1.41778326e+02, 5.96888641e+02,\n",
    "       1.67632908e+02, 1.50228765e+02, 3.27358344e+02, 2.14424228e+01,\n",
    "       1.84269802e+02, 2.33111006e+02, 3.78900412e+02, 1.42433380e+02,\n",
    "       8.96787214e+01, 5.96520032e+00, 1.89851791e+01, 2.77352546e+00,\n",
    "       1.13775168e+01, 9.84176998e+01, 1.20027146e+01, 4.83078902e+00,\n",
    "       2.03967335e+01, 3.62722197e+01, 7.41380943e-01, 5.61129875e+01,\n",
    "       2.23184198e+01, 2.00108958e+00, 7.00255109e-01, 1.19086239e+01,\n",
    "       8.67777468e+00, 4.74607571e+00, 8.78615616e-01, 6.85672396e+00])\n",
    "dt_post = np.loadtxt('27Data7.txt', delimiter=',')"
   ]
  },
  {
   "cell_type": "code",
   "execution_count": 91,
   "metadata": {
    "ExecuteTime": {
     "end_time": "2019-02-17T07:46:29.353217Z",
     "start_time": "2019-02-17T07:46:28.881462Z"
    }
   },
   "outputs": [
    {
     "name": "stdout",
     "output_type": "stream",
     "text": [
      "1980 through 2009\n",
      "mean time gap: 204.61 days\n",
      "95% conf int: [139.15, 276.11] days\n",
      "\n",
      "2010 through mid-2017\n",
      "mean time gap: 1.12 days\n",
      "95% conf int: [0.97, 1.29] days\n"
     ]
    }
   ],
   "source": [
    "# Compute mean interearthquake time\n",
    "mean_dt_pre = np.mean(dt_pre)\n",
    "mean_dt_post = np.mean(dt_post)\n",
    "\n",
    "# Draw 10,000 bootstrap replicates of the mean\n",
    "bs_reps_pre = dcst.draw_bs_reps(dt_pre, np.mean, size=10000)\n",
    "bs_reps_post = dcst.draw_bs_reps(dt_post, np.mean, size=10000)\n",
    "\n",
    "# Compute the confidence interval\n",
    "conf_int_pre = np.percentile(bs_reps_pre, [2.5, 97.5])\n",
    "conf_int_post = np.percentile(bs_reps_post, [2.5, 97.5])\n",
    "\n",
    "# Print the results\n",
    "print(\"\"\"1980 through 2009\n",
    "mean time gap: {0:.2f} days\n",
    "95% conf int: [{1:.2f}, {2:.2f}] days\"\"\".format(mean_dt_pre, *conf_int_pre))\n",
    "\n",
    "print(\"\"\"\n",
    "2010 through mid-2017\n",
    "mean time gap: {0:.2f} days\n",
    "95% conf int: [{1:.2f}, {2:.2f}] days\"\"\".format(mean_dt_post, *conf_int_post))"
   ]
  },
  {
   "cell_type": "markdown",
   "metadata": {},
   "source": [
    "## Hypothesis test: did earthquake frequency change?\n",
    "\n",
    "Obviously, there was a massive increase in earthquake frequency once wastewater injection began. Nonetheless, you will still do a hypothesis test for practice. You will not test the hypothesis that the interearthquake times have the same distribution before and after 2010, since wastewater injection may affect the distribution. Instead, you will assume that they have the same mean. So, compute the p-value associated with the hypothesis that the pre- and post-2010 interearthquake times have the same mean, using the mean of pre-2010 time gaps minus the mean of post-2010 time gaps as your test statistic."
   ]
  },
  {
   "cell_type": "code",
   "execution_count": 92,
   "metadata": {
    "ExecuteTime": {
     "end_time": "2019-02-17T07:46:45.573449Z",
     "start_time": "2019-02-17T07:46:45.111705Z"
    }
   },
   "outputs": [
    {
     "name": "stdout",
     "output_type": "stream",
     "text": [
      "p = 0.0\n"
     ]
    }
   ],
   "source": [
    "# Compute the observed test statistic\n",
    "mean_dt_diff = mean_dt_pre - mean_dt_post\n",
    "\n",
    "# Shift the post-2010 data to have the same mean as the pre-2010 data\n",
    "dt_post_shift = dt_post - mean_dt_post + mean_dt_pre\n",
    "\n",
    "# Compute 10,000 bootstrap replicates from arrays\n",
    "bs_reps_pre = dcst.draw_bs_reps(dt_pre, np.mean, size=10000)\n",
    "bs_reps_post = dcst.draw_bs_reps(dt_post_shift, np.mean, size=10000)\n",
    "\n",
    "# Get replicates of difference of means\n",
    "bs_reps = bs_reps_pre - bs_reps_post\n",
    "\n",
    "# Compute and print the p-value\n",
    "p_val = np.sum(bs_reps >= mean_dt_diff) / 10000\n",
    "print('p =', p_val)"
   ]
  },
  {
   "cell_type": "markdown",
   "metadata": {},
   "source": [
    "## EDA: Comparing magnitudes before and after 2010\n",
    "\n",
    "Make an ECDF of earthquake magnitudes from 1980 through 2009. On the same plot, show an ECDF of magnitudes of earthquakes from 2010 through mid-2017. The time of the earthquakes, as decimal years, are stored in the Numpy array time and the magnitudes in the Numpy array mags."
   ]
  },
  {
   "cell_type": "code",
   "execution_count": 93,
   "metadata": {
    "ExecuteTime": {
     "end_time": "2019-02-17T07:47:17.149988Z",
     "start_time": "2019-02-17T07:47:16.974479Z"
    }
   },
   "outputs": [
    {
     "data": {
      "image/png": "[encoded data removed]",
      "text/plain": [
       "<Figure size 432x288 with 1 Axes>"
      ]
     },
     "metadata": {
      "needs_background": "light"
     },
     "output_type": "display_data"
    }
   ],
   "source": [
    "# Get magnitudes before and after 2010\n",
    "mags_pre = mags[time < 2010]\n",
    "mags_post = mags[time >= 2010]\n",
    "\n",
    "# Generate ECDFs\n",
    "_ = plt.plot(*dcst.ecdf(mags_pre), marker='.', linestyle='none')\n",
    "_ = plt.plot(*dcst.ecdf(mags_post), marker='.', linestyle='none')\n",
    "\n",
    "# Label axes and show plot\n",
    "_ = plt.xlabel('magnitude')\n",
    "_ = plt.ylabel('ECDF')\n",
    "plt.legend(('1980 though 2009', '2010 through mid-2017'), loc='upper left')\n",
    "plt.show()"
   ]
  },
  {
   "cell_type": "markdown",
   "metadata": {},
   "source": [
    "## Quantification of the b-values\n",
    "\n",
    "Based on the plot you generated in the previous exercise, you can safely use a completeness threshold of mt = 3. Using this threshold, compute b-values for the period between 1980 and 2009 and for 2010 through mid-2017. The function b_value() you wrote last chapter, which computes the b-value and confidence interval from a set of magnitudes and completeness threshold, is available in your namespace, as are the numpy arrays mags_pre and mags_post from the last exercise, and mt."
   ]
  },
  {
   "cell_type": "code",
   "execution_count": 94,
   "metadata": {
    "ExecuteTime": {
     "end_time": "2019-02-17T07:47:31.910364Z",
     "start_time": "2019-02-17T07:47:31.415687Z"
    }
   },
   "outputs": [
    {
     "name": "stdout",
     "output_type": "stream",
     "text": [
      "\n",
      "1980 through 2009\n",
      "b-value: 0.74\n",
      "95% conf int: [0.54, 0.96]\n",
      "\n",
      "2010 through mid-2017\n",
      "b-value: 0.62\n",
      "95% conf int: [0.60, 0.65]\n",
      "\n"
     ]
    }
   ],
   "source": [
    "# Compute b-value and confidence interval for pre-2010\n",
    "b_pre, conf_int_pre = b_value(mags_pre, mt, perc=[2.5, 97.5], n_reps=10000)\n",
    "\n",
    "# Compute b-value and confidence interval for post-2010\n",
    "b_post, conf_int_post = b_value(mags_post, mt, perc=[2.5, 97.5], n_reps=10000)\n",
    "\n",
    "# Report the results\n",
    "print(\"\"\"\n",
    "1980 through 2009\n",
    "b-value: {0:.2f}\n",
    "95% conf int: [{1:.2f}, {2:.2f}]\n",
    "\n",
    "2010 through mid-2017\n",
    "b-value: {3:.2f}\n",
    "95% conf int: [{4:.2f}, {5:.2f}]\n",
    "\"\"\".format(b_pre, *conf_int_pre, b_post, *conf_int_post))\n"
   ]
  },
  {
   "cell_type": "markdown",
   "metadata": {},
   "source": [
    "## Hypothesis test: are the b-values different?\n",
    "\n",
    "Perform the hypothesis test sketched out on the previous exercise. The variables mags_pre and mags_post are already loaded into your namespace, as is mt = 3."
   ]
  },
  {
   "cell_type": "code",
   "execution_count": 95,
   "metadata": {
    "ExecuteTime": {
     "end_time": "2019-02-17T07:47:46.504406Z",
     "start_time": "2019-02-17T07:47:46.115446Z"
    }
   },
   "outputs": [
    {
     "name": "stdout",
     "output_type": "stream",
     "text": [
      "p = 0.1047\n"
     ]
    }
   ],
   "source": [
    "# Only magnitudes above completeness threshold\n",
    "mags_pre = mags_pre[mags_pre >= mt]\n",
    "mags_post = mags_post[mags_post >= mt]\n",
    "\n",
    "# Observed difference in mean magnitudes: diff_obs\n",
    "diff_obs = np.mean(mags_post) - np.mean(mags_pre)\n",
    "\n",
    "# Generate permutation replicates: perm_reps\n",
    "perm_reps = dcst.draw_perm_reps(mags_post, mags_pre, dcst.diff_of_means, size=10000)\n",
    "\n",
    "# Compute and print p-value\n",
    "p_val = np.sum(perm_reps < diff_obs) / 10000\n",
    "print('p =', p_val)"
   ]
  },
  {
   "cell_type": "markdown",
   "metadata": {},
   "source": [
    "## What can you conclude from this analysis?\n",
    "\n",
    "All but one of the following constitute reasonable conclusions from our analysis of earthquakes. Which one does not?"
   ]
  },
  {
   "cell_type": "markdown",
   "metadata": {},
   "source": [
    "    ## Parkfield 1950 through 2009\n",
    "    b-value: 1.08\n",
    "    95% conf int: [0.94, 1.23]\n",
    "\n",
    "\n",
    "    Oklahoma 1980 through 2009\n",
    "    b-value: 0.74\n",
    "    95% conf int: [0.54, 0.97]\n",
    "\n",
    "    mean time gap: 204.61 days\n",
    "    95% conf int: [138.45, 276.83] days\n",
    "\n",
    "\n",
    "    Oklahoma 2010 through mid-2017\n",
    "    b-value: 0.62\n",
    "    95% conf int: [0.60, 0.65]\n",
    "\n",
    "    mean time gap: 1.12 days\n",
    "    95% conf int: [0.97, 1.30] days\n",
    "\n",
    "\n",
    "    Oklahoma: p-value for difference in b-value : 0.10"
   ]
  },
  {
   "cell_type": "code",
   "execution_count": null,
   "metadata": {},
   "outputs": [],
   "source": []
  }
 ],
 "metadata": {
  "kernelspec": {
   "display_name": "Python 3",
   "language": "python",
   "name": "python3"
  },
  "language_info": {
   "codemirror_mode": {
    "name": "ipython",
    "version": 3
   },
   "file_extension": ".py",
   "mimetype": "text/x-python",
   "name": "python",
   "nbconvert_exporter": "python",
   "pygments_lexer": "ipython3",
   "version": "3.6.7"
  },
  "toc": {
   "base_numbering": 1,
   "nav_menu": {},
   "number_sections": true,
   "sideBar": true,
   "skip_h1_title": false,
   "title_cell": "Table of Contents",
   "title_sidebar": "Contents",
   "toc_cell": false,
   "toc_position": {},
   "toc_section_display": true,
   "toc_window_display": true
  },
  "varInspector": {
   "cols": {
    "lenName": 16,
    "lenType": 16,
    "lenVar": 40
   },
   "kernels_config": {
    "python": {
     "delete_cmd_postfix": "",
     "delete_cmd_prefix": "del ",
     "library": "var_list.py",
     "varRefreshCmd": "print(var_dic_list())"
    },
    "r": {
     "delete_cmd_postfix": ") ",
     "delete_cmd_prefix": "rm(",
     "library": "var_list.r",
     "varRefreshCmd": "cat(var_dic_list()) "
    }
   },
   "types_to_exclude": [
    "module",
    "function",
    "builtin_function_or_method",
    "instance",
    "_Feature"
   ],
   "window_display": false
  }
 },
 "nbformat": 4,
 "nbformat_minor": 2
}
